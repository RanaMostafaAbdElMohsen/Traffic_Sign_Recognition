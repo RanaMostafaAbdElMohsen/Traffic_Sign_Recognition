{
 "cells": [
  {
   "cell_type": "code",
   "execution_count": 1,
   "metadata": {},
   "outputs": [],
   "source": [
    "## Data Preparation\n",
    "# List of functions for loading Belgium Traffic Sign Data Set for (Training and Testing)\n",
    "def IntialiseEnv():\n",
    "    nb_dir = os.path.split(os.getcwd())[0]\n",
    "    if nb_dir not in sys.path:\n",
    "        sys.path.append(nb_dir)"
   ]
  },
  {
   "cell_type": "code",
   "execution_count": 2,
   "metadata": {},
   "outputs": [
    {
     "name": "stdout",
     "output_type": "stream",
     "text": [
      "importing Jupyter notebook from C:\\Users\\Owner\\Desktop\\Cairo University\\Masters\\Semester 1\\Deep Learning\\Project\\traffic_sign_env\\Traffic_Sign_Recognition_Detection\\Source_Code\\Pre_Processing\\Segmentation.ipynb\n"
     ]
    }
   ],
   "source": [
    "## Import libraries need to be imported, Dont forget to update requirements.txt!\n",
    "import os\n",
    "import sys\n",
    "IntialiseEnv()\n",
    "import glob\n",
    "import numpy as np\n",
    "import cv2\n",
    "import warnings\n",
    "import pandas as pd \n",
    "import random\n",
    "import matplotlib.pyplot as plt\n",
    "import import_ipynb\n",
    "from Pre_Processing.Pre_Processing import FeatureExtraction\n",
    "from Pre_Processing.Pre_Processing import augment_image, motion_blur_horizontal_vertical, motion_blur,another_augment"
   ]
  },
  {
   "cell_type": "code",
   "execution_count": 3,
   "metadata": {},
   "outputs": [],
   "source": [
    "## Read image in path\n",
    "def readImage(path):\n",
    "    img= cv2.imread(path)\n",
    "    img= cv2.cvtColor(img, cv2.COLOR_BGR2RGB)\n",
    "    img= cv2.resize(img,(60,60))\n",
    "    return img"
   ]
  },
  {
   "cell_type": "code",
   "execution_count": 4,
   "metadata": {},
   "outputs": [],
   "source": [
    "## Function to get csv path\n",
    "def getCsvPath(train_path_dir):\n",
    "     return os.path.join(train_path_dir,list(filter(lambda x: '.csv' in x, os.listdir(train_path_dir)))[0])"
   ]
  },
  {
   "cell_type": "code",
   "execution_count": 10,
   "metadata": {},
   "outputs": [],
   "source": [
    "# Function to get category directory and corresponding data frame\n",
    "def getDirAndDataFrame(datasetDir,_dir):\n",
    "    train_category_dir= os.path.join(datasetDir,_dir)\n",
    "    train_csv_path= getCsvPath(train_category_dir)\n",
    "    train_Data_frame = pd.read_csv(train_csv_path, delimiter=';')\n",
    "    return train_category_dir, train_Data_frame"
   ]
  },
  {
   "cell_type": "code",
   "execution_count": 6,
   "metadata": {},
   "outputs": [],
   "source": [
    "## Read image in path\n",
    "def readImage(path):\n",
    "    img= cv2.imread(path)\n",
    "    img= cv2.cvtColor(img, cv2.COLOR_BGR2RGB)\n",
    "    img= cv2.resize(img,(60,60))\n",
    "    return img"
   ]
  },
  {
   "cell_type": "code",
   "execution_count": 33,
   "metadata": {},
   "outputs": [],
   "source": [
    "## Training DataSet Directory\n",
    "training_belgium_dataset_dir = '../DataSet/BelgiumTSC_Training/Training/'\n",
    "\n",
    "def LoadBelgiumTrainDataSet():\n",
    "    train_image_array=[]\n",
    "    train_labels_array=[]\n",
    "\n",
    "    for _dir in os.listdir(training_belgium_dataset_dir):\n",
    "        print(\"Directory: \", _dir)\n",
    "        # Get Directory for train with certain class ID and its associated dataframe\n",
    "        train_category_dir, train_data_frame= getDirAndDataFrame(training_belgium_dataset_dir, _dir)\n",
    "        # Get ClassID for entire category\n",
    "        dir_img_label=train_data_frame.iloc[0]['ClassId']\n",
    "\n",
    "        for img_path in glob.glob(os.path.join(train_category_dir, '*.ppm')):\n",
    "\n",
    "            #Load image in category path directory + Extraction of features\n",
    "            img = readImage(img_path)\n",
    "            img_features = np.array(FeatureExtraction(img))[:,:,np.newaxis]\n",
    "            train_image_array.append(img_features)\n",
    "            #Populate associated labels\n",
    "            train_labels_array.append(dir_img_label)\n",
    "    train_image_array=np.stack(train_image_array, axis=0)\n",
    "    return train_image_array, train_labels_array"
   ]
  },
  {
   "cell_type": "code",
   "execution_count": 47,
   "metadata": {},
   "outputs": [],
   "source": [
    "test_belgium_dataset_dir='../DataSet/BelgiumTSC_Testing/Testing/'\n",
    "def LoadBelgiumTestDataSet():\n",
    "    test_image_array=[]\n",
    "    test_image_labels=[]\n",
    "\n",
    "    for _dir in os.listdir(test_belgium_dataset_dir):\n",
    "        print(\"Directory: \", _dir)\n",
    "        # Get Directory for train with certain class ID and its associated dataframe\n",
    "        test_category_dir, test_data_frame= getDirAndDataFrame(test_belgium_dataset_dir, _dir)\n",
    "        # Get ClassID for entire category\n",
    "        if len(test_data_frame['ClassId']) == 0:\n",
    "            print(\"Skipping Directory \"+ _dir + \" No test images available\")\n",
    "            continue\n",
    "            \n",
    "        dir_img_label=test_data_frame.iloc[0]['ClassId']\n",
    "\n",
    "        for img_path in glob.glob(os.path.join(test_category_dir, '*.ppm')):\n",
    "\n",
    "            #Load image in category path directory + Extraction of features\n",
    "            img = readImage(img_path)\n",
    "            img_features = np.array(FeatureExtraction(img))[:,:,np.newaxis]\n",
    "            test_image_array.append(img_features)\n",
    "            #Populate associated labels\n",
    "            test_image_labels.append(dir_img_label)\n",
    "            \n",
    "    test_image_array=np.stack(test_image_array, axis=0)\n",
    "    return test_image_array, test_image_labels"
   ]
  },
  {
   "cell_type": "code",
   "execution_count": null,
   "metadata": {},
   "outputs": [],
   "source": [
    "weak_class_labels_str=['00000' , '00002' ,'00003' ,'00004' ,'00005' ,'00006' ,'00008' ,'00009' ,'00010' ,'00011' ,'00012' ,'00015' ,'00016' ,'00023' ,'00026' ,'00027','00029' ,'00030' ,'00033' ,'00036' ,'00042','00043' ,'00044' ,'00048' ,'00049' ,'00050' ,'00051' ,'00052' ,'00055','00058','00060' ]"
   ]
  },
  {
   "cell_type": "code",
   "execution_count": null,
   "metadata": {},
   "outputs": [],
   "source": [
    "def LoadBelgiumTrainDataSetWithAugmentation():\n",
    "    train_image_array=[]\n",
    "    train_labels_array=[]\n",
    "\n",
    "    for _dir in os.listdir(training_belgium_dataset_dir):\n",
    "        print(\"Directory: \", _dir)\n",
    "        # Get Directory for train with certain class ID and its associated dataframe\n",
    "        train_category_dir, train_data_frame= getDirAndDataFrame(training_belgium_dataset_dir,_dir)\n",
    "        # Get ClassID for entire category\n",
    "        dir_img_label=train_data_frame.iloc[0]['ClassId']\n",
    "\n",
    "        for img_path in glob.glob(os.path.join(train_category_dir, '*.ppm')):\n",
    "\n",
    "            #Load image in category path directory + Extraction of features\n",
    "            img = readImage(img_path)\n",
    "            img_features = np.array(FeatureExtraction(img))[:,:,np.newaxis]\n",
    "            train_image_array.append(img_features)\n",
    "            #Populate associated labels\n",
    "            train_labels_array.append(dir_img_label)\n",
    "            #### for agumentation \n",
    "\n",
    "            if _dir in weak_class_labels_str:    \n",
    "                random_number_probability=random.uniform(0, 1)\n",
    "\n",
    "                if random_number_probability>=0.1:\n",
    "                    agumented_image=augment_image(img,0.7,11,5,2)\n",
    "                    img_features_= np.array(FeatureExtraction(agumented_image))[:,:,np.newaxis]\n",
    "                    train_labels_array.append(dir_img_label)\n",
    "                    train_image_array.append(img_features_)\n",
    "                    agumented_image=another_augment(img)\n",
    "                    img_features_= np.array(FeatureExtraction(agumented_image))[:,:,np.newaxis]\n",
    "                    train_labels_array.append(dir_img_label)\n",
    "                    train_image_array.append(img_features_)\n",
    "\n",
    "\n",
    "                if random_number_probability>=0.1:\n",
    "                    # img = FeatureExtraction(img)\n",
    "                    blurred_img=motion_blur(img) \n",
    "                    train_labels_array.append(dir_img_label)\n",
    "                    img_features_= np.array(FeatureExtraction(blurred_img))[:,:,np.newaxis] \n",
    "                    train_image_array.append(img_features_)\n",
    "            else:\n",
    "                random_number_probability=random.uniform(0, 1)\n",
    "\n",
    "                if random_number_probability<=0.3:\n",
    "                    agumented_image=augment_image(img,0.7,11,5,2)\n",
    "                    img_features_= np.array(FeatureExtraction(agumented_image))[:,:,np.newaxis]\n",
    "                    train_labels_array.append(dir_img_label)\n",
    "                    train_image_array.append(img_features_)\n",
    "                    agumented_image=another_augment(img)\n",
    "                    img_features_= np.array(FeatureExtraction(agumented_image))[:,:,np.newaxis]\n",
    "                    train_labels_array.append(dir_img_label)\n",
    "                    train_image_array.append(img_features_)\n",
    "\n",
    "\n",
    "                if random_number_probability<=0.3:\n",
    "                    # img = FeatureExtraction(img)\n",
    "                    blurred_img=motion_blur(img) \n",
    "                    train_labels_array.append(dir_img_label)\n",
    "                    img_features_= np.array(FeatureExtraction(blurred_img))[:,:,np.newaxis] \n",
    "                    train_image_array.append(img_features_)\n",
    "\n",
    "    train_image_array=np.stack(train_image_array, axis=0)\n",
    "    return train_image_array, train_labels_array"
   ]
  }
 ],
 "metadata": {
  "kernelspec": {
   "display_name": "Python 3",
   "language": "python",
   "name": "python3"
  },
  "language_info": {
   "codemirror_mode": {
    "name": "ipython",
    "version": 3
   },
   "file_extension": ".py",
   "mimetype": "text/x-python",
   "name": "python",
   "nbconvert_exporter": "python",
   "pygments_lexer": "ipython3",
   "version": "3.6.8"
  }
 },
 "nbformat": 4,
 "nbformat_minor": 2
}
