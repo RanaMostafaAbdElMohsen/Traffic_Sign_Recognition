{
 "cells": [
  {
   "cell_type": "code",
   "execution_count": null,
   "metadata": {},
   "outputs": [],
   "source": [
    "## Data Preparation\n",
    "# List of functions for loading German Traffic Sign Data Set for (Training and Testing)"
   ]
  },
  {
   "cell_type": "code",
   "execution_count": 7,
   "metadata": {},
   "outputs": [],
   "source": [
    "## Import libraries need to be imported, Dont forget to update requirements.txt!\n",
    "import os\n",
    "import sys\n",
    "import glob\n",
    "import numpy as np\n",
    "import cv2\n",
    "import warnings\n",
    "import pandas as pd "
   ]
  },
  {
   "cell_type": "code",
   "execution_count": 8,
   "metadata": {},
   "outputs": [],
   "source": [
    "# Function to get category directory and corresponding data frame\n",
    "def getDirAndDataFrame(_dir):\n",
    "    train_category_dir= os.path.join(training_dataset_dir,_dir)\n",
    "    train_csv_path= getCsvPath(train_category_dir)\n",
    "    train_Data_frame = pd.read_csv(train_csv_path)\n",
    "    return train_category_dir, train_Data_frame"
   ]
  },
  {
   "cell_type": "code",
   "execution_count": 9,
   "metadata": {},
   "outputs": [],
   "source": [
    "## Function to get csv path\n",
    "def getCsvPath(train_path_dir):\n",
    "     return os.path.join(train_path_dir,list(filter(lambda x: '.csv' in x, os.listdir(train_path_dir)))[0])"
   ]
  },
  {
   "cell_type": "code",
   "execution_count": 10,
   "metadata": {},
   "outputs": [],
   "source": [
    "## Read image in path\n",
    "def readImage(path):\n",
    "    return cv2.imread(path)"
   ]
  },
  {
   "cell_type": "code",
   "execution_count": 13,
   "metadata": {},
   "outputs": [],
   "source": [
    "def loadSampleImg():\n",
    "    img=readImage('../DataSet/Training_DataSet/Final_Training/Images/00000/00000_00000.ppm')\n",
    "    cv2.imshow('image',img)\n",
    "    cv2.waitKey()"
   ]
  },
  {
   "cell_type": "code",
   "execution_count": null,
   "metadata": {},
   "outputs": [],
   "source": [
    "## Training DataSet Directory\n",
    "training_dataset_dir = '../DataSet/Training_DataSet/Final_Training/Images'\n",
    "for _dir in os.listdir(training_dataset_dir):\n",
    "    train_category_dir, train_Data_frame= getDirAndDataFrame(_dir)\n",
    "    \n",
    "    for img_path in glob.glob(os.path.join(train_category_dir, '*.ppm')):\n",
    "        img=readImage(img_path)"
   ]
  }
 ],
 "metadata": {
  "kernelspec": {
   "display_name": "Python 3",
   "language": "python",
   "name": "python3"
  },
  "language_info": {
   "codemirror_mode": {
    "name": "ipython",
    "version": 3
   },
   "file_extension": ".py",
   "mimetype": "text/x-python",
   "name": "python",
   "nbconvert_exporter": "python",
   "pygments_lexer": "ipython3",
   "version": "3.7.3"
  }
 },
 "nbformat": 4,
 "nbformat_minor": 2
}
