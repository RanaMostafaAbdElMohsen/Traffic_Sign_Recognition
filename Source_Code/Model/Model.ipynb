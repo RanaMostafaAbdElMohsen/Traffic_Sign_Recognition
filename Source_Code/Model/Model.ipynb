{
 "cells": [
  {
   "cell_type": "markdown",
   "metadata": {
    "colab_type": "text",
    "id": "i3Y2yu4E_z3L"
   },
   "source": [
    "# Traffic Sign Recognition Model\n",
    "## Environment Initialisation"
   ]
  },
  {
   "cell_type": "code",
   "execution_count": 1,
   "metadata": {
    "colab": {},
    "colab_type": "code",
    "id": "4o-kPkjb_z3O"
   },
   "outputs": [],
   "source": [
    "def IntialiseEnv():\n",
    "    nb_dir = os.path.split(os.getcwd())[0]\n",
    "    if nb_dir not in sys.path:\n",
    "        sys.path.append(nb_dir)"
   ]
  },
  {
   "cell_type": "code",
   "execution_count": null,
   "metadata": {
    "colab": {},
    "colab_type": "code",
    "id": "feZ1r8FDANsA"
   },
   "outputs": [],
   "source": [
    "from google.colab import drive\n",
    "drive.mount('/content/drive')\n",
    "import os\n",
    "os.chdir(\"/content/drive/\")\n",
    "!ls\n",
    "import os\n",
    "os.chdir(\"My Drive/Computer Engineering Masters/Deep Learning_Masters/Deep Learning Project/Source_Code/Model\")\n",
    "!pip install import_ipynb"
   ]
  },
  {
   "cell_type": "code",
   "execution_count": 2,
   "metadata": {
    "colab": {
     "base_uri": "https://localhost:8080/",
     "height": 92
    },
    "colab_type": "code",
    "id": "46MrgoVG_fv3",
    "outputId": "40403722-e0a7-42fb-95f7-a98d3fe6156e"
   },
   "outputs": [
    {
     "name": "stdout",
     "output_type": "stream",
     "text": [
      "importing Jupyter notebook from C:\\Users\\Owner\\Desktop\\Cairo University\\Masters\\Semester 1\\Deep Learning\\Project\\traffic_sign_env\\Traffic_Sign_Recognition_Detection\\Source_Code\\Data_Preparation\\Data_Preparation.ipynb\n",
      "importing Jupyter notebook from C:\\Users\\Owner\\Desktop\\Cairo University\\Masters\\Semester 1\\Deep Learning\\Project\\traffic_sign_env\\Traffic_Sign_Recognition_Detection\\Source_Code\\Pre_Processing\\Segmentation.ipynb\n"
     ]
    }
   ],
   "source": [
    "# Libraries\n",
    "import os\n",
    "import sys\n",
    "import tensorflow as tf\n",
    "import numpy as np\n",
    "import math\n",
    "IntialiseEnv()\n",
    "import import_ipynb\n",
    "import pickle\n",
    "from sklearn.model_selection import train_test_split\n",
    "\n",
    "from Data_Preparation.Data_Preparation import LoadTrainDataSetWithAugmentation\n",
    "from Data_Preparation.Data_Preparation import LoadTrainDataSet\n",
    "from Data_Preparation.Data_Preparation import LoadTestDataSet"
   ]
  },
  {
   "cell_type": "markdown",
   "metadata": {
    "colab_type": "text",
    "id": "d_TRLKPg_z3l"
   },
   "source": [
    "## Use GPU/ CPU Configuration \n",
    "Tensorflow version 2.0\n",
    "Prompt to user if CPU/ GPU is in use with device name"
   ]
  },
  {
   "cell_type": "code",
   "execution_count": null,
   "metadata": {
    "colab": {
     "base_uri": "https://localhost:8080/",
     "height": 72
    },
    "colab_type": "code",
    "id": "_9HpzHne_fwD",
    "outputId": "ce653e68-3ebe-41ab-87c1-08b69512f478"
   },
   "outputs": [
    {
     "name": "stdout",
     "output_type": "stream",
     "text": [
      "2.2.0\n",
      "/device:GPU:0\n",
      "Num GPUs Available:  1\n"
     ]
    }
   ],
   "source": [
    "# Use GPU/CPU Configurations\n",
    "\n",
    "import tensorflow as tf\n",
    "print(tf.__version__)\n",
    "print(tf.test.gpu_device_name())\n",
    "print(\"Num GPUs Available: \", len(tf.config.experimental.list_physical_devices('GPU')))"
   ]
  },
  {
   "cell_type": "markdown",
   "metadata": {
    "colab_type": "text",
    "id": "KlaazRm8_z3w"
   },
   "source": [
    "## Reading DataSet\n",
    "Pre-processing and Loading Train and Test DataSet respectively"
   ]
  },
  {
   "cell_type": "code",
   "execution_count": null,
   "metadata": {
    "colab": {},
    "colab_type": "code",
    "id": "ofBOmEtu_z3x"
   },
   "outputs": [],
   "source": [
    "def ReadTrainDataSet():\n",
    "    print(\"Reading Train Pre-processed DataSet\")\n",
    "    processedTrainDataSet = 'Processed_DataSet/TrainDataSet.pkl'\n",
    "    isProcessedTrainDataSetExits= os.path.exists(processedTrainDataSet)\n",
    "    train_image_array, train_image_labels = None, None\n",
    "    \n",
    "    if isProcessedTrainDataSetExits:\n",
    "        print(\"Loading Processed Train DataSet from Processed_DataSet/TrainDataSet.pkl\")\n",
    "        file = open(processedTrainDataSet, 'rb')\n",
    "        train_image_array, train_image_labels = pickle.load(file)\n",
    "        file.close()\n",
    "        print(\"Done Loading Train DataSet.\")\n",
    "    else:\n",
    "        print(\"Processed_DataSet/TrainDataSet.pkl file does not exist\")\n",
    "        print(\"Loading Train DataSet ... This may take a while.\")\n",
    "        train_image_array, train_image_labels =  LoadTrainDataSetWithAugmentation()\n",
    "        file = open(processedTrainDataSet, 'wb')\n",
    "        pickle.dump((train_image_array, train_image_labels), file, protocol=4)\n",
    "        file.close()\n",
    "        print(\"Saving pre-processed train DataSets in Processed_DataSet/TrainDataSet.pkl\")\n",
    "    return train_image_array, train_image_labels    "
   ]
  },
  {
   "cell_type": "code",
   "execution_count": 3,
   "metadata": {
    "colab": {},
    "colab_type": "code",
    "id": "37crCI5F_z34"
   },
   "outputs": [],
   "source": [
    "def ReadTestDataSet():\n",
    "    processedTestDataSet = 'Processed_DataSet/TestDataSet.pkl'\n",
    "    isProcessedTestDataSetExits= os.path.exists(processedTestDataSet)\n",
    "    test_image_array, test_image_labels = None, None\n",
    "    \n",
    "    if isProcessedTestDataSetExits:\n",
    "        print(\"Loading Processed Test DataSet from Processed_DataSet/TestDataSet.pkl\")\n",
    "        file = open(processedTestDataSet, 'rb')\n",
    "        test_image_array, test_image_labels = pickle.load(file)\n",
    "        file.close()\n",
    "        print(\"Done Loading Test DataSet.\")\n",
    "    else:\n",
    "        print(\"Processed_DataSet/TestDataSet.pkl file does not exist\")\n",
    "        print(\"Loading Test DataSet ... This may take a while.\")\n",
    "        test_image_array, test_image_labels = LoadTestDataSet()\n",
    "        file = open(processedTestDataSet, 'wb')\n",
    "        pickle.dump((test_image_array, test_image_labels), file)\n",
    "        file.close()\n",
    "        print(\"Saving pre-processed test DataSets in Processed_DataSet/TestDataSet.pkl\")\n",
    "    return test_image_array, test_image_labels"
   ]
  },
  {
   "cell_type": "code",
   "execution_count": null,
   "metadata": {
    "colab": {
     "base_uri": "https://localhost:8080/",
     "height": 72
    },
    "colab_type": "code",
    "id": "M5UOSE8L_z4B",
    "outputId": "0bf4b22f-53f8-49a4-f9dd-38c3176d7baf"
   },
   "outputs": [
    {
     "name": "stdout",
     "output_type": "stream",
     "text": [
      "Reading Train Pre-processed DataSet\n",
      "Loading Processed Train DataSet from Processed_DataSet/TrainDataSet.pkl\n",
      "Done Loading Train DataSet.\n"
     ]
    }
   ],
   "source": [
    "train_image_array, train_image_labels= ReadTrainDataSet()"
   ]
  },
  {
   "cell_type": "code",
   "execution_count": null,
   "metadata": {
    "colab": {
     "base_uri": "https://localhost:8080/",
     "height": 35
    },
    "colab_type": "code",
    "id": "V5DKs2LHxziY",
    "outputId": "7520959e-4bf8-4e69-f0e6-973a25a9bb3f"
   },
   "outputs": [
    {
     "name": "stdout",
     "output_type": "stream",
     "text": [
      "(158380, 60, 60, 1)\n"
     ]
    }
   ],
   "source": [
    "print(train_image_array.shape)"
   ]
  },
  {
   "cell_type": "code",
   "execution_count": 4,
   "metadata": {
    "colab": {
     "base_uri": "https://localhost:8080/",
     "height": 54
    },
    "colab_type": "code",
    "id": "lFEi3wG0_z4I",
    "outputId": "ded0ccda-fb36-43da-eaea-fa6d81c2097a"
   },
   "outputs": [
    {
     "name": "stdout",
     "output_type": "stream",
     "text": [
      "Loading Processed Test DataSet from Processed_DataSet/TestDataSet.pkl\n",
      "Done Loading Test DataSet.\n"
     ]
    }
   ],
   "source": [
    "test_image_array, test_image_labels= ReadTestDataSet()"
   ]
  },
  {
   "cell_type": "code",
   "execution_count": 5,
   "metadata": {
    "colab": {
     "base_uri": "https://localhost:8080/",
     "height": 35
    },
    "colab_type": "code",
    "id": "YKqhPBJdxQQn",
    "outputId": "71ce7ded-c661-45fc-cb1e-63e906d74314"
   },
   "outputs": [
    {
     "name": "stdout",
     "output_type": "stream",
     "text": [
      "(12630, 60, 60, 1)\n"
     ]
    }
   ],
   "source": [
    "print(test_image_array.shape)"
   ]
  },
  {
   "cell_type": "markdown",
   "metadata": {
    "colab_type": "text",
    "id": "NLgSph0z_z4Q"
   },
   "source": [
    "## Train-Split \n",
    "Split Train images dataset into two splits: training and validation respectively 90-10"
   ]
  },
  {
   "cell_type": "code",
   "execution_count": null,
   "metadata": {
    "colab": {},
    "colab_type": "code",
    "id": "iahsbIcO_z4R"
   },
   "outputs": [],
   "source": [
    "image_train, image_valid,label_train, label_valid = train_test_split(train_image_array, train_image_labels,stratify=train_image_labels,test_size=0.1,random_state=43)"
   ]
  },
  {
   "cell_type": "code",
   "execution_count": null,
   "metadata": {
    "colab": {
     "base_uri": "https://localhost:8080/",
     "height": 35
    },
    "colab_type": "code",
    "id": "33JGRj_HyYUW",
    "outputId": "7c052e59-be7a-4aa9-a015-51158db5e1bb"
   },
   "outputs": [
    {
     "name": "stdout",
     "output_type": "stream",
     "text": [
      "(142542, 60, 60, 1)\n"
     ]
    }
   ],
   "source": [
    "print(image_train.shape)"
   ]
  },
  {
   "cell_type": "code",
   "execution_count": null,
   "metadata": {
    "colab": {},
    "colab_type": "code",
    "id": "HzqHmPqYuYcT"
   },
   "outputs": [],
   "source": [
    "del train_image_array\n",
    "del train_image_labels"
   ]
  },
  {
   "cell_type": "markdown",
   "metadata": {
    "colab_type": "text",
    "id": "Eg7ErT8V_z4X"
   },
   "source": [
    "## Hyper-parameters Tuning"
   ]
  },
  {
   "cell_type": "code",
   "execution_count": null,
   "metadata": {
    "colab": {},
    "colab_type": "code",
    "id": "9TzbUr1R_fwU"
   },
   "outputs": [],
   "source": [
    "# Hyper-parameters tuning\n",
    "kernel_1 = (5,5)\n",
    "kernel_2 = (3,3)\n",
    "pooling = (2,2)\n",
    "dropout = 0.2\n",
    "num_classes = 43"
   ]
  },
  {
   "cell_type": "markdown",
   "metadata": {
    "colab_type": "text",
    "id": "8Xkwm4jG_z4f"
   },
   "source": [
    "## Model Architecture"
   ]
  },
  {
   "cell_type": "code",
   "execution_count": null,
   "metadata": {
    "colab": {},
    "colab_type": "code",
    "id": "6ffabeJEFcdk"
   },
   "outputs": [],
   "source": [
    "def model1():\n",
    "    model = None\n",
    "    tf.initializers.Orthogonal(gain=1.0, seed=None)\n",
    "    \n",
    "    layers = [\n",
    "        tf.keras.layers.Conv2D(32,kernel_2, input_shape=(60,60,1), strides = 1, padding='valid',activation = tf.nn.relu),\n",
    "        tf.keras.layers.BatchNormalization(),\n",
    "        tf.keras.layers.Conv2D(32,kernel_2, activation = tf.nn.relu),\n",
    "        tf.keras.layers.MaxPool2D(pooling),\n",
    "        tf.keras.layers.Dropout(dropout),\n",
    "        tf.keras.layers.BatchNormalization(),\n",
    "\n",
    "        tf.keras.layers.Conv2D(128,kernel_2, strides = 1, padding='valid', activation = tf.nn.relu),\n",
    "        tf.keras.layers.BatchNormalization(),\n",
    "        tf.keras.layers.Conv2D(128,kernel_2,  activation = tf.nn.relu),\n",
    "        tf.keras.layers.MaxPool2D(pooling),\n",
    "        tf.keras.layers.Dropout(dropout),\n",
    "        tf.keras.layers.BatchNormalization(),\n",
    "\n",
    "        tf.keras.layers.Conv2D(256,kernel_2, strides = 1, padding='valid', activation = tf.nn.relu),\n",
    "        tf.keras.layers.BatchNormalization(),\n",
    "        tf.keras.layers.Conv2D(256,kernel_2,  activation = tf.nn.relu),\n",
    "        tf.keras.layers.MaxPool2D(pooling),\n",
    "        tf.keras.layers.Dropout(dropout),\n",
    "        tf.keras.layers.BatchNormalization(),\n",
    "\n",
    "       \n",
    "        tf.keras.layers.Flatten(),\n",
    "        tf.keras.layers.Dense(512, activation = tf.nn.relu),\n",
    "        tf.keras.layers.Dropout(0.4),\n",
    "        tf.keras.layers.Dense(num_classes, activation = 'softmax')\n",
    "    ]\n",
    "    \n",
    "    model = tf.keras.Sequential(layers)\n",
    "    return model"
   ]
  },
  {
   "cell_type": "markdown",
   "metadata": {
    "colab_type": "text",
    "id": "-f47EfzP_z4m"
   },
   "source": [
    "## Model Optimizer "
   ]
  },
  {
   "cell_type": "code",
   "execution_count": null,
   "metadata": {
    "colab": {},
    "colab_type": "code",
    "id": "aqFrLaAQ_z4o"
   },
   "outputs": [],
   "source": [
    "model = model1()\n",
    "\n",
    "model.compile(optimizer='sgd',\n",
    "              loss='sparse_categorical_crossentropy',\n",
    "              metrics=[tf.keras.metrics.sparse_categorical_accuracy])"
   ]
  },
  {
   "cell_type": "markdown",
   "metadata": {
    "colab_type": "text",
    "id": "JXiLRRAC_z4x"
   },
   "source": [
    "## Model Training"
   ]
  },
  {
   "cell_type": "code",
   "execution_count": null,
   "metadata": {
    "colab": {},
    "colab_type": "code",
    "id": "R0aLGOkrFcdq"
   },
   "outputs": [],
   "source": [
    "history = model.fit(image_train, np.array(label_train) , batch_size=32, epochs=90, validation_data=(image_valid, np.array(label_valid)))"
   ]
  },
  {
   "cell_type": "markdown",
   "metadata": {
    "colab_type": "text",
    "id": "S1SvrW7c_z42"
   },
   "source": [
    "## Visualization"
   ]
  },
  {
   "cell_type": "code",
   "execution_count": null,
   "metadata": {
    "colab": {},
    "colab_type": "code",
    "id": "d01yT3_F_z44"
   },
   "outputs": [],
   "source": [
    "import matplotlib.pyplot as plt\n",
    "plt.plot(history.history['sparse_categorical_accuracy'])\n",
    "plt.plot(history.history['val_sparse_categorical_accuracy'])\n",
    "plt.ylabel('accuracy')\n",
    "plt.xlabel('epoch')\n",
    "plt.legend(['train', 'validation'], loc='upper left')\n",
    "plt.show()"
   ]
  },
  {
   "cell_type": "code",
   "execution_count": null,
   "metadata": {
    "colab": {},
    "colab_type": "code",
    "id": "Jv9nxMP5_z4_"
   },
   "outputs": [],
   "source": [
    "plt.plot(history.history['loss'])\n",
    "plt.plot(history.history['val_loss'])\n",
    "plt.ylabel('loss')\n",
    "plt.xlabel('epoch')\n",
    "plt.legend(['train', 'validation'], loc='upper left')\n",
    "plt.show()"
   ]
  },
  {
   "cell_type": "markdown",
   "metadata": {
    "colab_type": "text",
    "id": "lITG_Mw9_z5F"
   },
   "source": [
    "## Model Summary \n",
    "Number of parameters used in the model architecture"
   ]
  },
  {
   "cell_type": "code",
   "execution_count": null,
   "metadata": {
    "colab": {},
    "colab_type": "code",
    "id": "hSaS0ZyI_z5G"
   },
   "outputs": [],
   "source": [
    "print(model.summary())"
   ]
  },
  {
   "cell_type": "markdown",
   "metadata": {
    "colab_type": "text",
    "id": "08KFabUT_z5L"
   },
   "source": [
    "## Model Evaluation"
   ]
  },
  {
   "cell_type": "code",
   "execution_count": null,
   "metadata": {
    "colab": {
     "base_uri": "https://localhost:8080/",
     "height": 54
    },
    "colab_type": "code",
    "id": "FaDjI3YL_fwk",
    "outputId": "1310c335-0b0e-4d2d-dfdb-f5e2fd07aa68"
   },
   "outputs": [
    {
     "name": "stdout",
     "output_type": "stream",
     "text": [
      "50/50 [==============================] - 2s 36ms/step - loss: 0.0399 - sparse_categorical_accuracy: 0.9925\n"
     ]
    },
    {
     "data": {
      "text/plain": [
       "[0.039886247366666794, 0.9924782514572144]"
      ]
     },
     "execution_count": 24,
     "metadata": {
      "tags": []
     },
     "output_type": "execute_result"
    }
   ],
   "source": [
    "model.evaluate(test_image_array, np.array(test_image_labels), batch_size=256)"
   ]
  },
  {
   "cell_type": "markdown",
   "metadata": {
    "colab_type": "text",
    "id": "LGX8hR4r_z5T"
   },
   "source": [
    "## Saving Trained .h5 Model"
   ]
  },
  {
   "cell_type": "code",
   "execution_count": null,
   "metadata": {
    "colab": {},
    "colab_type": "code",
    "id": "paMLoaT4_fwZ"
   },
   "outputs": [],
   "source": [
    "def saveCNNModel(model_name):\n",
    "    model.save(model_name)"
   ]
  },
  {
   "cell_type": "code",
   "execution_count": null,
   "metadata": {
    "colab": {},
    "colab_type": "code",
    "id": "xqmScYoy_fwc"
   },
   "outputs": [],
   "source": [
    "saveCNNModel()"
   ]
  },
  {
   "cell_type": "code",
   "execution_count": null,
   "metadata": {
    "colab": {},
    "colab_type": "code",
    "id": "sQ3VvwXDFceP"
   },
   "outputs": [],
   "source": [
    "model._set_inputs(image_train,np.array(label_train))"
   ]
  },
  {
   "cell_type": "markdown",
   "metadata": {
    "colab_type": "text",
    "id": "zUjBuI9Q_z5k"
   },
   "source": [
    "## Loading Saved Trained .h5 Model"
   ]
  },
  {
   "cell_type": "code",
   "execution_count": null,
   "metadata": {
    "colab": {},
    "colab_type": "code",
    "id": "GxFfWaaN_fwe"
   },
   "outputs": [],
   "source": [
    "def load_model():\n",
    "    Model = tf.keras.models.load_model('Trained_Models/winning_model_9925.h5')\n",
    "    return Model"
   ]
  },
  {
   "cell_type": "code",
   "execution_count": null,
   "metadata": {
    "colab": {},
    "colab_type": "code",
    "id": "hXlI3Mxx_fwi"
   },
   "outputs": [],
   "source": [
    "del model\n",
    "model= load_model()"
   ]
  },
  {
   "cell_type": "markdown",
   "metadata": {
    "colab_type": "text",
    "id": "57ctMF_P_z5v"
   },
   "source": [
    "## Computation Avg. Processing Time"
   ]
  },
  {
   "cell_type": "code",
   "execution_count": null,
   "metadata": {
    "colab": {},
    "colab_type": "code",
    "id": "0oH66eWUFceZ"
   },
   "outputs": [],
   "source": [
    "import time\n",
    "t1=time.time()\n",
    "model.predict(test_image_array)\n",
    "t2=time.time()\n",
    "print(\"Average Processing time: \", ((t2-t1)/12630)*1000, \" ms\")"
   ]
  }
 ],
 "metadata": {
  "accelerator": "GPU",
  "colab": {
   "collapsed_sections": [],
   "name": "Model.ipynb",
   "provenance": []
  },
  "kernelspec": {
   "display_name": "Python 3",
   "language": "python",
   "name": "python3"
  },
  "language_info": {
   "codemirror_mode": {
    "name": "ipython",
    "version": 3
   },
   "file_extension": ".py",
   "mimetype": "text/x-python",
   "name": "python",
   "nbconvert_exporter": "python",
   "pygments_lexer": "ipython3",
   "version": "3.6.8"
  }
 },
 "nbformat": 4,
 "nbformat_minor": 1
}
