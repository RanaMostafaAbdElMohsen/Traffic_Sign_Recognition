{
  "nbformat": 4,
  "nbformat_minor": 0,
  "metadata": {
    "accelerator": "GPU",
    "colab": {
      "name": "Belgium_Model_play_ground_99_25.ipynb",
      "provenance": [],
      "collapsed_sections": []
    },
    "kernelspec": {
      "display_name": "Python 3",
      "language": "python",
      "name": "python3"
    },
    "language_info": {
      "codemirror_mode": {
        "name": "ipython",
        "version": 3
      },
      "file_extension": ".py",
      "mimetype": "text/x-python",
      "name": "python",
      "nbconvert_exporter": "python",
      "pygments_lexer": "ipython3",
      "version": "3.6.8"
    }
  },
  "cells": [
    {
      "cell_type": "markdown",
      "metadata": {
        "colab_type": "text",
        "id": "i3Y2yu4E_z3L"
      },
      "source": [
        "# Traffic Sign Recognition Model\n",
        "## Environment Initialisation"
      ]
    },
    {
      "cell_type": "code",
      "metadata": {
        "colab_type": "code",
        "id": "4o-kPkjb_z3O",
        "colab": {}
      },
      "source": [
        "def IntialiseEnv():\n",
        "    nb_dir = os.path.split(os.getcwd())[0]\n",
        "    if nb_dir not in sys.path:\n",
        "        sys.path.append(nb_dir)"
      ],
      "execution_count": 1,
      "outputs": []
    },
    {
      "cell_type": "code",
      "metadata": {
        "colab_type": "code",
        "id": "feZ1r8FDANsA",
        "colab": {
          "base_uri": "https://localhost:8080/",
          "height": 69
        },
        "outputId": "31a33d37-0145-45f7-af9d-eafea9af5f24"
      },
      "source": [
        "from google.colab import drive\n",
        "drive.mount('/content/drive')\n",
        "import os\n",
        "os.chdir(\"/content/drive/\")\n",
        "!ls\n",
        "import os\n",
        "os.chdir(\"My Drive/[ Masters ] - Deep Learning Proj/Model\")\n",
        "!pip install import_ipynb"
      ],
      "execution_count": 2,
      "outputs": [
        {
          "output_type": "stream",
          "text": [
            "Drive already mounted at /content/drive; to attempt to forcibly remount, call drive.mount(\"/content/drive\", force_remount=True).\n",
            "'My Drive'\n",
            "Requirement already satisfied: import_ipynb in /usr/local/lib/python3.6/dist-packages (0.1.3)\n"
          ],
          "name": "stdout"
        }
      ]
    },
    {
      "cell_type": "code",
      "metadata": {
        "colab_type": "code",
        "id": "46MrgoVG_fv3",
        "colab": {}
      },
      "source": [
        "# Libraries\n",
        "import os\n",
        "import sys\n",
        "import tensorflow as tf\n",
        "import numpy as np\n",
        "import math\n",
        "IntialiseEnv()\n",
        "import import_ipynb\n",
        "import pickle\n",
        "from sklearn.model_selection import train_test_split\n",
        "\n",
        "# from Data_Preparation.Data_Preparation_Belgium import LoadBelgiumTrainDataSet\n",
        "# from Data_Preparation.Data_Preparation_Belgium import LoadBelgiumTestDataSet"
      ],
      "execution_count": 3,
      "outputs": []
    },
    {
      "cell_type": "markdown",
      "metadata": {
        "colab_type": "text",
        "id": "d_TRLKPg_z3l"
      },
      "source": [
        "## Use GPU/ CPU Configuration \n",
        "Tensorflow version 2.0\n",
        "Prompt to user if CPU/ GPU is in use with device name"
      ]
    },
    {
      "cell_type": "code",
      "metadata": {
        "colab_type": "code",
        "id": "_9HpzHne_fwD",
        "colab": {
          "base_uri": "https://localhost:8080/",
          "height": 69
        },
        "outputId": "465758c2-b3d4-4c52-839b-3c43981aac41"
      },
      "source": [
        "# Use GPU/CPU Configurations\n",
        "\n",
        "import tensorflow as tf\n",
        "print(tf.__version__)\n",
        "print(tf.test.gpu_device_name())\n",
        "print(\"Num GPUs Available: \", len(tf.config.experimental.list_physical_devices('GPU')))"
      ],
      "execution_count": 4,
      "outputs": [
        {
          "output_type": "stream",
          "text": [
            "2.3.0\n",
            "/device:GPU:0\n",
            "Num GPUs Available:  1\n"
          ],
          "name": "stdout"
        }
      ]
    },
    {
      "cell_type": "markdown",
      "metadata": {
        "colab_type": "text",
        "id": "KlaazRm8_z3w"
      },
      "source": [
        "## Reading DataSet\n",
        "Pre-processing and Loading Train and Test DataSet respectively"
      ]
    },
    {
      "cell_type": "code",
      "metadata": {
        "colab_type": "code",
        "id": "ofBOmEtu_z3x",
        "colab": {}
      },
      "source": [
        "def ReadTrainDataSet():\n",
        "    print(\"Reading Train Pre-processed DataSet\")\n",
        "    processedTrainDataSet = '../DataSet/Processed_DataSet/BelgiumTrainDataSet.pkl'\n",
        "    isProcessedTrainDataSetExits= os.path.exists(processedTrainDataSet)\n",
        "    train_image_array, train_image_labels = None, None\n",
        "    \n",
        "    if isProcessedTrainDataSetExits:\n",
        "        print(\"Loading Processed Train DataSet from Processed_DataSet/BelgiumTrainDataSet.pkl\")\n",
        "        file = open(processedTrainDataSet, 'rb')\n",
        "        train_image_array, train_image_labels = pickle.load(file)\n",
        "        file.close()\n",
        "        print(\"Done Loading Train DataSet.\")\n",
        "        \n",
        "    else:\n",
        "        print(\"Processed_DataSet/BelgiumTrainDataSet.pkl file does not exist\")\n",
        "        print(\"Loading Train DataSet ... This may take a while.\")\n",
        "        train_image_array, train_image_labels =  LoadBelgiumTrainDataSet()\n",
        "        file = open(processedTrainDataSet, 'wb')\n",
        "        pickle.dump((train_image_array, train_image_labels), file, protocol=4)\n",
        "        file.close()\n",
        "        print(\"Saving pre-processed train DataSets in Processed_DataSet/BelgiumTrainDataSet.pkl\")\n",
        "    return train_image_array, train_image_labels    "
      ],
      "execution_count": 5,
      "outputs": []
    },
    {
      "cell_type": "code",
      "metadata": {
        "colab_type": "code",
        "id": "37crCI5F_z34",
        "colab": {}
      },
      "source": [
        "def ReadTestDataSet():\n",
        "    processedTestDataSet = '../DataSet/Processed_DataSet/BelgiumTestDataSet.pkl'\n",
        "    isProcessedTestDataSetExits= os.path.exists(processedTestDataSet)\n",
        "    test_image_array, test_image_labels = None, None\n",
        "    \n",
        "    if isProcessedTestDataSetExits:\n",
        "        print(\"Loading Processed Test DataSet from Processed_DataSet/BelgiumTestDataSet.pkl\")\n",
        "        file = open(processedTestDataSet, 'rb')\n",
        "        test_image_array, test_image_labels = pickle.load(file)\n",
        "        file.close()\n",
        "        print(\"Done Loading Test DataSet.\")\n",
        "    else:\n",
        "        print(\"Processed_DataSet/BelgiumTestDataSet.pkl file does not exist\")\n",
        "        print(\"Loading Test DataSet ... This may take a while.\")\n",
        "        test_image_array, test_image_labels = LoadBelgiumTestDataSet()\n",
        "        file = open(processedTestDataSet, 'wb')\n",
        "        pickle.dump((test_image_array, test_image_labels), file)\n",
        "        file.close()\n",
        "        print(\"Saving pre-processed test DataSets in Processed_DataSet/BelgiumTestDataSet.pkl\")\n",
        "    return test_image_array, test_image_labels"
      ],
      "execution_count": 6,
      "outputs": []
    },
    {
      "cell_type": "code",
      "metadata": {
        "colab_type": "code",
        "id": "M5UOSE8L_z4B",
        "colab": {
          "base_uri": "https://localhost:8080/",
          "height": 69
        },
        "outputId": "956c01ef-d09a-460e-82b1-3cd13835012b"
      },
      "source": [
        "train_image_array, train_image_labels= ReadTrainDataSet()"
      ],
      "execution_count": 7,
      "outputs": [
        {
          "output_type": "stream",
          "text": [
            "Reading Train Pre-processed DataSet\n",
            "Loading Processed Train DataSet from Processed_DataSet/BelgiumTrainDataSet.pkl\n",
            "Done Loading Train DataSet.\n"
          ],
          "name": "stdout"
        }
      ]
    },
    {
      "cell_type": "code",
      "metadata": {
        "colab_type": "code",
        "id": "V5DKs2LHxziY",
        "colab": {
          "base_uri": "https://localhost:8080/",
          "height": 35
        },
        "outputId": "4bf6b1d0-82f1-4a52-c333-04d972e2455a"
      },
      "source": [
        "print(train_image_array.shape)"
      ],
      "execution_count": 8,
      "outputs": [
        {
          "output_type": "stream",
          "text": [
            "(4575, 60, 60, 1)\n"
          ],
          "name": "stdout"
        }
      ]
    },
    {
      "cell_type": "code",
      "metadata": {
        "colab_type": "code",
        "id": "lFEi3wG0_z4I",
        "colab": {
          "base_uri": "https://localhost:8080/",
          "height": 52
        },
        "outputId": "eb1326ab-a442-46ea-bf47-640194d34e09"
      },
      "source": [
        "test_image_array, test_image_labels= ReadTestDataSet()"
      ],
      "execution_count": 9,
      "outputs": [
        {
          "output_type": "stream",
          "text": [
            "Loading Processed Test DataSet from Processed_DataSet/BelgiumTestDataSet.pkl\n",
            "Done Loading Test DataSet.\n"
          ],
          "name": "stdout"
        }
      ]
    },
    {
      "cell_type": "code",
      "metadata": {
        "colab_type": "code",
        "id": "YKqhPBJdxQQn",
        "colab": {
          "base_uri": "https://localhost:8080/",
          "height": 35
        },
        "outputId": "9975ed23-227b-496a-9c9b-0d4d99ef49c1"
      },
      "source": [
        "print(test_image_array.shape)"
      ],
      "execution_count": 10,
      "outputs": [
        {
          "output_type": "stream",
          "text": [
            "(2520, 60, 60, 1)\n"
          ],
          "name": "stdout"
        }
      ]
    },
    {
      "cell_type": "markdown",
      "metadata": {
        "colab_type": "text",
        "id": "NLgSph0z_z4Q"
      },
      "source": [
        "## Train-Split \n",
        "Split Train images dataset into two splits: training and validation respectively 90-10"
      ]
    },
    {
      "cell_type": "code",
      "metadata": {
        "colab_type": "code",
        "id": "iahsbIcO_z4R",
        "colab": {}
      },
      "source": [
        "image_train, image_valid,label_train, label_valid = train_test_split(train_image_array, train_image_labels,stratify=train_image_labels,test_size=0.1,random_state=43)"
      ],
      "execution_count": 11,
      "outputs": []
    },
    {
      "cell_type": "code",
      "metadata": {
        "colab_type": "code",
        "id": "33JGRj_HyYUW",
        "colab": {
          "base_uri": "https://localhost:8080/",
          "height": 35
        },
        "outputId": "210c4cdd-2501-491d-8dab-104460f59dd2"
      },
      "source": [
        "print(image_train.shape)"
      ],
      "execution_count": 12,
      "outputs": [
        {
          "output_type": "stream",
          "text": [
            "(4117, 60, 60, 1)\n"
          ],
          "name": "stdout"
        }
      ]
    },
    {
      "cell_type": "code",
      "metadata": {
        "colab_type": "code",
        "id": "CCMuoCajXHk2",
        "colab": {}
      },
      "source": [
        "del train_image_array\n",
        "del train_image_labels"
      ],
      "execution_count": 13,
      "outputs": []
    },
    {
      "cell_type": "markdown",
      "metadata": {
        "colab_type": "text",
        "id": "Eg7ErT8V_z4X"
      },
      "source": [
        "## Hyper-parameters Tuning"
      ]
    },
    {
      "cell_type": "code",
      "metadata": {
        "colab_type": "code",
        "id": "9TzbUr1R_fwU",
        "colab": {}
      },
      "source": [
        "# Hyper-parameters tuning\n",
        "kernel_2 = (3,3)\n",
        "pooling = (2,2)\n",
        "dropout = 0.2\n",
        "num_classes = 62"
      ],
      "execution_count": 14,
      "outputs": []
    },
    {
      "cell_type": "markdown",
      "metadata": {
        "colab_type": "text",
        "id": "8Xkwm4jG_z4f"
      },
      "source": [
        "## Model Architecture"
      ]
    },
    {
      "cell_type": "code",
      "metadata": {
        "colab_type": "code",
        "id": "FbaaHfw1uwCI",
        "colab": {}
      },
      "source": [
        "import tensorflow as tf\n",
        "import keras\n",
        "\n",
        "from keras.layers import Dense, Dropout, Activation, Flatten, BatchNormalization\n",
        "from keras.layers import Conv2D, MaxPool2D, Add,AveragePooling2D\n",
        "from keras.models import Sequential\n",
        "from keras.layers import Conv2D, SeparableConv2D,BatchNormalization,Dropout,MaxPool2D,Flatten,Dense\n",
        "from keras.layers import concatenate\n",
        "\n",
        "from keras import initializers\n",
        "from keras import backend as K\n",
        "from keras.layers import Input\n",
        "from keras.models import Model"
      ],
      "execution_count": 15,
      "outputs": []
    },
    {
      "cell_type": "code",
      "metadata": {
        "colab_type": "code",
        "id": "6ffabeJEFcdk",
        "colab": {}
      },
      "source": [
        "weight_decay=1E-4\n",
        "from keras.regularizers import l2,l1_l2\n",
        "\n",
        "def model_():\n",
        "    model = None\n",
        "    tf.initializers.Orthogonal(gain=1.0, seed=None)\n",
        "    model=Sequential()\n",
        "\n",
        "    model.add(Conv2D(16,kernel_2, input_shape=(60,60,1), strides = 1, padding='valid',activation = tf.nn.relu,kernel_regularizer=l2(0.01)))\n",
        "    model.add(BatchNormalization())\n",
        "    model.add(Conv2D(32,kernel_2, activation = tf.nn.relu,kernel_regularizer=l2(0.01)))\n",
        "    model.add(MaxPool2D(pooling))\n",
        "    model.add(Dropout(dropout))\n",
        "    model.add(BatchNormalization())\n",
        "\n",
        "    model.add(Conv2D(64,kernel_2, strides = 1, padding='valid', activation = tf.nn.relu,kernel_regularizer=l2(0.01)))\n",
        "    model.add(BatchNormalization())\n",
        "    model.add(Conv2D(128,kernel_2, activation = tf.nn.relu,kernel_regularizer=l2(0.1)))\n",
        "    model.add(MaxPool2D(pooling))\n",
        "    model.add(Dropout(dropout))\n",
        "    model.add(BatchNormalization())\n",
        "\n",
        "    model.add(Conv2D(256,kernel_2, strides = 1, padding='valid', activation = tf.nn.relu,kernel_regularizer=l2(0.1)))\n",
        "    model.add(BatchNormalization())\n",
        "    model.add(Conv2D(256,kernel_2, activation = tf.nn.relu,kernel_regularizer=l2(0.1)))\n",
        "    model.add(MaxPool2D(pooling))\n",
        "    model.add(Dropout(dropout))\n",
        "    model.add(BatchNormalization())\n",
        "    model.add(Flatten())\n",
        "    model.add(Dense(512, activation = tf.nn.relu))\n",
        "    model.add(Dropout(0.4))\n",
        "    model.add(Dense(num_classes, activation = 'softmax'))\n",
        "    return model"
      ],
      "execution_count": 16,
      "outputs": []
    },
    {
      "cell_type": "code",
      "metadata": {
        "colab_type": "code",
        "id": "aqFrLaAQ_z4o",
        "colab": {}
      },
      "source": [
        "from tensorflow import keras\n",
        "model = model_()"
      ],
      "execution_count": 17,
      "outputs": []
    },
    {
      "cell_type": "markdown",
      "metadata": {
        "colab_type": "text",
        "id": "-f47EfzP_z4m"
      },
      "source": [
        "## Model Optimizer "
      ]
    },
    {
      "cell_type": "code",
      "metadata": {
        "colab_type": "code",
        "id": "h7jFOe1eYm8z",
        "colab": {}
      },
      "source": [
        "reduce_lr = tf.keras.callbacks.ReduceLROnPlateau(monitor='loss', factor=0.2,\n",
        "                              patience=3,  verbose=1, min_delta=1e-3, min_lr=1e-20)\n",
        "\n",
        "model.compile(optimizer='sgd',\n",
        "              loss='sparse_categorical_crossentropy',\n",
        "              metrics=[tf.keras.metrics.sparse_categorical_accuracy])"
      ],
      "execution_count": 18,
      "outputs": []
    },
    {
      "cell_type": "code",
      "metadata": {
        "colab_type": "code",
        "id": "TXreLuLXatdH",
        "colab": {}
      },
      "source": [
        "from tensorflow.keras.preprocessing.image import ImageDataGenerator\n",
        "aug = ImageDataGenerator(featurewise_center=False, \n",
        "                            featurewise_std_normalization=False, \n",
        "                            width_shift_range=0.1,\n",
        "                            height_shift_range=0.1,\n",
        "                            zoom_range=0.2,\n",
        "                            shear_range=0.1,\n",
        "                            rotation_range=10.,)"
      ],
      "execution_count": 19,
      "outputs": []
    },
    {
      "cell_type": "code",
      "metadata": {
        "colab_type": "code",
        "id": "I1T01_zbavAu",
        "colab": {}
      },
      "source": [
        "x=aug.flow(image_train, np.array(label_train), batch_size=32)"
      ],
      "execution_count": 20,
      "outputs": []
    },
    {
      "cell_type": "markdown",
      "metadata": {
        "colab_type": "text",
        "id": "JXiLRRAC_z4x"
      },
      "source": [
        "## Model Training"
      ]
    },
    {
      "cell_type": "code",
      "metadata": {
        "colab_type": "code",
        "id": "R0aLGOkrFcdq",
        "colab": {
          "base_uri": "https://localhost:8080/",
          "height": 1000
        },
        "outputId": "7ebdca88-2fbf-4728-a4c6-6c715fb00ffa"
      },
      "source": [
        "history = model.fit(x, epochs=95, shuffle=True, validation_data=(image_valid, np.array(label_valid)),verbose=1,callbacks=[reduce_lr])             "
      ],
      "execution_count": 21,
      "outputs": [
        {
          "output_type": "stream",
          "text": [
            "Epoch 1/95\n",
            "129/129 [==============================] - 3s 22ms/step - loss: 43.8324 - sparse_categorical_accuracy: 0.3658 - val_loss: 35.6173 - val_sparse_categorical_accuracy: 0.0284\n",
            "Epoch 2/95\n",
            "129/129 [==============================] - 2s 19ms/step - loss: 26.4801 - sparse_categorical_accuracy: 0.6216 - val_loss: 23.3056 - val_sparse_categorical_accuracy: 0.1201\n",
            "Epoch 3/95\n",
            "129/129 [==============================] - 2s 19ms/step - loss: 16.4498 - sparse_categorical_accuracy: 0.7010 - val_loss: 14.1793 - val_sparse_categorical_accuracy: 0.3930\n",
            "Epoch 4/95\n",
            "129/129 [==============================] - 2s 19ms/step - loss: 10.4455 - sparse_categorical_accuracy: 0.7527 - val_loss: 8.5329 - val_sparse_categorical_accuracy: 0.6900\n",
            "Epoch 5/95\n",
            "129/129 [==============================] - 2s 19ms/step - loss: 6.8399 - sparse_categorical_accuracy: 0.7921 - val_loss: 5.5393 - val_sparse_categorical_accuracy: 0.8188\n",
            "Epoch 6/95\n",
            "129/129 [==============================] - 2s 19ms/step - loss: 4.6787 - sparse_categorical_accuracy: 0.8125 - val_loss: 3.6769 - val_sparse_categorical_accuracy: 0.8908\n",
            "Epoch 7/95\n",
            "129/129 [==============================] - 2s 19ms/step - loss: 3.3091 - sparse_categorical_accuracy: 0.8297 - val_loss: 2.6146 - val_sparse_categorical_accuracy: 0.9061\n",
            "Epoch 8/95\n",
            "129/129 [==============================] - 2s 19ms/step - loss: 2.5012 - sparse_categorical_accuracy: 0.8407 - val_loss: 1.9215 - val_sparse_categorical_accuracy: 0.9345\n",
            "Epoch 9/95\n",
            "129/129 [==============================] - 2s 19ms/step - loss: 1.9858 - sparse_categorical_accuracy: 0.8564 - val_loss: 1.4917 - val_sparse_categorical_accuracy: 0.9563\n",
            "Epoch 10/95\n",
            "129/129 [==============================] - 2s 19ms/step - loss: 1.6623 - sparse_categorical_accuracy: 0.8647 - val_loss: 1.2259 - val_sparse_categorical_accuracy: 0.9629\n",
            "Epoch 11/95\n",
            "129/129 [==============================] - 2s 19ms/step - loss: 1.4360 - sparse_categorical_accuracy: 0.8742 - val_loss: 1.0744 - val_sparse_categorical_accuracy: 0.9607\n",
            "Epoch 12/95\n",
            "129/129 [==============================] - 2s 19ms/step - loss: 1.2894 - sparse_categorical_accuracy: 0.8854 - val_loss: 0.9917 - val_sparse_categorical_accuracy: 0.9607\n",
            "Epoch 13/95\n",
            "129/129 [==============================] - 2s 19ms/step - loss: 1.2175 - sparse_categorical_accuracy: 0.8798 - val_loss: 0.8975 - val_sparse_categorical_accuracy: 0.9672\n",
            "Epoch 14/95\n",
            "129/129 [==============================] - 2s 19ms/step - loss: 1.1270 - sparse_categorical_accuracy: 0.8946 - val_loss: 0.8122 - val_sparse_categorical_accuracy: 0.9738\n",
            "Epoch 15/95\n",
            "129/129 [==============================] - 2s 19ms/step - loss: 1.0430 - sparse_categorical_accuracy: 0.9050 - val_loss: 0.7614 - val_sparse_categorical_accuracy: 0.9694\n",
            "Epoch 16/95\n",
            "129/129 [==============================] - 2s 19ms/step - loss: 1.0111 - sparse_categorical_accuracy: 0.8980 - val_loss: 0.7333 - val_sparse_categorical_accuracy: 0.9782\n",
            "Epoch 17/95\n",
            "129/129 [==============================] - 2s 19ms/step - loss: 0.9887 - sparse_categorical_accuracy: 0.9041 - val_loss: 0.7045 - val_sparse_categorical_accuracy: 0.9782\n",
            "Epoch 18/95\n",
            "129/129 [==============================] - 2s 19ms/step - loss: 0.9401 - sparse_categorical_accuracy: 0.9058 - val_loss: 0.6937 - val_sparse_categorical_accuracy: 0.9738\n",
            "Epoch 19/95\n",
            "129/129 [==============================] - 2s 19ms/step - loss: 0.9000 - sparse_categorical_accuracy: 0.9172 - val_loss: 0.6631 - val_sparse_categorical_accuracy: 0.9803\n",
            "Epoch 20/95\n",
            "129/129 [==============================] - 2s 19ms/step - loss: 0.8645 - sparse_categorical_accuracy: 0.9189 - val_loss: 0.6483 - val_sparse_categorical_accuracy: 0.9716\n",
            "Epoch 21/95\n",
            "129/129 [==============================] - 2s 19ms/step - loss: 0.8439 - sparse_categorical_accuracy: 0.9179 - val_loss: 0.6174 - val_sparse_categorical_accuracy: 0.9782\n",
            "Epoch 22/95\n",
            "129/129 [==============================] - 2s 19ms/step - loss: 0.8545 - sparse_categorical_accuracy: 0.9126 - val_loss: 0.6398 - val_sparse_categorical_accuracy: 0.9738\n",
            "Epoch 23/95\n",
            "129/129 [==============================] - 2s 19ms/step - loss: 0.8159 - sparse_categorical_accuracy: 0.9177 - val_loss: 0.5982 - val_sparse_categorical_accuracy: 0.9782\n",
            "Epoch 24/95\n",
            "129/129 [==============================] - 2s 19ms/step - loss: 0.7927 - sparse_categorical_accuracy: 0.9213 - val_loss: 0.6294 - val_sparse_categorical_accuracy: 0.9716\n",
            "Epoch 25/95\n",
            "129/129 [==============================] - 2s 19ms/step - loss: 0.7799 - sparse_categorical_accuracy: 0.9196 - val_loss: 0.5669 - val_sparse_categorical_accuracy: 0.9803\n",
            "Epoch 26/95\n",
            "129/129 [==============================] - 2s 19ms/step - loss: 0.7619 - sparse_categorical_accuracy: 0.9237 - val_loss: 0.5405 - val_sparse_categorical_accuracy: 0.9825\n",
            "Epoch 27/95\n",
            "129/129 [==============================] - 2s 19ms/step - loss: 0.7271 - sparse_categorical_accuracy: 0.9225 - val_loss: 0.5311 - val_sparse_categorical_accuracy: 0.9760\n",
            "Epoch 28/95\n",
            "129/129 [==============================] - 2s 19ms/step - loss: 0.7223 - sparse_categorical_accuracy: 0.9252 - val_loss: 0.5154 - val_sparse_categorical_accuracy: 0.9847\n",
            "Epoch 29/95\n",
            "129/129 [==============================] - 2s 19ms/step - loss: 0.6973 - sparse_categorical_accuracy: 0.9325 - val_loss: 0.5098 - val_sparse_categorical_accuracy: 0.9869\n",
            "Epoch 30/95\n",
            "129/129 [==============================] - 2s 19ms/step - loss: 0.6924 - sparse_categorical_accuracy: 0.9300 - val_loss: 0.5022 - val_sparse_categorical_accuracy: 0.9869\n",
            "Epoch 31/95\n",
            "129/129 [==============================] - 2s 19ms/step - loss: 0.6878 - sparse_categorical_accuracy: 0.9310 - val_loss: 0.4998 - val_sparse_categorical_accuracy: 0.9869\n",
            "Epoch 32/95\n",
            "129/129 [==============================] - 2s 19ms/step - loss: 0.6662 - sparse_categorical_accuracy: 0.9339 - val_loss: 0.4902 - val_sparse_categorical_accuracy: 0.9803\n",
            "Epoch 33/95\n",
            "129/129 [==============================] - 2s 19ms/step - loss: 0.6604 - sparse_categorical_accuracy: 0.9286 - val_loss: 0.4630 - val_sparse_categorical_accuracy: 0.9913\n",
            "Epoch 34/95\n",
            "129/129 [==============================] - 2s 19ms/step - loss: 0.6496 - sparse_categorical_accuracy: 0.9325 - val_loss: 0.4706 - val_sparse_categorical_accuracy: 0.9825\n",
            "Epoch 35/95\n",
            "129/129 [==============================] - 2s 19ms/step - loss: 0.6636 - sparse_categorical_accuracy: 0.9266 - val_loss: 0.4747 - val_sparse_categorical_accuracy: 0.9869\n",
            "Epoch 36/95\n",
            "129/129 [==============================] - 2s 19ms/step - loss: 0.6248 - sparse_categorical_accuracy: 0.9412 - val_loss: 0.4433 - val_sparse_categorical_accuracy: 0.9891\n",
            "Epoch 37/95\n",
            "129/129 [==============================] - 2s 19ms/step - loss: 0.6013 - sparse_categorical_accuracy: 0.9398 - val_loss: 0.4609 - val_sparse_categorical_accuracy: 0.9803\n",
            "Epoch 38/95\n",
            "129/129 [==============================] - 2s 19ms/step - loss: 0.6154 - sparse_categorical_accuracy: 0.9356 - val_loss: 0.4416 - val_sparse_categorical_accuracy: 0.9869\n",
            "Epoch 39/95\n",
            "129/129 [==============================] - 2s 19ms/step - loss: 0.5855 - sparse_categorical_accuracy: 0.9419 - val_loss: 0.4276 - val_sparse_categorical_accuracy: 0.9847\n",
            "Epoch 40/95\n",
            "129/129 [==============================] - 2s 19ms/step - loss: 0.5886 - sparse_categorical_accuracy: 0.9405 - val_loss: 0.4318 - val_sparse_categorical_accuracy: 0.9782\n",
            "Epoch 41/95\n",
            "129/129 [==============================] - 2s 19ms/step - loss: 0.5708 - sparse_categorical_accuracy: 0.9434 - val_loss: 0.4366 - val_sparse_categorical_accuracy: 0.9847\n",
            "Epoch 42/95\n",
            "129/129 [==============================] - 2s 19ms/step - loss: 0.5656 - sparse_categorical_accuracy: 0.9461 - val_loss: 0.4097 - val_sparse_categorical_accuracy: 0.9847\n",
            "Epoch 43/95\n",
            "129/129 [==============================] - 2s 19ms/step - loss: 0.5495 - sparse_categorical_accuracy: 0.9475 - val_loss: 0.4197 - val_sparse_categorical_accuracy: 0.9803\n",
            "Epoch 44/95\n",
            "129/129 [==============================] - 2s 19ms/step - loss: 0.5574 - sparse_categorical_accuracy: 0.9405 - val_loss: 0.4134 - val_sparse_categorical_accuracy: 0.9803\n",
            "Epoch 45/95\n",
            "129/129 [==============================] - 2s 19ms/step - loss: 0.5674 - sparse_categorical_accuracy: 0.9400 - val_loss: 0.4083 - val_sparse_categorical_accuracy: 0.9869\n",
            "Epoch 46/95\n",
            "129/129 [==============================] - 2s 19ms/step - loss: 0.5442 - sparse_categorical_accuracy: 0.9441 - val_loss: 0.4027 - val_sparse_categorical_accuracy: 0.9825\n",
            "Epoch 47/95\n",
            "129/129 [==============================] - 2s 19ms/step - loss: 0.5375 - sparse_categorical_accuracy: 0.9449 - val_loss: 0.4072 - val_sparse_categorical_accuracy: 0.9869\n",
            "Epoch 48/95\n",
            "129/129 [==============================] - 2s 19ms/step - loss: 0.5326 - sparse_categorical_accuracy: 0.9432 - val_loss: 0.3960 - val_sparse_categorical_accuracy: 0.9825\n",
            "Epoch 49/95\n",
            "129/129 [==============================] - 2s 19ms/step - loss: 0.5091 - sparse_categorical_accuracy: 0.9512 - val_loss: 0.3695 - val_sparse_categorical_accuracy: 0.9869\n",
            "Epoch 50/95\n",
            "129/129 [==============================] - 2s 19ms/step - loss: 0.5013 - sparse_categorical_accuracy: 0.9487 - val_loss: 0.3591 - val_sparse_categorical_accuracy: 0.9934\n",
            "Epoch 51/95\n",
            "129/129 [==============================] - 2s 19ms/step - loss: 0.5142 - sparse_categorical_accuracy: 0.9458 - val_loss: 0.3725 - val_sparse_categorical_accuracy: 0.9913\n",
            "Epoch 52/95\n",
            "129/129 [==============================] - 2s 19ms/step - loss: 0.5103 - sparse_categorical_accuracy: 0.9480 - val_loss: 0.3583 - val_sparse_categorical_accuracy: 0.9934\n",
            "Epoch 53/95\n",
            "129/129 [==============================] - 3s 20ms/step - loss: 0.4835 - sparse_categorical_accuracy: 0.9556 - val_loss: 0.3562 - val_sparse_categorical_accuracy: 0.9913\n",
            "Epoch 54/95\n",
            "129/129 [==============================] - 2s 19ms/step - loss: 0.4606 - sparse_categorical_accuracy: 0.9556 - val_loss: 0.3429 - val_sparse_categorical_accuracy: 0.9913\n",
            "Epoch 55/95\n",
            "129/129 [==============================] - 2s 19ms/step - loss: 0.4769 - sparse_categorical_accuracy: 0.9521 - val_loss: 0.3370 - val_sparse_categorical_accuracy: 0.9956\n",
            "Epoch 56/95\n",
            "129/129 [==============================] - 2s 19ms/step - loss: 0.4905 - sparse_categorical_accuracy: 0.9483 - val_loss: 0.3718 - val_sparse_categorical_accuracy: 0.9847\n",
            "Epoch 57/95\n",
            "127/129 [============================>.] - ETA: 0s - loss: 0.4920 - sparse_categorical_accuracy: 0.9502\n",
            "Epoch 00057: ReduceLROnPlateau reducing learning rate to 0.0019999999552965165.\n",
            "129/129 [==============================] - 2s 19ms/step - loss: 0.4919 - sparse_categorical_accuracy: 0.9502 - val_loss: 0.3578 - val_sparse_categorical_accuracy: 0.9934\n",
            "Epoch 58/95\n",
            "129/129 [==============================] - 2s 19ms/step - loss: 0.4219 - sparse_categorical_accuracy: 0.9670 - val_loss: 0.3164 - val_sparse_categorical_accuracy: 0.9978\n",
            "Epoch 59/95\n",
            "129/129 [==============================] - 2s 19ms/step - loss: 0.3707 - sparse_categorical_accuracy: 0.9774 - val_loss: 0.2909 - val_sparse_categorical_accuracy: 0.9978\n",
            "Epoch 60/95\n",
            "129/129 [==============================] - 2s 19ms/step - loss: 0.3397 - sparse_categorical_accuracy: 0.9803 - val_loss: 0.2705 - val_sparse_categorical_accuracy: 1.0000\n",
            "Epoch 61/95\n",
            "129/129 [==============================] - 2s 19ms/step - loss: 0.3014 - sparse_categorical_accuracy: 0.9847 - val_loss: 0.2507 - val_sparse_categorical_accuracy: 0.9978\n",
            "Epoch 62/95\n",
            "129/129 [==============================] - 2s 19ms/step - loss: 0.2936 - sparse_categorical_accuracy: 0.9825 - val_loss: 0.2349 - val_sparse_categorical_accuracy: 0.9978\n",
            "Epoch 63/95\n",
            "129/129 [==============================] - 2s 19ms/step - loss: 0.2731 - sparse_categorical_accuracy: 0.9825 - val_loss: 0.2221 - val_sparse_categorical_accuracy: 0.9956\n",
            "Epoch 64/95\n",
            "129/129 [==============================] - 2s 18ms/step - loss: 0.2563 - sparse_categorical_accuracy: 0.9866 - val_loss: 0.2081 - val_sparse_categorical_accuracy: 0.9956\n",
            "Epoch 65/95\n",
            "129/129 [==============================] - 2s 19ms/step - loss: 0.2377 - sparse_categorical_accuracy: 0.9874 - val_loss: 0.1927 - val_sparse_categorical_accuracy: 1.0000\n",
            "Epoch 66/95\n",
            "129/129 [==============================] - 2s 19ms/step - loss: 0.2309 - sparse_categorical_accuracy: 0.9847 - val_loss: 0.1824 - val_sparse_categorical_accuracy: 1.0000\n",
            "Epoch 67/95\n",
            "129/129 [==============================] - 2s 19ms/step - loss: 0.2269 - sparse_categorical_accuracy: 0.9845 - val_loss: 0.1799 - val_sparse_categorical_accuracy: 0.9978\n",
            "Epoch 68/95\n",
            "129/129 [==============================] - 2s 19ms/step - loss: 0.2124 - sparse_categorical_accuracy: 0.9854 - val_loss: 0.1708 - val_sparse_categorical_accuracy: 0.9934\n",
            "Epoch 69/95\n",
            "129/129 [==============================] - 2s 19ms/step - loss: 0.2099 - sparse_categorical_accuracy: 0.9845 - val_loss: 0.1647 - val_sparse_categorical_accuracy: 0.9978\n",
            "Epoch 70/95\n",
            "129/129 [==============================] - 2s 18ms/step - loss: 0.2062 - sparse_categorical_accuracy: 0.9854 - val_loss: 0.1630 - val_sparse_categorical_accuracy: 0.9956\n",
            "Epoch 71/95\n",
            "129/129 [==============================] - 2s 19ms/step - loss: 0.2169 - sparse_categorical_accuracy: 0.9801 - val_loss: 0.1537 - val_sparse_categorical_accuracy: 0.9978\n",
            "Epoch 72/95\n",
            "129/129 [==============================] - 2s 19ms/step - loss: 0.2039 - sparse_categorical_accuracy: 0.9845 - val_loss: 0.1486 - val_sparse_categorical_accuracy: 1.0000\n",
            "Epoch 73/95\n",
            "129/129 [==============================] - 2s 19ms/step - loss: 0.1915 - sparse_categorical_accuracy: 0.9869 - val_loss: 0.1445 - val_sparse_categorical_accuracy: 1.0000\n",
            "Epoch 74/95\n",
            "129/129 [==============================] - 2s 19ms/step - loss: 0.1905 - sparse_categorical_accuracy: 0.9859 - val_loss: 0.1438 - val_sparse_categorical_accuracy: 0.9978\n",
            "Epoch 75/95\n",
            "129/129 [==============================] - 2s 19ms/step - loss: 0.1999 - sparse_categorical_accuracy: 0.9801 - val_loss: 0.1431 - val_sparse_categorical_accuracy: 1.0000\n",
            "Epoch 76/95\n",
            "129/129 [==============================] - 2s 19ms/step - loss: 0.1865 - sparse_categorical_accuracy: 0.9862 - val_loss: 0.1422 - val_sparse_categorical_accuracy: 0.9978\n",
            "Epoch 77/95\n",
            "129/129 [==============================] - 2s 19ms/step - loss: 0.1865 - sparse_categorical_accuracy: 0.9835 - val_loss: 0.1437 - val_sparse_categorical_accuracy: 0.9956\n",
            "Epoch 78/95\n",
            "129/129 [==============================] - 2s 19ms/step - loss: 0.1961 - sparse_categorical_accuracy: 0.9830 - val_loss: 0.1416 - val_sparse_categorical_accuracy: 0.9978\n",
            "Epoch 79/95\n",
            "128/129 [============================>.] - ETA: 0s - loss: 0.1862 - sparse_categorical_accuracy: 0.9829\n",
            "Epoch 00079: ReduceLROnPlateau reducing learning rate to 0.0003999999724328518.\n",
            "129/129 [==============================] - 2s 19ms/step - loss: 0.1858 - sparse_categorical_accuracy: 0.9830 - val_loss: 0.1430 - val_sparse_categorical_accuracy: 0.9956\n",
            "Epoch 80/95\n",
            "129/129 [==============================] - 2s 19ms/step - loss: 0.1850 - sparse_categorical_accuracy: 0.9852 - val_loss: 0.1350 - val_sparse_categorical_accuracy: 1.0000\n",
            "Epoch 81/95\n",
            "129/129 [==============================] - 2s 19ms/step - loss: 0.1690 - sparse_categorical_accuracy: 0.9908 - val_loss: 0.1330 - val_sparse_categorical_accuracy: 1.0000\n",
            "Epoch 82/95\n",
            "129/129 [==============================] - 2s 19ms/step - loss: 0.1632 - sparse_categorical_accuracy: 0.9888 - val_loss: 0.1312 - val_sparse_categorical_accuracy: 1.0000\n",
            "Epoch 83/95\n",
            "129/129 [==============================] - 2s 18ms/step - loss: 0.1566 - sparse_categorical_accuracy: 0.9932 - val_loss: 0.1299 - val_sparse_categorical_accuracy: 1.0000\n",
            "Epoch 84/95\n",
            "129/129 [==============================] - 2s 19ms/step - loss: 0.1600 - sparse_categorical_accuracy: 0.9910 - val_loss: 0.1282 - val_sparse_categorical_accuracy: 1.0000\n",
            "Epoch 85/95\n",
            "129/129 [==============================] - 2s 19ms/step - loss: 0.1545 - sparse_categorical_accuracy: 0.9910 - val_loss: 0.1262 - val_sparse_categorical_accuracy: 1.0000\n",
            "Epoch 86/95\n",
            "129/129 [==============================] - 2s 19ms/step - loss: 0.1545 - sparse_categorical_accuracy: 0.9939 - val_loss: 0.1263 - val_sparse_categorical_accuracy: 1.0000\n",
            "Epoch 87/95\n",
            "129/129 [==============================] - 2s 18ms/step - loss: 0.1488 - sparse_categorical_accuracy: 0.9922 - val_loss: 0.1238 - val_sparse_categorical_accuracy: 1.0000\n",
            "Epoch 88/95\n",
            "129/129 [==============================] - 2s 19ms/step - loss: 0.1470 - sparse_categorical_accuracy: 0.9934 - val_loss: 0.1224 - val_sparse_categorical_accuracy: 1.0000\n",
            "Epoch 89/95\n",
            "129/129 [==============================] - 2s 18ms/step - loss: 0.1459 - sparse_categorical_accuracy: 0.9920 - val_loss: 0.1201 - val_sparse_categorical_accuracy: 1.0000\n",
            "Epoch 90/95\n",
            "129/129 [==============================] - 2s 19ms/step - loss: 0.1397 - sparse_categorical_accuracy: 0.9942 - val_loss: 0.1194 - val_sparse_categorical_accuracy: 1.0000\n",
            "Epoch 91/95\n",
            "129/129 [==============================] - 2s 18ms/step - loss: 0.1415 - sparse_categorical_accuracy: 0.9939 - val_loss: 0.1184 - val_sparse_categorical_accuracy: 1.0000\n",
            "Epoch 92/95\n",
            "129/129 [==============================] - 2s 19ms/step - loss: 0.1394 - sparse_categorical_accuracy: 0.9932 - val_loss: 0.1165 - val_sparse_categorical_accuracy: 1.0000\n",
            "Epoch 93/95\n",
            "129/129 [==============================] - 2s 19ms/step - loss: 0.1385 - sparse_categorical_accuracy: 0.9942 - val_loss: 0.1145 - val_sparse_categorical_accuracy: 1.0000\n",
            "Epoch 94/95\n",
            "129/129 [==============================] - 2s 19ms/step - loss: 0.1394 - sparse_categorical_accuracy: 0.9925 - val_loss: 0.1136 - val_sparse_categorical_accuracy: 1.0000\n",
            "Epoch 95/95\n",
            "129/129 [==============================] - 2s 18ms/step - loss: 0.1354 - sparse_categorical_accuracy: 0.9927 - val_loss: 0.1128 - val_sparse_categorical_accuracy: 1.0000\n"
          ],
          "name": "stdout"
        }
      ]
    },
    {
      "cell_type": "code",
      "metadata": {
        "id": "mJLbbikxWUdQ",
        "colab_type": "code",
        "colab": {
          "base_uri": "https://localhost:8080/",
          "height": 195
        },
        "outputId": "36df85d8-fd35-41b8-ead7-501685a79e1a"
      },
      "source": [
        "history2 = model.fit(x, epochs=5, shuffle=True, validation_data=(image_valid, np.array(label_valid)),verbose=1,callbacks=[reduce_lr])             "
      ],
      "execution_count": 24,
      "outputs": [
        {
          "output_type": "stream",
          "text": [
            "Epoch 1/5\n",
            "129/129 [==============================] - 3s 19ms/step - loss: 0.1344 - sparse_categorical_accuracy: 0.9930 - val_loss: 0.1119 - val_sparse_categorical_accuracy: 1.0000\n",
            "Epoch 2/5\n",
            "129/129 [==============================] - 2s 19ms/step - loss: 0.1350 - sparse_categorical_accuracy: 0.9932 - val_loss: 0.1102 - val_sparse_categorical_accuracy: 1.0000\n",
            "Epoch 3/5\n",
            "129/129 [==============================] - 2s 19ms/step - loss: 0.1344 - sparse_categorical_accuracy: 0.9927 - val_loss: 0.1091 - val_sparse_categorical_accuracy: 1.0000\n",
            "Epoch 4/5\n",
            "129/129 [==============================] - 2s 19ms/step - loss: 0.1278 - sparse_categorical_accuracy: 0.9947 - val_loss: 0.1073 - val_sparse_categorical_accuracy: 1.0000\n",
            "Epoch 5/5\n",
            "129/129 [==============================] - 2s 19ms/step - loss: 0.1344 - sparse_categorical_accuracy: 0.9913 - val_loss: 0.1068 - val_sparse_categorical_accuracy: 1.0000\n"
          ],
          "name": "stdout"
        }
      ]
    },
    {
      "cell_type": "code",
      "metadata": {
        "id": "a0pGOd_lWo7K",
        "colab_type": "code",
        "colab": {
          "base_uri": "https://localhost:8080/",
          "height": 195
        },
        "outputId": "f7a56c14-aceb-43b6-afe1-7c54a57ca832"
      },
      "source": [
        "history3 = model.fit(x, epochs=5, shuffle=True, validation_data=(image_valid, np.array(label_valid)),verbose=1,callbacks=[reduce_lr])             "
      ],
      "execution_count": 26,
      "outputs": [
        {
          "output_type": "stream",
          "text": [
            "Epoch 1/5\n",
            "129/129 [==============================] - 3s 20ms/step - loss: 0.1258 - sparse_categorical_accuracy: 0.9947 - val_loss: 0.1077 - val_sparse_categorical_accuracy: 1.0000\n",
            "Epoch 2/5\n",
            "129/129 [==============================] - 2s 19ms/step - loss: 0.1286 - sparse_categorical_accuracy: 0.9947 - val_loss: 0.1069 - val_sparse_categorical_accuracy: 1.0000\n",
            "Epoch 3/5\n",
            "129/129 [==============================] - 3s 19ms/step - loss: 0.1237 - sparse_categorical_accuracy: 0.9947 - val_loss: 0.1044 - val_sparse_categorical_accuracy: 1.0000\n",
            "Epoch 4/5\n",
            "129/129 [==============================] - 2s 19ms/step - loss: 0.1235 - sparse_categorical_accuracy: 0.9942 - val_loss: 0.1044 - val_sparse_categorical_accuracy: 1.0000\n",
            "Epoch 5/5\n",
            "129/129 [==============================] - 2s 19ms/step - loss: 0.1190 - sparse_categorical_accuracy: 0.9956 - val_loss: 0.1044 - val_sparse_categorical_accuracy: 1.0000\n"
          ],
          "name": "stdout"
        }
      ]
    },
    {
      "cell_type": "code",
      "metadata": {
        "id": "PVGKm-s6Wy2I",
        "colab_type": "code",
        "colab": {
          "base_uri": "https://localhost:8080/",
          "height": 195
        },
        "outputId": "1c999ba9-3ce0-4bc8-963e-486210e39260"
      },
      "source": [
        "history4 = model.fit(x, epochs=5, shuffle=True, validation_data=(image_valid, np.array(label_valid)),verbose=1,callbacks=[reduce_lr])             "
      ],
      "execution_count": 28,
      "outputs": [
        {
          "output_type": "stream",
          "text": [
            "Epoch 1/5\n",
            "129/129 [==============================] - 3s 20ms/step - loss: 0.1256 - sparse_categorical_accuracy: 0.9932 - val_loss: 0.1027 - val_sparse_categorical_accuracy: 1.0000\n",
            "Epoch 2/5\n",
            "129/129 [==============================] - 3s 20ms/step - loss: 0.1209 - sparse_categorical_accuracy: 0.9951 - val_loss: 0.1014 - val_sparse_categorical_accuracy: 1.0000\n",
            "Epoch 3/5\n",
            "129/129 [==============================] - 3s 20ms/step - loss: 0.1220 - sparse_categorical_accuracy: 0.9942 - val_loss: 0.1001 - val_sparse_categorical_accuracy: 1.0000\n",
            "Epoch 4/5\n",
            "129/129 [==============================] - 3s 20ms/step - loss: 0.1180 - sparse_categorical_accuracy: 0.9961 - val_loss: 0.0990 - val_sparse_categorical_accuracy: 1.0000\n",
            "Epoch 5/5\n",
            "129/129 [==============================] - 3s 20ms/step - loss: 0.1159 - sparse_categorical_accuracy: 0.9956 - val_loss: 0.1008 - val_sparse_categorical_accuracy: 1.0000\n"
          ],
          "name": "stdout"
        }
      ]
    },
    {
      "cell_type": "code",
      "metadata": {
        "id": "soijdq7YXHbh",
        "colab_type": "code",
        "colab": {
          "base_uri": "https://localhost:8080/",
          "height": 195
        },
        "outputId": "a1221dbf-0c6f-4b97-b649-a6776e417de5"
      },
      "source": [
        "history5 = model.fit(x, epochs=5, shuffle=True, validation_data=(image_valid, np.array(label_valid)),verbose=1,callbacks=[reduce_lr])             "
      ],
      "execution_count": 30,
      "outputs": [
        {
          "output_type": "stream",
          "text": [
            "Epoch 1/5\n",
            "129/129 [==============================] - 3s 20ms/step - loss: 0.1142 - sparse_categorical_accuracy: 0.9956 - val_loss: 0.1011 - val_sparse_categorical_accuracy: 0.9956\n",
            "Epoch 2/5\n",
            "129/129 [==============================] - 3s 20ms/step - loss: 0.1157 - sparse_categorical_accuracy: 0.9947 - val_loss: 0.0978 - val_sparse_categorical_accuracy: 1.0000\n",
            "Epoch 3/5\n",
            "129/129 [==============================] - 3s 20ms/step - loss: 0.1161 - sparse_categorical_accuracy: 0.9939 - val_loss: 0.0968 - val_sparse_categorical_accuracy: 1.0000\n",
            "Epoch 4/5\n",
            "129/129 [==============================] - 3s 20ms/step - loss: 0.1120 - sparse_categorical_accuracy: 0.9956 - val_loss: 0.1014 - val_sparse_categorical_accuracy: 0.9956\n",
            "Epoch 5/5\n",
            "129/129 [==============================] - 3s 20ms/step - loss: 0.1111 - sparse_categorical_accuracy: 0.9964 - val_loss: 0.0948 - val_sparse_categorical_accuracy: 1.0000\n"
          ],
          "name": "stdout"
        }
      ]
    },
    {
      "cell_type": "code",
      "metadata": {
        "id": "DFNHiBFJXNFl",
        "colab_type": "code",
        "colab": {
          "base_uri": "https://localhost:8080/",
          "height": 195
        },
        "outputId": "cc7bac1e-710f-4e7e-914e-f09d5422a78b"
      },
      "source": [
        "history6 = model.fit(x, epochs=5, shuffle=True, validation_data=(image_valid, np.array(label_valid)),verbose=1,callbacks=[reduce_lr])             "
      ],
      "execution_count": 32,
      "outputs": [
        {
          "output_type": "stream",
          "text": [
            "Epoch 1/5\n",
            "129/129 [==============================] - 3s 20ms/step - loss: 0.1115 - sparse_categorical_accuracy: 0.9949 - val_loss: 0.0971 - val_sparse_categorical_accuracy: 0.9956\n",
            "Epoch 2/5\n",
            "129/129 [==============================] - 3s 20ms/step - loss: 0.1102 - sparse_categorical_accuracy: 0.9954 - val_loss: 0.0934 - val_sparse_categorical_accuracy: 1.0000\n",
            "Epoch 3/5\n",
            "129/129 [==============================] - 3s 20ms/step - loss: 0.1130 - sparse_categorical_accuracy: 0.9937 - val_loss: 0.0951 - val_sparse_categorical_accuracy: 0.9978\n",
            "Epoch 4/5\n",
            "129/129 [==============================] - 3s 20ms/step - loss: 0.1092 - sparse_categorical_accuracy: 0.9959 - val_loss: 0.0928 - val_sparse_categorical_accuracy: 1.0000\n",
            "Epoch 5/5\n",
            "129/129 [==============================] - 3s 19ms/step - loss: 0.1061 - sparse_categorical_accuracy: 0.9964 - val_loss: 0.0960 - val_sparse_categorical_accuracy: 0.9956\n"
          ],
          "name": "stdout"
        }
      ]
    },
    {
      "cell_type": "code",
      "metadata": {
        "id": "tegI38LnXSy-",
        "colab_type": "code",
        "colab": {
          "base_uri": "https://localhost:8080/",
          "height": 195
        },
        "outputId": "0ea542c5-9474-4100-f6b7-1c991f16859e"
      },
      "source": [
        "history7 = model.fit(x, epochs=5, shuffle=True, validation_data=(image_valid, np.array(label_valid)),verbose=1,callbacks=[reduce_lr])             "
      ],
      "execution_count": 34,
      "outputs": [
        {
          "output_type": "stream",
          "text": [
            "Epoch 1/5\n",
            "129/129 [==============================] - 3s 20ms/step - loss: 0.1096 - sparse_categorical_accuracy: 0.9949 - val_loss: 0.0952 - val_sparse_categorical_accuracy: 0.9956\n",
            "Epoch 2/5\n",
            "129/129 [==============================] - 3s 20ms/step - loss: 0.1085 - sparse_categorical_accuracy: 0.9956 - val_loss: 0.0933 - val_sparse_categorical_accuracy: 0.9978\n",
            "Epoch 3/5\n",
            "129/129 [==============================] - 3s 20ms/step - loss: 0.1088 - sparse_categorical_accuracy: 0.9944 - val_loss: 0.0914 - val_sparse_categorical_accuracy: 1.0000\n",
            "Epoch 4/5\n",
            "129/129 [==============================] - 3s 20ms/step - loss: 0.1061 - sparse_categorical_accuracy: 0.9956 - val_loss: 0.0908 - val_sparse_categorical_accuracy: 1.0000\n",
            "Epoch 5/5\n",
            "129/129 [==============================] - 3s 19ms/step - loss: 0.1052 - sparse_categorical_accuracy: 0.9959 - val_loss: 0.0891 - val_sparse_categorical_accuracy: 1.0000\n"
          ],
          "name": "stdout"
        }
      ]
    },
    {
      "cell_type": "markdown",
      "metadata": {
        "colab_type": "text",
        "id": "08KFabUT_z5L"
      },
      "source": [
        "## Model Evaluation"
      ]
    },
    {
      "cell_type": "code",
      "metadata": {
        "id": "aWNRVrlYXdUL",
        "colab_type": "code",
        "colab": {
          "base_uri": "https://localhost:8080/",
          "height": 52
        },
        "outputId": "af7468b9-9fd2-4b69-fdc6-a7d2f9c2801d"
      },
      "source": [
        "model.evaluate(test_image_array, np.array(test_image_labels), batch_size=256)"
      ],
      "execution_count": 40,
      "outputs": [
        {
          "output_type": "stream",
          "text": [
            "10/10 [==============================] - 0s 21ms/step - loss: 0.1578 - sparse_categorical_accuracy: 0.9925\n"
          ],
          "name": "stdout"
        },
        {
          "output_type": "execute_result",
          "data": {
            "text/plain": [
              "[0.15781962871551514, 0.992460310459137]"
            ]
          },
          "metadata": {
            "tags": []
          },
          "execution_count": 40
        }
      ]
    },
    {
      "cell_type": "code",
      "metadata": {
        "id": "RcFybeneXUw-",
        "colab_type": "code",
        "colab": {
          "base_uri": "https://localhost:8080/",
          "height": 52
        },
        "outputId": "e931e470-10d8-480e-b874-3cbbe1803aca"
      },
      "source": [
        "model.evaluate(test_image_array, np.array(test_image_labels), batch_size=256)"
      ],
      "execution_count": 35,
      "outputs": [
        {
          "output_type": "stream",
          "text": [
            "10/10 [==============================] - 0s 17ms/step - loss: 0.1578 - sparse_categorical_accuracy: 0.9925\n"
          ],
          "name": "stdout"
        },
        {
          "output_type": "execute_result",
          "data": {
            "text/plain": [
              "[0.15781962871551514, 0.992460310459137]"
            ]
          },
          "metadata": {
            "tags": []
          },
          "execution_count": 35
        }
      ]
    },
    {
      "cell_type": "code",
      "metadata": {
        "id": "W66zbCnTXPz-",
        "colab_type": "code",
        "colab": {
          "base_uri": "https://localhost:8080/",
          "height": 52
        },
        "outputId": "23f4dccf-ea9b-4179-feab-078595e5f27d"
      },
      "source": [
        "model.evaluate(test_image_array, np.array(test_image_labels), batch_size=256)"
      ],
      "execution_count": 33,
      "outputs": [
        {
          "output_type": "stream",
          "text": [
            "10/10 [==============================] - 0s 17ms/step - loss: 0.1648 - sparse_categorical_accuracy: 0.9881\n"
          ],
          "name": "stdout"
        },
        {
          "output_type": "execute_result",
          "data": {
            "text/plain": [
              "[0.16479891538619995, 0.988095223903656]"
            ]
          },
          "metadata": {
            "tags": []
          },
          "execution_count": 33
        }
      ]
    },
    {
      "cell_type": "code",
      "metadata": {
        "id": "rbaMO4F4XKGr",
        "colab_type": "code",
        "colab": {
          "base_uri": "https://localhost:8080/",
          "height": 52
        },
        "outputId": "b4642d84-d01e-46c8-a3a8-c65b97cc0df8"
      },
      "source": [
        "model.evaluate(test_image_array, np.array(test_image_labels), batch_size=256)"
      ],
      "execution_count": 31,
      "outputs": [
        {
          "output_type": "stream",
          "text": [
            "10/10 [==============================] - 0s 21ms/step - loss: 0.1676 - sparse_categorical_accuracy: 0.9905\n"
          ],
          "name": "stdout"
        },
        {
          "output_type": "execute_result",
          "data": {
            "text/plain": [
              "[0.16764642298221588, 0.9904761910438538]"
            ]
          },
          "metadata": {
            "tags": []
          },
          "execution_count": 31
        }
      ]
    },
    {
      "cell_type": "code",
      "metadata": {
        "id": "YdIdy6yrXA2w",
        "colab_type": "code",
        "colab": {
          "base_uri": "https://localhost:8080/",
          "height": 52
        },
        "outputId": "c0df18a6-62a1-43d6-c1ac-c845c5483173"
      },
      "source": [
        "model.evaluate(test_image_array, np.array(test_image_labels), batch_size=256)"
      ],
      "execution_count": 29,
      "outputs": [
        {
          "output_type": "stream",
          "text": [
            "10/10 [==============================] - 0s 21ms/step - loss: 0.1727 - sparse_categorical_accuracy: 0.9913\n"
          ],
          "name": "stdout"
        },
        {
          "output_type": "execute_result",
          "data": {
            "text/plain": [
              "[0.17268019914627075, 0.9912698268890381]"
            ]
          },
          "metadata": {
            "tags": []
          },
          "execution_count": 29
        }
      ]
    },
    {
      "cell_type": "code",
      "metadata": {
        "id": "_pU5aSN2Wtih",
        "colab_type": "code",
        "colab": {
          "base_uri": "https://localhost:8080/",
          "height": 52
        },
        "outputId": "a17da565-37ea-4e2f-ecbf-e91a5f9b7344"
      },
      "source": [
        "model.evaluate(test_image_array, np.array(test_image_labels), batch_size=256)"
      ],
      "execution_count": 27,
      "outputs": [
        {
          "output_type": "stream",
          "text": [
            "10/10 [==============================] - 0s 20ms/step - loss: 0.1731 - sparse_categorical_accuracy: 0.9913\n"
          ],
          "name": "stdout"
        },
        {
          "output_type": "execute_result",
          "data": {
            "text/plain": [
              "[0.17313072085380554, 0.9912698268890381]"
            ]
          },
          "metadata": {
            "tags": []
          },
          "execution_count": 27
        }
      ]
    },
    {
      "cell_type": "code",
      "metadata": {
        "id": "j_N76OVwWngN",
        "colab_type": "code",
        "colab": {
          "base_uri": "https://localhost:8080/",
          "height": 52
        },
        "outputId": "f8aee230-7879-44ec-e315-61e0f11924f4"
      },
      "source": [
        "model.evaluate(test_image_array, np.array(test_image_labels), batch_size=256)"
      ],
      "execution_count": 25,
      "outputs": [
        {
          "output_type": "stream",
          "text": [
            "10/10 [==============================] - 0s 20ms/step - loss: 0.1864 - sparse_categorical_accuracy: 0.9893\n"
          ],
          "name": "stdout"
        },
        {
          "output_type": "execute_result",
          "data": {
            "text/plain": [
              "[0.186386376619339, 0.9892857074737549]"
            ]
          },
          "metadata": {
            "tags": []
          },
          "execution_count": 25
        }
      ]
    },
    {
      "cell_type": "code",
      "metadata": {
        "id": "10zW6nETN3Pk",
        "colab_type": "code",
        "colab": {
          "base_uri": "https://localhost:8080/",
          "height": 52
        },
        "outputId": "1128c696-dda0-455b-d099-de8ab80fc254"
      },
      "source": [
        "model.evaluate(test_image_array, np.array(test_image_labels), batch_size=256)"
      ],
      "execution_count": 22,
      "outputs": [
        {
          "output_type": "stream",
          "text": [
            "10/10 [==============================] - 0s 36ms/step - loss: 0.1839 - sparse_categorical_accuracy: 0.9909\n"
          ],
          "name": "stdout"
        },
        {
          "output_type": "execute_result",
          "data": {
            "text/plain": [
              "[0.18386822938919067, 0.9908730387687683]"
            ]
          },
          "metadata": {
            "tags": []
          },
          "execution_count": 22
        }
      ]
    },
    {
      "cell_type": "code",
      "metadata": {
        "id": "eGauy8vCTP65",
        "colab_type": "code",
        "colab": {
          "base_uri": "https://localhost:8080/",
          "height": 167
        },
        "outputId": "fd60f7f5-5d6b-40cc-bd6a-2add2c4c5211"
      },
      "source": [
        "xxxx"
      ],
      "execution_count": 23,
      "outputs": [
        {
          "output_type": "error",
          "ename": "NameError",
          "evalue": "ignored",
          "traceback": [
            "\u001b[0;31m---------------------------------------------------------------------------\u001b[0m",
            "\u001b[0;31mNameError\u001b[0m                                 Traceback (most recent call last)",
            "\u001b[0;32m<ipython-input-23-53d3699683de>\u001b[0m in \u001b[0;36m<module>\u001b[0;34m()\u001b[0m\n\u001b[0;32m----> 1\u001b[0;31m \u001b[0mxxxx\u001b[0m\u001b[0;34m\u001b[0m\u001b[0;34m\u001b[0m\u001b[0m\n\u001b[0m",
            "\u001b[0;31mNameError\u001b[0m: name 'xxxx' is not defined"
          ]
        }
      ]
    },
    {
      "cell_type": "code",
      "metadata": {
        "colab_type": "code",
        "id": "6wJ3xgLVRCoX",
        "colab": {}
      },
      "source": [
        "model.evaluate(test_image_array, np.array(test_image_labels), batch_size=256)"
      ],
      "execution_count": null,
      "outputs": []
    },
    {
      "cell_type": "markdown",
      "metadata": {
        "colab_type": "text",
        "id": "S1SvrW7c_z42"
      },
      "source": [
        "## Visualization"
      ]
    },
    {
      "cell_type": "code",
      "metadata": {
        "colab_type": "code",
        "id": "d01yT3_F_z44",
        "colab": {}
      },
      "source": [
        "import matplotlib.pyplot as plt\n",
        "plt.plot(history.history['sparse_categorical_accuracy'])\n",
        "plt.plot(history.history['val_sparse_categorical_accuracy'])\n",
        "plt.ylabel('accuracy')\n",
        "plt.xlabel('epoch')\n",
        "plt.legend(['train', 'validation'], loc='upper left')\n",
        "plt.show()"
      ],
      "execution_count": null,
      "outputs": []
    },
    {
      "cell_type": "code",
      "metadata": {
        "colab_type": "code",
        "id": "Jv9nxMP5_z4_",
        "colab": {}
      },
      "source": [
        "plt.plot(history.history['loss'])\n",
        "plt.plot(history.history['val_loss'])\n",
        "plt.ylabel('loss')\n",
        "plt.xlabel('epoch')\n",
        "plt.legend(['train', 'validation'], loc='upper left')\n",
        "plt.show()"
      ],
      "execution_count": null,
      "outputs": []
    },
    {
      "cell_type": "markdown",
      "metadata": {
        "colab_type": "text",
        "id": "lITG_Mw9_z5F"
      },
      "source": [
        "## Model Summary \n",
        "Number of parameters used in the model architecture"
      ]
    },
    {
      "cell_type": "code",
      "metadata": {
        "colab_type": "code",
        "id": "hSaS0ZyI_z5G",
        "colab": {}
      },
      "source": [
        "print(model.summary())"
      ],
      "execution_count": null,
      "outputs": []
    },
    {
      "cell_type": "markdown",
      "metadata": {
        "colab_type": "text",
        "id": "LGX8hR4r_z5T"
      },
      "source": [
        "## Saving Trained .h5 Model"
      ]
    },
    {
      "cell_type": "code",
      "metadata": {
        "colab_type": "code",
        "id": "paMLoaT4_fwZ",
        "colab": {}
      },
      "source": [
        "def saveCNNModel(model_name):\n",
        "    model.save(model_name)"
      ],
      "execution_count": 36,
      "outputs": []
    },
    {
      "cell_type": "code",
      "metadata": {
        "colab_type": "code",
        "id": "xqmScYoy_fwc",
        "colab": {}
      },
      "source": [
        "saveCNNModel('Trained_Models/Belgium_Winning_99_25_.h5')"
      ],
      "execution_count": 39,
      "outputs": []
    },
    {
      "cell_type": "code",
      "metadata": {
        "colab_type": "code",
        "id": "sQ3VvwXDFceP",
        "colab": {}
      },
      "source": [
        "model._set_inputs(image_train,np.array(label_train))"
      ],
      "execution_count": null,
      "outputs": []
    },
    {
      "cell_type": "markdown",
      "metadata": {
        "colab_type": "text",
        "id": "zUjBuI9Q_z5k"
      },
      "source": [
        "## Loading Saved Trained .h5 Model"
      ]
    },
    {
      "cell_type": "code",
      "metadata": {
        "colab_type": "code",
        "id": "n76ZEjsn_wj_",
        "colab": {}
      },
      "source": [
        "del model"
      ],
      "execution_count": 53,
      "outputs": []
    },
    {
      "cell_type": "code",
      "metadata": {
        "colab_type": "code",
        "id": "GxFfWaaN_fwe",
        "colab": {}
      },
      "source": [
        "def load_model():\n",
        "    Model = tf.keras.models.load_model('Trained_Models/Belgium_Winning_99_25_.h5')\n",
        "    return Model"
      ],
      "execution_count": 54,
      "outputs": []
    },
    {
      "cell_type": "code",
      "metadata": {
        "colab_type": "code",
        "id": "hXlI3Mxx_fwi",
        "colab": {}
      },
      "source": [
        "model= load_model()"
      ],
      "execution_count": 55,
      "outputs": []
    },
    {
      "cell_type": "code",
      "metadata": {
        "colab_type": "code",
        "id": "0fy4tCj0AEji",
        "colab": {}
      },
      "source": [
        "model.compile(optimizer='sgd',\n",
        "              loss='sparse_categorical_crossentropy',\n",
        "              metrics=[tf.keras.metrics.sparse_categorical_accuracy])"
      ],
      "execution_count": null,
      "outputs": []
    },
    {
      "cell_type": "markdown",
      "metadata": {
        "colab_type": "text",
        "id": "57ctMF_P_z5v"
      },
      "source": [
        "## Computation Avg. Processing Time"
      ]
    },
    {
      "cell_type": "code",
      "metadata": {
        "colab_type": "code",
        "id": "0oH66eWUFceZ",
        "colab": {}
      },
      "source": [
        "import time\n",
        "t1=time.time()\n",
        "model.predict(test_image_array)\n",
        "t2=time.time()\n",
        "print(\"Average Processing time: \", ((t2-t1)/12630)*1000, \" ms\")"
      ],
      "execution_count": null,
      "outputs": []
    }
  ]
}