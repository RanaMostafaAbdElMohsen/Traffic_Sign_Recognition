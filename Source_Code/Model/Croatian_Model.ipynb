{
  "nbformat": 4,
  "nbformat_minor": 0,
  "metadata": {
    "kernelspec": {
      "display_name": "Python 3",
      "language": "python",
      "name": "python3"
    },
    "language_info": {
      "codemirror_mode": {
        "name": "ipython",
        "version": 3
      },
      "file_extension": ".py",
      "mimetype": "text/x-python",
      "name": "python",
      "nbconvert_exporter": "python",
      "pygments_lexer": "ipython3",
      "version": "3.6.8"
    },
    "colab": {
      "name": " Croatian_Model_PlayGround_99_55_less_loss_.ipynb",
      "provenance": [],
      "collapsed_sections": [
        "gIyUGX4fTHzR",
        "FngFpjsXTHzZ",
        "h7hzL2wdTHzr",
        "2lRb1yZeTHz6"
      ]
    },
    "accelerator": "GPU"
  },
  "cells": [
    {
      "cell_type": "markdown",
      "metadata": {
        "id": "mqZ4Clw_THwq",
        "colab_type": "text"
      },
      "source": [
        "# Traffic Sign Recognition Model\n",
        "## Environment Initialisation"
      ]
    },
    {
      "cell_type": "code",
      "metadata": {
        "id": "gr3zzhaiTHws",
        "colab_type": "code",
        "colab": {}
      },
      "source": [
        "def IntialiseEnv():\n",
        "    nb_dir = os.path.split(os.getcwd())[0]\n",
        "    if nb_dir not in sys.path:\n",
        "        sys.path.append(nb_dir)"
      ],
      "execution_count": 1,
      "outputs": []
    },
    {
      "cell_type": "code",
      "metadata": {
        "id": "e3cgtbNlTHw3",
        "colab_type": "code",
        "colab": {
          "base_uri": "https://localhost:8080/",
          "height": 69
        },
        "outputId": "adb81238-5f27-4e59-ca85-93d80bddcf13"
      },
      "source": [
        "from google.colab import drive\n",
        "drive.mount('/content/drive')\n",
        "import os\n",
        "os.chdir(\"/content/drive/\")\n",
        "!ls\n",
        "import os\n",
        "os.chdir(\"My Drive/[ Masters ] - Deep Learning Proj/Model\")\n",
        "!pip install import_ipynb"
      ],
      "execution_count": 2,
      "outputs": [
        {
          "output_type": "stream",
          "text": [
            "Drive already mounted at /content/drive; to attempt to forcibly remount, call drive.mount(\"/content/drive\", force_remount=True).\n",
            "'My Drive'\n",
            "Requirement already satisfied: import_ipynb in /usr/local/lib/python3.6/dist-packages (0.1.3)\n"
          ],
          "name": "stdout"
        }
      ]
    },
    {
      "cell_type": "code",
      "metadata": {
        "id": "HWBuWjUATHxD",
        "colab_type": "code",
        "colab": {}
      },
      "source": [
        "# Libraries\n",
        "import os\n",
        "import sys\n",
        "import tensorflow as tf\n",
        "import numpy as np\n",
        "import math\n",
        "IntialiseEnv()\n",
        "import import_ipynb\n",
        "import pickle\n",
        "from sklearn.model_selection import train_test_split\n",
        "\n",
        "# from Data_Preparation.Data_Preparation_Croatian import LoadCroatianTrainDataSet\n",
        "# from Data_Preparation.Data_Preparation_Croatian import LoadCroatianTestDataSet"
      ],
      "execution_count": 3,
      "outputs": []
    },
    {
      "cell_type": "markdown",
      "metadata": {
        "id": "TcaReyw1THxK",
        "colab_type": "text"
      },
      "source": [
        "## Use GPU/ CPU Configuration \n",
        "Tensorflow version 2.0\n",
        "Prompt to user if CPU/ GPU is in use with device name"
      ]
    },
    {
      "cell_type": "code",
      "metadata": {
        "id": "Oy0YZtldTHxL",
        "colab_type": "code",
        "colab": {
          "base_uri": "https://localhost:8080/",
          "height": 69
        },
        "outputId": "14e7f620-3270-451a-af5b-431722fa0924"
      },
      "source": [
        "# Use GPU/CPU Configurations\n",
        "\n",
        "import tensorflow as tf\n",
        "print(tf.__version__)\n",
        "print(tf.test.gpu_device_name())\n",
        "print(\"Num GPUs Available: \", len(tf.config.experimental.list_physical_devices('GPU')))"
      ],
      "execution_count": 4,
      "outputs": [
        {
          "output_type": "stream",
          "text": [
            "2.3.0\n",
            "/device:GPU:0\n",
            "Num GPUs Available:  1\n"
          ],
          "name": "stdout"
        }
      ]
    },
    {
      "cell_type": "code",
      "metadata": {
        "id": "HcMnTVG9B4LS",
        "colab_type": "code",
        "colab": {}
      },
      "source": [
        "import cv2\n",
        "from skimage.util import random_noise\n",
        "from skimage import exposure\n",
        "def preprocess_(img):\n",
        "  img=img.reshape(60,60)\n",
        "  img=cv2.blur(img,(2,2))\n",
        "  img=random_noise(img)\n",
        "  v_min, v_max = np.percentile(img, (0.2, 99.8))\n",
        "  img = exposure.rescale_intensity(img, in_range=(v_min, v_max))\n",
        "  # img=exposure.adjust_gamma(img, gamma=0.4, gain=0.9)\n",
        "  \n",
        "  img_final=img.reshape(60,60,1)\n",
        "  return img_final"
      ],
      "execution_count": 5,
      "outputs": []
    },
    {
      "cell_type": "code",
      "metadata": {
        "id": "1XnCNhIOTHxU",
        "colab_type": "code",
        "colab": {}
      },
      "source": [
        "def ReadTrainDataSet():\n",
        "    print(\"Reading Train Pre-processed DataSet\")\n",
        "    processedTrainDataSet = '../DataSet/Processed_DataSet/CroatianTrainDataSet.pkl'\n",
        "    isProcessedTrainDataSetExits= os.path.exists(processedTrainDataSet)\n",
        "    train_image_array, train_image_labels = None, None\n",
        "    train_image_array_final=[]\n",
        "    train_image_labels_final=[]\n",
        "    \n",
        "    if isProcessedTrainDataSetExits:\n",
        "        print(\"Loading Processed Train DataSet from Processed_DataSet/CroatianTrainDataSet.pkl\")\n",
        "        file = open(processedTrainDataSet, 'rb')\n",
        "        train_image_array, train_image_labels = pickle.load(file)\n",
        "        file.close()\n",
        "        print(\"Done Loading Train DataSet.\")\n",
        "        \n",
        "        # for i in range(0,len(train_image_array)):\n",
        "        #   pre_process_img=preprocess_(train_image_array[i])\n",
        "        #   train_image_array_final.append(pre_process_img)\n",
        "        #   train_image_array_final.append(train_image_array[i])\n",
        "        #   # print(train_image_array[i].shape,pre_process_img.shape)\n",
        "        #   train_image_labels_final.append(train_image_labels[i])\n",
        "        #   train_image_labels_final.append(train_image_labels[i])\n",
        "        # train_image_labels_final=np.array(train_image_labels_final)\n",
        "        # train_image_array_final=np.array(train_image_array_final)\n",
        "        \n",
        "\n",
        "\n",
        "        \n",
        "    else:\n",
        "        print(\"Processed_DataSet/CroatianTrainDataSet.pkl file does not exist\")\n",
        "        print(\"Loading Train DataSet ... This may take a while.\")\n",
        "        train_image_array, train_image_labels =  LoadCroatianTrainDataSet()\n",
        "        file = open(processedTrainDataSet, 'wb')\n",
        "        pickle.dump((train_image_array, train_image_labels), file, protocol=4)\n",
        "        file.close()\n",
        "        print(\"Saving pre-processed train DataSets in Processed_DataSet/CroatianTrainDataSet.pkl\")\n",
        "    return train_image_array, train_image_labels"
      ],
      "execution_count": 6,
      "outputs": []
    },
    {
      "cell_type": "code",
      "metadata": {
        "id": "7NesrbLMTHxc",
        "colab_type": "code",
        "colab": {}
      },
      "source": [
        "def ReadTestDataSet():\n",
        "    processedTestDataSet = '../DataSet/Processed_DataSet/CroatianTestDataSet.pkl'\n",
        "    isProcessedTestDataSetExits= os.path.exists(processedTestDataSet)\n",
        "    test_image_array, test_image_labels = None, None\n",
        "    \n",
        "    if isProcessedTestDataSetExits:\n",
        "        print(\"Loading Processed Test DataSet from Processed_DataSet/CroatianTestDataSet.pkl\")\n",
        "        file = open(processedTestDataSet, 'rb')\n",
        "        test_image_array, test_image_labels = pickle.load(file)\n",
        "        file.close()\n",
        "        print(\"Done Loading Test DataSet.\")\n",
        "    else:\n",
        "        print(\"Processed_DataSet/CroatianTestDataSet.pkl file does not exist\")\n",
        "        print(\"Loading Test DataSet ... This may take a while.\")\n",
        "        test_image_array, test_image_labels = LoadCroatianTestDataSet()\n",
        "        file = open(processedTestDataSet, 'wb')\n",
        "        pickle.dump((test_image_array, test_image_labels), file)\n",
        "        file.close()\n",
        "        print(\"Saving pre-processed test DataSets in Processed_DataSet/CroatianTestDataSet.pkl\")\n",
        "    return test_image_array, test_image_labels"
      ],
      "execution_count": 7,
      "outputs": []
    },
    {
      "cell_type": "code",
      "metadata": {
        "id": "nwb9DA_BTHxi",
        "colab_type": "code",
        "colab": {
          "base_uri": "https://localhost:8080/",
          "height": 69
        },
        "outputId": "4eb702df-2e98-402f-bc13-9a690e46d18c"
      },
      "source": [
        "train_image_array, train_image_labels= ReadTrainDataSet()"
      ],
      "execution_count": 8,
      "outputs": [
        {
          "output_type": "stream",
          "text": [
            "Reading Train Pre-processed DataSet\n",
            "Loading Processed Train DataSet from Processed_DataSet/CroatianTrainDataSet.pkl\n",
            "Done Loading Train DataSet.\n"
          ],
          "name": "stdout"
        }
      ]
    },
    {
      "cell_type": "code",
      "metadata": {
        "id": "lg4WjgWaTHxo",
        "colab_type": "code",
        "colab": {
          "base_uri": "https://localhost:8080/",
          "height": 35
        },
        "outputId": "157c7af9-ec4d-4b64-d394-7db7375275ee"
      },
      "source": [
        "print(train_image_array.shape)"
      ],
      "execution_count": 9,
      "outputs": [
        {
          "output_type": "stream",
          "text": [
            "(4044, 60, 60, 1)\n"
          ],
          "name": "stdout"
        }
      ]
    },
    {
      "cell_type": "code",
      "metadata": {
        "id": "xucZh2z0THxt",
        "colab_type": "code",
        "colab": {
          "base_uri": "https://localhost:8080/",
          "height": 52
        },
        "outputId": "52eb5c52-b130-41b7-b66b-828d02f3a57b"
      },
      "source": [
        "test_image_array, test_image_labels= ReadTestDataSet()"
      ],
      "execution_count": 10,
      "outputs": [
        {
          "output_type": "stream",
          "text": [
            "Loading Processed Test DataSet from Processed_DataSet/CroatianTestDataSet.pkl\n",
            "Done Loading Test DataSet.\n"
          ],
          "name": "stdout"
        }
      ]
    },
    {
      "cell_type": "code",
      "metadata": {
        "id": "irXzfe0UTHx1",
        "colab_type": "code",
        "colab": {
          "base_uri": "https://localhost:8080/",
          "height": 35
        },
        "outputId": "7efd9540-79da-421c-b8ab-f6a796cbb2ed"
      },
      "source": [
        "print(test_image_array.shape)"
      ],
      "execution_count": 11,
      "outputs": [
        {
          "output_type": "stream",
          "text": [
            "(1784, 60, 60, 1)\n"
          ],
          "name": "stdout"
        }
      ]
    },
    {
      "cell_type": "markdown",
      "metadata": {
        "id": "cDjTv6ZiTHyL",
        "colab_type": "text"
      },
      "source": [
        "## Train-Split \n",
        "Split Train images dataset into two splits: training and validation respectively 90-10"
      ]
    },
    {
      "cell_type": "code",
      "metadata": {
        "id": "a-q969YRTHyN",
        "colab_type": "code",
        "colab": {}
      },
      "source": [
        "image_train, image_valid,label_train, label_valid = train_test_split(train_image_array, train_image_labels,stratify=train_image_labels,test_size=0.1,random_state=43)"
      ],
      "execution_count": 12,
      "outputs": []
    },
    {
      "cell_type": "code",
      "metadata": {
        "id": "nF2vdbY8THyT",
        "colab_type": "code",
        "colab": {
          "base_uri": "https://localhost:8080/",
          "height": 35
        },
        "outputId": "f7319d75-3e2b-4de7-d12c-ef7a7d1f0dce"
      },
      "source": [
        "print(image_train.shape)"
      ],
      "execution_count": 13,
      "outputs": [
        {
          "output_type": "stream",
          "text": [
            "(3639, 60, 60, 1)\n"
          ],
          "name": "stdout"
        }
      ]
    },
    {
      "cell_type": "code",
      "metadata": {
        "id": "_qdOQZJmTHya",
        "colab_type": "code",
        "colab": {}
      },
      "source": [
        "del train_image_array\n",
        "del train_image_labels"
      ],
      "execution_count": 14,
      "outputs": []
    },
    {
      "cell_type": "markdown",
      "metadata": {
        "id": "Ayljfn89THyf",
        "colab_type": "text"
      },
      "source": [
        "## Hyper-parameters Tuning"
      ]
    },
    {
      "cell_type": "code",
      "metadata": {
        "id": "6hZUbJowTHyg",
        "colab_type": "code",
        "colab": {}
      },
      "source": [
        "# Hyper-parameters tuning\n",
        "kernel_2 = (3,3)\n",
        "pooling = (2,2)\n",
        "dropout = 0.3\n",
        "num_classes = 31"
      ],
      "execution_count": 15,
      "outputs": []
    },
    {
      "cell_type": "markdown",
      "metadata": {
        "id": "sQmS_iLBTHyl",
        "colab_type": "text"
      },
      "source": [
        "## Model Architecture"
      ]
    },
    {
      "cell_type": "code",
      "metadata": {
        "id": "jJvjlvWOTHyn",
        "colab_type": "code",
        "colab": {}
      },
      "source": [
        "import tensorflow as tf\n",
        "import keras\n",
        "\n",
        "from keras.layers import Dense, Dropout, Activation, Flatten, BatchNormalization,SpatialDropout2D\n",
        "from keras.layers import Conv2D, MaxPool2D, Add,AveragePooling2D\n",
        "from keras.models import Sequential\n",
        "from keras.layers import Conv2D, SeparableConv2D,BatchNormalization,Dropout,MaxPool2D,Flatten,Dense\n",
        "from keras.layers import concatenate\n",
        "\n",
        "from keras import initializers\n",
        "from keras import backend as K\n",
        "from keras.layers import Input\n",
        "from keras.models import Model\n",
        "from tensorflow.keras.regularizers import l2"
      ],
      "execution_count": 16,
      "outputs": []
    },
    {
      "cell_type": "code",
      "metadata": {
        "id": "JqkWU3jsTHys",
        "colab_type": "code",
        "colab": {}
      },
      "source": [
        "weight_decay=1E-4\n",
        "from tensorflow.keras.regularizers import l2\n",
        "\n",
        "def model_():\n",
        "    model = None\n",
        "    tf.initializers.Orthogonal(gain=1.0, seed=None)\n",
        "    model=Sequential()\n",
        "\n",
        "    model.add(Conv2D(32,(5,5), input_shape=(60,60,1), strides = 1, padding='valid',activation = tf.nn.relu,kernel_regularizer=l2(0.1)))\n",
        "    model.add(BatchNormalization())\n",
        "    model.add(Conv2D(32,(3,3), activation = tf.nn.relu,kernel_regularizer=l2(0.1)))\n",
        "    model.add(MaxPool2D(pooling))\n",
        "    # model.add(Dropout(0.1))\n",
        "    model.add(BatchNormalization())\n",
        "\n",
        "    model.add(Conv2D(64,(5,5), strides = 1, padding='valid', activation = tf.nn.relu,kernel_regularizer=l2(0.1)))\n",
        "    model.add(BatchNormalization())\n",
        "    model.add(Conv2D(64,(3,3), activation = tf.nn.relu,kernel_regularizer=l2(0.1)))\n",
        "    model.add(MaxPool2D(pooling))\n",
        "    # model.add(Dropout(0.1))\n",
        "    model.add(BatchNormalization())\n",
        "\n",
        "    model.add(Conv2D(256,(5,5), strides = 1, padding='valid', activation = tf.nn.relu,kernel_regularizer=l2(0.1)))\n",
        "    model.add(BatchNormalization())\n",
        "    model.add(Conv2D(256,kernel_2, activation = tf.nn.relu,kernel_regularizer=l2(0.1)))\n",
        "    model.add(MaxPool2D(pooling))\n",
        "    # model.add(Dropout(0.1))\n",
        "    model.add(BatchNormalization())\n",
        "    model.add(Flatten())\n",
        "    model.add(Dense(512, activation = tf.nn.relu,kernel_regularizer=l2(0.1)))\n",
        "    # model.add(Dropout(0.4))\n",
        "    model.add(BatchNormalization())\n",
        "    model.add(Dense(num_classes, activation = 'softmax'))\n",
        "    return model"
      ],
      "execution_count": 17,
      "outputs": []
    },
    {
      "cell_type": "code",
      "metadata": {
        "id": "rTu6FlF1_DWp",
        "colab_type": "code",
        "colab": {}
      },
      "source": [
        "# def model_():\n",
        "#     model = None\n",
        "#     tf.initializers.Orthogonal(gain=1.0, seed=None)\n",
        "#     model=Sequential()\n",
        "\n",
        "#     model.add(Conv2D(16,kernel_2, input_shape=(60,60,1), strides = 1, padding='valid',activation = tf.nn.relu,kernel_regularizer=l2(0.01)))\n",
        "#     model.add(BatchNormalization())\n",
        "#     model.add(Conv2D(32,kernel_2, activation = tf.nn.relu,kernel_regularizer=l2(0.01)))\n",
        "#     model.add(MaxPool2D(pooling))\n",
        "#     # model.add(Dropout(dropout))\n",
        "#     model.add(BatchNormalization())\n",
        "\n",
        "#     model.add(Conv2D(64,kernel_2, strides = 1, padding='valid', activation = tf.nn.relu,kernel_regularizer=l2(0.01)))\n",
        "#     model.add(BatchNormalization())\n",
        "#     model.add(Conv2D(128,kernel_2, activation = tf.nn.relu,kernel_regularizer=l2(0.1)))\n",
        "#     model.add(MaxPool2D(pooling))\n",
        "#     # model.add(Dropout(dropout))\n",
        "#     model.add(BatchNormalization())\n",
        "\n",
        "#     model.add(Conv2D(256,kernel_2, strides = 1, padding='valid', activation = tf.nn.relu,kernel_regularizer=l2(0.1)))\n",
        "#     model.add(BatchNormalization())\n",
        "#     model.add(Conv2D(256,kernel_2, activation = tf.nn.relu,kernel_regularizer=l2(0.1)))\n",
        "#     model.add(MaxPool2D(pooling))\n",
        "#     # model.add(Dropout(dropout))\n",
        "#     model.add(BatchNormalization())\n",
        "#     model.add(Flatten())\n",
        "#     model.add(Dense(512, activation = tf.nn.relu))\n",
        "#     # model.add(Dropout(0.4))\n",
        "#     model.add(Dense(num_classes, activation = 'softmax'))\n",
        "#     return model"
      ],
      "execution_count": 18,
      "outputs": []
    },
    {
      "cell_type": "code",
      "metadata": {
        "id": "fuc_8rERTHyx",
        "colab_type": "code",
        "colab": {}
      },
      "source": [
        "from tensorflow import keras\n",
        "model = model_()"
      ],
      "execution_count": 19,
      "outputs": []
    },
    {
      "cell_type": "markdown",
      "metadata": {
        "id": "Y0wgJBvnTHy0",
        "colab_type": "text"
      },
      "source": [
        "## Model Optimizer "
      ]
    },
    {
      "cell_type": "code",
      "metadata": {
        "id": "RK82asmNelMa",
        "colab_type": "code",
        "colab": {}
      },
      "source": [
        "reduce_lr = tf.keras.callbacks.ReduceLROnPlateau(monitor='loss', factor=0.2,\n",
        "                              patience=2,  verbose=1, min_delta=1e-4, min_lr=1e-20)"
      ],
      "execution_count": 20,
      "outputs": []
    },
    {
      "cell_type": "code",
      "metadata": {
        "id": "NqKXVwUETHy1",
        "colab_type": "code",
        "colab": {}
      },
      "source": [
        "\n",
        "\n",
        "model.compile(optimizer='sgd',\n",
        "              loss='sparse_categorical_crossentropy',\n",
        "              metrics=[tf.keras.metrics.sparse_categorical_accuracy])"
      ],
      "execution_count": 21,
      "outputs": []
    },
    {
      "cell_type": "code",
      "metadata": {
        "id": "Dg8u_6ZgTHy5",
        "colab_type": "code",
        "colab": {}
      },
      "source": [
        "from tensorflow.keras.preprocessing.image import ImageDataGenerator\n",
        "aug = ImageDataGenerator(featurewise_center=False, \n",
        "                            featurewise_std_normalization=False, \n",
        "                            width_shift_range=0.1,\n",
        "                            height_shift_range=0.1,\n",
        "                            zoom_range=0.2,\n",
        "                            shear_range=0.1,\n",
        "                            # preprocessing_function=get_random_eraser(v_l=0, v_h=255),\n",
        "                           \n",
        "                            rotation_range=10.,)"
      ],
      "execution_count": 22,
      "outputs": []
    },
    {
      "cell_type": "code",
      "metadata": {
        "id": "38QMwlN1THy-",
        "colab_type": "code",
        "colab": {}
      },
      "source": [
        "x=aug.flow(image_train, np.array(label_train), batch_size=32)"
      ],
      "execution_count": 23,
      "outputs": []
    },
    {
      "cell_type": "markdown",
      "metadata": {
        "id": "L0Ec91mMTHzE",
        "colab_type": "text"
      },
      "source": [
        "## Model Training"
      ]
    },
    {
      "cell_type": "markdown",
      "metadata": {
        "id": "vQYgiiGTV8-5",
        "colab_type": "text"
      },
      "source": [
        ""
      ]
    },
    {
      "cell_type": "code",
      "metadata": {
        "id": "g5KSafZJTHzG",
        "colab_type": "code",
        "colab": {
          "base_uri": "https://localhost:8080/",
          "height": 1000
        },
        "outputId": "851eee25-f729-4eb2-f492-b1104d134e0b"
      },
      "source": [
        "history = model.fit(x, epochs=30, shuffle=True, validation_data=(image_valid, np.array(label_valid)),verbose=1,callbacks=[reduce_lr])             "
      ],
      "execution_count": 24,
      "outputs": [
        {
          "output_type": "stream",
          "text": [
            "Epoch 1/30\n",
            "114/114 [==============================] - 4s 35ms/step - loss: 97.2760 - sparse_categorical_accuracy: 0.4955 - val_loss: 79.2372 - val_sparse_categorical_accuracy: 0.0321\n",
            "Epoch 2/30\n",
            "114/114 [==============================] - 3s 29ms/step - loss: 61.7337 - sparse_categorical_accuracy: 0.7356 - val_loss: 51.9513 - val_sparse_categorical_accuracy: 0.0321\n",
            "Epoch 3/30\n",
            "114/114 [==============================] - 3s 29ms/step - loss: 39.3600 - sparse_categorical_accuracy: 0.8439 - val_loss: 34.0360 - val_sparse_categorical_accuracy: 0.1333\n",
            "Epoch 4/30\n",
            "114/114 [==============================] - 3s 29ms/step - loss: 25.2516 - sparse_categorical_accuracy: 0.8777 - val_loss: 22.5963 - val_sparse_categorical_accuracy: 0.1877\n",
            "Epoch 5/30\n",
            "114/114 [==============================] - 3s 29ms/step - loss: 16.3057 - sparse_categorical_accuracy: 0.8978 - val_loss: 14.6441 - val_sparse_categorical_accuracy: 0.4790\n",
            "Epoch 6/30\n",
            "114/114 [==============================] - 3s 29ms/step - loss: 10.5989 - sparse_categorical_accuracy: 0.9217 - val_loss: 9.0338 - val_sparse_categorical_accuracy: 0.7852\n",
            "Epoch 7/30\n",
            "114/114 [==============================] - 3s 30ms/step - loss: 7.0468 - sparse_categorical_accuracy: 0.9118 - val_loss: 5.7024 - val_sparse_categorical_accuracy: 0.9333\n",
            "Epoch 8/30\n",
            "114/114 [==============================] - 3s 29ms/step - loss: 4.8381 - sparse_categorical_accuracy: 0.9101 - val_loss: 3.8789 - val_sparse_categorical_accuracy: 0.9531\n",
            "Epoch 9/30\n",
            "114/114 [==============================] - 3s 29ms/step - loss: 3.4314 - sparse_categorical_accuracy: 0.9079 - val_loss: 2.7188 - val_sparse_categorical_accuracy: 0.9704\n",
            "Epoch 10/30\n",
            "114/114 [==============================] - 3s 30ms/step - loss: 2.5192 - sparse_categorical_accuracy: 0.9217 - val_loss: 2.0491 - val_sparse_categorical_accuracy: 0.9630\n",
            "Epoch 11/30\n",
            "114/114 [==============================] - 3s 30ms/step - loss: 1.8503 - sparse_categorical_accuracy: 0.9387 - val_loss: 1.5736 - val_sparse_categorical_accuracy: 0.9506\n",
            "Epoch 12/30\n",
            "114/114 [==============================] - 3s 30ms/step - loss: 1.5394 - sparse_categorical_accuracy: 0.9244 - val_loss: 1.4437 - val_sparse_categorical_accuracy: 0.9407\n",
            "Epoch 13/30\n",
            "114/114 [==============================] - 3s 30ms/step - loss: 1.2677 - sparse_categorical_accuracy: 0.9291 - val_loss: 1.0831 - val_sparse_categorical_accuracy: 0.9605\n",
            "Epoch 14/30\n",
            "114/114 [==============================] - 3s 29ms/step - loss: 1.1705 - sparse_categorical_accuracy: 0.9233 - val_loss: 1.0124 - val_sparse_categorical_accuracy: 0.9630\n",
            "Epoch 15/30\n",
            "114/114 [==============================] - 3s 29ms/step - loss: 1.0173 - sparse_categorical_accuracy: 0.9338 - val_loss: 0.9367 - val_sparse_categorical_accuracy: 0.9630\n",
            "Epoch 16/30\n",
            "114/114 [==============================] - 3s 29ms/step - loss: 0.9491 - sparse_categorical_accuracy: 0.9371 - val_loss: 0.7937 - val_sparse_categorical_accuracy: 0.9827\n",
            "Epoch 17/30\n",
            "114/114 [==============================] - 3s 30ms/step - loss: 0.8955 - sparse_categorical_accuracy: 0.9384 - val_loss: 1.5312 - val_sparse_categorical_accuracy: 0.8173\n",
            "Epoch 18/30\n",
            "114/114 [==============================] - 3s 30ms/step - loss: 0.9062 - sparse_categorical_accuracy: 0.9349 - val_loss: 0.7932 - val_sparse_categorical_accuracy: 0.9580\n",
            "Epoch 19/30\n",
            "114/114 [==============================] - 3s 29ms/step - loss: 0.8015 - sparse_categorical_accuracy: 0.9442 - val_loss: 0.9397 - val_sparse_categorical_accuracy: 0.9235\n",
            "Epoch 20/30\n",
            "114/114 [==============================] - 3s 30ms/step - loss: 0.8394 - sparse_categorical_accuracy: 0.9390 - val_loss: 0.6906 - val_sparse_categorical_accuracy: 0.9802\n",
            "Epoch 21/30\n",
            "114/114 [==============================] - 3s 29ms/step - loss: 0.7996 - sparse_categorical_accuracy: 0.9423 - val_loss: 0.7734 - val_sparse_categorical_accuracy: 0.9556\n",
            "Epoch 22/30\n",
            "114/114 [==============================] - 3s 29ms/step - loss: 0.8114 - sparse_categorical_accuracy: 0.9382 - val_loss: 0.7945 - val_sparse_categorical_accuracy: 0.9481\n",
            "Epoch 23/30\n",
            "114/114 [==============================] - ETA: 0s - loss: 0.8299 - sparse_categorical_accuracy: 0.9412\n",
            "Epoch 00023: ReduceLROnPlateau reducing learning rate to 0.0019999999552965165.\n",
            "114/114 [==============================] - 3s 30ms/step - loss: 0.8299 - sparse_categorical_accuracy: 0.9412 - val_loss: 1.1124 - val_sparse_categorical_accuracy: 0.8840\n",
            "Epoch 24/30\n",
            "114/114 [==============================] - 3s 29ms/step - loss: 0.6512 - sparse_categorical_accuracy: 0.9788 - val_loss: 0.5812 - val_sparse_categorical_accuracy: 0.9901\n",
            "Epoch 25/30\n",
            "114/114 [==============================] - 3s 29ms/step - loss: 0.5621 - sparse_categorical_accuracy: 0.9907 - val_loss: 0.5296 - val_sparse_categorical_accuracy: 0.9877\n",
            "Epoch 26/30\n",
            "114/114 [==============================] - 3s 29ms/step - loss: 0.5074 - sparse_categorical_accuracy: 0.9926 - val_loss: 0.4852 - val_sparse_categorical_accuracy: 0.9951\n",
            "Epoch 27/30\n",
            "114/114 [==============================] - 3s 29ms/step - loss: 0.4691 - sparse_categorical_accuracy: 0.9931 - val_loss: 0.4482 - val_sparse_categorical_accuracy: 0.9951\n",
            "Epoch 28/30\n",
            "114/114 [==============================] - 3s 30ms/step - loss: 0.4240 - sparse_categorical_accuracy: 0.9964 - val_loss: 0.4134 - val_sparse_categorical_accuracy: 0.9926\n",
            "Epoch 29/30\n",
            "114/114 [==============================] - 3s 30ms/step - loss: 0.3876 - sparse_categorical_accuracy: 0.9956 - val_loss: 0.3776 - val_sparse_categorical_accuracy: 0.9951\n",
            "Epoch 30/30\n",
            "114/114 [==============================] - 3s 30ms/step - loss: 0.3573 - sparse_categorical_accuracy: 0.9962 - val_loss: 0.3489 - val_sparse_categorical_accuracy: 0.9926\n"
          ],
          "name": "stdout"
        }
      ]
    },
    {
      "cell_type": "code",
      "metadata": {
        "id": "U8d_oB0b9f-p",
        "colab_type": "code",
        "colab": {
          "base_uri": "https://localhost:8080/",
          "height": 245
        },
        "outputId": "7d643ae0-68b7-4781-c90d-efae48e91638"
      },
      "source": [
        "history = model.fit(x, epochs=5, shuffle=True, validation_data=(image_valid, np.array(label_valid)),verbose=1,callbacks=[reduce_lr])             "
      ],
      "execution_count": 31,
      "outputs": [
        {
          "output_type": "stream",
          "text": [
            "Epoch 1/5\n",
            "114/114 [==============================] - 4s 31ms/step - loss: 0.1865 - sparse_categorical_accuracy: 0.9915 - val_loss: 0.2230 - val_sparse_categorical_accuracy: 0.9852\n",
            "Epoch 2/5\n",
            "114/114 [==============================] - 3s 30ms/step - loss: 0.2055 - sparse_categorical_accuracy: 0.9860 - val_loss: 0.2018 - val_sparse_categorical_accuracy: 0.9778\n",
            "Epoch 3/5\n",
            "114/114 [==============================] - ETA: 0s - loss: 0.2189 - sparse_categorical_accuracy: 0.9832\n",
            "Epoch 00003: ReduceLROnPlateau reducing learning rate to 0.0003999999724328518.\n",
            "114/114 [==============================] - 3s 29ms/step - loss: 0.2189 - sparse_categorical_accuracy: 0.9832 - val_loss: 0.2152 - val_sparse_categorical_accuracy: 0.9852\n",
            "Epoch 4/5\n",
            "114/114 [==============================] - 3s 29ms/step - loss: 0.1842 - sparse_categorical_accuracy: 0.9934 - val_loss: 0.1707 - val_sparse_categorical_accuracy: 0.9951\n",
            "Epoch 5/5\n",
            "114/114 [==============================] - 3s 29ms/step - loss: 0.1726 - sparse_categorical_accuracy: 0.9964 - val_loss: 0.1626 - val_sparse_categorical_accuracy: 0.9975\n"
          ],
          "name": "stdout"
        }
      ]
    },
    {
      "cell_type": "code",
      "metadata": {
        "id": "Iv97eUeA99F8",
        "colab_type": "code",
        "colab": {}
      },
      "source": [
        "history = model.fit(x, epochs=5, shuffle=True, validation_data=(image_valid, np.array(label_valid)),verbose=1,callbacks=[reduce_lr])             "
      ],
      "execution_count": null,
      "outputs": []
    },
    {
      "cell_type": "code",
      "metadata": {
        "id": "T524cczv9xx8",
        "colab_type": "code",
        "colab": {
          "base_uri": "https://localhost:8080/",
          "height": 211
        },
        "outputId": "8ef3d185-60f4-4444-c559-3ead2cc24ea2"
      },
      "source": [
        "history = model.fit(x, epochs=5, shuffle=True, validation_data=(image_valid, np.array(label_valid)),verbose=1,callbacks=[reduce_lr])             "
      ],
      "execution_count": 33,
      "outputs": [
        {
          "output_type": "stream",
          "text": [
            "Epoch 1/5\n",
            "114/114 [==============================] - 3s 30ms/step - loss: 0.1678 - sparse_categorical_accuracy: 0.9967 - val_loss: 0.1596 - val_sparse_categorical_accuracy: 0.9975\n",
            "Epoch 2/5\n",
            "114/114 [==============================] - 3s 30ms/step - loss: 0.1604 - sparse_categorical_accuracy: 0.9984 - val_loss: 0.1595 - val_sparse_categorical_accuracy: 0.9975\n",
            "Epoch 3/5\n",
            "114/114 [==============================] - 3s 29ms/step - loss: 0.1558 - sparse_categorical_accuracy: 0.9986 - val_loss: 0.1575 - val_sparse_categorical_accuracy: 0.9951\n",
            "Epoch 4/5\n",
            "114/114 [==============================] - 3s 30ms/step - loss: 0.1531 - sparse_categorical_accuracy: 0.9981 - val_loss: 0.1536 - val_sparse_categorical_accuracy: 0.9951\n",
            "Epoch 5/5\n",
            "114/114 [==============================] - 3s 29ms/step - loss: 0.1481 - sparse_categorical_accuracy: 0.9989 - val_loss: 0.1516 - val_sparse_categorical_accuracy: 0.9951\n"
          ],
          "name": "stdout"
        }
      ]
    },
    {
      "cell_type": "code",
      "metadata": {
        "id": "KAoYkL8u-Kun",
        "colab_type": "code",
        "colab": {}
      },
      "source": [
        "history = model.fit(x, epochs=5, shuffle=True, validation_data=(image_valid, np.array(label_valid)),verbose=1,callbacks=[reduce_lr])             "
      ],
      "execution_count": null,
      "outputs": []
    },
    {
      "cell_type": "code",
      "metadata": {
        "id": "qLyZt8ZK9-HG",
        "colab_type": "code",
        "colab": {
          "base_uri": "https://localhost:8080/",
          "height": 211
        },
        "outputId": "4dbf6779-b1d3-4320-d929-ad70bb5531ac"
      },
      "source": [
        "history = model.fit(x, epochs=5, shuffle=True, validation_data=(image_valid, np.array(label_valid)),verbose=1,callbacks=[reduce_lr])             "
      ],
      "execution_count": 40,
      "outputs": [
        {
          "output_type": "stream",
          "text": [
            "Epoch 1/5\n",
            "114/114 [==============================] - 3s 30ms/step - loss: 0.1331 - sparse_categorical_accuracy: 0.9997 - val_loss: 0.1379 - val_sparse_categorical_accuracy: 0.9975\n",
            "Epoch 2/5\n",
            "114/114 [==============================] - 3s 30ms/step - loss: 0.1299 - sparse_categorical_accuracy: 1.0000 - val_loss: 0.1360 - val_sparse_categorical_accuracy: 0.9975\n",
            "Epoch 3/5\n",
            "114/114 [==============================] - 3s 30ms/step - loss: 0.1287 - sparse_categorical_accuracy: 0.9986 - val_loss: 0.1441 - val_sparse_categorical_accuracy: 0.9901\n",
            "Epoch 4/5\n",
            "114/114 [==============================] - 3s 30ms/step - loss: 0.1261 - sparse_categorical_accuracy: 0.9992 - val_loss: 0.1335 - val_sparse_categorical_accuracy: 0.9975\n",
            "Epoch 5/5\n",
            "114/114 [==============================] - 3s 30ms/step - loss: 0.1233 - sparse_categorical_accuracy: 0.9997 - val_loss: 0.1301 - val_sparse_categorical_accuracy: 0.9975\n"
          ],
          "name": "stdout"
        }
      ]
    },
    {
      "cell_type": "code",
      "metadata": {
        "id": "gIYNA0-u-Lgc",
        "colab_type": "code",
        "colab": {
          "base_uri": "https://localhost:8080/",
          "height": 141
        },
        "outputId": "62db33ee-2ed7-48e1-8ee9-46441a40bc99"
      },
      "source": [
        "history = model.fit(x, epochs=5, shuffle=True, validation_data=(image_valid, np.array(label_valid)),verbose=1,callbacks=[reduce_lr])             "
      ],
      "execution_count": null,
      "outputs": [
        {
          "output_type": "stream",
          "text": [
            "Epoch 1/5\n",
            "114/114 [==============================] - 3s 30ms/step - loss: 0.0714 - sparse_categorical_accuracy: 1.0000 - val_loss: 0.0822 - val_sparse_categorical_accuracy: 0.9951\n",
            "Epoch 2/5\n",
            "114/114 [==============================] - 3s 29ms/step - loss: 0.0710 - sparse_categorical_accuracy: 1.0000 - val_loss: 0.0824 - val_sparse_categorical_accuracy: 0.9926\n",
            "Epoch 3/5\n",
            " 23/114 [=====>........................] - ETA: 2s - loss: 0.0699 - sparse_categorical_accuracy: 1.0000"
          ],
          "name": "stdout"
        }
      ]
    },
    {
      "cell_type": "markdown",
      "metadata": {
        "id": "zBRcx6heTHzM",
        "colab_type": "text"
      },
      "source": [
        "## Model Evaluation"
      ]
    },
    {
      "cell_type": "code",
      "metadata": {
        "id": "kJGFBQ3J-NXQ",
        "colab_type": "code",
        "colab": {}
      },
      "source": [
        "model.evaluate(test_image_array, np.array(test_image_labels), batch_size=256)"
      ],
      "execution_count": null,
      "outputs": []
    },
    {
      "cell_type": "code",
      "metadata": {
        "id": "BqXxDEZ4-ANR",
        "colab_type": "code",
        "colab": {
          "base_uri": "https://localhost:8080/",
          "height": 52
        },
        "outputId": "174a6eb5-ae4c-4ad1-a6b2-fcff5cb73e5a"
      },
      "source": [
        "model.evaluate(test_image_array, np.array(test_image_labels), batch_size=256)"
      ],
      "execution_count": 41,
      "outputs": [
        {
          "output_type": "stream",
          "text": [
            "7/7 [==============================] - 0s 32ms/step - loss: 0.1437 - sparse_categorical_accuracy: 0.9950\n"
          ],
          "name": "stdout"
        },
        {
          "output_type": "execute_result",
          "data": {
            "text/plain": [
              "[0.14365625381469727, 0.9949551820755005]"
            ]
          },
          "metadata": {
            "tags": []
          },
          "execution_count": 41
        }
      ]
    },
    {
      "cell_type": "code",
      "metadata": {
        "id": "YHv1oxvH1jx6",
        "colab_type": "code",
        "colab": {
          "base_uri": "https://localhost:8080/",
          "height": 52
        },
        "outputId": "f89a1045-e3b1-4dc0-af01-c44a4111737b"
      },
      "source": [
        "model.evaluate(test_image_array, np.array(test_image_labels), batch_size=256)"
      ],
      "execution_count": 34,
      "outputs": [
        {
          "output_type": "stream",
          "text": [
            "7/7 [==============================] - 0s 32ms/step - loss: 0.1669 - sparse_categorical_accuracy: 0.9955\n"
          ],
          "name": "stdout"
        },
        {
          "output_type": "execute_result",
          "data": {
            "text/plain": [
              "[0.16686005890369415, 0.9955157041549683]"
            ]
          },
          "metadata": {
            "tags": []
          },
          "execution_count": 34
        }
      ]
    },
    {
      "cell_type": "code",
      "metadata": {
        "id": "p6EGvxqjF8mk",
        "colab_type": "code",
        "colab": {
          "base_uri": "https://localhost:8080/",
          "height": 166
        },
        "outputId": "706cdeb2-cb0f-466f-b56d-44418cc9db09"
      },
      "source": [
        "xxx"
      ],
      "execution_count": 26,
      "outputs": [
        {
          "output_type": "error",
          "ename": "NameError",
          "evalue": "ignored",
          "traceback": [
            "\u001b[0;31m---------------------------------------------------------------------------\u001b[0m",
            "\u001b[0;31mNameError\u001b[0m                                 Traceback (most recent call last)",
            "\u001b[0;32m<ipython-input-26-38170c08cb45>\u001b[0m in \u001b[0;36m<module>\u001b[0;34m()\u001b[0m\n\u001b[0;32m----> 1\u001b[0;31m \u001b[0mxxx\u001b[0m\u001b[0;34m\u001b[0m\u001b[0;34m\u001b[0m\u001b[0m\n\u001b[0m",
            "\u001b[0;31mNameError\u001b[0m: name 'xxx' is not defined"
          ]
        }
      ]
    },
    {
      "cell_type": "markdown",
      "metadata": {
        "id": "gIyUGX4fTHzR",
        "colab_type": "text"
      },
      "source": [
        "## Visualization"
      ]
    },
    {
      "cell_type": "code",
      "metadata": {
        "id": "P78F9THYTHzS",
        "colab_type": "code",
        "colab": {}
      },
      "source": [
        "import matplotlib.pyplot as plt\n",
        "plt.plot(history.history['sparse_categorical_accuracy'])\n",
        "plt.plot(history.history['val_sparse_categorical_accuracy'])\n",
        "plt.ylabel('accuracy')\n",
        "plt.xlabel('epoch')\n",
        "plt.legend(['train', 'validation'], loc='upper left')\n",
        "plt.show()"
      ],
      "execution_count": null,
      "outputs": []
    },
    {
      "cell_type": "code",
      "metadata": {
        "id": "AjhuW2nWTHzW",
        "colab_type": "code",
        "colab": {}
      },
      "source": [
        "plt.plot(history.history['loss'])\n",
        "plt.plot(history.history['val_loss'])\n",
        "plt.ylabel('loss')\n",
        "plt.xlabel('epoch')\n",
        "plt.legend(['train', 'validation'], loc='upper left')\n",
        "plt.show()"
      ],
      "execution_count": null,
      "outputs": []
    },
    {
      "cell_type": "markdown",
      "metadata": {
        "id": "FngFpjsXTHzZ",
        "colab_type": "text"
      },
      "source": [
        "## Model Summary \n",
        "Number of parameters used in the model architecture"
      ]
    },
    {
      "cell_type": "code",
      "metadata": {
        "id": "XHfSKmEcTHzc",
        "colab_type": "code",
        "colab": {}
      },
      "source": [
        "print(model.summary())"
      ],
      "execution_count": null,
      "outputs": []
    },
    {
      "cell_type": "markdown",
      "metadata": {
        "id": "phBM_WPuTHzg",
        "colab_type": "text"
      },
      "source": [
        "## Saving Trained .h5 Model"
      ]
    },
    {
      "cell_type": "code",
      "metadata": {
        "id": "HNjCliQyTHzh",
        "colab_type": "code",
        "colab": {}
      },
      "source": [
        "def saveCNNModel(model_name):\n",
        "    model.save(model_name)"
      ],
      "execution_count": 35,
      "outputs": []
    },
    {
      "cell_type": "code",
      "metadata": {
        "id": "e2RME079THzk",
        "colab_type": "code",
        "colab": {}
      },
      "source": [
        "saveCNNModel('Trained_Models/Croatian_Winning_99_55_.h5')"
      ],
      "execution_count": 37,
      "outputs": []
    },
    {
      "cell_type": "code",
      "metadata": {
        "id": "HYr5UPITTHzo",
        "colab_type": "code",
        "colab": {}
      },
      "source": [
        "model._set_inputs(image_train,np.array(label_train))"
      ],
      "execution_count": null,
      "outputs": []
    },
    {
      "cell_type": "markdown",
      "metadata": {
        "id": "h7hzL2wdTHzr",
        "colab_type": "text"
      },
      "source": [
        "## Loading Saved Trained .h5 Model"
      ]
    },
    {
      "cell_type": "code",
      "metadata": {
        "id": "E-hjEIw8THzt",
        "colab_type": "code",
        "colab": {}
      },
      "source": [
        "del model"
      ],
      "execution_count": null,
      "outputs": []
    },
    {
      "cell_type": "code",
      "metadata": {
        "id": "HtTAFeDGTHzx",
        "colab_type": "code",
        "colab": {}
      },
      "source": [
        "def load_model():\n",
        "    Model = tf.keras.models.load_model('Trained_Models/Croatian_Winning_99_27.h5')\n",
        "    return Model"
      ],
      "execution_count": null,
      "outputs": []
    },
    {
      "cell_type": "code",
      "metadata": {
        "id": "CrQFJlGBTHz0",
        "colab_type": "code",
        "colab": {}
      },
      "source": [
        "model= load_model()"
      ],
      "execution_count": null,
      "outputs": []
    },
    {
      "cell_type": "code",
      "metadata": {
        "id": "TQQOHjXWTHz3",
        "colab_type": "code",
        "colab": {}
      },
      "source": [
        "model.compile(optimizer='sgd',\n",
        "              loss='sparse_categorical_crossentropy',\n",
        "              metrics=[tf.keras.metrics.sparse_categorical_accuracy])"
      ],
      "execution_count": null,
      "outputs": []
    },
    {
      "cell_type": "markdown",
      "metadata": {
        "id": "2lRb1yZeTHz6",
        "colab_type": "text"
      },
      "source": [
        "## Computation Avg. Processing Time"
      ]
    },
    {
      "cell_type": "code",
      "metadata": {
        "id": "Ch1eEhDJTHz8",
        "colab_type": "code",
        "colab": {}
      },
      "source": [
        "import time\n",
        "t1=time.time()\n",
        "model.predict(test_image_array)\n",
        "t2=time.time()\n",
        "print(\"Average Processing time: \", ((t2-t1)/12630)*1000, \" ms\")"
      ],
      "execution_count": null,
      "outputs": []
    }
  ]
}