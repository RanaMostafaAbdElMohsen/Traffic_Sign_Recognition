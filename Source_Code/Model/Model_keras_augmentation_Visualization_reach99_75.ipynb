{
  "nbformat": 4,
  "nbformat_minor": 0,
  "metadata": {
    "accelerator": "GPU",
    "colab": {
      "name": "Model_keras_augmentation_Visualization_reach99_75.ipynb",
      "provenance": [],
      "collapsed_sections": []
    },
    "kernelspec": {
      "display_name": "Python 3",
      "language": "python",
      "name": "python3"
    },
    "language_info": {
      "codemirror_mode": {
        "name": "ipython",
        "version": 3
      },
      "file_extension": ".py",
      "mimetype": "text/x-python",
      "name": "python",
      "nbconvert_exporter": "python",
      "pygments_lexer": "ipython3",
      "version": "3.6.8"
    }
  },
  "cells": [
    {
      "cell_type": "markdown",
      "metadata": {
        "id": "i3Y2yu4E_z3L",
        "colab_type": "text"
      },
      "source": [
        "# Traffic Sign Recognition Model\n",
        "## Environment Initialisation"
      ]
    },
    {
      "cell_type": "code",
      "metadata": {
        "id": "4o-kPkjb_z3O",
        "colab_type": "code",
        "colab": {}
      },
      "source": [
        "def IntialiseEnv():\n",
        "    nb_dir = os.path.split(os.getcwd())[0]\n",
        "    if nb_dir not in sys.path:\n",
        "        sys.path.append(nb_dir)"
      ],
      "execution_count": null,
      "outputs": []
    },
    {
      "cell_type": "code",
      "metadata": {
        "id": "feZ1r8FDANsA",
        "colab_type": "code",
        "colab": {
          "base_uri": "https://localhost:8080/",
          "height": 69
        },
        "outputId": "a6027fa0-8168-4a0b-f641-4b2659a452fd"
      },
      "source": [
        "from google.colab import drive\n",
        "drive.mount('/content/drive')\n",
        "import os\n",
        "os.chdir(\"/content/drive/\")\n",
        "!ls\n",
        "import os\n",
        "os.chdir(\"/content/drive/My Drive/[ Masters ] - Deep Learning Proj/Model\")\n",
        "!pip install import_ipynb"
      ],
      "execution_count": null,
      "outputs": [
        {
          "output_type": "stream",
          "text": [
            "Drive already mounted at /content/drive; to attempt to forcibly remount, call drive.mount(\"/content/drive\", force_remount=True).\n",
            "'My Drive'\n",
            "Requirement already satisfied: import_ipynb in /usr/local/lib/python3.6/dist-packages (0.1.3)\n"
          ],
          "name": "stdout"
        }
      ]
    },
    {
      "cell_type": "code",
      "metadata": {
        "colab_type": "code",
        "id": "46MrgoVG_fv3",
        "colab": {}
      },
      "source": [
        "# Libraries\n",
        "import os\n",
        "import sys\n",
        "import tensorflow as tf\n",
        "import numpy as np\n",
        "import math\n",
        "IntialiseEnv()\n",
        "import import_ipynb\n",
        "import pickle\n",
        "from sklearn.model_selection import train_test_split\n",
        "\n",
        "# from Data_Preparation.Data_Preparation import LoadTrainDataSetWithAugmentation\n",
        "# from Data_Preparation.Data_Preparation import LoadTrainDataSet\n",
        "# from Data_Preparation.Data_Preparation import LoadTestDataSet"
      ],
      "execution_count": null,
      "outputs": []
    },
    {
      "cell_type": "markdown",
      "metadata": {
        "id": "d_TRLKPg_z3l",
        "colab_type": "text"
      },
      "source": [
        "## Use GPU/ CPU Configuration \n",
        "Tensorflow version 2.0\n",
        "Prompt to user if CPU/ GPU is in use with device name"
      ]
    },
    {
      "cell_type": "code",
      "metadata": {
        "colab_type": "code",
        "id": "_9HpzHne_fwD",
        "colab": {
          "base_uri": "https://localhost:8080/",
          "height": 69
        },
        "outputId": "19d47234-bb9c-4d8f-ba67-2a75eb26157a"
      },
      "source": [
        "# Use GPU/CPU Configurations\n",
        "\n",
        "import tensorflow as tf\n",
        "print(tf.__version__)\n",
        "print(tf.test.gpu_device_name())\n",
        "print(\"Num GPUs Available: \", len(tf.config.experimental.list_physical_devices('GPU')))"
      ],
      "execution_count": null,
      "outputs": [
        {
          "output_type": "stream",
          "text": [
            "2.3.0\n",
            "/device:GPU:0\n",
            "Num GPUs Available:  1\n"
          ],
          "name": "stdout"
        }
      ]
    },
    {
      "cell_type": "markdown",
      "metadata": {
        "id": "KlaazRm8_z3w",
        "colab_type": "text"
      },
      "source": [
        "## Reading DataSet\n",
        "Pre-processing and Loading Train and Test DataSet respectively"
      ]
    },
    {
      "cell_type": "code",
      "metadata": {
        "id": "ofBOmEtu_z3x",
        "colab_type": "code",
        "colab": {}
      },
      "source": [
        "def ReadTrainDataSet():\n",
        "    print(\"Reading Train Pre-processed DataSet\")\n",
        "    processedTrainDataSet = '/content/drive/My Drive/[ Masters ] - Deep Learning Proj/DataSet/Processed_DataSet/GermanTrainDataSet.pkl'\n",
        "    isProcessedTrainDataSetExits= os.path.exists(processedTrainDataSet)\n",
        "    train_image_array, train_image_labels = None, None\n",
        "    \n",
        "    if isProcessedTrainDataSetExits:\n",
        "        print(\"Loading Processed Train DataSet from Processed_DataSet/TrainDataSet.pkl\")\n",
        "        file = open(processedTrainDataSet, 'rb')\n",
        "        train_image_array, train_image_labels = pickle.load(file)\n",
        "        file.close()\n",
        "        print(\"Done Loading Train DataSet.\")\n",
        "    else:\n",
        "        print(\"Processed_DataSet/TrainDataSet.pkl file does not exist\")\n",
        "        print(\"Loading Train DataSet ... This may take a while.\")\n",
        "        train_image_array, train_image_labels =  LoadTrainDataSetWithAugmentation()\n",
        "        file = open(processedTrainDataSet, 'wb')\n",
        "        pickle.dump((train_image_array, train_image_labels), file, protocol=4)\n",
        "        file.close()\n",
        "        print(\"Saving pre-processed train DataSets in Processed_DataSet/TrainDataSet.pkl\")\n",
        "    return train_image_array, train_image_labels    "
      ],
      "execution_count": null,
      "outputs": []
    },
    {
      "cell_type": "code",
      "metadata": {
        "id": "37crCI5F_z34",
        "colab_type": "code",
        "colab": {}
      },
      "source": [
        "def ReadTestDataSet():\n",
        "    processedTestDataSet = '/content/drive/My Drive/[ Masters ] - Deep Learning Proj/DataSet/Processed_DataSet/GermanTestDataSet.pkl'\n",
        "    isProcessedTestDataSetExits= os.path.exists(processedTestDataSet)\n",
        "    test_image_array, test_image_labels = None, None\n",
        "    \n",
        "    if isProcessedTestDataSetExits:\n",
        "        print(\"Loading Processed Test DataSet from Processed_DataSet/GermanTestDataSet.pkl\")\n",
        "        file = open(processedTestDataSet, 'rb')\n",
        "        test_image_array, test_image_labels = pickle.load(file)\n",
        "        file.close()\n",
        "        print(\"Done Loading Test DataSet.\")\n",
        "    else:\n",
        "        print(\"Processed_DataSet/TestDataSet.pkl file does not exist\")\n",
        "        print(\"Loading Test DataSet ... This may take a while.\")\n",
        "        test_image_array, test_image_labels = LoadTestDataSet()\n",
        "        file = open(processedTestDataSet, 'wb')\n",
        "        pickle.dump((test_image_array, test_image_labels), file)\n",
        "        file.close()\n",
        "        print(\"Saving pre-processed test DataSets in Processed_DataSet/TestDataSet.pkl\")\n",
        "    return test_image_array, test_image_labels"
      ],
      "execution_count": null,
      "outputs": []
    },
    {
      "cell_type": "code",
      "metadata": {
        "id": "M5UOSE8L_z4B",
        "colab_type": "code",
        "colab": {
          "base_uri": "https://localhost:8080/",
          "height": 69
        },
        "outputId": "20c07279-2336-4e21-c7c7-e42ec76c3aad"
      },
      "source": [
        "train_image_array, train_image_labels= ReadTrainDataSet()"
      ],
      "execution_count": null,
      "outputs": [
        {
          "output_type": "stream",
          "text": [
            "Reading Train Pre-processed DataSet\n",
            "Loading Processed Train DataSet from Processed_DataSet/TrainDataSet.pkl\n",
            "Done Loading Train DataSet.\n"
          ],
          "name": "stdout"
        }
      ]
    },
    {
      "cell_type": "code",
      "metadata": {
        "id": "8b9L2UHsGqV_",
        "colab_type": "code",
        "colab": {
          "base_uri": "https://localhost:8080/",
          "height": 35
        },
        "outputId": "96fcccfa-8e8e-4f99-c9fc-c3d32f0aa5e9"
      },
      "source": [
        "print(train_image_array.shape)"
      ],
      "execution_count": null,
      "outputs": [
        {
          "output_type": "stream",
          "text": [
            "(39209, 3600)\n"
          ],
          "name": "stdout"
        }
      ]
    },
    {
      "cell_type": "code",
      "metadata": {
        "id": "V5DKs2LHxziY",
        "colab_type": "code",
        "colab": {
          "base_uri": "https://localhost:8080/",
          "height": 35
        },
        "outputId": "758c5943-0a3c-4ee0-e6bd-1881561d67ad"
      },
      "source": [
        "print(train_image_array.shape)"
      ],
      "execution_count": null,
      "outputs": [
        {
          "output_type": "stream",
          "text": [
            "(39209, 3600)\n"
          ],
          "name": "stdout"
        }
      ]
    },
    {
      "cell_type": "code",
      "metadata": {
        "id": "lFEi3wG0_z4I",
        "colab_type": "code",
        "colab": {
          "base_uri": "https://localhost:8080/",
          "height": 52
        },
        "outputId": "036d7723-295d-4059-9621-090bd91c6fc7"
      },
      "source": [
        "test_image_array, test_image_labels= ReadTestDataSet()"
      ],
      "execution_count": null,
      "outputs": [
        {
          "output_type": "stream",
          "text": [
            "Loading Processed Test DataSet from Processed_DataSet/GermanTestDataSet.pkl\n",
            "Done Loading Test DataSet.\n"
          ],
          "name": "stdout"
        }
      ]
    },
    {
      "cell_type": "code",
      "metadata": {
        "id": "YKqhPBJdxQQn",
        "colab_type": "code",
        "colab": {
          "base_uri": "https://localhost:8080/",
          "height": 35
        },
        "outputId": "9f4564b0-9b6a-4b03-cbd8-6d5fb31aca7e"
      },
      "source": [
        "print(test_image_array.shape)"
      ],
      "execution_count": null,
      "outputs": [
        {
          "output_type": "stream",
          "text": [
            "(12630, 60, 60, 1)\n"
          ],
          "name": "stdout"
        }
      ]
    },
    {
      "cell_type": "markdown",
      "metadata": {
        "id": "NLgSph0z_z4Q",
        "colab_type": "text"
      },
      "source": [
        "## Train-Split \n",
        "Split Train images dataset into two splits: training and validation respectively 80-20"
      ]
    },
    {
      "cell_type": "code",
      "metadata": {
        "id": "iahsbIcO_z4R",
        "colab_type": "code",
        "colab": {}
      },
      "source": [
        "image_train, image_valid,label_train, label_valid = train_test_split(train_image_array, train_image_labels,stratify=train_image_labels,test_size=0.1,random_state=43)"
      ],
      "execution_count": null,
      "outputs": []
    },
    {
      "cell_type": "code",
      "metadata": {
        "id": "33JGRj_HyYUW",
        "colab_type": "code",
        "colab": {
          "base_uri": "https://localhost:8080/",
          "height": 35
        },
        "outputId": "033da574-0400-48e1-adaf-20695783e4ce"
      },
      "source": [
        "print(image_train.shape)"
      ],
      "execution_count": null,
      "outputs": [
        {
          "output_type": "stream",
          "text": [
            "(35288, 3600)\n"
          ],
          "name": "stdout"
        }
      ]
    },
    {
      "cell_type": "code",
      "metadata": {
        "id": "CCMuoCajXHk2",
        "colab_type": "code",
        "colab": {}
      },
      "source": [
        "del train_image_array\n",
        "del train_image_labels"
      ],
      "execution_count": null,
      "outputs": []
    },
    {
      "cell_type": "code",
      "metadata": {
        "id": "O8u03780M4eP",
        "colab_type": "code",
        "colab": {}
      },
      "source": [
        "from keras.layers import Dense, Dropout, Activation, Flatten, BatchNormalization,ELU\n",
        "from keras.layers import Conv2D, MaxPool2D, AveragePooling2D \n",
        "from keras.models import Sequential\n",
        "from keras.engine.topology import Layer\n",
        "class Residual(Layer):\n",
        "    def __init__(self, channels_in,kernel,**kwargs):\n",
        "        super(Residual, self).__init__(**kwargs)\n",
        "        self.channels_in = channels_in\n",
        "        self.kernel = kernel\n",
        "\n",
        "    def call(self, x):\n",
        "        # the residual block using Keras functional API\n",
        "        first_layer =Activation(\"linear\", trainable=False)(x)\n",
        "        x = Conv2D(self.channels_in,self.kernel, padding=\"same\")(first_layer)\n",
        "        x = Activation(\"relu\")(x)\n",
        "        x = Conv2D(self.channels_in,self.kernel,padding=\"same\")(x)\n",
        "        residual= Add()([x, first_layer])\n",
        "        x = Activation(\"relu\")(residual)\n",
        "        return x\n",
        "\n",
        "    def compute_output_shape(self, input_shape):\n",
        "        return input_shape"
      ],
      "execution_count": null,
      "outputs": []
    },
    {
      "cell_type": "markdown",
      "metadata": {
        "id": "Eg7ErT8V_z4X",
        "colab_type": "text"
      },
      "source": [
        "## Hyper-parameters Tuning"
      ]
    },
    {
      "cell_type": "code",
      "metadata": {
        "colab_type": "code",
        "id": "9TzbUr1R_fwU",
        "colab": {}
      },
      "source": [
        "# Hyper-parameters tuning\n",
        "kernel_2 = (3,3)\n",
        "pooling = (2,2)\n",
        "dropout = 0.2\n",
        "num_classes = 43"
      ],
      "execution_count": null,
      "outputs": []
    },
    {
      "cell_type": "markdown",
      "metadata": {
        "id": "8Xkwm4jG_z4f",
        "colab_type": "text"
      },
      "source": [
        "## Model Architecture"
      ]
    },
    {
      "cell_type": "code",
      "metadata": {
        "colab_type": "code",
        "id": "6ffabeJEFcdk",
        "colab": {}
      },
      "source": [
        "weight_decay=1E-4\n",
        "from keras.regularizers import l2\n",
        "\n",
        "def model_():\n",
        "  \n",
        "    model = None\n",
        "    tf.initializers.Orthogonal(gain=1.0, seed=None)\n",
        "    model=Sequential()\n",
        "\n",
        "\n",
        "    model.add(Conv2D(32,kernel_2, input_shape=(60,60,1), strides = 1, padding='valid',activation = tf.nn.relu,kernel_regularizer=l2(0.01)))\n",
        "    model.add(BatchNormalization())\n",
        "    model.add(Conv2D(32,kernel_2, activation = tf.nn.relu,kernel_regularizer=l2(0.01)))\n",
        "    model.add(MaxPool2D(pooling))\n",
        "    model.add(Dropout(dropout))\n",
        "    model.add(BatchNormalization())\n",
        "\n",
        "    model.add(Conv2D(128,kernel_2, strides = 1, padding='valid', activation = tf.nn.relu,kernel_regularizer=l2(0.01)))\n",
        "    model.add(BatchNormalization())\n",
        "    model.add(Conv2D(128,kernel_2, activation = tf.nn.relu,kernel_regularizer=l2(0.01)))\n",
        "    model.add(MaxPool2D(pooling))\n",
        "    model.add(Dropout(dropout))\n",
        "    model.add(BatchNormalization())\n",
        "\n",
        "    model.add(Conv2D(256,kernel_2, strides = 1, padding='valid', activation = tf.nn.relu,kernel_regularizer=l2(0.01)))\n",
        "    model.add(BatchNormalization())\n",
        "    model.add(Conv2D(256,kernel_2, activation = tf.nn.relu,kernel_regularizer=l2(0.01)))\n",
        "    model.add(MaxPool2D(pooling))\n",
        "    model.add(Dropout(dropout))\n",
        "    model.add(BatchNormalization())\n",
        "    model.add(Flatten())\n",
        "    model.add(Dense(512, activation = tf.nn.relu))\n",
        "    model.add(Dropout(0.4))\n",
        "    model.add(Dense(num_classes, activation = 'softmax'))\n",
        "    return model"
      ],
      "execution_count": null,
      "outputs": []
    },
    {
      "cell_type": "markdown",
      "metadata": {
        "id": "-f47EfzP_z4m",
        "colab_type": "text"
      },
      "source": [
        "## Model Optimizer "
      ]
    },
    {
      "cell_type": "code",
      "metadata": {
        "id": "N8xAk2-Nb6Nc",
        "colab_type": "code",
        "colab": {}
      },
      "source": [
        "from keras.callbacks import Callback\n",
        "\n",
        "class TerminateOnBaseline(Callback):\n",
        "    \"\"\"Callback that terminates training when either acc or val_acc reaches a specified baseline\n",
        "    \"\"\"\n",
        "    def __init__(self, monitor='val_acc', baseline=0.9):\n",
        "        super(TerminateOnBaseline, self).__init__()\n",
        "        self.monitor = monitor\n",
        "        self.baseline = baseline\n",
        "\n",
        "    def on_epoch_end(self, epoch, logs=None):\n",
        "        logs = logs or {}\n",
        "        acc = logs.get(self.monitor)\n",
        "        if acc is not None:\n",
        "            if acc >= self.baseline:\n",
        "                print('Epoch %d: Reached baseline, terminating training' % (epoch))\n",
        "                self.model.stop_training = True"
      ],
      "execution_count": null,
      "outputs": []
    },
    {
      "cell_type": "code",
      "metadata": {
        "id": "eoeeSG_szT2e",
        "colab_type": "code",
        "colab": {}
      },
      "source": [
        "# class BatchEarlyStopping(Callback):\n",
        "#     \"\"\"Stop training when a monitored quantity has stopped improving.\n",
        "#     # Arguments\n",
        "#         monitor: quantity to be monitored.\n",
        "#         min_delta: minimum change in the monitored quantity\n",
        "#             to qualify as an improvement, i.e. an absolute\n",
        "#             change of less than min_delta, will count as no\n",
        "#             improvement.\n",
        "#         patience: number of batches with no improvement\n",
        "#             after which training will be stopped.\n",
        "#         verbose: verbosity mode.\n",
        "#         mode: one of {auto, min, max}. In `min` mode,\n",
        "#             training will stop when the quantity\n",
        "#             monitored has stopped decreasing; in `max`\n",
        "#             mode it will stop when the quantity\n",
        "#             monitored has stopped increasing; in `auto`\n",
        "#             mode, the direction is automatically inferred\n",
        "#             from the name of the monitored quantity.\n",
        "#         baseline: Baseline value for the monitored quantity to reach.\n",
        "#             Training will stop if the model doesn't show improvement\n",
        "#             over the baseline.\n",
        "#         restore_best_weights: whether to restore model weights from\n",
        "#             the batch with the best value of the monitored quantity.\n",
        "#             If False, the model weights obtained at the last step of\n",
        "#             training are used.\n",
        "#     \"\"\"\n",
        "\n",
        "#     def __init__(self,\n",
        "#                  monitor='acc',\n",
        "#                  min_delta=0,\n",
        "#                  patience=0,\n",
        "#                  verbose=0,\n",
        "#                  mode='auto',\n",
        "#                  baseline=None,\n",
        "#                  restore_best_weights=False):\n",
        "#         super(BatchEarlyStopping, self).__init__()\n",
        "\n",
        "#         self.monitor = monitor\n",
        "#         self.baseline = baseline\n",
        "#         self.patience = patience\n",
        "#         self.verbose = verbose\n",
        "#         self.min_delta = min_delta\n",
        "#         self.wait = 0\n",
        "#         self.stopped_batch = 0\n",
        "#         self.restore_best_weights = restore_best_weights\n",
        "#         self.best_weights = None\n",
        "\n",
        "#         if mode not in ['auto', 'min', 'max']:\n",
        "#             warnings.warn('BatchEarlyStopping mode %s is unknown, '\n",
        "#                           'fallback to auto mode.' % mode,\n",
        "#                           RuntimeWarning)\n",
        "#             mode = 'auto'\n",
        "\n",
        "#         if mode == 'min':\n",
        "#             self.monitor_op = np.less\n",
        "#         elif mode == 'max':\n",
        "#             self.monitor_op = np.greater\n",
        "#         else:\n",
        "#             if 'acc' in self.monitor:\n",
        "#                 self.monitor_op = np.greater\n",
        "#             else:\n",
        "#                 self.monitor_op = np.less\n",
        "\n",
        "#         if self.monitor_op == np.greater:\n",
        "#             self.min_delta *= 1\n",
        "#         else:\n",
        "#             self.min_delta *= -1\n",
        "\n",
        "#     def on_train_begin(self, logs=None):\n",
        "#         # Allow instances to be re-used\n",
        "#         self.wait = 0\n",
        "#         self.stopped_batch = 0\n",
        "#         if self.baseline is not None:\n",
        "#             self.best = self.baseline\n",
        "#         else:\n",
        "#             self.best = np.Inf if self.monitor_op == np.less else -np.Inf\n",
        "\n",
        "#     def on_batch_end(self, batch, logs=None):\n",
        "#         current = self.get_monitor_value(logs)\n",
        "#         if current is None:\n",
        "#             return\n",
        "\n",
        "#         if self.monitor_op(current - self.min_delta, self.best):\n",
        "#             self.best = current\n",
        "#             self.wait = 0\n",
        "#             if self.restore_best_weights:\n",
        "#                 self.best_weights = self.model.get_weights()\n",
        "#         else:\n",
        "#             self.wait += 1\n",
        "#             if self.wait >= self.patience:\n",
        "#                 self.stopped_batch = batch\n",
        "#                 self.model.stop_training = True\n",
        "#                 if self.restore_best_weights:\n",
        "#                     if self.verbose > 0:\n",
        "#                         print('Restoring model weights from the end of '\n",
        "#                               'the best batch')\n",
        "#                     self.model.set_weights(self.best_weights)\n",
        "\n",
        "#     def on_train_end(self, logs=None):\n",
        "#         if self.stopped_batch > 0 and self.verbose > 0:\n",
        "#             print('Batch %05d: early stopping' % (self.stopped_batch + 1))\n",
        "\n",
        "#     def get_monitor_value(self, logs):\n",
        "#         monitor_value = logs.get(self.monitor)\n",
        "#         if monitor_value is None:\n",
        "#             warnings.warn(\n",
        "#                 'Early stopping conditioned on metric `%s` '\n",
        "#                 'which is not available. Available metrics are: %s' %\n",
        "#                 (self.monitor, ','.join(list(logs.keys()))), RuntimeWarning\n",
        "#             )\n",
        "#         return monitor_value"
      ],
      "execution_count": null,
      "outputs": []
    },
    {
      "cell_type": "code",
      "metadata": {
        "id": "0aBa7Pnj-Amk",
        "colab_type": "code",
        "colab": {}
      },
      "source": [
        "class BatchEarlyStopping(Callback):\n",
        "    def __init__(self, monitor='loss',\n",
        "                 min_delta=0, patience=0, verbose=0, mode='auto',baseline=0.04):\n",
        "        super(BatchEarlyStopping, self).__init__()\n",
        "        self.monitor = monitor\n",
        "        self.patience = patience\n",
        "        self.verbose = verbose\n",
        "        self.baseline = baseline\n",
        "        self.min_delta = min_delta\n",
        "        self.wait = 0\n",
        "        self.stopped_batch = 0\n",
        "        if mode not in ['auto', 'min', 'max']:\n",
        "            warnings.warn('BatchEarlyStopping mode %s is unknown, '\n",
        "                          'fallback to auto mode.' % mode,\n",
        "                          RuntimeWarning)\n",
        "            mode = 'auto'\n",
        "        if mode == 'min':\n",
        "            self.monitor_op = np.less\n",
        "        elif mode == 'max':\n",
        "            self.monitor_op = np.greater\n",
        "        else:\n",
        "            if 'acc' in self.monitor:\n",
        "                self.monitor_op = np.greater\n",
        "            else:\n",
        "                self.monitor_op = np.less\n",
        "        if self.monitor_op == np.greater:\n",
        "            self.min_delta *= 1\n",
        "        else:\n",
        "            self.min_delta *= -1\n",
        "    def on_train_begin(self, logs=None):\n",
        "      # Allow instances to be re-used\n",
        "      self.wait = 0\n",
        "      self.stopped_batch = 0\n",
        "      if self.baseline is not None:\n",
        "          self.best = self.baseline\n",
        "      else:\n",
        "          self.best = np.Inf if self.monitor_op == np.less else -np.Inf\n",
        "    def on_batch_end(self, batch, logs=None):\n",
        "        current = logs.get(self.monitor)\n",
        "        # print('loss ',current,' for batch',batch)\n",
        "\n",
        "        if current is None:\n",
        "            warnings.warn(\n",
        "                'Batch Early stopping conditioned on metric `%s` '\n",
        "                'which is not available. Available metrics are: %s' %\n",
        "                (self.monitor, ','.join(list(logs.keys()))), RuntimeWarning\n",
        "            )\n",
        "            return\n",
        "        if self.monitor_op(current - self.min_delta, self.best):\n",
        "            self.best = current\n",
        "            self.wait = 0\n",
        "        else:\n",
        "          # print('loss',current)\n",
        "          self.wait += 1\n",
        "          if self.wait >= self.patience:\n",
        "              self.stopped_batch = batch\n",
        "              self.model.stop_training = True\n",
        "    def on_train_end(self, logs=None):\n",
        "        if self.stopped_batch > 0 and self.verbose > 0:\n",
        "            print('Batch %05d: early stopping' % (self.stopped_batch + 1))"
      ],
      "execution_count": null,
      "outputs": []
    },
    {
      "cell_type": "code",
      "metadata": {
        "id": "aqFrLaAQ_z4o",
        "colab_type": "code",
        "colab": {}
      },
      "source": [
        "from tensorflow import keras\n",
        "model = model_()\n",
        "\n",
        "\n",
        "reduce_lr = tf.keras.callbacks.ReduceLROnPlateau(monitor='loss', factor=0.2,\n",
        "                              patience=2,  verbose=1, min_delta=1e-4, min_lr=1e-20)\n",
        "# optimizer = keras.optimizers.Adadelta()\n",
        "\n",
        "model.compile(optimizer='sgd',\n",
        "              loss='sparse_categorical_crossentropy',\n",
        "              metrics=[tf.keras.metrics.sparse_categorical_accuracy])"
      ],
      "execution_count": null,
      "outputs": []
    },
    {
      "cell_type": "code",
      "metadata": {
        "id": "V3BuZESstQh6",
        "colab_type": "code",
        "colab": {}
      },
      "source": [
        "from tensorflow.keras.preprocessing.image import ImageDataGenerator\n",
        "aug = ImageDataGenerator(featurewise_center=False, \n",
        "                            featurewise_std_normalization=False, \n",
        "                            width_shift_range=0.1,\n",
        "                            height_shift_range=0.1,\n",
        "                            zoom_range=0.2,\n",
        "                            shear_range=0.1,\n",
        "                            rotation_range=10.,)"
      ],
      "execution_count": null,
      "outputs": []
    },
    {
      "cell_type": "code",
      "metadata": {
        "id": "Nl4T2E0ztXRJ",
        "colab_type": "code",
        "colab": {}
      },
      "source": [
        "x=aug.flow(image_train.reshape(image_train.shape[0],60,60,1), np.array(label_train), batch_size=32)"
      ],
      "execution_count": null,
      "outputs": []
    },
    {
      "cell_type": "markdown",
      "metadata": {
        "id": "JXiLRRAC_z4x",
        "colab_type": "text"
      },
      "source": [
        "## Model Training"
      ]
    },
    {
      "cell_type": "code",
      "metadata": {
        "id": "vS8Kve89zwFq",
        "colab_type": "code",
        "colab": {}
      },
      "source": [
        "import warnings"
      ],
      "execution_count": null,
      "outputs": []
    },
    {
      "cell_type": "code",
      "metadata": {
        "id": "cg5E0iKZ0ucp",
        "colab_type": "code",
        "colab": {
          "base_uri": "https://localhost:8080/",
          "height": 1000
        },
        "outputId": "edac603b-9d31-4e0d-f0df-821f1d264d12"
      },
      "source": [
        "history = model.fit(x, epochs=80, validation_data=(image_valid.reshape(image_valid.shape[0],60,60,1), np.array(label_valid)), callbacks=[reduce_lr,TerminateOnBaseline(monitor='val_accuracy', baseline=0.9997)],shuffle=True )"
      ],
      "execution_count": null,
      "outputs": [
        {
          "output_type": "stream",
          "text": [
            "Epoch 1/80\n",
            "1103/1103 [==============================] - 22s 20ms/step - loss: 6.8855 - sparse_categorical_accuracy: 0.5443 - val_loss: 4.5429 - val_sparse_categorical_accuracy: 0.9174\n",
            "Epoch 2/80\n",
            "1103/1103 [==============================] - 22s 20ms/step - loss: 4.0268 - sparse_categorical_accuracy: 0.8239 - val_loss: 2.8935 - val_sparse_categorical_accuracy: 0.9719\n",
            "Epoch 3/80\n",
            "1103/1103 [==============================] - 22s 20ms/step - loss: 2.6023 - sparse_categorical_accuracy: 0.9001 - val_loss: 1.8989 - val_sparse_categorical_accuracy: 0.9834\n",
            "Epoch 4/80\n",
            "1103/1103 [==============================] - 22s 20ms/step - loss: 1.7284 - sparse_categorical_accuracy: 0.9345 - val_loss: 1.2735 - val_sparse_categorical_accuracy: 0.9872\n",
            "Epoch 5/80\n",
            "1103/1103 [==============================] - 22s 20ms/step - loss: 1.1866 - sparse_categorical_accuracy: 0.9478 - val_loss: 0.8730 - val_sparse_categorical_accuracy: 0.9880\n",
            "Epoch 6/80\n",
            "1103/1103 [==============================] - 22s 20ms/step - loss: 0.8403 - sparse_categorical_accuracy: 0.9569 - val_loss: 0.6032 - val_sparse_categorical_accuracy: 0.9954\n",
            "Epoch 7/80\n",
            "1103/1103 [==============================] - 22s 20ms/step - loss: 0.6220 - sparse_categorical_accuracy: 0.9609 - val_loss: 0.4488 - val_sparse_categorical_accuracy: 0.9934\n",
            "Epoch 8/80\n",
            "1103/1103 [==============================] - 22s 20ms/step - loss: 0.4777 - sparse_categorical_accuracy: 0.9665 - val_loss: 0.3404 - val_sparse_categorical_accuracy: 0.9946\n",
            "Epoch 9/80\n",
            "1103/1103 [==============================] - 22s 20ms/step - loss: 0.3791 - sparse_categorical_accuracy: 0.9705 - val_loss: 0.2854 - val_sparse_categorical_accuracy: 0.9913\n",
            "Epoch 10/80\n",
            "1103/1103 [==============================] - 22s 20ms/step - loss: 0.3238 - sparse_categorical_accuracy: 0.9723 - val_loss: 0.2317 - val_sparse_categorical_accuracy: 0.9952\n",
            "Epoch 11/80\n",
            "1103/1103 [==============================] - 22s 20ms/step - loss: 0.2832 - sparse_categorical_accuracy: 0.9740 - val_loss: 0.2038 - val_sparse_categorical_accuracy: 0.9949\n",
            "Epoch 12/80\n",
            "1103/1103 [==============================] - 22s 20ms/step - loss: 0.2586 - sparse_categorical_accuracy: 0.9749 - val_loss: 0.1853 - val_sparse_categorical_accuracy: 0.9954\n",
            "Epoch 13/80\n",
            "1103/1103 [==============================] - 22s 20ms/step - loss: 0.2328 - sparse_categorical_accuracy: 0.9791 - val_loss: 0.1706 - val_sparse_categorical_accuracy: 0.9949\n",
            "Epoch 14/80\n",
            "1103/1103 [==============================] - 22s 20ms/step - loss: 0.2226 - sparse_categorical_accuracy: 0.9785 - val_loss: 0.1647 - val_sparse_categorical_accuracy: 0.9954\n",
            "Epoch 15/80\n",
            "1103/1103 [==============================] - 22s 20ms/step - loss: 0.2161 - sparse_categorical_accuracy: 0.9792 - val_loss: 0.1684 - val_sparse_categorical_accuracy: 0.9939\n",
            "Epoch 16/80\n",
            "1103/1103 [==============================] - 22s 20ms/step - loss: 0.2090 - sparse_categorical_accuracy: 0.9803 - val_loss: 0.1598 - val_sparse_categorical_accuracy: 0.9967\n",
            "Epoch 17/80\n",
            "1103/1103 [==============================] - 22s 20ms/step - loss: 0.2105 - sparse_categorical_accuracy: 0.9809 - val_loss: 0.1734 - val_sparse_categorical_accuracy: 0.9906\n",
            "Epoch 18/80\n",
            "1103/1103 [==============================] - 22s 20ms/step - loss: 0.2037 - sparse_categorical_accuracy: 0.9819 - val_loss: 0.1935 - val_sparse_categorical_accuracy: 0.9844\n",
            "Epoch 19/80\n",
            "1103/1103 [==============================] - 22s 20ms/step - loss: 0.2051 - sparse_categorical_accuracy: 0.9824 - val_loss: 0.1690 - val_sparse_categorical_accuracy: 0.9936\n",
            "Epoch 20/80\n",
            "1102/1103 [============================>.] - ETA: 0s - loss: 0.2055 - sparse_categorical_accuracy: 0.9823\n",
            "Epoch 00020: ReduceLROnPlateau reducing learning rate to 0.0019999999552965165.\n",
            "1103/1103 [==============================] - 22s 20ms/step - loss: 0.2055 - sparse_categorical_accuracy: 0.9822 - val_loss: 0.1714 - val_sparse_categorical_accuracy: 0.9934\n",
            "Epoch 21/80\n",
            "1103/1103 [==============================] - 22s 20ms/step - loss: 0.1696 - sparse_categorical_accuracy: 0.9920 - val_loss: 0.1456 - val_sparse_categorical_accuracy: 0.9985\n",
            "Epoch 22/80\n",
            "1103/1103 [==============================] - 23s 20ms/step - loss: 0.1505 - sparse_categorical_accuracy: 0.9946 - val_loss: 0.1323 - val_sparse_categorical_accuracy: 0.9987\n",
            "Epoch 23/80\n",
            "1103/1103 [==============================] - 22s 20ms/step - loss: 0.1392 - sparse_categorical_accuracy: 0.9951 - val_loss: 0.1238 - val_sparse_categorical_accuracy: 0.9987\n",
            "Epoch 24/80\n",
            "1103/1103 [==============================] - 22s 20ms/step - loss: 0.1273 - sparse_categorical_accuracy: 0.9964 - val_loss: 0.1134 - val_sparse_categorical_accuracy: 0.9990\n",
            "Epoch 25/80\n",
            "1103/1103 [==============================] - 22s 20ms/step - loss: 0.1164 - sparse_categorical_accuracy: 0.9967 - val_loss: 0.1049 - val_sparse_categorical_accuracy: 0.9992\n",
            "Epoch 26/80\n",
            "1103/1103 [==============================] - 22s 20ms/step - loss: 0.1085 - sparse_categorical_accuracy: 0.9969 - val_loss: 0.0957 - val_sparse_categorical_accuracy: 0.9992\n",
            "Epoch 27/80\n",
            "1103/1103 [==============================] - 22s 20ms/step - loss: 0.1007 - sparse_categorical_accuracy: 0.9968 - val_loss: 0.0920 - val_sparse_categorical_accuracy: 0.9987\n",
            "Epoch 28/80\n",
            "1103/1103 [==============================] - 22s 20ms/step - loss: 0.0955 - sparse_categorical_accuracy: 0.9967 - val_loss: 0.0843 - val_sparse_categorical_accuracy: 0.9992\n",
            "Epoch 29/80\n",
            "1103/1103 [==============================] - 22s 20ms/step - loss: 0.0915 - sparse_categorical_accuracy: 0.9963 - val_loss: 0.0795 - val_sparse_categorical_accuracy: 0.9987\n",
            "Epoch 30/80\n",
            "1103/1103 [==============================] - 22s 20ms/step - loss: 0.0852 - sparse_categorical_accuracy: 0.9967 - val_loss: 0.0759 - val_sparse_categorical_accuracy: 0.9985\n",
            "Epoch 31/80\n",
            "1103/1103 [==============================] - 22s 20ms/step - loss: 0.0792 - sparse_categorical_accuracy: 0.9971 - val_loss: 0.0713 - val_sparse_categorical_accuracy: 0.9987\n",
            "Epoch 32/80\n",
            "1103/1103 [==============================] - 22s 20ms/step - loss: 0.0784 - sparse_categorical_accuracy: 0.9961 - val_loss: 0.0669 - val_sparse_categorical_accuracy: 0.9995\n",
            "Epoch 33/80\n",
            "1103/1103 [==============================] - 22s 20ms/step - loss: 0.0738 - sparse_categorical_accuracy: 0.9969 - val_loss: 0.0668 - val_sparse_categorical_accuracy: 0.9985\n",
            "Epoch 34/80\n",
            "1103/1103 [==============================] - 22s 20ms/step - loss: 0.0707 - sparse_categorical_accuracy: 0.9967 - val_loss: 0.0619 - val_sparse_categorical_accuracy: 0.9990\n",
            "Epoch 35/80\n",
            "1103/1103 [==============================] - 22s 20ms/step - loss: 0.0713 - sparse_categorical_accuracy: 0.9959 - val_loss: 0.0601 - val_sparse_categorical_accuracy: 0.9992\n",
            "Epoch 36/80\n",
            "1103/1103 [==============================] - 22s 20ms/step - loss: 0.0677 - sparse_categorical_accuracy: 0.9968 - val_loss: 0.0589 - val_sparse_categorical_accuracy: 0.9985\n",
            "Epoch 37/80\n",
            "1103/1103 [==============================] - 22s 20ms/step - loss: 0.0703 - sparse_categorical_accuracy: 0.9955 - val_loss: 0.0620 - val_sparse_categorical_accuracy: 0.9980\n",
            "Epoch 38/80\n",
            "1103/1103 [==============================] - 22s 20ms/step - loss: 0.0656 - sparse_categorical_accuracy: 0.9963 - val_loss: 0.0630 - val_sparse_categorical_accuracy: 0.9974\n",
            "Epoch 39/80\n",
            "1103/1103 [==============================] - 22s 20ms/step - loss: 0.0651 - sparse_categorical_accuracy: 0.9963 - val_loss: 0.0627 - val_sparse_categorical_accuracy: 0.9962\n",
            "Epoch 40/80\n",
            "1103/1103 [==============================] - 22s 20ms/step - loss: 0.0671 - sparse_categorical_accuracy: 0.9957 - val_loss: 0.0545 - val_sparse_categorical_accuracy: 0.9987\n",
            "Epoch 41/80\n",
            "1101/1103 [============================>.] - ETA: 0s - loss: 0.0665 - sparse_categorical_accuracy: 0.9955\n",
            "Epoch 00041: ReduceLROnPlateau reducing learning rate to 0.0003999999724328518.\n",
            "1103/1103 [==============================] - 22s 20ms/step - loss: 0.0665 - sparse_categorical_accuracy: 0.9955 - val_loss: 0.0596 - val_sparse_categorical_accuracy: 0.9980\n",
            "Epoch 42/80\n",
            "1103/1103 [==============================] - 22s 20ms/step - loss: 0.0602 - sparse_categorical_accuracy: 0.9975 - val_loss: 0.0542 - val_sparse_categorical_accuracy: 0.9985\n",
            "Epoch 43/80\n",
            "1103/1103 [==============================] - 22s 20ms/step - loss: 0.0565 - sparse_categorical_accuracy: 0.9984 - val_loss: 0.0523 - val_sparse_categorical_accuracy: 0.9992\n",
            "Epoch 44/80\n",
            "1103/1103 [==============================] - 22s 20ms/step - loss: 0.0547 - sparse_categorical_accuracy: 0.9986 - val_loss: 0.0512 - val_sparse_categorical_accuracy: 0.9995\n",
            "Epoch 45/80\n",
            "1103/1103 [==============================] - 22s 20ms/step - loss: 0.0532 - sparse_categorical_accuracy: 0.9989 - val_loss: 0.0507 - val_sparse_categorical_accuracy: 0.9992\n",
            "Epoch 46/80\n",
            "1103/1103 [==============================] - 22s 20ms/step - loss: 0.0531 - sparse_categorical_accuracy: 0.9985 - val_loss: 0.0505 - val_sparse_categorical_accuracy: 0.9990\n",
            "Epoch 47/80\n",
            "1103/1103 [==============================] - 22s 20ms/step - loss: 0.0518 - sparse_categorical_accuracy: 0.9989 - val_loss: 0.0498 - val_sparse_categorical_accuracy: 0.9990\n",
            "Epoch 48/80\n",
            "1103/1103 [==============================] - 22s 20ms/step - loss: 0.0510 - sparse_categorical_accuracy: 0.9990 - val_loss: 0.0490 - val_sparse_categorical_accuracy: 0.9990\n",
            "Epoch 49/80\n",
            "1103/1103 [==============================] - 22s 20ms/step - loss: 0.0495 - sparse_categorical_accuracy: 0.9990 - val_loss: 0.0475 - val_sparse_categorical_accuracy: 0.9992\n",
            "Epoch 50/80\n",
            "1103/1103 [==============================] - 22s 20ms/step - loss: 0.0495 - sparse_categorical_accuracy: 0.9986 - val_loss: 0.0464 - val_sparse_categorical_accuracy: 0.9992\n",
            "Epoch 51/80\n",
            "1103/1103 [==============================] - 22s 20ms/step - loss: 0.0484 - sparse_categorical_accuracy: 0.9989 - val_loss: 0.0469 - val_sparse_categorical_accuracy: 0.9990\n",
            "Epoch 52/80\n",
            "1103/1103 [==============================] - 22s 20ms/step - loss: 0.0477 - sparse_categorical_accuracy: 0.9989 - val_loss: 0.0456 - val_sparse_categorical_accuracy: 0.9990\n",
            "Epoch 53/80\n",
            "1103/1103 [==============================] - 22s 20ms/step - loss: 0.0460 - sparse_categorical_accuracy: 0.9994 - val_loss: 0.0456 - val_sparse_categorical_accuracy: 0.9985\n",
            "Epoch 54/80\n",
            "1103/1103 [==============================] - 22s 20ms/step - loss: 0.0456 - sparse_categorical_accuracy: 0.9993 - val_loss: 0.0444 - val_sparse_categorical_accuracy: 0.9992\n",
            "Epoch 55/80\n",
            "1103/1103 [==============================] - 22s 20ms/step - loss: 0.0447 - sparse_categorical_accuracy: 0.9993 - val_loss: 0.0439 - val_sparse_categorical_accuracy: 0.9987\n",
            "Epoch 56/80\n",
            "1103/1103 [==============================] - 22s 20ms/step - loss: 0.0439 - sparse_categorical_accuracy: 0.9993 - val_loss: 0.0431 - val_sparse_categorical_accuracy: 0.9987\n",
            "Epoch 57/80\n",
            "1103/1103 [==============================] - 22s 20ms/step - loss: 0.0434 - sparse_categorical_accuracy: 0.9992 - val_loss: 0.0431 - val_sparse_categorical_accuracy: 0.9985\n",
            "Epoch 58/80\n",
            "1103/1103 [==============================] - 22s 20ms/step - loss: 0.0431 - sparse_categorical_accuracy: 0.9990 - val_loss: 0.0420 - val_sparse_categorical_accuracy: 0.9987\n",
            "Epoch 59/80\n",
            "1103/1103 [==============================] - 22s 20ms/step - loss: 0.0421 - sparse_categorical_accuracy: 0.9993 - val_loss: 0.0417 - val_sparse_categorical_accuracy: 0.9992\n",
            "Epoch 60/80\n",
            "1103/1103 [==============================] - 22s 20ms/step - loss: 0.0415 - sparse_categorical_accuracy: 0.9993 - val_loss: 0.0404 - val_sparse_categorical_accuracy: 0.9990\n",
            "Epoch 61/80\n",
            "1103/1103 [==============================] - 22s 20ms/step - loss: 0.0411 - sparse_categorical_accuracy: 0.9992 - val_loss: 0.0394 - val_sparse_categorical_accuracy: 0.9990\n",
            "Epoch 62/80\n",
            "1103/1103 [==============================] - 22s 20ms/step - loss: 0.0404 - sparse_categorical_accuracy: 0.9995 - val_loss: 0.0384 - val_sparse_categorical_accuracy: 0.9995\n",
            "Epoch 63/80\n",
            "1103/1103 [==============================] - 22s 20ms/step - loss: 0.0393 - sparse_categorical_accuracy: 0.9995 - val_loss: 0.0381 - val_sparse_categorical_accuracy: 0.9995\n",
            "Epoch 64/80\n",
            "1103/1103 [==============================] - 22s 20ms/step - loss: 0.0393 - sparse_categorical_accuracy: 0.9994 - val_loss: 0.0380 - val_sparse_categorical_accuracy: 0.9990\n",
            "Epoch 65/80\n",
            "1103/1103 [==============================] - 22s 20ms/step - loss: 0.0382 - sparse_categorical_accuracy: 0.9996 - val_loss: 0.0376 - val_sparse_categorical_accuracy: 0.9992\n",
            "Epoch 66/80\n",
            "1103/1103 [==============================] - 22s 20ms/step - loss: 0.0375 - sparse_categorical_accuracy: 0.9996 - val_loss: 0.0377 - val_sparse_categorical_accuracy: 0.9987\n",
            "Epoch 67/80\n",
            "1103/1103 [==============================] - 22s 20ms/step - loss: 0.0375 - sparse_categorical_accuracy: 0.9994 - val_loss: 0.0379 - val_sparse_categorical_accuracy: 0.9985\n",
            "Epoch 68/80\n",
            "1103/1103 [==============================] - 22s 20ms/step - loss: 0.0368 - sparse_categorical_accuracy: 0.9995 - val_loss: 0.0361 - val_sparse_categorical_accuracy: 0.9992\n",
            "Epoch 69/80\n",
            "1103/1103 [==============================] - 22s 20ms/step - loss: 0.0365 - sparse_categorical_accuracy: 0.9993 - val_loss: 0.0356 - val_sparse_categorical_accuracy: 0.9992\n",
            "Epoch 70/80\n",
            "1103/1103 [==============================] - 22s 20ms/step - loss: 0.0361 - sparse_categorical_accuracy: 0.9994 - val_loss: 0.0362 - val_sparse_categorical_accuracy: 0.9985\n",
            "Epoch 71/80\n",
            "1103/1103 [==============================] - 22s 20ms/step - loss: 0.0357 - sparse_categorical_accuracy: 0.9995 - val_loss: 0.0347 - val_sparse_categorical_accuracy: 0.9990\n",
            "Epoch 72/80\n",
            "1103/1103 [==============================] - 22s 20ms/step - loss: 0.0349 - sparse_categorical_accuracy: 0.9995 - val_loss: 0.0346 - val_sparse_categorical_accuracy: 0.9992\n",
            "Epoch 73/80\n",
            "1103/1103 [==============================] - 22s 20ms/step - loss: 0.0349 - sparse_categorical_accuracy: 0.9993 - val_loss: 0.0335 - val_sparse_categorical_accuracy: 0.9992\n",
            "Epoch 74/80\n",
            "1103/1103 [==============================] - 22s 20ms/step - loss: 0.0338 - sparse_categorical_accuracy: 0.9995 - val_loss: 0.0332 - val_sparse_categorical_accuracy: 0.9990\n",
            "Epoch 75/80\n",
            "1103/1103 [==============================] - 22s 20ms/step - loss: 0.0334 - sparse_categorical_accuracy: 0.9994 - val_loss: 0.0329 - val_sparse_categorical_accuracy: 0.9992\n",
            "Epoch 76/80\n",
            "1103/1103 [==============================] - 22s 20ms/step - loss: 0.0336 - sparse_categorical_accuracy: 0.9992 - val_loss: 0.0332 - val_sparse_categorical_accuracy: 0.9987\n",
            "Epoch 77/80\n",
            "1103/1103 [==============================] - 22s 20ms/step - loss: 0.0330 - sparse_categorical_accuracy: 0.9993 - val_loss: 0.0324 - val_sparse_categorical_accuracy: 0.9990\n",
            "Epoch 78/80\n",
            "1103/1103 [==============================] - 22s 20ms/step - loss: 0.0323 - sparse_categorical_accuracy: 0.9995 - val_loss: 0.0320 - val_sparse_categorical_accuracy: 0.9992\n",
            "Epoch 79/80\n",
            "1103/1103 [==============================] - 22s 20ms/step - loss: 0.0318 - sparse_categorical_accuracy: 0.9995 - val_loss: 0.0315 - val_sparse_categorical_accuracy: 0.9992\n",
            "Epoch 80/80\n",
            "1103/1103 [==============================] - 22s 20ms/step - loss: 0.0313 - sparse_categorical_accuracy: 0.9997 - val_loss: 0.0311 - val_sparse_categorical_accuracy: 0.9992\n"
          ],
          "name": "stdout"
        }
      ]
    },
    {
      "cell_type": "code",
      "metadata": {
        "id": "GXZjm1wyQwPC",
        "colab_type": "code",
        "colab": {}
      },
      "source": [
        "train_on_batch(x)"
      ],
      "execution_count": null,
      "outputs": []
    },
    {
      "cell_type": "code",
      "metadata": {
        "id": "Yr6_dk805sM4",
        "colab_type": "code",
        "colab": {
          "base_uri": "https://localhost:8080/",
          "height": 211
        },
        "outputId": "7a884f11-9a0b-4736-8fd7-ffd05c52db55"
      },
      "source": [
        "history2 = model.fit(x, epochs=5, validation_data=(image_valid.reshape(image_valid.shape[0],60,60,1), np.array(label_valid)), callbacks=[reduce_lr,TerminateOnBaseline(monitor='val_accuracy', baseline=0.9997)],shuffle=True )"
      ],
      "execution_count": null,
      "outputs": [
        {
          "output_type": "stream",
          "text": [
            "Epoch 1/5\n",
            "1103/1103 [==============================] - 22s 20ms/step - loss: 0.0314 - sparse_categorical_accuracy: 0.9995 - val_loss: 0.0307 - val_sparse_categorical_accuracy: 0.9992\n",
            "Epoch 2/5\n",
            "1103/1103 [==============================] - 22s 20ms/step - loss: 0.0312 - sparse_categorical_accuracy: 0.9993 - val_loss: 0.0318 - val_sparse_categorical_accuracy: 0.9992\n",
            "Epoch 3/5\n",
            "1103/1103 [==============================] - 22s 20ms/step - loss: 0.0303 - sparse_categorical_accuracy: 0.9996 - val_loss: 0.0295 - val_sparse_categorical_accuracy: 0.9990\n",
            "Epoch 4/5\n",
            "1103/1103 [==============================] - 22s 20ms/step - loss: 0.0299 - sparse_categorical_accuracy: 0.9997 - val_loss: 0.0301 - val_sparse_categorical_accuracy: 0.9992\n",
            "Epoch 5/5\n",
            "1103/1103 [==============================] - 22s 20ms/step - loss: 0.0294 - sparse_categorical_accuracy: 0.9995 - val_loss: 0.0298 - val_sparse_categorical_accuracy: 0.9992\n"
          ],
          "name": "stdout"
        }
      ]
    },
    {
      "cell_type": "code",
      "metadata": {
        "id": "JHkelrW3TKfS",
        "colab_type": "code",
        "colab": {
          "base_uri": "https://localhost:8080/",
          "height": 211
        },
        "outputId": "2ef3f88b-fe85-43d7-b461-df81a7cd2f61"
      },
      "source": [
        "history2 = model.fit(x, epochs=5, validation_data=(image_valid.reshape(image_valid.shape[0],60,60,1), np.array(label_valid)), callbacks=[reduce_lr,TerminateOnBaseline(monitor='val_accuracy', baseline=0.9997)],shuffle=True )"
      ],
      "execution_count": null,
      "outputs": [
        {
          "output_type": "stream",
          "text": [
            "Epoch 1/5\n",
            "1103/1103 [==============================] - 22s 20ms/step - loss: 0.0291 - sparse_categorical_accuracy: 0.9996 - val_loss: 0.0282 - val_sparse_categorical_accuracy: 0.9995\n",
            "Epoch 2/5\n",
            "1103/1103 [==============================] - 22s 20ms/step - loss: 0.0289 - sparse_categorical_accuracy: 0.9996 - val_loss: 0.0282 - val_sparse_categorical_accuracy: 0.9990\n",
            "Epoch 3/5\n",
            "1103/1103 [==============================] - 22s 20ms/step - loss: 0.0285 - sparse_categorical_accuracy: 0.9996 - val_loss: 0.0275 - val_sparse_categorical_accuracy: 0.9992\n",
            "Epoch 4/5\n",
            "1103/1103 [==============================] - 22s 20ms/step - loss: 0.0283 - sparse_categorical_accuracy: 0.9995 - val_loss: 0.0274 - val_sparse_categorical_accuracy: 0.9995\n",
            "Epoch 5/5\n",
            "1103/1103 [==============================] - 22s 20ms/step - loss: 0.0281 - sparse_categorical_accuracy: 0.9997 - val_loss: 0.0276 - val_sparse_categorical_accuracy: 0.9990\n"
          ],
          "name": "stdout"
        }
      ]
    },
    {
      "cell_type": "code",
      "metadata": {
        "id": "qruKmsW8UHFr",
        "colab_type": "code",
        "colab": {
          "base_uri": "https://localhost:8080/",
          "height": 245
        },
        "outputId": "8abb978f-2e82-4366-c679-c1b197f452d0"
      },
      "source": [
        "history2 = model.fit(x, epochs=5, validation_data=(image_valid.reshape(image_valid.shape[0],60,60,1), np.array(label_valid)), callbacks=[reduce_lr,TerminateOnBaseline(monitor='val_accuracy', baseline=0.9997)],shuffle=True )"
      ],
      "execution_count": null,
      "outputs": [
        {
          "output_type": "stream",
          "text": [
            "Epoch 1/5\n",
            "1103/1103 [==============================] - 22s 20ms/step - loss: 0.0273 - sparse_categorical_accuracy: 0.9996 - val_loss: 0.0277 - val_sparse_categorical_accuracy: 0.9992\n",
            "Epoch 2/5\n",
            "1103/1103 [==============================] - 22s 20ms/step - loss: 0.0278 - sparse_categorical_accuracy: 0.9993 - val_loss: 0.0263 - val_sparse_categorical_accuracy: 0.9992\n",
            "Epoch 3/5\n",
            "1102/1103 [============================>.] - ETA: 0s - loss: 0.0274 - sparse_categorical_accuracy: 0.9995\n",
            "Epoch 00003: ReduceLROnPlateau reducing learning rate to 7.999999215826393e-05.\n",
            "1103/1103 [==============================] - 23s 21ms/step - loss: 0.0274 - sparse_categorical_accuracy: 0.9995 - val_loss: 0.0269 - val_sparse_categorical_accuracy: 0.9992\n",
            "Epoch 4/5\n",
            "1103/1103 [==============================] - 23s 21ms/step - loss: 0.0268 - sparse_categorical_accuracy: 0.9996 - val_loss: 0.0266 - val_sparse_categorical_accuracy: 0.9992\n",
            "Epoch 5/5\n",
            "1103/1103 [==============================] - 23s 20ms/step - loss: 0.0271 - sparse_categorical_accuracy: 0.9994 - val_loss: 0.0267 - val_sparse_categorical_accuracy: 0.9992\n"
          ],
          "name": "stdout"
        }
      ]
    },
    {
      "cell_type": "code",
      "metadata": {
        "id": "LvVtjYKLVcg-",
        "colab_type": "code",
        "colab": {
          "base_uri": "https://localhost:8080/",
          "height": 245
        },
        "outputId": "f8be369c-52b3-43ef-a19d-efa74e1dd8ac"
      },
      "source": [
        "history2 = model.fit(x, epochs=5, validation_data=(image_valid.reshape(image_valid.shape[0],60,60,1), np.array(label_valid)), callbacks=[reduce_lr,TerminateOnBaseline(monitor='val_accuracy', baseline=0.9997)],shuffle=True )"
      ],
      "execution_count": null,
      "outputs": [
        {
          "output_type": "stream",
          "text": [
            "Epoch 1/5\n",
            "1103/1103 [==============================] - 23s 21ms/step - loss: 0.0265 - sparse_categorical_accuracy: 0.9996 - val_loss: 0.0263 - val_sparse_categorical_accuracy: 0.9992\n",
            "Epoch 2/5\n",
            "1103/1103 [==============================] - 23s 20ms/step - loss: 0.0264 - sparse_categorical_accuracy: 0.9997 - val_loss: 0.0262 - val_sparse_categorical_accuracy: 0.9992\n",
            "Epoch 3/5\n",
            "1103/1103 [==============================] - 23s 21ms/step - loss: 0.0259 - sparse_categorical_accuracy: 0.9999 - val_loss: 0.0260 - val_sparse_categorical_accuracy: 0.9992\n",
            "Epoch 4/5\n",
            "1103/1103 [==============================] - 23s 21ms/step - loss: 0.0269 - sparse_categorical_accuracy: 0.9992 - val_loss: 0.0258 - val_sparse_categorical_accuracy: 0.9995\n",
            "Epoch 5/5\n",
            "1102/1103 [============================>.] - ETA: 0s - loss: 0.0265 - sparse_categorical_accuracy: 0.9995\n",
            "Epoch 00005: ReduceLROnPlateau reducing learning rate to 1.599999814061448e-05.\n",
            "1103/1103 [==============================] - 22s 20ms/step - loss: 0.0265 - sparse_categorical_accuracy: 0.9995 - val_loss: 0.0265 - val_sparse_categorical_accuracy: 0.9992\n"
          ],
          "name": "stdout"
        }
      ]
    },
    {
      "cell_type": "code",
      "metadata": {
        "id": "a4CmJx16WKCG",
        "colab_type": "code",
        "colab": {
          "base_uri": "https://localhost:8080/",
          "height": 245
        },
        "outputId": "5a5026fc-445f-4b96-b770-4bb048667a82"
      },
      "source": [
        "history2 = model.fit(x, epochs=5, validation_data=(image_valid.reshape(image_valid.shape[0],60,60,1), np.array(label_valid)), callbacks=[reduce_lr,TerminateOnBaseline(monitor='val_accuracy', baseline=0.9997)],shuffle=True )"
      ],
      "execution_count": null,
      "outputs": [
        {
          "output_type": "stream",
          "text": [
            "Epoch 1/5\n",
            "1103/1103 [==============================] - 22s 20ms/step - loss: 0.0261 - sparse_categorical_accuracy: 0.9997 - val_loss: 0.0263 - val_sparse_categorical_accuracy: 0.9992\n",
            "Epoch 2/5\n",
            "1103/1103 [==============================] - 22s 20ms/step - loss: 0.0259 - sparse_categorical_accuracy: 0.9997 - val_loss: 0.0263 - val_sparse_categorical_accuracy: 0.9992\n",
            "Epoch 3/5\n",
            "1103/1103 [==============================] - 22s 20ms/step - loss: 0.0265 - sparse_categorical_accuracy: 0.9994 - val_loss: 0.0262 - val_sparse_categorical_accuracy: 0.9992\n",
            "Epoch 4/5\n",
            "1102/1103 [============================>.] - ETA: 0s - loss: 0.0263 - sparse_categorical_accuracy: 0.9997\n",
            "Epoch 00004: ReduceLROnPlateau reducing learning rate to 3.199999628122896e-06.\n",
            "1103/1103 [==============================] - 22s 20ms/step - loss: 0.0263 - sparse_categorical_accuracy: 0.9997 - val_loss: 0.0262 - val_sparse_categorical_accuracy: 0.9992\n",
            "Epoch 5/5\n",
            "1103/1103 [==============================] - 22s 20ms/step - loss: 0.0263 - sparse_categorical_accuracy: 0.9997 - val_loss: 0.0261 - val_sparse_categorical_accuracy: 0.9992\n"
          ],
          "name": "stdout"
        }
      ]
    },
    {
      "cell_type": "code",
      "metadata": {
        "id": "iqLSRWLWWp6l",
        "colab_type": "code",
        "colab": {
          "base_uri": "https://localhost:8080/",
          "height": 245
        },
        "outputId": "01a5adae-9b46-46ef-e2a2-ee101e0f2565"
      },
      "source": [
        "history2 = model.fit(x, epochs=5, validation_data=(image_valid.reshape(image_valid.shape[0],60,60,1), np.array(label_valid)), callbacks=[reduce_lr,TerminateOnBaseline(monitor='val_accuracy', baseline=0.9997)],shuffle=True )"
      ],
      "execution_count": null,
      "outputs": [
        {
          "output_type": "stream",
          "text": [
            "Epoch 1/5\n",
            "1103/1103 [==============================] - 23s 21ms/step - loss: 0.0260 - sparse_categorical_accuracy: 0.9997 - val_loss: 0.0261 - val_sparse_categorical_accuracy: 0.9992\n",
            "Epoch 2/5\n",
            "1103/1103 [==============================] - 23s 21ms/step - loss: 0.0261 - sparse_categorical_accuracy: 0.9997 - val_loss: 0.0260 - val_sparse_categorical_accuracy: 0.9992\n",
            "Epoch 3/5\n",
            "1102/1103 [============================>.] - ETA: 0s - loss: 0.0262 - sparse_categorical_accuracy: 0.9997\n",
            "Epoch 00003: ReduceLROnPlateau reducing learning rate to 6.399999165296323e-07.\n",
            "1103/1103 [==============================] - 22s 20ms/step - loss: 0.0262 - sparse_categorical_accuracy: 0.9997 - val_loss: 0.0261 - val_sparse_categorical_accuracy: 0.9992\n",
            "Epoch 4/5\n",
            "1103/1103 [==============================] - 22s 20ms/step - loss: 0.0257 - sparse_categorical_accuracy: 0.9998 - val_loss: 0.0261 - val_sparse_categorical_accuracy: 0.9992\n",
            "Epoch 5/5\n",
            "1103/1103 [==============================] - 23s 20ms/step - loss: 0.0263 - sparse_categorical_accuracy: 0.9996 - val_loss: 0.0261 - val_sparse_categorical_accuracy: 0.9992\n"
          ],
          "name": "stdout"
        }
      ]
    },
    {
      "cell_type": "code",
      "metadata": {
        "id": "t7f7yvhQXJBB",
        "colab_type": "code",
        "colab": {
          "base_uri": "https://localhost:8080/",
          "height": 280
        },
        "outputId": "7ab2e521-9b04-4b77-f886-6c46d2ff4e29"
      },
      "source": [
        "history2 = model.fit(x, epochs=5, validation_data=(image_valid.reshape(image_valid.shape[0],60,60,1), np.array(label_valid)), callbacks=[reduce_lr,TerminateOnBaseline(monitor='val_accuracy', baseline=0.9997)],shuffle=True )"
      ],
      "execution_count": null,
      "outputs": [
        {
          "output_type": "stream",
          "text": [
            "Epoch 1/5\n",
            "1103/1103 [==============================] - 23s 20ms/step - loss: 0.0260 - sparse_categorical_accuracy: 0.9998 - val_loss: 0.0261 - val_sparse_categorical_accuracy: 0.9992\n",
            "Epoch 2/5\n",
            "1103/1103 [==============================] - 23s 21ms/step - loss: 0.0259 - sparse_categorical_accuracy: 0.9998 - val_loss: 0.0261 - val_sparse_categorical_accuracy: 0.9992\n",
            "Epoch 3/5\n",
            "1101/1103 [============================>.] - ETA: 0s - loss: 0.0264 - sparse_categorical_accuracy: 0.9996\n",
            "Epoch 00003: ReduceLROnPlateau reducing learning rate to 1.2799998785339995e-07.\n",
            "1103/1103 [==============================] - 22s 20ms/step - loss: 0.0264 - sparse_categorical_accuracy: 0.9995 - val_loss: 0.0260 - val_sparse_categorical_accuracy: 0.9992\n",
            "Epoch 4/5\n",
            "1103/1103 [==============================] - 22s 20ms/step - loss: 0.0259 - sparse_categorical_accuracy: 0.9998 - val_loss: 0.0261 - val_sparse_categorical_accuracy: 0.9992\n",
            "Epoch 5/5\n",
            "1101/1103 [============================>.] - ETA: 0s - loss: 0.0261 - sparse_categorical_accuracy: 0.9998\n",
            "Epoch 00005: ReduceLROnPlateau reducing learning rate to 2.5599996433811613e-08.\n",
            "1103/1103 [==============================] - 22s 20ms/step - loss: 0.0261 - sparse_categorical_accuracy: 0.9998 - val_loss: 0.0261 - val_sparse_categorical_accuracy: 0.9992\n"
          ],
          "name": "stdout"
        }
      ]
    },
    {
      "cell_type": "code",
      "metadata": {
        "id": "erqJXeBeXqfg",
        "colab_type": "code",
        "colab": {
          "base_uri": "https://localhost:8080/",
          "height": 280
        },
        "outputId": "fe58da80-feed-4e61-8db1-46bc3f78c360"
      },
      "source": [
        "history2 = model.fit(x, epochs=5, validation_data=(image_valid.reshape(image_valid.shape[0],60,60,1), np.array(label_valid)), callbacks=[reduce_lr,TerminateOnBaseline(monitor='val_accuracy', baseline=0.9997)],shuffle=True )"
      ],
      "execution_count": null,
      "outputs": [
        {
          "output_type": "stream",
          "text": [
            "Epoch 1/5\n",
            "1103/1103 [==============================] - 23s 20ms/step - loss: 0.0260 - sparse_categorical_accuracy: 0.9997 - val_loss: 0.0261 - val_sparse_categorical_accuracy: 0.9992\n",
            "Epoch 2/5\n",
            "1103/1103 [==============================] - 22s 20ms/step - loss: 0.0265 - sparse_categorical_accuracy: 0.9995 - val_loss: 0.0261 - val_sparse_categorical_accuracy: 0.9992\n",
            "Epoch 3/5\n",
            "1103/1103 [==============================] - ETA: 0s - loss: 0.0263 - sparse_categorical_accuracy: 0.9996\n",
            "Epoch 00003: ReduceLROnPlateau reducing learning rate to 5.1199993578165965e-09.\n",
            "1103/1103 [==============================] - 22s 20ms/step - loss: 0.0263 - sparse_categorical_accuracy: 0.9996 - val_loss: 0.0260 - val_sparse_categorical_accuracy: 0.9992\n",
            "Epoch 4/5\n",
            "1103/1103 [==============================] - 22s 20ms/step - loss: 0.0260 - sparse_categorical_accuracy: 0.9997 - val_loss: 0.0260 - val_sparse_categorical_accuracy: 0.9992\n",
            "Epoch 5/5\n",
            "1102/1103 [============================>.] - ETA: 0s - loss: 0.0262 - sparse_categorical_accuracy: 0.9997\n",
            "Epoch 00005: ReduceLROnPlateau reducing learning rate to 1.023999907090456e-09.\n",
            "1103/1103 [==============================] - 22s 20ms/step - loss: 0.0262 - sparse_categorical_accuracy: 0.9997 - val_loss: 0.0261 - val_sparse_categorical_accuracy: 0.9992\n"
          ],
          "name": "stdout"
        }
      ]
    },
    {
      "cell_type": "code",
      "metadata": {
        "id": "B5lGjxT6YI9C",
        "colab_type": "code",
        "colab": {
          "base_uri": "https://localhost:8080/",
          "height": 176
        },
        "outputId": "abba2a3f-4675-44ba-806d-b1432c659c58"
      },
      "source": [
        "history2 = model.fit(x, epochs=3, validation_data=(image_valid.reshape(image_valid.shape[0],60,60,1), np.array(label_valid)), callbacks=[reduce_lr,TerminateOnBaseline(monitor='val_accuracy', baseline=0.9997)],shuffle=True )"
      ],
      "execution_count": null,
      "outputs": [
        {
          "output_type": "stream",
          "text": [
            "Epoch 1/3\n",
            "1103/1103 [==============================] - 23s 21ms/step - loss: 0.0262 - sparse_categorical_accuracy: 0.9997 - val_loss: 0.0260 - val_sparse_categorical_accuracy: 0.9992\n",
            "Epoch 2/3\n",
            "1103/1103 [==============================] - 22s 20ms/step - loss: 0.0264 - sparse_categorical_accuracy: 0.9995 - val_loss: 0.0260 - val_sparse_categorical_accuracy: 0.9992\n",
            "Epoch 3/3\n",
            "1101/1103 [============================>.] - ETA: 0s - loss: 0.0263 - sparse_categorical_accuracy: 0.9995\n",
            "Epoch 00003: ReduceLROnPlateau reducing learning rate to 2.0479997697719911e-10.\n",
            "1103/1103 [==============================] - 23s 21ms/step - loss: 0.0263 - sparse_categorical_accuracy: 0.9995 - val_loss: 0.0259 - val_sparse_categorical_accuracy: 0.9992\n"
          ],
          "name": "stdout"
        }
      ]
    },
    {
      "cell_type": "code",
      "metadata": {
        "id": "znMcTtuwYfHO",
        "colab_type": "code",
        "colab": {
          "base_uri": "https://localhost:8080/",
          "height": 280
        },
        "outputId": "0d828e35-9b08-4f22-f761-38a12563eac9"
      },
      "source": [
        "history2 = model.fit(x, epochs=5, validation_data=(image_valid.reshape(image_valid.shape[0],60,60,1), np.array(label_valid)), callbacks=[reduce_lr,TerminateOnBaseline(monitor='val_accuracy', baseline=0.9997)],shuffle=True )"
      ],
      "execution_count": null,
      "outputs": [
        {
          "output_type": "stream",
          "text": [
            "Epoch 1/5\n",
            "1103/1103 [==============================] - 23s 21ms/step - loss: 0.0259 - sparse_categorical_accuracy: 0.9998 - val_loss: 0.0261 - val_sparse_categorical_accuracy: 0.9992\n",
            "Epoch 2/5\n",
            "1103/1103 [==============================] - 22s 20ms/step - loss: 0.0264 - sparse_categorical_accuracy: 0.9995 - val_loss: 0.0261 - val_sparse_categorical_accuracy: 0.9992\n",
            "Epoch 3/5\n",
            "1103/1103 [==============================] - ETA: 0s - loss: 0.0263 - sparse_categorical_accuracy: 0.9996\n",
            "Epoch 00003: ReduceLROnPlateau reducing learning rate to 4.095999650566285e-11.\n",
            "1103/1103 [==============================] - 23s 20ms/step - loss: 0.0263 - sparse_categorical_accuracy: 0.9996 - val_loss: 0.0261 - val_sparse_categorical_accuracy: 0.9992\n",
            "Epoch 4/5\n",
            "1103/1103 [==============================] - 23s 20ms/step - loss: 0.0261 - sparse_categorical_accuracy: 0.9997 - val_loss: 0.0261 - val_sparse_categorical_accuracy: 0.9992\n",
            "Epoch 5/5\n",
            "1102/1103 [============================>.] - ETA: 0s - loss: 0.0261 - sparse_categorical_accuracy: 0.9997\n",
            "Epoch 00005: ReduceLROnPlateau reducing learning rate to 8.19199916235469e-12.\n",
            "1103/1103 [==============================] - 23s 20ms/step - loss: 0.0261 - sparse_categorical_accuracy: 0.9997 - val_loss: 0.0260 - val_sparse_categorical_accuracy: 0.9992\n"
          ],
          "name": "stdout"
        }
      ]
    },
    {
      "cell_type": "code",
      "metadata": {
        "id": "QcdP3_s2ZGbe",
        "colab_type": "code",
        "colab": {
          "base_uri": "https://localhost:8080/",
          "height": 245
        },
        "outputId": "bbce4e67-a1cc-4a31-e6f1-869e22b31a6d"
      },
      "source": [
        "history2 = model.fit(x, epochs=5, validation_data=(image_valid.reshape(image_valid.shape[0],60,60,1), np.array(label_valid)), callbacks=[reduce_lr,TerminateOnBaseline(monitor='val_accuracy', baseline=0.9997)],shuffle=True )"
      ],
      "execution_count": null,
      "outputs": [
        {
          "output_type": "stream",
          "text": [
            "Epoch 1/5\n",
            "1103/1103 [==============================] - 23s 20ms/step - loss: 0.0262 - sparse_categorical_accuracy: 0.9996 - val_loss: 0.0261 - val_sparse_categorical_accuracy: 0.9992\n",
            "Epoch 2/5\n",
            "1103/1103 [==============================] - 22s 20ms/step - loss: 0.0261 - sparse_categorical_accuracy: 0.9996 - val_loss: 0.0260 - val_sparse_categorical_accuracy: 0.9992\n",
            "Epoch 3/5\n",
            "1103/1103 [==============================] - 23s 20ms/step - loss: 0.0260 - sparse_categorical_accuracy: 0.9997 - val_loss: 0.0260 - val_sparse_categorical_accuracy: 0.9992\n",
            "Epoch 4/5\n",
            "1101/1103 [============================>.] - ETA: 0s - loss: 0.0263 - sparse_categorical_accuracy: 0.9996\n",
            "Epoch 00004: ReduceLROnPlateau reducing learning rate to 1.6383998324709382e-12.\n",
            "1103/1103 [==============================] - 23s 21ms/step - loss: 0.0263 - sparse_categorical_accuracy: 0.9996 - val_loss: 0.0261 - val_sparse_categorical_accuracy: 0.9992\n",
            "Epoch 5/5\n",
            "1103/1103 [==============================] - 22s 20ms/step - loss: 0.0258 - sparse_categorical_accuracy: 0.9997 - val_loss: 0.0261 - val_sparse_categorical_accuracy: 0.9992\n"
          ],
          "name": "stdout"
        }
      ]
    },
    {
      "cell_type": "markdown",
      "metadata": {
        "id": "08KFabUT_z5L",
        "colab_type": "text"
      },
      "source": [
        "## Model Evaluation"
      ]
    },
    {
      "cell_type": "code",
      "metadata": {
        "id": "mJQ9-JcvZEwA",
        "colab_type": "code",
        "colab": {
          "base_uri": "https://localhost:8080/",
          "height": 52
        },
        "outputId": "e6729bdd-04bf-4cde-82a0-f59bd6d04bd5"
      },
      "source": [
        "model.evaluate(test_image_array, np.array(test_image_labels), batch_size=256)"
      ],
      "execution_count": null,
      "outputs": [
        {
          "output_type": "stream",
          "text": [
            "50/50 [==============================] - 1s 26ms/step - loss: 0.0367 - sparse_categorical_accuracy: 0.9975\n"
          ],
          "name": "stdout"
        },
        {
          "output_type": "execute_result",
          "data": {
            "text/plain": [
              "[0.03665178641676903, 0.9974663257598877]"
            ]
          },
          "metadata": {
            "tags": []
          },
          "execution_count": 51
        }
      ]
    },
    {
      "cell_type": "code",
      "metadata": {
        "id": "go5uewI-YLe1",
        "colab_type": "code",
        "colab": {
          "base_uri": "https://localhost:8080/",
          "height": 52
        },
        "outputId": "9f468e5e-11e1-41ef-b4df-d28222f3b207"
      },
      "source": [
        "model.evaluate(test_image_array, np.array(test_image_labels), batch_size=256)"
      ],
      "execution_count": null,
      "outputs": [
        {
          "output_type": "stream",
          "text": [
            "50/50 [==============================] - 1s 26ms/step - loss: 0.0366 - sparse_categorical_accuracy: 0.9975\n"
          ],
          "name": "stdout"
        },
        {
          "output_type": "execute_result",
          "data": {
            "text/plain": [
              "[0.03663952648639679, 0.9974663257598877]"
            ]
          },
          "metadata": {
            "tags": []
          },
          "execution_count": 49
        }
      ]
    },
    {
      "cell_type": "code",
      "metadata": {
        "id": "BGytpAkSYD5r",
        "colab_type": "code",
        "colab": {
          "base_uri": "https://localhost:8080/",
          "height": 52
        },
        "outputId": "ba85aa85-51bc-4112-e701-a7f76dd8256d"
      },
      "source": [
        "model.evaluate(test_image_array, np.array(test_image_labels), batch_size=256)"
      ],
      "execution_count": null,
      "outputs": [
        {
          "output_type": "stream",
          "text": [
            "50/50 [==============================] - 1s 26ms/step - loss: 0.0367 - sparse_categorical_accuracy: 0.9975\n"
          ],
          "name": "stdout"
        },
        {
          "output_type": "execute_result",
          "data": {
            "text/plain": [
              "[0.03669041767716408, 0.9975455403327942]"
            ]
          },
          "metadata": {
            "tags": []
          },
          "execution_count": 45
        }
      ]
    },
    {
      "cell_type": "code",
      "metadata": {
        "id": "Twy7xHOPW_9N",
        "colab_type": "code",
        "colab": {
          "base_uri": "https://localhost:8080/",
          "height": 52
        },
        "outputId": "b86b1328-701f-4afc-ac6e-04d35ad3badf"
      },
      "source": [
        "model.evaluate(test_image_array, np.array(test_image_labels), batch_size=256)"
      ],
      "execution_count": null,
      "outputs": [
        {
          "output_type": "stream",
          "text": [
            "50/50 [==============================] - 1s 27ms/step - loss: 0.0367 - sparse_categorical_accuracy: 0.9975\n"
          ],
          "name": "stdout"
        },
        {
          "output_type": "execute_result",
          "data": {
            "text/plain": [
              "[0.03668085113167763, 0.9974663257598877]"
            ]
          },
          "metadata": {
            "tags": []
          },
          "execution_count": 43
        }
      ]
    },
    {
      "cell_type": "code",
      "metadata": {
        "id": "sBYUMWinWm1K",
        "colab_type": "code",
        "colab": {
          "base_uri": "https://localhost:8080/",
          "height": 52
        },
        "outputId": "0d02ad0b-f904-4d13-8c76-8e3b797d5556"
      },
      "source": [
        "model.evaluate(test_image_array, np.array(test_image_labels), batch_size=256)"
      ],
      "execution_count": null,
      "outputs": [
        {
          "output_type": "stream",
          "text": [
            "50/50 [==============================] - 1s 27ms/step - loss: 0.0367 - sparse_categorical_accuracy: 0.9975\n"
          ],
          "name": "stdout"
        },
        {
          "output_type": "execute_result",
          "data": {
            "text/plain": [
              "[0.03670172393321991, 0.9974663257598877]"
            ]
          },
          "metadata": {
            "tags": []
          },
          "execution_count": 39
        }
      ]
    },
    {
      "cell_type": "code",
      "metadata": {
        "id": "XF9RO1kvV4Bh",
        "colab_type": "code",
        "colab": {
          "base_uri": "https://localhost:8080/",
          "height": 52
        },
        "outputId": "04704c4b-c82a-4387-cb74-80e2255bdc00"
      },
      "source": [
        "model.evaluate(test_image_array, np.array(test_image_labels), batch_size=256)"
      ],
      "execution_count": null,
      "outputs": [
        {
          "output_type": "stream",
          "text": [
            "50/50 [==============================] - 1s 27ms/step - loss: 0.0368 - sparse_categorical_accuracy: 0.9975\n"
          ],
          "name": "stdout"
        },
        {
          "output_type": "execute_result",
          "data": {
            "text/plain": [
              "[0.0367855504155159, 0.9974663257598877]"
            ]
          },
          "metadata": {
            "tags": []
          },
          "execution_count": 34
        }
      ]
    },
    {
      "cell_type": "code",
      "metadata": {
        "id": "Jc9yr6ZTUoIL",
        "colab_type": "code",
        "colab": {
          "base_uri": "https://localhost:8080/",
          "height": 52
        },
        "outputId": "a7730613-1b68-4f86-dc9f-ae76c105582a"
      },
      "source": [
        "model.evaluate(test_image_array, np.array(test_image_labels), batch_size=256)"
      ],
      "execution_count": null,
      "outputs": [
        {
          "output_type": "stream",
          "text": [
            "50/50 [==============================] - 1s 26ms/step - loss: 0.0366 - sparse_categorical_accuracy: 0.9974\n"
          ],
          "name": "stdout"
        },
        {
          "output_type": "execute_result",
          "data": {
            "text/plain": [
              "[0.03663713485002518, 0.997387170791626]"
            ]
          },
          "metadata": {
            "tags": []
          },
          "execution_count": 30
        }
      ]
    },
    {
      "cell_type": "code",
      "metadata": {
        "id": "hX89vzqD8bc5",
        "colab_type": "code",
        "colab": {
          "base_uri": "https://localhost:8080/",
          "height": 52
        },
        "outputId": "e898fb10-1542-4aba-f027-fef3c842d22a"
      },
      "source": [
        "model.evaluate(test_image_array, np.array(test_image_labels), batch_size=256)"
      ],
      "execution_count": null,
      "outputs": [
        {
          "output_type": "stream",
          "text": [
            "50/50 [==============================] - 1s 28ms/step - loss: 0.0424 - sparse_categorical_accuracy: 0.9970\n"
          ],
          "name": "stdout"
        },
        {
          "output_type": "execute_result",
          "data": {
            "text/plain": [
              "[0.04237156733870506, 0.9969912767410278]"
            ]
          },
          "metadata": {
            "tags": []
          },
          "execution_count": 21
        }
      ]
    },
    {
      "cell_type": "markdown",
      "metadata": {
        "id": "S1SvrW7c_z42",
        "colab_type": "text"
      },
      "source": [
        "## Visualization"
      ]
    },
    {
      "cell_type": "code",
      "metadata": {
        "id": "d01yT3_F_z44",
        "colab_type": "code",
        "colab": {}
      },
      "source": [
        "import matplotlib.pyplot as plt\n",
        "plt.plot(history.history['sparse_categorical_accuracy'])\n",
        "plt.plot(history.history['val_sparse_categorical_accuracy'])\n",
        "plt.ylabel('accuracy')\n",
        "plt.xlabel('epoch')\n",
        "plt.legend(['train', 'validation'], loc='upper left')\n",
        "plt.show()"
      ],
      "execution_count": null,
      "outputs": []
    },
    {
      "cell_type": "code",
      "metadata": {
        "id": "Jv9nxMP5_z4_",
        "colab_type": "code",
        "colab": {}
      },
      "source": [
        "plt.plot(history.history['loss'])\n",
        "plt.plot(history.history['val_loss'])\n",
        "plt.ylabel('loss')\n",
        "plt.xlabel('epoch')\n",
        "plt.legend(['train', 'validation'], loc='upper left')\n",
        "plt.show()"
      ],
      "execution_count": null,
      "outputs": []
    },
    {
      "cell_type": "markdown",
      "metadata": {
        "id": "lITG_Mw9_z5F",
        "colab_type": "text"
      },
      "source": [
        "## Model Summary \n",
        "Number of parameters used in the model architecture"
      ]
    },
    {
      "cell_type": "code",
      "metadata": {
        "id": "hSaS0ZyI_z5G",
        "colab_type": "code",
        "colab": {}
      },
      "source": [
        "print(model.summary())"
      ],
      "execution_count": null,
      "outputs": []
    },
    {
      "cell_type": "markdown",
      "metadata": {
        "id": "LGX8hR4r_z5T",
        "colab_type": "text"
      },
      "source": [
        "## Saving Trained .h5 Model"
      ]
    },
    {
      "cell_type": "code",
      "metadata": {
        "colab_type": "code",
        "id": "paMLoaT4_fwZ",
        "colab": {}
      },
      "source": [
        "def saveCNNModel(model_name):\n",
        "    model.save(model_name)"
      ],
      "execution_count": null,
      "outputs": []
    },
    {
      "cell_type": "code",
      "metadata": {
        "colab_type": "code",
        "id": "xqmScYoy_fwc",
        "colab": {}
      },
      "source": [
        "saveCNNModel('Trained_Models/winning_model_keras_augmentation_99_75_accuracy.h5')"
      ],
      "execution_count": null,
      "outputs": []
    },
    {
      "cell_type": "code",
      "metadata": {
        "colab_type": "code",
        "id": "sQ3VvwXDFceP",
        "colab": {}
      },
      "source": [
        "model._set_inputs(image_train,np.array(label_train))"
      ],
      "execution_count": null,
      "outputs": []
    },
    {
      "cell_type": "markdown",
      "metadata": {
        "id": "zUjBuI9Q_z5k",
        "colab_type": "text"
      },
      "source": [
        "## Loading Saved Trained .h5 Model"
      ]
    },
    {
      "cell_type": "code",
      "metadata": {
        "colab_type": "code",
        "id": "GxFfWaaN_fwe",
        "colab": {}
      },
      "source": [
        "from keras.models import load_model\n",
        "def load_model_():\n",
        "    Model = load_model('/content/drive/My Drive/Source_Code/Model/Trained_Models/winning_model_keras_augmentation_99_69.h5')\n",
        "    return Model"
      ],
      "execution_count": null,
      "outputs": []
    },
    {
      "cell_type": "code",
      "metadata": {
        "colab_type": "code",
        "id": "hXlI3Mxx_fwi",
        "colab": {}
      },
      "source": [
        "# del model\n",
        "from tensorflow import keras\n",
        "\n",
        "model= load_model_()"
      ],
      "execution_count": null,
      "outputs": []
    },
    {
      "cell_type": "markdown",
      "metadata": {
        "id": "57ctMF_P_z5v",
        "colab_type": "text"
      },
      "source": [
        "## Computation Avg. Processing Time"
      ]
    },
    {
      "cell_type": "code",
      "metadata": {
        "colab_type": "code",
        "id": "0oH66eWUFceZ",
        "colab": {}
      },
      "source": [
        "import time\n",
        "t1=time.time()\n",
        "model.predict(test_image_array)\n",
        "t2=time.time()\n",
        "print(\"Average Processing time: \", ((t2-t1)/12630)*1000, \" ms\")"
      ],
      "execution_count": null,
      "outputs": []
    },
    {
      "cell_type": "markdown",
      "metadata": {
        "id": "4-64AX2vTlXI",
        "colab_type": "text"
      },
      "source": [
        "**bold text**\n",
        "\n",
        "**Visualize**\n",
        "\n",
        "\n"
      ]
    },
    {
      "cell_type": "code",
      "metadata": {
        "id": "mIJOfOZeToS_",
        "colab_type": "code",
        "colab": {}
      },
      "source": [
        "from keras import Model\n",
        "import matplotlib.pyplot as plt\n",
        "%matplotlib inline"
      ],
      "execution_count": null,
      "outputs": []
    },
    {
      "cell_type": "code",
      "metadata": {
        "id": "IszKze6mTliM",
        "colab_type": "code",
        "colab": {}
      },
      "source": [
        "def plot_layer(layer_name,image):\n",
        "    # # check if the layer_name is correct \n",
        "    # assert layer_name in vgg_layers\n",
        "    \n",
        "    features_extractor = Model(inputs=model.input, outputs=model.get_layer(layer_name).output)\n",
        "    feature_maps = features_extractor.predict(image)[0]\n",
        "    print(\"At layer \\\"{}\\\" : {} \".format(layer_name, feature_maps.shape))\n",
        "    plot_feature_maps(feature_maps)"
      ],
      "execution_count": null,
      "outputs": []
    },
    {
      "cell_type": "code",
      "metadata": {
        "id": "O4verevkTl2P",
        "colab_type": "code",
        "colab": {}
      },
      "source": [
        "# this function will plot all the feature maps within a fig of size (20,20)\n",
        "def plot_feature_maps(feature_maps):\n",
        "    height, width, depth = feature_maps.shape\n",
        "    nb_plot = int(np.rint(np.sqrt(depth)))\n",
        "    fig = plt.figure(figsize=(20, 20))\n",
        "    for i in range(depth):\n",
        "        plt.subplot(nb_plot, nb_plot, i+1)\n",
        "        plt.imshow(feature_maps[:,:,i], cmap='gray')\n",
        "        plt.title('feature map {}'.format(i+1))\n",
        "    plt.show()"
      ],
      "execution_count": null,
      "outputs": []
    },
    {
      "cell_type": "code",
      "metadata": {
        "id": "MENSKMTET68I",
        "colab_type": "code",
        "colab": {}
      },
      "source": [
        "plot_layer('conv2d_1',train_image_array[0].reshape(1,60,60,1))\n"
      ],
      "execution_count": null,
      "outputs": []
    },
    {
      "cell_type": "code",
      "metadata": {
        "id": "g_IoT4xCT-xc",
        "colab_type": "code",
        "colab": {}
      },
      "source": [
        "plot_layer('conv2d_2',train_image_array[0].reshape(1,60,60,1))\n"
      ],
      "execution_count": null,
      "outputs": []
    },
    {
      "cell_type": "code",
      "metadata": {
        "id": "1rGp5bNSUHw9",
        "colab_type": "code",
        "colab": {}
      },
      "source": [
        "plot_layer('conv2d_3',train_image_array[0].reshape(1,60,60,1))\n"
      ],
      "execution_count": null,
      "outputs": []
    },
    {
      "cell_type": "code",
      "metadata": {
        "id": "3zW82hIIUKCi",
        "colab_type": "code",
        "colab": {}
      },
      "source": [
        "plot_layer('conv2d_4',train_image_array[0].reshape(1,60,60,1))\n"
      ],
      "execution_count": null,
      "outputs": []
    },
    {
      "cell_type": "code",
      "metadata": {
        "id": "wR5Pa1tKULXF",
        "colab_type": "code",
        "colab": {}
      },
      "source": [
        "plot_layer('conv2d_5',train_image_array[0].reshape(1,60,60,1))\n"
      ],
      "execution_count": null,
      "outputs": []
    },
    {
      "cell_type": "code",
      "metadata": {
        "id": "iyo5NIujUMh9",
        "colab_type": "code",
        "colab": {}
      },
      "source": [
        "plot_layer('conv2d_6',train_image_array[0].reshape(1,60,60,1))\n"
      ],
      "execution_count": null,
      "outputs": []
    },
    {
      "cell_type": "code",
      "metadata": {
        "id": "8RgW0ZuBUXMy",
        "colab_type": "code",
        "colab": {}
      },
      "source": [
        "plot_layer('conv2d_1',train_image_array[20].reshape(1,60,60,1))\n"
      ],
      "execution_count": null,
      "outputs": []
    },
    {
      "cell_type": "code",
      "metadata": {
        "id": "Soc6E9KtUY9J",
        "colab_type": "code",
        "colab": {}
      },
      "source": [
        "plot_layer('conv2d_2',train_image_array[20].reshape(1,60,60,1))\n"
      ],
      "execution_count": null,
      "outputs": []
    },
    {
      "cell_type": "code",
      "metadata": {
        "id": "nHKKzWWLUaYG",
        "colab_type": "code",
        "colab": {}
      },
      "source": [
        "plot_layer('conv2d_3',train_image_array[20].reshape(1,60,60,1))\n"
      ],
      "execution_count": null,
      "outputs": []
    },
    {
      "cell_type": "code",
      "metadata": {
        "id": "3p-30phcUpvb",
        "colab_type": "code",
        "colab": {}
      },
      "source": [
        "plot_layer('conv2d_4',train_image_array[20].reshape(1,60,60,1))\n"
      ],
      "execution_count": null,
      "outputs": []
    },
    {
      "cell_type": "code",
      "metadata": {
        "id": "wWCCIf64UsDs",
        "colab_type": "code",
        "colab": {}
      },
      "source": [
        "plot_layer('conv2d_5',train_image_array[20].reshape(1,60,60,1))\n"
      ],
      "execution_count": null,
      "outputs": []
    },
    {
      "cell_type": "code",
      "metadata": {
        "id": "ZhIhqXF7Ut5g",
        "colab_type": "code",
        "colab": {}
      },
      "source": [
        "plot_layer('conv2d_6',train_image_array[20].reshape(1,60,60,1))\n"
      ],
      "execution_count": null,
      "outputs": []
    },
    {
      "cell_type": "code",
      "metadata": {
        "id": "pN0JeSu6U5IX",
        "colab_type": "code",
        "colab": {}
      },
      "source": [
        "plot_layer('conv2d_1',train_image_array[100].reshape(1,60,60,1))\n"
      ],
      "execution_count": null,
      "outputs": []
    },
    {
      "cell_type": "code",
      "metadata": {
        "id": "SSXbUoV0U8V7",
        "colab_type": "code",
        "colab": {}
      },
      "source": [
        "plot_layer('conv2d_2',train_image_array[100].reshape(1,60,60,1))\n"
      ],
      "execution_count": null,
      "outputs": []
    },
    {
      "cell_type": "code",
      "metadata": {
        "id": "c3jSBMj8U-Lr",
        "colab_type": "code",
        "colab": {}
      },
      "source": [
        "plot_layer('conv2d_3',train_image_array[100].reshape(1,60,60,1))\n"
      ],
      "execution_count": null,
      "outputs": []
    },
    {
      "cell_type": "code",
      "metadata": {
        "id": "ZMOWlJCkVKnN",
        "colab_type": "code",
        "colab": {}
      },
      "source": [
        "plot_layer('conv2d_1',train_image_array[300].reshape(1,60,60,1))\n"
      ],
      "execution_count": null,
      "outputs": []
    },
    {
      "cell_type": "code",
      "metadata": {
        "id": "w1v1LCO5VMe7",
        "colab_type": "code",
        "colab": {}
      },
      "source": [
        "plot_layer('conv2d_2',train_image_array[300].reshape(1,60,60,1))\n"
      ],
      "execution_count": null,
      "outputs": []
    },
    {
      "cell_type": "code",
      "metadata": {
        "id": "7Nn6u24dVPdn",
        "colab_type": "code",
        "colab": {}
      },
      "source": [
        "plot_layer('conv2d_1',train_image_array[500].reshape(1,60,60,1))\n"
      ],
      "execution_count": null,
      "outputs": []
    },
    {
      "cell_type": "code",
      "metadata": {
        "id": "2m14pyRFVTkF",
        "colab_type": "code",
        "colab": {}
      },
      "source": [
        "plot_layer('conv2d_1',train_image_array[1000].reshape(1,60,60,1))\n"
      ],
      "execution_count": null,
      "outputs": []
    },
    {
      "cell_type": "code",
      "metadata": {
        "id": "ABkN1nl3VVuT",
        "colab_type": "code",
        "colab": {}
      },
      "source": [
        "plot_layer('conv2d_2',train_image_array[1000].reshape(1,60,60,1))\n"
      ],
      "execution_count": null,
      "outputs": []
    },
    {
      "cell_type": "code",
      "metadata": {
        "id": "zpwJQRp-VYWH",
        "colab_type": "code",
        "colab": {}
      },
      "source": [
        "plot_layer('conv2d_1',train_image_array[1100].reshape(1,60,60,1))\n"
      ],
      "execution_count": null,
      "outputs": []
    },
    {
      "cell_type": "code",
      "metadata": {
        "id": "a4ITyN6TVbCz",
        "colab_type": "code",
        "colab": {}
      },
      "source": [
        "plot_layer('conv2d_2',train_image_array[1100].reshape(1,60,60,1))\n"
      ],
      "execution_count": null,
      "outputs": []
    },
    {
      "cell_type": "code",
      "metadata": {
        "id": "dpJ_mbjjVcS4",
        "colab_type": "code",
        "colab": {}
      },
      "source": [
        "plot_layer('conv2d_1',train_image_array[1200].reshape(1,60,60,1))\n"
      ],
      "execution_count": null,
      "outputs": []
    },
    {
      "cell_type": "code",
      "metadata": {
        "id": "EPsfcNP3Vdgc",
        "colab_type": "code",
        "colab": {}
      },
      "source": [
        "plot_layer('conv2d_2',train_image_array[1100].reshape(1,60,60,1))\n"
      ],
      "execution_count": null,
      "outputs": []
    },
    {
      "cell_type": "code",
      "metadata": {
        "id": "obx6j7DHVfiA",
        "colab_type": "code",
        "colab": {}
      },
      "source": [
        "plot_layer('conv2d_1',train_image_array[1300].reshape(1,60,60,1))\n"
      ],
      "execution_count": null,
      "outputs": []
    },
    {
      "cell_type": "code",
      "metadata": {
        "id": "PowFEqF0VhfA",
        "colab_type": "code",
        "colab": {}
      },
      "source": [
        "plot_layer('conv2d_1',train_image_array[1300].reshape(1,60,60,1))\n"
      ],
      "execution_count": null,
      "outputs": []
    },
    {
      "cell_type": "code",
      "metadata": {
        "id": "ywiBeIKoVj6C",
        "colab_type": "code",
        "colab": {}
      },
      "source": [
        "plot_layer('conv2d_2',train_image_array[1300].reshape(1,60,60,1))\n"
      ],
      "execution_count": null,
      "outputs": []
    },
    {
      "cell_type": "code",
      "metadata": {
        "id": "jc7APVoZOUFh",
        "colab_type": "code",
        "colab": {}
      },
      "source": [
        "plt.imshow(train_image_array[1400].reshape(60,60))"
      ],
      "execution_count": null,
      "outputs": []
    },
    {
      "cell_type": "code",
      "metadata": {
        "id": "y2rtBf7TVlZa",
        "colab_type": "code",
        "colab": {}
      },
      "source": [
        "plot_layer('conv2d_1',train_image_array[1400].reshape(1,60,60,1))\n"
      ],
      "execution_count": null,
      "outputs": []
    },
    {
      "cell_type": "code",
      "metadata": {
        "id": "ZPjX-rsjVpta",
        "colab_type": "code",
        "colab": {}
      },
      "source": [
        "plot_layer('conv2d_2',train_image_array[1400].reshape(1,60,60,1))\n"
      ],
      "execution_count": null,
      "outputs": []
    },
    {
      "cell_type": "code",
      "metadata": {
        "id": "5aD04ZKaVsSD",
        "colab_type": "code",
        "colab": {}
      },
      "source": [
        "plot_layer('conv2d_1',train_image_array[1500].reshape(1,60,60,1))\n"
      ],
      "execution_count": null,
      "outputs": []
    },
    {
      "cell_type": "code",
      "metadata": {
        "id": "8dKi1b4yVuBL",
        "colab_type": "code",
        "colab": {}
      },
      "source": [
        "plot_layer('conv2d_2',train_image_array[1500].reshape(1,60,60,1))\n"
      ],
      "execution_count": null,
      "outputs": []
    },
    {
      "cell_type": "code",
      "metadata": {
        "id": "FT9a_JPMVvrZ",
        "colab_type": "code",
        "colab": {}
      },
      "source": [
        "plot_layer('conv2d_1',train_image_array[1600].reshape(1,60,60,1))\n"
      ],
      "execution_count": null,
      "outputs": []
    },
    {
      "cell_type": "code",
      "metadata": {
        "id": "9uOWnalbVxKy",
        "colab_type": "code",
        "colab": {}
      },
      "source": [
        "plot_layer('conv2d_2',train_image_array[1600].reshape(1,60,60,1))\n"
      ],
      "execution_count": null,
      "outputs": []
    },
    {
      "cell_type": "code",
      "metadata": {
        "id": "U_xHXB47Vzi5",
        "colab_type": "code",
        "colab": {}
      },
      "source": [
        "plot_layer('conv2d_1',train_image_array[1700].reshape(1,60,60,1))\n"
      ],
      "execution_count": null,
      "outputs": []
    },
    {
      "cell_type": "code",
      "metadata": {
        "id": "7CK6SpQOV06q",
        "colab_type": "code",
        "colab": {}
      },
      "source": [
        "plot_layer('conv2d_2',train_image_array[1700].reshape(1,60,60,1))\n"
      ],
      "execution_count": null,
      "outputs": []
    },
    {
      "cell_type": "code",
      "metadata": {
        "id": "VJnwSZCkV5th",
        "colab_type": "code",
        "colab": {}
      },
      "source": [
        "plot_layer('conv2d_1',train_image_array[1800].reshape(1,60,60,1))\n"
      ],
      "execution_count": null,
      "outputs": []
    },
    {
      "cell_type": "code",
      "metadata": {
        "id": "3SJJKRGEV7fF",
        "colab_type": "code",
        "colab": {}
      },
      "source": [
        "plot_layer('conv2d_2',train_image_array[1800].reshape(1,60,60,1))\n"
      ],
      "execution_count": null,
      "outputs": []
    },
    {
      "cell_type": "code",
      "metadata": {
        "id": "PgB-wmpEV9lu",
        "colab_type": "code",
        "colab": {}
      },
      "source": [
        "plot_layer('conv2d_1',train_image_array[1900].reshape(1,60,60,1))\n"
      ],
      "execution_count": null,
      "outputs": []
    },
    {
      "cell_type": "code",
      "metadata": {
        "id": "mAHOu4m_V_J5",
        "colab_type": "code",
        "colab": {}
      },
      "source": [
        "plot_layer('conv2d_2',train_image_array[1900].reshape(1,60,60,1))\n"
      ],
      "execution_count": null,
      "outputs": []
    },
    {
      "cell_type": "code",
      "metadata": {
        "id": "jmHB_3r0WBl6",
        "colab_type": "code",
        "colab": {}
      },
      "source": [
        "plot_layer('conv2d_1',train_image_array[2000].reshape(1,60,60,1))\n"
      ],
      "execution_count": null,
      "outputs": []
    },
    {
      "cell_type": "code",
      "metadata": {
        "id": "_8m7Ry52WEle",
        "colab_type": "code",
        "colab": {}
      },
      "source": [
        "plot_layer('conv2d_2',train_image_array[2000].reshape(1,60,60,1))\n"
      ],
      "execution_count": null,
      "outputs": []
    },
    {
      "cell_type": "code",
      "metadata": {
        "id": "PFvNi_GGRyoD",
        "colab_type": "code",
        "colab": {}
      },
      "source": [
        "import matplotlib.pyplot as plt\n",
        "import numpy as np\n",
        "%matplotlib inline\n",
        "np.random.seed(42)\n",
        "# hist,bin_edges = np.histogram(train_image_labels)\n",
        "\n",
        "\n",
        "# plt.bar(bin_edges[:-1], hist, width = 0.5, color='#0504aa',alpha=0.7)\n",
        "# plt.xlim(min(bin_edges), max(bin_edges))\n",
        "# plt.grid(axis='y', alpha=0.75)\n",
        "# plt.xlabel('Class',fontsize=15)\n",
        "# plt.ylabel('number of images per class',fontsize=15)\n",
        "# plt.xticks(fontsize=15)\n",
        "# plt.yticks(fontsize=15)\n",
        "# plt.ylabel('number of images per class',fontsize=15)\n",
        "# plt.title('Class',fontsize=15)\n",
        "# plt.show()\n",
        "\n",
        "plt.figure(figsize=[10,8])\n",
        "plt.hist(train_image_labels,density=False, bins=43)  # `density=False` would make counts\n",
        "plt.ylabel('number of images per class')\n",
        "plt.xlabel('class');"
      ],
      "execution_count": null,
      "outputs": []
    },
    {
      "cell_type": "code",
      "metadata": {
        "id": "nhWgO8wfVA4T",
        "colab_type": "code",
        "colab": {}
      },
      "source": [
        "file = open('/content/drive/My Drive/[ Masters ] - Deep Learning Proj/DataSet/Processed_DataSet/BelgiumTrainDataSet.pkl', 'rb')\n",
        "train_image_array, train_image_labels = pickle.load(file)\n",
        "file.close()"
      ],
      "execution_count": null,
      "outputs": []
    },
    {
      "cell_type": "code",
      "metadata": {
        "id": "wvNJCx1qUJBF",
        "colab_type": "code",
        "colab": {}
      },
      "source": [
        "from matplotlib import colors\n",
        "from matplotlib.ticker import PercentFormatter"
      ],
      "execution_count": null,
      "outputs": []
    },
    {
      "cell_type": "code",
      "metadata": {
        "id": "7R7sWke-T7No",
        "colab_type": "code",
        "colab": {}
      },
      "source": [
        "fig, axs = plt.subplots(1, 2, figsize=(15,15))\n",
        "\n",
        "# N is the count in each bin, bins is the lower-limit of the bin\n",
        "N, bins, patches = axs[0].hist(train_image_labels, bins=43)\n",
        "\n",
        "# We'll color code by height, but you could use any scalar\n",
        "fracs = N / N.max()\n",
        "\n",
        "# we need to normalize the data to 0..1 for the full range of the colormap\n",
        "norm = colors.Normalize(fracs.min(), fracs.max())\n",
        "\n",
        "# Now, we'll loop through our objects and set the color of each accordingly\n",
        "for thisfrac, thispatch in zip(fracs, patches):\n",
        "    color = plt.cm.viridis(norm(thisfrac))\n",
        "    thispatch.set_facecolor(color)\n",
        "\n",
        "# We can also normalize our inputs by the total number of counts\n",
        "axs[1].hist(train_image_labels, bins=43, density=True)\n",
        "\n",
        "# Now we format the y-axis to display percentage\n",
        "axs[1].yaxis.set_major_formatter(PercentFormatter(xmax=1))"
      ],
      "execution_count": null,
      "outputs": []
    }
  ]
}