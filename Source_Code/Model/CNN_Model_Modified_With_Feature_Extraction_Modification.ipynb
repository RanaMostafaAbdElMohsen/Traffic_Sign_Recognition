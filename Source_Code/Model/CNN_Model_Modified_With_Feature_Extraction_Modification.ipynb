{
 "cells": [
  {
   "cell_type": "code",
   "execution_count": null,
   "metadata": {},
   "outputs": [],
   "source": [
    "def IntialiseEnv():\n",
    "    nb_dir = os.path.split(os.getcwd())[0]\n",
    "    if nb_dir not in sys.path:\n",
    "        sys.path.append(nb_dir)\n",
    "    invalid_path='/opt/ros/kinetic/lib/python2.7/dist-packages'\n",
    "    if invalid_path in sys.path:\n",
    "        sys.path.remove(invalid_path)"
   ]
  },
  {
   "cell_type": "code",
   "execution_count": null,
   "metadata": {},
   "outputs": [],
   "source": [
    "# Libraries\n",
    "import os\n",
    "import sys\n",
    "IntialiseEnv()\n",
    "import tensorflow as tf\n",
    "import numpy as np\n",
    "import math\n",
    "import import_ipynb\n",
    "from sklearn.model_selection import train_test_split\n",
    "from Data_Preparation.Data_Preparation import LoadTrainDataSetWithAugmentationFeatureExtractionModified\n",
    "from Data_Preparation.Data_Preparation import LoadTestDataSetFeatureExtractionModified"
   ]
  },
  {
   "cell_type": "code",
   "execution_count": null,
   "metadata": {},
   "outputs": [],
   "source": [
    "# Use GPU/CPU Configurations\n",
    "\n",
    "import tensorflow as tf\n",
    "print(tf.__version__)\n",
    "print(tf.test.gpu_device_name())\n",
    "print(\"Num GPUs Available: \", len(tf.config.experimental.list_physical_devices('GPU')))"
   ]
  },
  {
   "cell_type": "code",
   "execution_count": null,
   "metadata": {},
   "outputs": [],
   "source": [
    "DataSetImages, DataSetLabels = LoadTrainDataSetWithAugmentationFeatureExtractionModified()"
   ]
  },
  {
   "cell_type": "code",
   "execution_count": null,
   "metadata": {},
   "outputs": [],
   "source": [
    "image_train, image_valid,label_train, label_valid = train_test_split(DataSetImages,DataSetLabels,stratify=DataSetLabels,test_size=0.2,random_state=43)"
   ]
  },
  {
   "cell_type": "code",
   "execution_count": null,
   "metadata": {},
   "outputs": [],
   "source": [
    "print(image_train.shape)"
   ]
  },
  {
   "cell_type": "code",
   "execution_count": null,
   "metadata": {},
   "outputs": [],
   "source": [
    "test_image_array, test_image_labels = LoadTestDataSetFeatureExtractionModified()"
   ]
  },
  {
   "cell_type": "code",
   "execution_count": null,
   "metadata": {},
   "outputs": [],
   "source": [
    "# Hyper-parameters tuning\n",
    "kernel_1 = (5,5)\n",
    "kernel_2 = (3,3)\n",
    "pooling = (2,2)\n",
    "filter_size = 32\n",
    "hidden_layer = 64\n",
    "dropout = 0.1\n",
    "num_classes = 43"
   ]
  },
  {
   "cell_type": "code",
   "execution_count": null,
   "metadata": {},
   "outputs": [],
   "source": [
    "def model_init_fn():\n",
    "    model = None\n",
    "    tf.initializers.VarianceScaling(scale=2.0)\n",
    "    \n",
    "    layers = [\n",
    "        tf.keras.layers.Conv2D(filter_size,kernel_1, strides = 1, padding='valid',activation = tf.nn.relu),\n",
    "        tf.keras.layers.MaxPool2D(pooling),\n",
    "        tf.keras.layers.Dropout(dropout),\n",
    "        tf.keras.layers.Conv2D(64,kernel_2, strides = 1, padding='valid', activation = tf.nn.relu),\n",
    "        tf.keras.layers.MaxPool2D(pooling),\n",
    "        tf.keras.layers.Dropout(dropout),\n",
    "        tf.keras.layers.Conv2D(64,kernel_2, strides = 1, padding='valid', activation = tf.nn.relu),\n",
    "        tf.keras.layers.MaxPool2D(pooling),\n",
    "        tf.keras.layers.Dropout(dropout),\n",
    "        tf.keras.layers.Conv2D(filter_size,kernel_2, strides = 1, padding='valid', activation = tf.nn.relu),\n",
    "        tf.keras.layers.MaxPool2D(pooling),\n",
    "        tf.keras.layers.Flatten(),\n",
    "        tf.keras.layers.Dense(hidden_layer, activation = tf.nn.relu),\n",
    "        tf.keras.layers.Dropout(dropout),\n",
    "        tf.keras.layers.Dense(num_classes, activation = 'softmax')\n",
    "    ]\n",
    "    model = tf.keras.Sequential(layers)\n",
    "    return model\n",
    "\n",
    "\n",
    "model = model_init_fn()\n",
    "\n",
    "model.compile(optimizer='sgd',\n",
    "              loss='sparse_categorical_crossentropy',\n",
    "              metrics=[tf.keras.metrics.sparse_categorical_accuracy])\n",
    "\n",
    "\n",
    "model.fit(image_train, np.array(label_train) , batch_size=64, epochs=40, validation_data=(image_valid, np.array(label_valid)))\n"
   ]
  },
  {
   "cell_type": "code",
   "execution_count": null,
   "metadata": {},
   "outputs": [],
   "source": [
    "def saveCNNModel():\n",
    "    model.save('cnn_model_modified.h5')"
   ]
  },
  {
   "cell_type": "code",
   "execution_count": null,
   "metadata": {},
   "outputs": [],
   "source": [
    "#  model._set_inputs(image_train,np.array(label_train))\n",
    "saveCNNModel()"
   ]
  },
  {
   "cell_type": "code",
   "execution_count": null,
   "metadata": {},
   "outputs": [],
   "source": [
    "def load_model():\n",
    "    Model = tf.keras.models.load_model('cnn_model_modified.h5')\n",
    "    return Model"
   ]
  },
  {
   "cell_type": "code",
   "execution_count": null,
   "metadata": {},
   "outputs": [],
   "source": [
    "# del model\n",
    "model._set_inputs(image_train,np.array(label_train))\n",
    "model= load_model()"
   ]
  },
  {
   "cell_type": "code",
   "execution_count": null,
   "metadata": {},
   "outputs": [],
   "source": [
    "model.evaluate(test_image_array, np.array(test_image_labels), batch_size=128)"
   ]
  },
  {
   "cell_type": "code",
   "execution_count": null,
   "metadata": {},
   "outputs": [],
   "source": []
  }
 ],
 "metadata": {
  "kernelspec": {
   "display_name": "Python 3",
   "language": "python",
   "name": "python3"
  },
  "language_info": {
   "codemirror_mode": {
    "name": "ipython",
    "version": 3
   },
   "file_extension": ".py",
   "mimetype": "text/x-python",
   "name": "python",
   "nbconvert_exporter": "python",
   "pygments_lexer": "ipython3",
   "version": "3.6.9"
  }
 },
 "nbformat": 4,
 "nbformat_minor": 2
}
