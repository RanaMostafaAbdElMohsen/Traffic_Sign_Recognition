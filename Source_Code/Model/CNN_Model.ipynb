{
 "cells": [
  {
   "cell_type": "code",
   "execution_count": 1,
   "metadata": {},
   "outputs": [],
   "source": [
    "def IntialiseEnv():\n",
    "    nb_dir = os.path.split(os.getcwd())[0]\n",
    "    if nb_dir not in sys.path:\n",
    "        sys.path.append(nb_dir)\n",
    "    invalid_path='/opt/ros/kinetic/lib/python2.7/dist-packages'\n",
    "    if invalid_path in sys.path:\n",
    "        sys.path.remove(invalid_path)"
   ]
  },
  {
   "cell_type": "code",
   "execution_count": 2,
   "metadata": {},
   "outputs": [
    {
     "name": "stdout",
     "output_type": "stream",
     "text": [
      "importing Jupyter notebook from D:\\github\\Traffic_Sign_Recognition_Detection\\Source_Code\\Data_Preparation\\Data_Preparation.ipynb\n",
      "importing Jupyter notebook from D:\\github\\Traffic_Sign_Recognition_Detection\\Source_Code\\Feature_Extraction\\Segmentation.ipynb\n"
     ]
    }
   ],
   "source": [
    "# Libraries\n",
    "import os\n",
    "import sys\n",
    "IntialiseEnv()\n",
    "import tensorflow as tf\n",
    "import numpy as np\n",
    "import math\n",
    "import import_ipynb\n",
    "from sklearn.model_selection import train_test_split\n",
    "from Data_Preparation.Data_Preparation import LoadTrainDataSet"
   ]
  },
  {
   "cell_type": "code",
   "execution_count": 3,
   "metadata": {},
   "outputs": [
    {
     "name": "stdout",
     "output_type": "stream",
     "text": [
      "2.0.0\n",
      "/device:GPU:0\n",
      "Num GPUs Available:  1\n"
     ]
    }
   ],
   "source": [
    "# Use GPU/CPU Configurations\n",
    "\n",
    "import tensorflow as tf\n",
    "print(tf.__version__)\n",
    "print(tf.test.gpu_device_name())\n",
    "print(\"Num GPUs Available: \", len(tf.config.experimental.list_physical_devices('GPU')))"
   ]
  },
  {
   "cell_type": "code",
   "execution_count": 4,
   "metadata": {},
   "outputs": [],
   "source": [
    "class Dataset(object):\n",
    "    def __init__(self, X, y, batch_size, shuffle=False):\n",
    "        \"\"\"\n",
    "        Construct a Dataset object to iterate over data X and labels y\n",
    "        \n",
    "        Inputs:\n",
    "        - X: Numpy array of data, of any shape\n",
    "        - y: Numpy array of labels, of any shape but with y.shape[0] == X.shape[0]\n",
    "        - batch_size: Integer giving number of elements per minibatch\n",
    "        - shuffle: (optional) Boolean, whether to shuffle the data on each epoch\n",
    "        \"\"\"\n",
    "        assert X.shape[0] == y.shape[0], 'Got different numbers of data and labels'\n",
    "        self.X, self.y = X, y\n",
    "        self.batch_size, self.shuffle = batch_size, shuffle\n",
    "\n",
    "    def __iter__(self):\n",
    "        N, B = self.X.shape[0], self.batch_size\n",
    "        idxs = np.arange(N)\n",
    "        if self.shuffle:\n",
    "            np.random.shuffle(idxs)\n",
    "        return iter((self.X[i:i+B], self.y[i:i+B]) for i in range(0, N, B))"
   ]
  },
  {
   "cell_type": "code",
   "execution_count": 5,
   "metadata": {},
   "outputs": [],
   "source": [
    "class CNN_Model(tf.keras.Model):\n",
    "    def __init__(self):\n",
    "        super(CNN_Model, self).__init__()\n",
    "        initializer = tf.initializers.VarianceScaling(scale=2.0)\n",
    "        self.conv_layer_1 = tf.keras.layers.Conv2D(filter_size,kernel_1, strides = 1, padding='same',activation = tf.nn.relu)\n",
    "        self.pool_layer_1 = tf.keras.layers.MaxPool2D(pooling)\n",
    "        self.conv_layer_2 = tf.keras.layers.Conv2D(filter_size,kernel_2, strides = 1, padding='same', activation = tf.nn.relu)\n",
    "        self.pool_layer_2 = tf.keras.layers.MaxPool2D(pooling)\n",
    "        self.conv_layer_3 = tf.keras.layers.Conv2D(filter_size,kernel_2, strides = 1, padding='same', activation = tf.nn.relu)\n",
    "        self.pool_layer_3 = tf.keras.layers.MaxPool2D(pooling)\n",
    "        self.flatten = tf.keras.layers.Flatten()\n",
    "        self.fc = tf.keras.layers.Dense(hidden_layer, activation = tf.nn.relu)\n",
    "        self.drop = tf.keras.layers.Dropout(dropout)\n",
    "        self.final = tf.keras.layers.Dense(num_classes, activation = 'softmax')\n",
    "    \n",
    "    def call(self, input_tensor, training=False):\n",
    "        x = self.conv_layer_1(input_tensor)\n",
    "        x = self.pool_layer_1(x)\n",
    "        x = self.conv_layer_2(x)\n",
    "        x = self.pool_layer_2(x)        \n",
    "        x = self.conv_layer_3(x)\n",
    "        x = self.pool_layer_3(x)\n",
    "        x = self.flatten(x)\n",
    "        x = self.fc(x)\n",
    "        x = self.drop(x)\n",
    "        x = self.final(x)\n",
    "        return x"
   ]
  },
  {
   "cell_type": "code",
   "execution_count": 6,
   "metadata": {},
   "outputs": [],
   "source": [
    "def train(TrainingDataSet, ValidationDataSet, model_init_fn, optimizer_init_fn, num_epochs=1, is_training=False):  \n",
    "\n",
    "        # Compute the loss like we did in Part II\n",
    "        loss_fn = tf.keras.losses.SparseCategoricalCrossentropy()\n",
    "        \n",
    "        model = model_init_fn()\n",
    "        optimizer = optimizer_init_fn()\n",
    "        \n",
    "        train_loss = tf.keras.metrics.Mean(name='train_loss')\n",
    "        train_accuracy = tf.keras.metrics.SparseCategoricalAccuracy(name='train_accuracy')\n",
    "    \n",
    "        val_loss = tf.keras.metrics.Mean(name='val_loss')\n",
    "        val_accuracy = tf.keras.metrics.SparseCategoricalAccuracy(name='val_accuracy')\n",
    "        \n",
    "        t = 0\n",
    "        for epoch in range(num_epochs):\n",
    "            \n",
    "            train_loss.reset_states()\n",
    "            train_accuracy.reset_states()\n",
    "            \n",
    "            # Training DataSet\n",
    "            for x_np, y_np in TrainingDataSet:\n",
    "                with tf.GradientTape() as tape:\n",
    "                    \n",
    "                    # Use the model function to build the forward pass.\n",
    "                    scores = model(x_np, training=is_training)\n",
    "                    loss = loss_fn(y_np, scores)\n",
    "      \n",
    "                    gradients = tape.gradient(loss, model.trainable_variables)\n",
    "                    optimizer.apply_gradients(zip(gradients, model.trainable_variables))\n",
    "                    \n",
    "                    # Update the metrics\n",
    "                    train_loss.update_state(loss)\n",
    "                    train_accuracy.update_state(y_np, scores)\n",
    "                    \n",
    "                    if t % print_every == 0:\n",
    "                        val_loss.reset_states()\n",
    "                        val_accuracy.reset_states()\n",
    "                        for test_x, test_y in ValidationDataSet:\n",
    "                            # During validation at end of epoch, training set to False\n",
    "                            prediction = model(test_x, training=False)\n",
    "                            t_loss = loss_fn(test_y, prediction)\n",
    "\n",
    "                            val_loss.update_state(t_loss)\n",
    "                            val_accuracy.update_state(test_y, prediction)\n",
    "                        \n",
    "                        template = 'Iteration {}, Epoch {}, Loss: {}, Accuracy: {}, Val Loss: {}, Val Accuracy: {}'\n",
    "                        print (template.format(t, epoch+1,\n",
    "                                             train_loss.result(),\n",
    "                                             train_accuracy.result()*100,\n",
    "                                             val_loss.result(),\n",
    "                                             val_accuracy.result()*100))\n",
    "                    t += 1"
   ]
  },
  {
   "cell_type": "code",
   "execution_count": 17,
   "metadata": {},
   "outputs": [],
   "source": [
    "# Hyper-parameters tuning\n",
    "kernel_1 = (5,5)\n",
    "kernel_2 = (3,3)\n",
    "pooling = (2,2)\n",
    "filter_size = 32\n",
    "hidden_layer = 64\n",
    "dropout = 0.2\n",
    "num_classes = 43\n",
    "\n",
    "# Configurations of batch printing\n",
    "print_every = 1000\n",
    "num_epochs = 10\n",
    "learning_rate = 1.5e-3"
   ]
  },
  {
   "cell_type": "code",
   "execution_count": 18,
   "metadata": {},
   "outputs": [],
   "source": [
    "model = CNN_Model()\n",
    "\n",
    "def model_init_fn():\n",
    "    return CNN_Model()"
   ]
  },
  {
   "cell_type": "code",
   "execution_count": 19,
   "metadata": {},
   "outputs": [],
   "source": [
    "def optimizer_init_fn():\n",
    "    return tf.keras.optimizers.Adam(learning_rate) "
   ]
  },
  {
   "cell_type": "code",
   "execution_count": 20,
   "metadata": {},
   "outputs": [],
   "source": [
    "def saveCNNModel():\n",
    "    model.save('cnn_model.model')"
   ]
  },
  {
   "cell_type": "code",
   "execution_count": 21,
   "metadata": {},
   "outputs": [
    {
     "name": "stdout",
     "output_type": "stream",
     "text": [
      "Directory:  00000\n",
      "Directory:  00001\n",
      "Directory:  00002\n",
      "Directory:  00003\n",
      "Directory:  00004\n",
      "Directory:  00005\n",
      "Directory:  00006\n",
      "Directory:  00007\n",
      "Directory:  00008\n",
      "Directory:  00009\n",
      "Directory:  00010\n",
      "Directory:  00011\n",
      "Directory:  00012\n",
      "Directory:  00013\n",
      "Directory:  00014\n",
      "Directory:  00015\n",
      "Directory:  00016\n",
      "Directory:  00017\n",
      "Directory:  00018\n",
      "Directory:  00019\n",
      "Directory:  00020\n",
      "Directory:  00021\n",
      "Directory:  00022\n",
      "Directory:  00023\n",
      "Directory:  00024\n",
      "Directory:  00025\n",
      "Directory:  00026\n",
      "Directory:  00027\n",
      "Directory:  00028\n",
      "Directory:  00029\n",
      "Directory:  00030\n",
      "Directory:  00031\n",
      "Directory:  00032\n",
      "Directory:  00033\n",
      "Directory:  00034\n",
      "Directory:  00035\n",
      "Directory:  00036\n",
      "Directory:  00037\n",
      "Directory:  00038\n",
      "Directory:  00039\n",
      "Directory:  00040\n",
      "Directory:  00041\n",
      "Directory:  00042\n"
     ]
    }
   ],
   "source": [
    "DataSetImages, DataSetLabels = LoadTrainDataSet()"
   ]
  },
  {
   "cell_type": "code",
   "execution_count": 22,
   "metadata": {},
   "outputs": [],
   "source": [
    "image_train, image_valid,label_train, label_valid = train_test_split(DataSetImages,DataSetLabels,stratify=DataSetLabels,test_size=0.2,random_state=42)"
   ]
  },
  {
   "cell_type": "code",
   "execution_count": 23,
   "metadata": {},
   "outputs": [
    {
     "name": "stdout",
     "output_type": "stream",
     "text": [
      "(31367, 80, 80, 1)\n",
      "0 (64, 80, 80, 1) (64,)\n",
      "1 (64, 80, 80, 1) (64,)\n",
      "2 (64, 80, 80, 1) (64,)\n",
      "3 (64, 80, 80, 1) (64,)\n",
      "4 (64, 80, 80, 1) (64,)\n",
      "5 (64, 80, 80, 1) (64,)\n",
      "6 (64, 80, 80, 1) (64,)\n"
     ]
    }
   ],
   "source": [
    "print(image_train.shape)\n",
    "TrainingDataSet= Dataset(image_train,np.array(label_train), batch_size=64, shuffle=True)\n",
    "ValidationDataSet= Dataset(image_valid,np.array(label_valid), batch_size=64, shuffle=True)\n",
    "for t, (x, y) in enumerate(TrainingDataSet):\n",
    "    print(t, x.shape, y.shape)\n",
    "    if t > 5: break"
   ]
  },
  {
   "cell_type": "code",
   "execution_count": 24,
   "metadata": {},
   "outputs": [
    {
     "name": "stdout",
     "output_type": "stream",
     "text": [
      "WARNING:tensorflow:Layer cnn__model_3 is casting an input tensor from dtype float64 to the layer's dtype of float32, which is new behavior in TensorFlow 2.  The layer has dtype float32 because it's dtype defaults to floatx.\n",
      "\n",
      "If you intended to run this layer in float32, you can safely ignore this warning. If in doubt, this warning is likely only an issue if you are porting a TensorFlow 1.X model to TensorFlow 2.\n",
      "\n",
      "To change all layers to have dtype float64 by default, call `tf.keras.backend.set_floatx('float64')`. To change just this layer, pass dtype='float64' to the layer constructor. If you are the author of this layer, you can disable autocasting by passing autocast=False to the base Layer constructor.\n",
      "\n",
      "Iteration 0, Epoch 1, Loss: 3.7517614364624023, Accuracy: 1.5625, Val Loss: 3.7491939067840576, Val Accuracy: 5.049732208251953\n",
      "Iteration 1000, Epoch 3, Loss: 0.3184906840324402, Accuracy: 89.47368621826172, Val Loss: 0.16566155850887299, Val Accuracy: 95.47309112548828\n",
      "Iteration 2000, Epoch 5, Loss: 0.15517811477184296, Accuracy: 95.1435775756836, Val Loss: 0.10673973709344864, Val Accuracy: 97.19459533691406\n",
      "Iteration 3000, Epoch 7, Loss: 0.12206931412220001, Accuracy: 96.0227279663086, Val Loss: 0.08401952683925629, Val Accuracy: 97.66641235351562\n",
      "Iteration 4000, Epoch 9, Loss: 0.10493632405996323, Accuracy: 96.38270568847656, Val Loss: 0.0731409341096878, Val Accuracy: 98.1509780883789\n"
     ]
    }
   ],
   "source": [
    "train(TrainingDataSet, ValidationDataSet, model_init_fn, optimizer_init_fn, num_epochs=num_epochs, is_training=True)"
   ]
  },
  {
   "cell_type": "code",
   "execution_count": 25,
   "metadata": {},
   "outputs": [
    {
     "name": "stdout",
     "output_type": "stream",
     "text": [
      "INFO:tensorflow:Assets written to: cnn_model.model\\assets\n"
     ]
    }
   ],
   "source": [
    "model._set_inputs(image_train,np.array(label_train))\n",
    "saveCNNModel()"
   ]
  }
 ],
 "metadata": {
  "kernelspec": {
   "display_name": "Python 3",
   "language": "python",
   "name": "python3"
  },
  "language_info": {
   "codemirror_mode": {
    "name": "ipython",
    "version": 3
   },
   "file_extension": ".py",
   "mimetype": "text/x-python",
   "name": "python",
   "nbconvert_exporter": "python",
   "pygments_lexer": "ipython3",
   "version": "3.6.8"
  }
 },
 "nbformat": 4,
 "nbformat_minor": 2
}
