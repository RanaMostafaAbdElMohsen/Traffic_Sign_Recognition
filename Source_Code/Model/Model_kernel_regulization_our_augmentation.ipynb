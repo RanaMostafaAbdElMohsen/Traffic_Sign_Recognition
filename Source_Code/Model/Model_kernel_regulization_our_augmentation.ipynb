{
  "nbformat": 4,
  "nbformat_minor": 0,
  "metadata": {
    "accelerator": "GPU",
    "colab": {
      "name": "Model-Res.ipynb",
      "provenance": [],
      "collapsed_sections": []
    },
    "kernelspec": {
      "display_name": "Python 3",
      "language": "python",
      "name": "python3"
    },
    "language_info": {
      "codemirror_mode": {
        "name": "ipython",
        "version": 3
      },
      "file_extension": ".py",
      "mimetype": "text/x-python",
      "name": "python",
      "nbconvert_exporter": "python",
      "pygments_lexer": "ipython3",
      "version": "3.6.8"
    }
  },
  "cells": [
    {
      "cell_type": "markdown",
      "metadata": {
        "id": "i3Y2yu4E_z3L",
        "colab_type": "text"
      },
      "source": [
        "# Traffic Sign Recognition Model\n",
        "## Environment Initialisation"
      ]
    },
    {
      "cell_type": "code",
      "metadata": {
        "id": "4o-kPkjb_z3O",
        "colab_type": "code",
        "colab": {}
      },
      "source": [
        "def IntialiseEnv():\n",
        "    nb_dir = os.path.split(os.getcwd())[0]\n",
        "    if nb_dir not in sys.path:\n",
        "        sys.path.append(nb_dir)"
      ],
      "execution_count": 1,
      "outputs": []
    },
    {
      "cell_type": "code",
      "metadata": {
        "id": "feZ1r8FDANsA",
        "colab_type": "code",
        "colab": {
          "base_uri": "https://localhost:8080/",
          "height": 69
        },
        "outputId": "15307d41-50df-4759-e17a-265d045ed905"
      },
      "source": [
        "from google.colab import drive\n",
        "drive.mount('/content/drive')\n",
        "import os\n",
        "os.chdir(\"/content/drive/\")\n",
        "!ls\n",
        "import os\n",
        "os.chdir(\"/content/drive/My Drive/Source_Code/Model\")\n",
        "!pip install import_ipynb"
      ],
      "execution_count": 2,
      "outputs": [
        {
          "output_type": "stream",
          "text": [
            "Drive already mounted at /content/drive; to attempt to forcibly remount, call drive.mount(\"/content/drive\", force_remount=True).\n",
            "'My Drive'\n",
            "Requirement already satisfied: import_ipynb in /usr/local/lib/python3.6/dist-packages (0.1.3)\n"
          ],
          "name": "stdout"
        }
      ]
    },
    {
      "cell_type": "code",
      "metadata": {
        "colab_type": "code",
        "id": "46MrgoVG_fv3",
        "colab": {
          "base_uri": "https://localhost:8080/",
          "height": 89
        },
        "outputId": "eed0f680-9f52-49f9-c17c-d85b4ac7753f"
      },
      "source": [
        "# Libraries\n",
        "import os\n",
        "import sys\n",
        "import tensorflow as tf\n",
        "import numpy as np\n",
        "import math\n",
        "IntialiseEnv()\n",
        "import import_ipynb\n",
        "import pickle\n",
        "from sklearn.model_selection import train_test_split\n",
        "\n",
        "from Data_Preparation.Data_Preparation import LoadTrainDataSetWithAugmentation\n",
        "from Data_Preparation.Data_Preparation import LoadTrainDataSet\n",
        "from Data_Preparation.Data_Preparation import LoadTestDataSet"
      ],
      "execution_count": 3,
      "outputs": [
        {
          "output_type": "stream",
          "text": [
            "importing Jupyter notebook from /content/drive/.shortcut-targets-by-id/1zjkLEtrgLCalQx9om9YEjISmqe3bXXFt/Source_Code/Data_Preparation/Data_Preparation.ipynb\n",
            "importing Jupyter notebook from /content/drive/.shortcut-targets-by-id/1zjkLEtrgLCalQx9om9YEjISmqe3bXXFt/Source_Code/Pre_Processing/SegmentationNew.ipynb\n",
            "importing Jupyter notebook from /content/drive/.shortcut-targets-by-id/1zjkLEtrgLCalQx9om9YEjISmqe3bXXFt/Source_Code/Pre_Processing/Segmentation.ipynb\n"
          ],
          "name": "stdout"
        }
      ]
    },
    {
      "cell_type": "markdown",
      "metadata": {
        "id": "d_TRLKPg_z3l",
        "colab_type": "text"
      },
      "source": [
        "## Use GPU/ CPU Configuration \n",
        "Tensorflow version 2.0\n",
        "Prompt to user if CPU/ GPU is in use with device name"
      ]
    },
    {
      "cell_type": "code",
      "metadata": {
        "colab_type": "code",
        "id": "_9HpzHne_fwD",
        "colab": {
          "base_uri": "https://localhost:8080/",
          "height": 69
        },
        "outputId": "e821244f-f139-4d09-fc58-9e54ffe59e04"
      },
      "source": [
        "# Use GPU/CPU Configurations\n",
        "\n",
        "import tensorflow as tf\n",
        "print(tf.__version__)\n",
        "print(tf.test.gpu_device_name())\n",
        "print(\"Num GPUs Available: \", len(tf.config.experimental.list_physical_devices('GPU')))"
      ],
      "execution_count": 4,
      "outputs": [
        {
          "output_type": "stream",
          "text": [
            "2.2.0\n",
            "/device:GPU:0\n",
            "Num GPUs Available:  1\n"
          ],
          "name": "stdout"
        }
      ]
    },
    {
      "cell_type": "markdown",
      "metadata": {
        "id": "KlaazRm8_z3w",
        "colab_type": "text"
      },
      "source": [
        "## Reading DataSet\n",
        "Pre-processing and Loading Train and Test DataSet respectively"
      ]
    },
    {
      "cell_type": "code",
      "metadata": {
        "id": "ofBOmEtu_z3x",
        "colab_type": "code",
        "colab": {}
      },
      "source": [
        "def ReadTrainDataSet():\n",
        "    print(\"Reading Train Pre-processed DataSet\")\n",
        "    processedTrainDataSet = 'Processed_DataSet/TrainDataSet.pkl'\n",
        "    isProcessedTrainDataSetExits= os.path.exists(processedTrainDataSet)\n",
        "    train_image_array, train_image_labels = None, None\n",
        "    \n",
        "    if isProcessedTrainDataSetExits:\n",
        "        print(\"Loading Processed Train DataSet from Processed_DataSet/TrainDataSet.pkl\")\n",
        "        file = open(processedTrainDataSet, 'rb')\n",
        "        train_image_array, train_image_labels = pickle.load(file)\n",
        "        file.close()\n",
        "        print(\"Done Loading Train DataSet.\")\n",
        "    else:\n",
        "        print(\"Processed_DataSet/TrainDataSet.pkl file does not exist\")\n",
        "        print(\"Loading Train DataSet ... This may take a while.\")\n",
        "        train_image_array, train_image_labels =  LoadTrainDataSetWithAugmentation()\n",
        "        file = open(processedTrainDataSet, 'wb')\n",
        "        pickle.dump((train_image_array, train_image_labels), file, protocol=4)\n",
        "        file.close()\n",
        "        print(\"Saving pre-processed train DataSets in Processed_DataSet/TrainDataSet.pkl\")\n",
        "    return train_image_array, train_image_labels    "
      ],
      "execution_count": 5,
      "outputs": []
    },
    {
      "cell_type": "code",
      "metadata": {
        "id": "37crCI5F_z34",
        "colab_type": "code",
        "colab": {}
      },
      "source": [
        "def ReadTestDataSet():\n",
        "    processedTestDataSet = 'Processed_DataSet/TestDataSet.pkl'\n",
        "    isProcessedTestDataSetExits= os.path.exists(processedTestDataSet)\n",
        "    test_image_array, test_image_labels = None, None\n",
        "    \n",
        "    if isProcessedTestDataSetExits:\n",
        "        print(\"Loading Processed Test DataSet from Processed_DataSet/TestDataSet.pkl\")\n",
        "        file = open(processedTestDataSet, 'rb')\n",
        "        test_image_array, test_image_labels = pickle.load(file)\n",
        "        file.close()\n",
        "        print(\"Done Loading Test DataSet.\")\n",
        "    else:\n",
        "        print(\"Processed_DataSet/TestDataSet.pkl file does not exist\")\n",
        "        print(\"Loading Test DataSet ... This may take a while.\")\n",
        "        test_image_array, test_image_labels = LoadTestDataSet()\n",
        "        file = open(processedTestDataSet, 'wb')\n",
        "        pickle.dump((test_image_array, test_image_labels), file)\n",
        "        file.close()\n",
        "        print(\"Saving pre-processed test DataSets in Processed_DataSet/TestDataSet.pkl\")\n",
        "    return test_image_array, test_image_labels"
      ],
      "execution_count": 6,
      "outputs": []
    },
    {
      "cell_type": "code",
      "metadata": {
        "id": "M5UOSE8L_z4B",
        "colab_type": "code",
        "colab": {
          "base_uri": "https://localhost:8080/",
          "height": 69
        },
        "outputId": "3b4177e4-d99e-4ec8-91ba-e591d9070d78"
      },
      "source": [
        "train_image_array, train_image_labels= ReadTrainDataSet()"
      ],
      "execution_count": 7,
      "outputs": [
        {
          "output_type": "stream",
          "text": [
            "Reading Train Pre-processed DataSet\n",
            "Loading Processed Train DataSet from Processed_DataSet/TrainDataSet.pkl\n",
            "Done Loading Train DataSet.\n"
          ],
          "name": "stdout"
        }
      ]
    },
    {
      "cell_type": "code",
      "metadata": {
        "id": "V5DKs2LHxziY",
        "colab_type": "code",
        "colab": {
          "base_uri": "https://localhost:8080/",
          "height": 35
        },
        "outputId": "da7542ba-b1db-4aa4-c8a9-7c14bec3e9f5"
      },
      "source": [
        "print(train_image_array.shape)"
      ],
      "execution_count": 8,
      "outputs": [
        {
          "output_type": "stream",
          "text": [
            "(158380, 60, 60, 1)\n"
          ],
          "name": "stdout"
        }
      ]
    },
    {
      "cell_type": "code",
      "metadata": {
        "id": "lFEi3wG0_z4I",
        "colab_type": "code",
        "colab": {
          "base_uri": "https://localhost:8080/",
          "height": 52
        },
        "outputId": "152ac8f8-b795-4a2f-f3e0-e3f6b1387a61"
      },
      "source": [
        "test_image_array, test_image_labels= ReadTestDataSet()"
      ],
      "execution_count": 9,
      "outputs": [
        {
          "output_type": "stream",
          "text": [
            "Loading Processed Test DataSet from Processed_DataSet/TestDataSet.pkl\n",
            "Done Loading Test DataSet.\n"
          ],
          "name": "stdout"
        }
      ]
    },
    {
      "cell_type": "code",
      "metadata": {
        "id": "YKqhPBJdxQQn",
        "colab_type": "code",
        "colab": {
          "base_uri": "https://localhost:8080/",
          "height": 35
        },
        "outputId": "784bf403-fc83-4642-f56d-79cbbed548aa"
      },
      "source": [
        "print(test_image_array.shape)"
      ],
      "execution_count": 10,
      "outputs": [
        {
          "output_type": "stream",
          "text": [
            "(12630, 60, 60, 1)\n"
          ],
          "name": "stdout"
        }
      ]
    },
    {
      "cell_type": "markdown",
      "metadata": {
        "id": "NLgSph0z_z4Q",
        "colab_type": "text"
      },
      "source": [
        "## Train-Split \n",
        "Split Train images dataset into two splits: training and validation respectively 80-20"
      ]
    },
    {
      "cell_type": "code",
      "metadata": {
        "id": "iahsbIcO_z4R",
        "colab_type": "code",
        "colab": {}
      },
      "source": [
        "image_train, image_valid,label_train, label_valid = train_test_split(train_image_array, train_image_labels,stratify=train_image_labels,test_size=0.1,random_state=43)"
      ],
      "execution_count": 11,
      "outputs": []
    },
    {
      "cell_type": "code",
      "metadata": {
        "id": "33JGRj_HyYUW",
        "colab_type": "code",
        "colab": {
          "base_uri": "https://localhost:8080/",
          "height": 35
        },
        "outputId": "c007ec0f-2e39-4a2d-ddb0-51d5c120bcb2"
      },
      "source": [
        "print(image_train.shape)"
      ],
      "execution_count": 12,
      "outputs": [
        {
          "output_type": "stream",
          "text": [
            "(142542, 60, 60, 1)\n"
          ],
          "name": "stdout"
        }
      ]
    },
    {
      "cell_type": "code",
      "metadata": {
        "id": "CCMuoCajXHk2",
        "colab_type": "code",
        "colab": {}
      },
      "source": [
        "del train_image_array\n",
        "del train_image_labels"
      ],
      "execution_count": 13,
      "outputs": []
    },
    {
      "cell_type": "code",
      "metadata": {
        "id": "O8u03780M4eP",
        "colab_type": "code",
        "colab": {
          "base_uri": "https://localhost:8080/",
          "height": 35
        },
        "outputId": "8331993a-d296-4239-db44-b37d5c42cce1"
      },
      "source": [
        "from keras.layers import Dense, Dropout, Activation, Flatten, BatchNormalization\n",
        "from keras.layers import Conv2D, MaxPool2D, Add\n",
        "from keras.models import Sequential\n",
        "from keras.engine.topology import Layer\n",
        "class Residual(Layer):\n",
        "    def __init__(self, channels_in,kernel,**kwargs):\n",
        "        super(Residual, self).__init__(**kwargs)\n",
        "        self.channels_in = channels_in\n",
        "        self.kernel = kernel\n",
        "\n",
        "    def call(self, x):\n",
        "        # the residual block using Keras functional API\n",
        "        first_layer =Activation(\"linear\", trainable=False)(x)\n",
        "        x = Conv2D(self.channels_in,self.kernel, padding=\"same\")(first_layer)\n",
        "        x = Activation(\"relu\")(x)\n",
        "        x = Conv2D(self.channels_in,self.kernel,padding=\"same\")(x)\n",
        "        residual= Add()([x, first_layer])\n",
        "        x = Activation(\"relu\")(residual)\n",
        "        return x\n",
        "\n",
        "    def compute_output_shape(self, input_shape):\n",
        "        return input_shape"
      ],
      "execution_count": 14,
      "outputs": [
        {
          "output_type": "stream",
          "text": [
            "Using TensorFlow backend.\n"
          ],
          "name": "stderr"
        }
      ]
    },
    {
      "cell_type": "markdown",
      "metadata": {
        "id": "Eg7ErT8V_z4X",
        "colab_type": "text"
      },
      "source": [
        "## Hyper-parameters Tuning"
      ]
    },
    {
      "cell_type": "code",
      "metadata": {
        "colab_type": "code",
        "id": "9TzbUr1R_fwU",
        "colab": {}
      },
      "source": [
        "# Hyper-parameters tuning\n",
        "kernel_2 = (3,3)\n",
        "pooling = (2,2)\n",
        "dropout = 0.2\n",
        "num_classes = 43"
      ],
      "execution_count": 15,
      "outputs": []
    },
    {
      "cell_type": "markdown",
      "metadata": {
        "id": "8Xkwm4jG_z4f",
        "colab_type": "text"
      },
      "source": [
        "## Model Architecture"
      ]
    },
    {
      "cell_type": "code",
      "metadata": {
        "colab_type": "code",
        "id": "6ffabeJEFcdk",
        "colab": {}
      },
      "source": [
        "weight_decay=1E-4\n",
        "from keras.regularizers import l2\n",
        "\n",
        "def model_():\n",
        "    model = None\n",
        "    tf.initializers.Orthogonal(gain=1.0, seed=None)\n",
        "    model=Sequential()\n",
        "\n",
        "    model.add(Conv2D(32,kernel_2, input_shape=(60,60,1), strides = 1, padding='valid',activation = tf.nn.relu,kernel_regularizer=l2(0.001)))\n",
        "    model.add(BatchNormalization())\n",
        "    model.add(Conv2D(32,kernel_2, activation = tf.nn.relu,kernel_regularizer=l2(0.01)))\n",
        "    model.add(MaxPool2D(pooling))\n",
        "    model.add(Dropout(dropout))\n",
        "    model.add(BatchNormalization())\n",
        "\n",
        "    model.add(Conv2D(128,kernel_2, strides = 1, padding='valid', activation = tf.nn.relu,kernel_regularizer=l2(0.001)))\n",
        "    model.add(BatchNormalization())\n",
        "    model.add(Conv2D(128,kernel_2, activation = tf.nn.relu,kernel_regularizer=l2(0.01)))\n",
        "    model.add(MaxPool2D(pooling))\n",
        "    model.add(Dropout(dropout))\n",
        "    model.add(BatchNormalization())\n",
        "\n",
        "    model.add(Conv2D(256,kernel_2, strides = 1, padding='valid', activation = tf.nn.relu,kernel_regularizer=l2(0.001)))\n",
        "    model.add(BatchNormalization())\n",
        "    model.add(Conv2D(256,kernel_2, activation = tf.nn.relu,kernel_regularizer=l2(0.01)))\n",
        "    model.add(MaxPool2D(pooling))\n",
        "    model.add(Dropout(dropout))\n",
        "    model.add(BatchNormalization())\n",
        "    model.add(Flatten())\n",
        "    model.add(Dense(512, activation = tf.nn.relu))\n",
        "    model.add(Dropout(0.4))\n",
        "    model.add(Dense(num_classes, activation = 'softmax'))\n",
        "    return model"
      ],
      "execution_count": 16,
      "outputs": []
    },
    {
      "cell_type": "markdown",
      "metadata": {
        "id": "-f47EfzP_z4m",
        "colab_type": "text"
      },
      "source": [
        "## Model Optimizer "
      ]
    },
    {
      "cell_type": "code",
      "metadata": {
        "id": "aqFrLaAQ_z4o",
        "colab_type": "code",
        "colab": {}
      },
      "source": [
        "from tensorflow import keras\n",
        "model = model_()\n",
        "\n",
        "\n",
        "reduce_lr = tf.keras.callbacks.ReduceLROnPlateau(monitor='loss', factor=0.2,\n",
        "                              patience=2,  verbose=1, min_delta=1e-4, min_lr=1e-20)\n",
        "# optimizer = keras.optimizers.Adadelta()\n",
        "\n",
        "model.compile(optimizer='sgd',\n",
        "              loss='sparse_categorical_crossentropy',\n",
        "              metrics=[tf.keras.metrics.sparse_categorical_accuracy])"
      ],
      "execution_count": 17,
      "outputs": []
    },
    {
      "cell_type": "markdown",
      "metadata": {
        "id": "JXiLRRAC_z4x",
        "colab_type": "text"
      },
      "source": [
        "## Model Training"
      ]
    },
    {
      "cell_type": "code",
      "metadata": {
        "colab_type": "code",
        "id": "R0aLGOkrFcdq",
        "colab": {
          "base_uri": "https://localhost:8080/",
          "height": 297
        },
        "outputId": "2cbd7ff1-45e0-41b9-c60d-ea1356c226a1"
      },
      "source": [
        "history = model.fit(image_train, np.array(label_train) , batch_size=32, epochs=10, validation_data=(image_valid, np.array(label_valid)), callbacks=[reduce_lr],shuffle=True )"
      ],
      "execution_count": null,
      "outputs": [
        {
          "output_type": "stream",
          "text": [
            "Train on 142542 samples, validate on 15838 samples\n",
            "Epoch 1/10\n",
            "142542/142542 [==============================] - 76s 532us/step - loss: 0.0248 - sparse_categorical_accuracy: 0.9997 - val_loss: 0.0401 - val_sparse_categorical_accuracy: 0.9958\n",
            "Epoch 2/10\n",
            "142542/142542 [==============================] - 76s 530us/step - loss: 0.0246 - sparse_categorical_accuracy: 0.9997 - val_loss: 0.0400 - val_sparse_categorical_accuracy: 0.9961\n",
            "Epoch 3/10\n",
            "142542/142542 [==============================] - 76s 531us/step - loss: 0.0244 - sparse_categorical_accuracy: 0.9997 - val_loss: 0.0395 - val_sparse_categorical_accuracy: 0.9960\n",
            "Epoch 4/10\n",
            "142542/142542 [==============================] - 76s 532us/step - loss: 0.0243 - sparse_categorical_accuracy: 0.9998 - val_loss: 0.0398 - val_sparse_categorical_accuracy: 0.9960\n",
            "Epoch 5/10\n",
            "142542/142542 [==============================] - 76s 531us/step - loss: 0.0243 - sparse_categorical_accuracy: 0.9997 - val_loss: 0.0396 - val_sparse_categorical_accuracy: 0.9961\n",
            "Epoch 6/10\n",
            "142542/142542 [==============================] - 76s 530us/step - loss: 0.0240 - sparse_categorical_accuracy: 0.9998 - val_loss: 0.0396 - val_sparse_categorical_accuracy: 0.9961\n",
            "Epoch 7/10\n",
            " 65376/142542 [============>.................] - ETA: 39s - loss: 0.0239 - sparse_categorical_accuracy: 0.9998"
          ],
          "name": "stdout"
        }
      ]
    },
    {
      "cell_type": "markdown",
      "metadata": {
        "id": "08KFabUT_z5L",
        "colab_type": "text"
      },
      "source": [
        "## Model Evaluation"
      ]
    },
    {
      "cell_type": "code",
      "metadata": {
        "id": "CjLhpEUCu4WG",
        "colab_type": "code",
        "colab": {}
      },
      "source": [
        "model.evaluate(test_image_array, np.array(test_image_labels), batch_size=256)"
      ],
      "execution_count": null,
      "outputs": []
    },
    {
      "cell_type": "code",
      "metadata": {
        "colab_type": "code",
        "id": "FaDjI3YL_fwk",
        "colab": {
          "base_uri": "https://localhost:8080/",
          "height": 52
        },
        "outputId": "7a45aef8-52b3-48e2-e0c9-6f2f449dd856"
      },
      "source": [
        "model.evaluate(test_image_array, np.array(test_image_labels), batch_size=256)"
      ],
      "execution_count": 33,
      "outputs": [
        {
          "output_type": "stream",
          "text": [
            "12630/12630 [==============================] - 2s 121us/step\n"
          ],
          "name": "stdout"
        },
        {
          "output_type": "execute_result",
          "data": {
            "text/plain": [
              "[0.051354796701919815, 0.9935867190361023]"
            ]
          },
          "metadata": {
            "tags": []
          },
          "execution_count": 33
        }
      ]
    },
    {
      "cell_type": "markdown",
      "metadata": {
        "id": "S1SvrW7c_z42",
        "colab_type": "text"
      },
      "source": [
        "## Visualization"
      ]
    },
    {
      "cell_type": "code",
      "metadata": {
        "id": "d01yT3_F_z44",
        "colab_type": "code",
        "colab": {
          "base_uri": "https://localhost:8080/",
          "height": 279
        },
        "outputId": "556fe23b-cc4c-4a82-f9a6-8453583da35f"
      },
      "source": [
        "import matplotlib.pyplot as plt\n",
        "plt.plot(history.history['sparse_categorical_accuracy'])\n",
        "plt.plot(history.history['val_sparse_categorical_accuracy'])\n",
        "plt.ylabel('accuracy')\n",
        "plt.xlabel('epoch')\n",
        "plt.legend(['train', 'validation'], loc='upper left')\n",
        "plt.show()"
      ],
      "execution_count": 28,
      "outputs": [
        {
          "output_type": "display_data",
          "data": {
            "image/png": "[encoded data removed]",
            "text/plain": [
              "<Figure size 432x288 with 1 Axes>"
            ]
          },
          "metadata": {
            "tags": [],
            "needs_background": "light"
          }
        }
      ]
    },
    {
      "cell_type": "code",
      "metadata": {
        "id": "Jv9nxMP5_z4_",
        "colab_type": "code",
        "colab": {
          "base_uri": "https://localhost:8080/",
          "height": 281
        },
        "outputId": "553e58be-e019-469a-950a-464e1c410943"
      },
      "source": [
        "plt.plot(history.history['loss'])\n",
        "plt.plot(history.history['val_loss'])\n",
        "plt.ylabel('loss')\n",
        "plt.xlabel('epoch')\n",
        "plt.legend(['train', 'validation'], loc='upper left')\n",
        "plt.show()"
      ],
      "execution_count": 29,
      "outputs": [
        {
          "output_type": "display_data",
          "data": {
            "image/png": "[encoded data removed]",
            "text/plain": [
              "<Figure size 432x288 with 1 Axes>"
            ]
          },
          "metadata": {
            "tags": [],
            "needs_background": "light"
          }
        }
      ]
    },
    {
      "cell_type": "markdown",
      "metadata": {
        "id": "lITG_Mw9_z5F",
        "colab_type": "text"
      },
      "source": [
        "## Model Summary \n",
        "Number of parameters used in the model architecture"
      ]
    },
    {
      "cell_type": "code",
      "metadata": {
        "id": "hSaS0ZyI_z5G",
        "colab_type": "code",
        "colab": {
          "base_uri": "https://localhost:8080/",
          "height": 936
        },
        "outputId": "37ffd2b7-887f-4580-baea-5a626a9713bd"
      },
      "source": [
        "print(model.summary())"
      ],
      "execution_count": 31,
      "outputs": [
        {
          "output_type": "stream",
          "text": [
            "Model: \"sequential_1\"\n",
            "_________________________________________________________________\n",
            "Layer (type)                 Output Shape              Param #   \n",
            "=================================================================\n",
            "conv2d_1 (Conv2D)            (None, 58, 58, 32)        320       \n",
            "_________________________________________________________________\n",
            "batch_normalization_1 (Batch (None, 58, 58, 32)        128       \n",
            "_________________________________________________________________\n",
            "conv2d_2 (Conv2D)            (None, 56, 56, 32)        9248      \n",
            "_________________________________________________________________\n",
            "max_pooling2d_1 (MaxPooling2 (None, 28, 28, 32)        0         \n",
            "_________________________________________________________________\n",
            "dropout_1 (Dropout)          (None, 28, 28, 32)        0         \n",
            "_________________________________________________________________\n",
            "batch_normalization_2 (Batch (None, 28, 28, 32)        128       \n",
            "_________________________________________________________________\n",
            "conv2d_3 (Conv2D)            (None, 26, 26, 128)       36992     \n",
            "_________________________________________________________________\n",
            "batch_normalization_3 (Batch (None, 26, 26, 128)       512       \n",
            "_________________________________________________________________\n",
            "conv2d_4 (Conv2D)            (None, 24, 24, 128)       147584    \n",
            "_________________________________________________________________\n",
            "max_pooling2d_2 (MaxPooling2 (None, 12, 12, 128)       0         \n",
            "_________________________________________________________________\n",
            "dropout_2 (Dropout)          (None, 12, 12, 128)       0         \n",
            "_________________________________________________________________\n",
            "batch_normalization_4 (Batch (None, 12, 12, 128)       512       \n",
            "_________________________________________________________________\n",
            "conv2d_5 (Conv2D)            (None, 10, 10, 256)       295168    \n",
            "_________________________________________________________________\n",
            "batch_normalization_5 (Batch (None, 10, 10, 256)       1024      \n",
            "_________________________________________________________________\n",
            "conv2d_6 (Conv2D)            (None, 8, 8, 256)         590080    \n",
            "_________________________________________________________________\n",
            "max_pooling2d_3 (MaxPooling2 (None, 4, 4, 256)         0         \n",
            "_________________________________________________________________\n",
            "dropout_3 (Dropout)          (None, 4, 4, 256)         0         \n",
            "_________________________________________________________________\n",
            "batch_normalization_6 (Batch (None, 4, 4, 256)         1024      \n",
            "_________________________________________________________________\n",
            "flatten_1 (Flatten)          (None, 4096)              0         \n",
            "_________________________________________________________________\n",
            "dense_1 (Dense)              (None, 512)               2097664   \n",
            "_________________________________________________________________\n",
            "dropout_4 (Dropout)          (None, 512)               0         \n",
            "_________________________________________________________________\n",
            "dense_2 (Dense)              (None, 43)                22059     \n",
            "=================================================================\n",
            "Total params: 3,202,443\n",
            "Trainable params: 3,200,779\n",
            "Non-trainable params: 1,664\n",
            "_________________________________________________________________\n",
            "None\n"
          ],
          "name": "stdout"
        }
      ]
    },
    {
      "cell_type": "markdown",
      "metadata": {
        "id": "LGX8hR4r_z5T",
        "colab_type": "text"
      },
      "source": [
        "## Saving Trained .h5 Model"
      ]
    },
    {
      "cell_type": "code",
      "metadata": {
        "colab_type": "code",
        "id": "paMLoaT4_fwZ",
        "colab": {}
      },
      "source": [
        "def saveCNNModel(model_name):\n",
        "    model.save(model_name)"
      ],
      "execution_count": 23,
      "outputs": []
    },
    {
      "cell_type": "code",
      "metadata": {
        "colab_type": "code",
        "id": "xqmScYoy_fwc",
        "colab": {}
      },
      "source": [
        "saveCNNModel('Trained_Models/winning_model_99.358.h5')"
      ],
      "execution_count": 34,
      "outputs": []
    },
    {
      "cell_type": "code",
      "metadata": {
        "colab_type": "code",
        "id": "sQ3VvwXDFceP",
        "colab": {}
      },
      "source": [
        "model._set_inputs(image_train,np.array(label_train))"
      ],
      "execution_count": null,
      "outputs": []
    },
    {
      "cell_type": "markdown",
      "metadata": {
        "id": "zUjBuI9Q_z5k",
        "colab_type": "text"
      },
      "source": [
        "## Loading Saved Trained .h5 Model"
      ]
    },
    {
      "cell_type": "code",
      "metadata": {
        "colab_type": "code",
        "id": "GxFfWaaN_fwe",
        "colab": {}
      },
      "source": [
        "def load_model():\n",
        "    Model = tf.keras.models.load_model('Trained_Models/winning_model_9925.h5')\n",
        "    return Model"
      ],
      "execution_count": null,
      "outputs": []
    },
    {
      "cell_type": "code",
      "metadata": {
        "colab_type": "code",
        "id": "hXlI3Mxx_fwi",
        "colab": {}
      },
      "source": [
        "del model\n",
        "model= load_model()"
      ],
      "execution_count": null,
      "outputs": []
    },
    {
      "cell_type": "markdown",
      "metadata": {
        "id": "57ctMF_P_z5v",
        "colab_type": "text"
      },
      "source": [
        "## Computation Avg. Processing Time"
      ]
    },
    {
      "cell_type": "code",
      "metadata": {
        "colab_type": "code",
        "id": "0oH66eWUFceZ",
        "colab": {}
      },
      "source": [
        "import time\n",
        "t1=time.time()\n",
        "model.predict(test_image_array)\n",
        "t2=time.time()\n",
        "print(\"Average Processing time: \", ((t2-t1)/12630)*1000, \" ms\")"
      ],
      "execution_count": null,
      "outputs": []
    }
  ]
}