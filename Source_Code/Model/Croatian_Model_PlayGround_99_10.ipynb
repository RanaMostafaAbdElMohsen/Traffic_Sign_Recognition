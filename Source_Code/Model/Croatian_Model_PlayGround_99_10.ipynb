{
  "nbformat": 4,
  "nbformat_minor": 0,
  "metadata": {
    "kernelspec": {
      "display_name": "Python 3",
      "language": "python",
      "name": "python3"
    },
    "language_info": {
      "codemirror_mode": {
        "name": "ipython",
        "version": 3
      },
      "file_extension": ".py",
      "mimetype": "text/x-python",
      "name": "python",
      "nbconvert_exporter": "python",
      "pygments_lexer": "ipython3",
      "version": "3.6.8"
    },
    "colab": {
      "name": " Croatian_Model_PlayGround_99_10.ipynb",
      "provenance": []
    },
    "accelerator": "GPU"
  },
  "cells": [
    {
      "cell_type": "markdown",
      "metadata": {
        "id": "mqZ4Clw_THwq",
        "colab_type": "text"
      },
      "source": [
        "# Traffic Sign Recognition Model\n",
        "## Environment Initialisation"
      ]
    },
    {
      "cell_type": "code",
      "metadata": {
        "id": "gr3zzhaiTHws",
        "colab_type": "code",
        "colab": {}
      },
      "source": [
        "def IntialiseEnv():\n",
        "    nb_dir = os.path.split(os.getcwd())[0]\n",
        "    if nb_dir not in sys.path:\n",
        "        sys.path.append(nb_dir)"
      ],
      "execution_count": 1,
      "outputs": []
    },
    {
      "cell_type": "code",
      "metadata": {
        "id": "e3cgtbNlTHw3",
        "colab_type": "code",
        "colab": {
          "base_uri": "https://localhost:8080/",
          "height": 70
        },
        "outputId": "d7a9dcf3-2991-46e3-d25f-9d60f3428be5"
      },
      "source": [
        "from google.colab import drive\n",
        "drive.mount('/content/drive')\n",
        "import os\n",
        "os.chdir(\"/content/drive/\")\n",
        "!ls\n",
        "import os\n",
        "os.chdir(\"My Drive/[ Masters ] - Deep Learning Proj/Model\")\n",
        "!pip install import_ipynb"
      ],
      "execution_count": 2,
      "outputs": [
        {
          "output_type": "stream",
          "text": [
            "Drive already mounted at /content/drive; to attempt to forcibly remount, call drive.mount(\"/content/drive\", force_remount=True).\n",
            "'My Drive'\n",
            "Requirement already satisfied: import_ipynb in /usr/local/lib/python3.6/dist-packages (0.1.3)\n"
          ],
          "name": "stdout"
        }
      ]
    },
    {
      "cell_type": "code",
      "metadata": {
        "id": "HWBuWjUATHxD",
        "colab_type": "code",
        "colab": {}
      },
      "source": [
        "# Libraries\n",
        "import os\n",
        "import sys\n",
        "import tensorflow as tf\n",
        "import numpy as np\n",
        "import math\n",
        "IntialiseEnv()\n",
        "import import_ipynb\n",
        "import pickle\n",
        "from sklearn.model_selection import train_test_split\n",
        "\n",
        "# from Data_Preparation.Data_Preparation_Croatian import LoadCroatianTrainDataSet\n",
        "# from Data_Preparation.Data_Preparation_Croatian import LoadCroatianTestDataSet"
      ],
      "execution_count": 3,
      "outputs": []
    },
    {
      "cell_type": "markdown",
      "metadata": {
        "id": "TcaReyw1THxK",
        "colab_type": "text"
      },
      "source": [
        "## Use GPU/ CPU Configuration \n",
        "Tensorflow version 2.0\n",
        "Prompt to user if CPU/ GPU is in use with device name"
      ]
    },
    {
      "cell_type": "code",
      "metadata": {
        "id": "Oy0YZtldTHxL",
        "colab_type": "code",
        "colab": {
          "base_uri": "https://localhost:8080/",
          "height": 70
        },
        "outputId": "b48b93a7-afab-4caf-9af4-5ff729b138ab"
      },
      "source": [
        "# Use GPU/CPU Configurations\n",
        "\n",
        "import tensorflow as tf\n",
        "print(tf.__version__)\n",
        "print(tf.test.gpu_device_name())\n",
        "print(\"Num GPUs Available: \", len(tf.config.experimental.list_physical_devices('GPU')))"
      ],
      "execution_count": 4,
      "outputs": [
        {
          "output_type": "stream",
          "text": [
            "2.3.0\n",
            "/device:GPU:0\n",
            "Num GPUs Available:  1\n"
          ],
          "name": "stdout"
        }
      ]
    },
    {
      "cell_type": "code",
      "metadata": {
        "id": "1XnCNhIOTHxU",
        "colab_type": "code",
        "colab": {}
      },
      "source": [
        "def ReadTrainDataSet():\n",
        "    print(\"Reading Train Pre-processed DataSet\")\n",
        "    processedTrainDataSet = '../DataSet/Processed_DataSet/CroatianTrainDataSet.pkl'\n",
        "    isProcessedTrainDataSetExits= os.path.exists(processedTrainDataSet)\n",
        "    train_image_array, train_image_labels = None, None\n",
        "    \n",
        "    if isProcessedTrainDataSetExits:\n",
        "        print(\"Loading Processed Train DataSet from Processed_DataSet/CroatianTrainDataSet.pkl\")\n",
        "        file = open(processedTrainDataSet, 'rb')\n",
        "        train_image_array, train_image_labels = pickle.load(file)\n",
        "        file.close()\n",
        "        print(\"Done Loading Train DataSet.\")\n",
        "        \n",
        "    else:\n",
        "        print(\"Processed_DataSet/CroatianTrainDataSet.pkl file does not exist\")\n",
        "        print(\"Loading Train DataSet ... This may take a while.\")\n",
        "        train_image_array, train_image_labels =  LoadCroatianTrainDataSet()\n",
        "        file = open(processedTrainDataSet, 'wb')\n",
        "        pickle.dump((train_image_array, train_image_labels), file, protocol=4)\n",
        "        file.close()\n",
        "        print(\"Saving pre-processed train DataSets in Processed_DataSet/CroatianTrainDataSet.pkl\")\n",
        "    return train_image_array, train_image_labels  "
      ],
      "execution_count": 5,
      "outputs": []
    },
    {
      "cell_type": "code",
      "metadata": {
        "id": "7NesrbLMTHxc",
        "colab_type": "code",
        "colab": {}
      },
      "source": [
        "def ReadTestDataSet():\n",
        "    processedTestDataSet = '../DataSet/Processed_DataSet/CroatianTestDataSet.pkl'\n",
        "    isProcessedTestDataSetExits= os.path.exists(processedTestDataSet)\n",
        "    test_image_array, test_image_labels = None, None\n",
        "    \n",
        "    if isProcessedTestDataSetExits:\n",
        "        print(\"Loading Processed Test DataSet from Processed_DataSet/CroatianTestDataSet.pkl\")\n",
        "        file = open(processedTestDataSet, 'rb')\n",
        "        test_image_array, test_image_labels = pickle.load(file)\n",
        "        file.close()\n",
        "        print(\"Done Loading Test DataSet.\")\n",
        "    else:\n",
        "        print(\"Processed_DataSet/CroatianTestDataSet.pkl file does not exist\")\n",
        "        print(\"Loading Test DataSet ... This may take a while.\")\n",
        "        test_image_array, test_image_labels = LoadCroatianTestDataSet()\n",
        "        file = open(processedTestDataSet, 'wb')\n",
        "        pickle.dump((test_image_array, test_image_labels), file)\n",
        "        file.close()\n",
        "        print(\"Saving pre-processed test DataSets in Processed_DataSet/CroatianTestDataSet.pkl\")\n",
        "    return test_image_array, test_image_labels"
      ],
      "execution_count": 6,
      "outputs": []
    },
    {
      "cell_type": "code",
      "metadata": {
        "id": "nwb9DA_BTHxi",
        "colab_type": "code",
        "colab": {
          "base_uri": "https://localhost:8080/",
          "height": 70
        },
        "outputId": "287bc318-d287-4985-db8a-35d0868b3981"
      },
      "source": [
        "train_image_array, train_image_labels= ReadTrainDataSet()"
      ],
      "execution_count": 7,
      "outputs": [
        {
          "output_type": "stream",
          "text": [
            "Reading Train Pre-processed DataSet\n",
            "Loading Processed Train DataSet from Processed_DataSet/CroatianTrainDataSet.pkl\n",
            "Done Loading Train DataSet.\n"
          ],
          "name": "stdout"
        }
      ]
    },
    {
      "cell_type": "code",
      "metadata": {
        "id": "lg4WjgWaTHxo",
        "colab_type": "code",
        "colab": {
          "base_uri": "https://localhost:8080/",
          "height": 35
        },
        "outputId": "ec2c161f-c62e-4eb4-9989-e0379bc328f6"
      },
      "source": [
        "print(train_image_array.shape)"
      ],
      "execution_count": 8,
      "outputs": [
        {
          "output_type": "stream",
          "text": [
            "(4044, 60, 60, 1)\n"
          ],
          "name": "stdout"
        }
      ]
    },
    {
      "cell_type": "code",
      "metadata": {
        "id": "xucZh2z0THxt",
        "colab_type": "code",
        "colab": {
          "base_uri": "https://localhost:8080/",
          "height": 52
        },
        "outputId": "66bbe7b2-34cd-45ae-98b2-4c5b895bc6fa"
      },
      "source": [
        "test_image_array, test_image_labels= ReadTestDataSet()"
      ],
      "execution_count": 9,
      "outputs": [
        {
          "output_type": "stream",
          "text": [
            "Loading Processed Test DataSet from Processed_DataSet/CroatianTestDataSet.pkl\n",
            "Done Loading Test DataSet.\n"
          ],
          "name": "stdout"
        }
      ]
    },
    {
      "cell_type": "code",
      "metadata": {
        "id": "irXzfe0UTHx1",
        "colab_type": "code",
        "colab": {
          "base_uri": "https://localhost:8080/",
          "height": 35
        },
        "outputId": "00a04f4c-6532-4027-bf21-f7bb1457c1c1"
      },
      "source": [
        "print(test_image_array.shape)"
      ],
      "execution_count": 10,
      "outputs": [
        {
          "output_type": "stream",
          "text": [
            "(1784, 60, 60, 1)\n"
          ],
          "name": "stdout"
        }
      ]
    },
    {
      "cell_type": "markdown",
      "metadata": {
        "id": "cDjTv6ZiTHyL",
        "colab_type": "text"
      },
      "source": [
        "## Train-Split \n",
        "Split Train images dataset into two splits: training and validation respectively 90-10"
      ]
    },
    {
      "cell_type": "code",
      "metadata": {
        "id": "a-q969YRTHyN",
        "colab_type": "code",
        "colab": {}
      },
      "source": [
        "image_train, image_valid,label_train, label_valid = train_test_split(train_image_array, train_image_labels,stratify=train_image_labels,test_size=0.1,random_state=43)"
      ],
      "execution_count": 11,
      "outputs": []
    },
    {
      "cell_type": "code",
      "metadata": {
        "id": "nF2vdbY8THyT",
        "colab_type": "code",
        "colab": {
          "base_uri": "https://localhost:8080/",
          "height": 35
        },
        "outputId": "79ef0e18-558f-4aee-f774-ec2b54137d6d"
      },
      "source": [
        "print(image_train.shape)"
      ],
      "execution_count": 12,
      "outputs": [
        {
          "output_type": "stream",
          "text": [
            "(3639, 60, 60, 1)\n"
          ],
          "name": "stdout"
        }
      ]
    },
    {
      "cell_type": "code",
      "metadata": {
        "id": "_qdOQZJmTHya",
        "colab_type": "code",
        "colab": {}
      },
      "source": [
        "del train_image_array\n",
        "del train_image_labels"
      ],
      "execution_count": 13,
      "outputs": []
    },
    {
      "cell_type": "markdown",
      "metadata": {
        "id": "Ayljfn89THyf",
        "colab_type": "text"
      },
      "source": [
        "## Hyper-parameters Tuning"
      ]
    },
    {
      "cell_type": "code",
      "metadata": {
        "id": "6hZUbJowTHyg",
        "colab_type": "code",
        "colab": {}
      },
      "source": [
        "# Hyper-parameters tuning\n",
        "kernel_2 = (3,3)\n",
        "pooling = (2,2)\n",
        "dropout = 0.3\n",
        "num_classes = 31"
      ],
      "execution_count": 14,
      "outputs": []
    },
    {
      "cell_type": "markdown",
      "metadata": {
        "id": "sQmS_iLBTHyl",
        "colab_type": "text"
      },
      "source": [
        "## Model Architecture"
      ]
    },
    {
      "cell_type": "code",
      "metadata": {
        "id": "jJvjlvWOTHyn",
        "colab_type": "code",
        "colab": {}
      },
      "source": [
        "import tensorflow as tf\n",
        "import keras\n",
        "\n",
        "from keras.layers import Dense, Dropout, Activation, Flatten, BatchNormalization\n",
        "from keras.layers import Conv2D, MaxPool2D, Add,AveragePooling2D\n",
        "from keras.models import Sequential\n",
        "from keras.layers import Conv2D, SeparableConv2D,BatchNormalization,Dropout,MaxPool2D,Flatten,Dense\n",
        "from keras.layers import concatenate\n",
        "\n",
        "from keras import initializers\n",
        "from keras import backend as K\n",
        "from keras.layers import Input\n",
        "from keras.models import Model"
      ],
      "execution_count": 15,
      "outputs": []
    },
    {
      "cell_type": "code",
      "metadata": {
        "id": "JqkWU3jsTHys",
        "colab_type": "code",
        "colab": {}
      },
      "source": [
        "weight_decay=1E-4\n",
        "from tensorflow.keras.regularizers import l2\n",
        "\n",
        "def model_():\n",
        "    model = None\n",
        "    tf.initializers.Orthogonal(gain=1.0, seed=None)\n",
        "    model=Sequential()\n",
        "\n",
        "    model.add(Conv2D(16,kernel_2, input_shape=(60,60,1), strides = 1, padding='valid',activation = tf.nn.relu,kernel_regularizer=l2(0.01)))\n",
        "    model.add(BatchNormalization())\n",
        "    model.add(Conv2D(16,kernel_2, activation = tf.nn.relu,kernel_regularizer=l2(0.01)))\n",
        "    model.add(MaxPool2D(pooling))\n",
        "    model.add(Dropout(dropout))\n",
        "    model.add(BatchNormalization())\n",
        "\n",
        "    model.add(Conv2D(32,kernel_2, strides = 1, padding='valid', activation = tf.nn.relu,kernel_regularizer=l2(0.01)))\n",
        "    model.add(BatchNormalization())\n",
        "    model.add(Conv2D(32,kernel_2, activation = tf.nn.relu,kernel_regularizer=l2(0.1)))\n",
        "    model.add(MaxPool2D(pooling))\n",
        "    model.add(Dropout(dropout))\n",
        "    model.add(BatchNormalization())\n",
        "\n",
        "    model.add(Conv2D(64,kernel_2, strides = 1, padding='valid', activation = tf.nn.relu,kernel_regularizer=l2(0.1)))\n",
        "    model.add(BatchNormalization())\n",
        "    model.add(Conv2D(64,kernel_2, activation = tf.nn.relu,kernel_regularizer=l2(0.1)))\n",
        "    model.add(MaxPool2D(pooling))\n",
        "    model.add(Dropout(dropout))\n",
        "    model.add(BatchNormalization())\n",
        "    model.add(Flatten())\n",
        "    model.add(Dense(128, activation = tf.nn.relu,kernel_regularizer=l2(0.1)))\n",
        "    model.add(Dropout(0.5))\n",
        "    model.add(Dense(num_classes, activation = 'softmax'))\n",
        "    return model"
      ],
      "execution_count": 16,
      "outputs": []
    },
    {
      "cell_type": "code",
      "metadata": {
        "id": "fuc_8rERTHyx",
        "colab_type": "code",
        "colab": {}
      },
      "source": [
        "from tensorflow import keras\n",
        "model = model_()"
      ],
      "execution_count": 17,
      "outputs": []
    },
    {
      "cell_type": "markdown",
      "metadata": {
        "id": "Y0wgJBvnTHy0",
        "colab_type": "text"
      },
      "source": [
        "## Model Optimizer "
      ]
    },
    {
      "cell_type": "code",
      "metadata": {
        "id": "NqKXVwUETHy1",
        "colab_type": "code",
        "colab": {}
      },
      "source": [
        "reduce_lr = tf.keras.callbacks.ReduceLROnPlateau(monitor='loss', factor=0.2,\n",
        "                              patience=3,  verbose=1, min_delta=1e-4, min_lr=1e-20)\n",
        "\n",
        "model.compile(optimizer='adam',\n",
        "              loss='sparse_categorical_crossentropy',\n",
        "              metrics=[tf.keras.metrics.sparse_categorical_accuracy])"
      ],
      "execution_count": 18,
      "outputs": []
    },
    {
      "cell_type": "code",
      "metadata": {
        "id": "hdJSVLWH82hR",
        "colab_type": "code",
        "colab": {}
      },
      "source": [
        "import cv2\n",
        "def blur(img):\n",
        "  img=img.reshape(60,60)\n",
        "  img_blur=cv2.blur(img,(5,5))\n",
        "  img_final=img_blur.reshape(60,60,1)\n",
        "  return img_final\n"
      ],
      "execution_count": 19,
      "outputs": []
    },
    {
      "cell_type": "code",
      "metadata": {
        "id": "Dg8u_6ZgTHy5",
        "colab_type": "code",
        "colab": {}
      },
      "source": [
        "from tensorflow.keras.preprocessing.image import ImageDataGenerator\n",
        "aug = ImageDataGenerator(featurewise_center=False, \n",
        "                            featurewise_std_normalization=False, \n",
        "                            width_shift_range=0.1,\n",
        "                            height_shift_range=0.1,\n",
        "                            zoom_range=0.2,\n",
        "                            shear_range=0.1,\n",
        "                           \n",
        "                            rotation_range=10.,)"
      ],
      "execution_count": 20,
      "outputs": []
    },
    {
      "cell_type": "code",
      "metadata": {
        "id": "38QMwlN1THy-",
        "colab_type": "code",
        "colab": {}
      },
      "source": [
        "x=aug.flow(image_train, np.array(label_train), batch_size=32)"
      ],
      "execution_count": 21,
      "outputs": []
    },
    {
      "cell_type": "markdown",
      "metadata": {
        "id": "L0Ec91mMTHzE",
        "colab_type": "text"
      },
      "source": [
        "## Model Training"
      ]
    },
    {
      "cell_type": "code",
      "metadata": {
        "id": "g5KSafZJTHzG",
        "colab_type": "code",
        "colab": {
          "base_uri": "https://localhost:8080/",
          "height": 1000
        },
        "outputId": "3eba7daa-2deb-41e5-82a5-77a31603da02"
      },
      "source": [
        "history = model.fit(x, epochs=85, shuffle=True, validation_data=(image_valid, np.array(label_valid)),verbose=1,callbacks=[reduce_lr])             "
      ],
      "execution_count": 22,
      "outputs": [
        {
          "output_type": "stream",
          "text": [
            "Epoch 1/85\n",
            "114/114 [==============================] - 3s 22ms/step - loss: 22.1876 - sparse_categorical_accuracy: 0.1794 - val_loss: 11.3603 - val_sparse_categorical_accuracy: 0.0321\n",
            "Epoch 2/85\n",
            "114/114 [==============================] - 2s 19ms/step - loss: 6.3541 - sparse_categorical_accuracy: 0.4029 - val_loss: 6.3198 - val_sparse_categorical_accuracy: 0.0321\n",
            "Epoch 3/85\n",
            "114/114 [==============================] - 2s 19ms/step - loss: 3.2701 - sparse_categorical_accuracy: 0.4930 - val_loss: 4.9536 - val_sparse_categorical_accuracy: 0.0321\n",
            "Epoch 4/85\n",
            "114/114 [==============================] - 2s 19ms/step - loss: 2.5496 - sparse_categorical_accuracy: 0.5815 - val_loss: 4.0241 - val_sparse_categorical_accuracy: 0.1235\n",
            "Epoch 5/85\n",
            "114/114 [==============================] - 2s 19ms/step - loss: 2.3358 - sparse_categorical_accuracy: 0.6197 - val_loss: 2.2851 - val_sparse_categorical_accuracy: 0.7062\n",
            "Epoch 6/85\n",
            "114/114 [==============================] - 2s 20ms/step - loss: 2.1937 - sparse_categorical_accuracy: 0.6678 - val_loss: 1.9164 - val_sparse_categorical_accuracy: 0.7704\n",
            "Epoch 7/85\n",
            "114/114 [==============================] - 2s 19ms/step - loss: 2.1105 - sparse_categorical_accuracy: 0.6922 - val_loss: 1.8257 - val_sparse_categorical_accuracy: 0.8099\n",
            "Epoch 8/85\n",
            "114/114 [==============================] - 2s 19ms/step - loss: 2.0609 - sparse_categorical_accuracy: 0.7043 - val_loss: 1.7310 - val_sparse_categorical_accuracy: 0.8049\n",
            "Epoch 9/85\n",
            "114/114 [==============================] - 2s 19ms/step - loss: 2.0270 - sparse_categorical_accuracy: 0.7227 - val_loss: 1.6548 - val_sparse_categorical_accuracy: 0.8272\n",
            "Epoch 10/85\n",
            "114/114 [==============================] - 2s 20ms/step - loss: 1.9882 - sparse_categorical_accuracy: 0.7389 - val_loss: 1.5732 - val_sparse_categorical_accuracy: 0.8914\n",
            "Epoch 11/85\n",
            "114/114 [==============================] - 2s 20ms/step - loss: 1.9798 - sparse_categorical_accuracy: 0.7590 - val_loss: 1.5721 - val_sparse_categorical_accuracy: 0.9012\n",
            "Epoch 12/85\n",
            "114/114 [==============================] - 2s 19ms/step - loss: 1.8831 - sparse_categorical_accuracy: 0.7884 - val_loss: 1.5262 - val_sparse_categorical_accuracy: 0.8963\n",
            "Epoch 13/85\n",
            "114/114 [==============================] - 2s 19ms/step - loss: 1.9433 - sparse_categorical_accuracy: 0.7815 - val_loss: 1.6677 - val_sparse_categorical_accuracy: 0.8914\n",
            "Epoch 14/85\n",
            "114/114 [==============================] - 2s 19ms/step - loss: 1.9783 - sparse_categorical_accuracy: 0.7859 - val_loss: 1.5736 - val_sparse_categorical_accuracy: 0.9160\n",
            "Epoch 15/85\n",
            "114/114 [==============================] - ETA: 0s - loss: 1.9896 - sparse_categorical_accuracy: 0.7851\n",
            "Epoch 00015: ReduceLROnPlateau reducing learning rate to 0.00020000000949949026.\n",
            "114/114 [==============================] - 2s 20ms/step - loss: 1.9896 - sparse_categorical_accuracy: 0.7851 - val_loss: 1.5282 - val_sparse_categorical_accuracy: 0.9160\n",
            "Epoch 16/85\n",
            "114/114 [==============================] - 2s 19ms/step - loss: 1.5855 - sparse_categorical_accuracy: 0.8670 - val_loss: 1.1635 - val_sparse_categorical_accuracy: 0.9531\n",
            "Epoch 17/85\n",
            "114/114 [==============================] - 2s 19ms/step - loss: 1.1997 - sparse_categorical_accuracy: 0.9140 - val_loss: 0.9270 - val_sparse_categorical_accuracy: 0.9630\n",
            "Epoch 18/85\n",
            "114/114 [==============================] - 2s 19ms/step - loss: 1.0233 - sparse_categorical_accuracy: 0.9181 - val_loss: 0.7821 - val_sparse_categorical_accuracy: 0.9728\n",
            "Epoch 19/85\n",
            "114/114 [==============================] - 2s 19ms/step - loss: 0.9039 - sparse_categorical_accuracy: 0.9266 - val_loss: 0.6809 - val_sparse_categorical_accuracy: 0.9753\n",
            "Epoch 20/85\n",
            "114/114 [==============================] - 2s 19ms/step - loss: 0.8413 - sparse_categorical_accuracy: 0.9329 - val_loss: 0.6298 - val_sparse_categorical_accuracy: 0.9753\n",
            "Epoch 21/85\n",
            "114/114 [==============================] - 2s 20ms/step - loss: 0.7832 - sparse_categorical_accuracy: 0.9431 - val_loss: 0.5957 - val_sparse_categorical_accuracy: 0.9704\n",
            "Epoch 22/85\n",
            "114/114 [==============================] - 2s 19ms/step - loss: 0.7548 - sparse_categorical_accuracy: 0.9346 - val_loss: 0.5654 - val_sparse_categorical_accuracy: 0.9778\n",
            "Epoch 23/85\n",
            "114/114 [==============================] - 2s 19ms/step - loss: 0.7475 - sparse_categorical_accuracy: 0.9376 - val_loss: 0.5584 - val_sparse_categorical_accuracy: 0.9778\n",
            "Epoch 24/85\n",
            "114/114 [==============================] - 2s 19ms/step - loss: 0.7322 - sparse_categorical_accuracy: 0.9398 - val_loss: 0.5340 - val_sparse_categorical_accuracy: 0.9778\n",
            "Epoch 25/85\n",
            "114/114 [==============================] - 2s 19ms/step - loss: 0.7006 - sparse_categorical_accuracy: 0.9472 - val_loss: 0.5149 - val_sparse_categorical_accuracy: 0.9827\n",
            "Epoch 26/85\n",
            "114/114 [==============================] - 2s 20ms/step - loss: 0.6922 - sparse_categorical_accuracy: 0.9459 - val_loss: 0.5186 - val_sparse_categorical_accuracy: 0.9778\n",
            "Epoch 27/85\n",
            "114/114 [==============================] - 2s 19ms/step - loss: 0.6562 - sparse_categorical_accuracy: 0.9530 - val_loss: 0.5017 - val_sparse_categorical_accuracy: 0.9827\n",
            "Epoch 28/85\n",
            "114/114 [==============================] - 2s 19ms/step - loss: 0.6594 - sparse_categorical_accuracy: 0.9500 - val_loss: 0.5156 - val_sparse_categorical_accuracy: 0.9704\n",
            "Epoch 29/85\n",
            "114/114 [==============================] - 2s 19ms/step - loss: 0.6694 - sparse_categorical_accuracy: 0.9481 - val_loss: 0.4966 - val_sparse_categorical_accuracy: 0.9753\n",
            "Epoch 30/85\n",
            "114/114 [==============================] - 2s 19ms/step - loss: 0.6480 - sparse_categorical_accuracy: 0.9527 - val_loss: 0.4992 - val_sparse_categorical_accuracy: 0.9753\n",
            "Epoch 31/85\n",
            "114/114 [==============================] - 2s 19ms/step - loss: 0.6265 - sparse_categorical_accuracy: 0.9536 - val_loss: 0.5017 - val_sparse_categorical_accuracy: 0.9704\n",
            "Epoch 32/85\n",
            "114/114 [==============================] - 2s 19ms/step - loss: 0.6206 - sparse_categorical_accuracy: 0.9500 - val_loss: 0.4599 - val_sparse_categorical_accuracy: 0.9827\n",
            "Epoch 33/85\n",
            "114/114 [==============================] - 2s 19ms/step - loss: 0.6217 - sparse_categorical_accuracy: 0.9538 - val_loss: 0.4760 - val_sparse_categorical_accuracy: 0.9827\n",
            "Epoch 34/85\n",
            "114/114 [==============================] - 2s 19ms/step - loss: 0.5972 - sparse_categorical_accuracy: 0.9577 - val_loss: 0.4762 - val_sparse_categorical_accuracy: 0.9704\n",
            "Epoch 35/85\n",
            "114/114 [==============================] - 2s 19ms/step - loss: 0.5977 - sparse_categorical_accuracy: 0.9511 - val_loss: 0.4777 - val_sparse_categorical_accuracy: 0.9728\n",
            "Epoch 36/85\n",
            "114/114 [==============================] - 2s 19ms/step - loss: 0.5985 - sparse_categorical_accuracy: 0.9569 - val_loss: 0.4536 - val_sparse_categorical_accuracy: 0.9802\n",
            "Epoch 37/85\n",
            "114/114 [==============================] - 2s 19ms/step - loss: 0.5968 - sparse_categorical_accuracy: 0.9503 - val_loss: 0.4769 - val_sparse_categorical_accuracy: 0.9753\n",
            "Epoch 38/85\n",
            "114/114 [==============================] - 2s 19ms/step - loss: 0.5906 - sparse_categorical_accuracy: 0.9533 - val_loss: 0.4955 - val_sparse_categorical_accuracy: 0.9704\n",
            "Epoch 39/85\n",
            "114/114 [==============================] - 2s 19ms/step - loss: 0.5962 - sparse_categorical_accuracy: 0.9552 - val_loss: 0.4685 - val_sparse_categorical_accuracy: 0.9753\n",
            "Epoch 40/85\n",
            "114/114 [==============================] - 2s 19ms/step - loss: 0.5941 - sparse_categorical_accuracy: 0.9511 - val_loss: 0.4787 - val_sparse_categorical_accuracy: 0.9728\n",
            "Epoch 41/85\n",
            "114/114 [==============================] - 2s 19ms/step - loss: 0.5865 - sparse_categorical_accuracy: 0.9574 - val_loss: 0.4385 - val_sparse_categorical_accuracy: 0.9877\n",
            "Epoch 42/85\n",
            "114/114 [==============================] - 2s 19ms/step - loss: 0.5670 - sparse_categorical_accuracy: 0.9591 - val_loss: 0.4421 - val_sparse_categorical_accuracy: 0.9852\n",
            "Epoch 43/85\n",
            "114/114 [==============================] - 2s 19ms/step - loss: 0.5595 - sparse_categorical_accuracy: 0.9607 - val_loss: 0.4548 - val_sparse_categorical_accuracy: 0.9778\n",
            "Epoch 44/85\n",
            "114/114 [==============================] - 2s 19ms/step - loss: 0.5668 - sparse_categorical_accuracy: 0.9585 - val_loss: 0.4485 - val_sparse_categorical_accuracy: 0.9852\n",
            "Epoch 45/85\n",
            "114/114 [==============================] - 2s 19ms/step - loss: 0.5640 - sparse_categorical_accuracy: 0.9602 - val_loss: 0.4529 - val_sparse_categorical_accuracy: 0.9802\n",
            "Epoch 46/85\n",
            "112/114 [============================>.] - ETA: 0s - loss: 0.5701 - sparse_categorical_accuracy: 0.9569\n",
            "Epoch 00046: ReduceLROnPlateau reducing learning rate to 4.0000001899898055e-05.\n",
            "114/114 [==============================] - 2s 19ms/step - loss: 0.5697 - sparse_categorical_accuracy: 0.9571 - val_loss: 0.4203 - val_sparse_categorical_accuracy: 0.9852\n",
            "Epoch 47/85\n",
            "114/114 [==============================] - 2s 19ms/step - loss: 0.5147 - sparse_categorical_accuracy: 0.9703 - val_loss: 0.4007 - val_sparse_categorical_accuracy: 0.9901\n",
            "Epoch 48/85\n",
            "114/114 [==============================] - 2s 19ms/step - loss: 0.4779 - sparse_categorical_accuracy: 0.9753 - val_loss: 0.3879 - val_sparse_categorical_accuracy: 0.9901\n",
            "Epoch 49/85\n",
            "114/114 [==============================] - 2s 20ms/step - loss: 0.4676 - sparse_categorical_accuracy: 0.9777 - val_loss: 0.3723 - val_sparse_categorical_accuracy: 0.9901\n",
            "Epoch 50/85\n",
            "114/114 [==============================] - 2s 19ms/step - loss: 0.4456 - sparse_categorical_accuracy: 0.9777 - val_loss: 0.3574 - val_sparse_categorical_accuracy: 0.9877\n",
            "Epoch 51/85\n",
            "114/114 [==============================] - 2s 19ms/step - loss: 0.4248 - sparse_categorical_accuracy: 0.9841 - val_loss: 0.3462 - val_sparse_categorical_accuracy: 0.9901\n",
            "Epoch 52/85\n",
            "114/114 [==============================] - 2s 19ms/step - loss: 0.4149 - sparse_categorical_accuracy: 0.9821 - val_loss: 0.3367 - val_sparse_categorical_accuracy: 0.9901\n",
            "Epoch 53/85\n",
            "114/114 [==============================] - 2s 19ms/step - loss: 0.4152 - sparse_categorical_accuracy: 0.9769 - val_loss: 0.3236 - val_sparse_categorical_accuracy: 0.9926\n",
            "Epoch 54/85\n",
            "114/114 [==============================] - 2s 19ms/step - loss: 0.4006 - sparse_categorical_accuracy: 0.9821 - val_loss: 0.3164 - val_sparse_categorical_accuracy: 0.9901\n",
            "Epoch 55/85\n",
            "114/114 [==============================] - 2s 19ms/step - loss: 0.3942 - sparse_categorical_accuracy: 0.9808 - val_loss: 0.3133 - val_sparse_categorical_accuracy: 0.9926\n",
            "Epoch 56/85\n",
            "114/114 [==============================] - 2s 19ms/step - loss: 0.3839 - sparse_categorical_accuracy: 0.9819 - val_loss: 0.3054 - val_sparse_categorical_accuracy: 0.9901\n",
            "Epoch 57/85\n",
            "114/114 [==============================] - 2s 19ms/step - loss: 0.3833 - sparse_categorical_accuracy: 0.9819 - val_loss: 0.3005 - val_sparse_categorical_accuracy: 0.9951\n",
            "Epoch 58/85\n",
            "114/114 [==============================] - 2s 19ms/step - loss: 0.3707 - sparse_categorical_accuracy: 0.9841 - val_loss: 0.2964 - val_sparse_categorical_accuracy: 0.9951\n",
            "Epoch 59/85\n",
            "114/114 [==============================] - 2s 19ms/step - loss: 0.3672 - sparse_categorical_accuracy: 0.9843 - val_loss: 0.2921 - val_sparse_categorical_accuracy: 0.9901\n",
            "Epoch 60/85\n",
            "114/114 [==============================] - 2s 19ms/step - loss: 0.3636 - sparse_categorical_accuracy: 0.9838 - val_loss: 0.2899 - val_sparse_categorical_accuracy: 0.9901\n",
            "Epoch 61/85\n",
            "114/114 [==============================] - 2s 19ms/step - loss: 0.3612 - sparse_categorical_accuracy: 0.9830 - val_loss: 0.2851 - val_sparse_categorical_accuracy: 0.9901\n",
            "Epoch 62/85\n",
            "114/114 [==============================] - 2s 19ms/step - loss: 0.3616 - sparse_categorical_accuracy: 0.9805 - val_loss: 0.2826 - val_sparse_categorical_accuracy: 0.9901\n",
            "Epoch 63/85\n",
            "114/114 [==============================] - 2s 20ms/step - loss: 0.3497 - sparse_categorical_accuracy: 0.9843 - val_loss: 0.2824 - val_sparse_categorical_accuracy: 0.9901\n",
            "Epoch 64/85\n",
            "114/114 [==============================] - 2s 19ms/step - loss: 0.3494 - sparse_categorical_accuracy: 0.9835 - val_loss: 0.2924 - val_sparse_categorical_accuracy: 0.9827\n",
            "Epoch 65/85\n",
            "114/114 [==============================] - 2s 19ms/step - loss: 0.3473 - sparse_categorical_accuracy: 0.9821 - val_loss: 0.2726 - val_sparse_categorical_accuracy: 0.9926\n",
            "Epoch 66/85\n",
            "114/114 [==============================] - 2s 19ms/step - loss: 0.3431 - sparse_categorical_accuracy: 0.9857 - val_loss: 0.2723 - val_sparse_categorical_accuracy: 0.9926\n",
            "Epoch 67/85\n",
            "114/114 [==============================] - 2s 20ms/step - loss: 0.3371 - sparse_categorical_accuracy: 0.9863 - val_loss: 0.2759 - val_sparse_categorical_accuracy: 0.9901\n",
            "Epoch 68/85\n",
            "114/114 [==============================] - 2s 19ms/step - loss: 0.3313 - sparse_categorical_accuracy: 0.9865 - val_loss: 0.2659 - val_sparse_categorical_accuracy: 0.9951\n",
            "Epoch 69/85\n",
            "114/114 [==============================] - 2s 20ms/step - loss: 0.3334 - sparse_categorical_accuracy: 0.9841 - val_loss: 0.2699 - val_sparse_categorical_accuracy: 0.9852\n",
            "Epoch 70/85\n",
            "114/114 [==============================] - 2s 19ms/step - loss: 0.3372 - sparse_categorical_accuracy: 0.9854 - val_loss: 0.2681 - val_sparse_categorical_accuracy: 0.9926\n",
            "Epoch 71/85\n",
            "114/114 [==============================] - 2s 20ms/step - loss: 0.3310 - sparse_categorical_accuracy: 0.9824 - val_loss: 0.2685 - val_sparse_categorical_accuracy: 0.9877\n",
            "Epoch 72/85\n",
            "114/114 [==============================] - 2s 20ms/step - loss: 0.3298 - sparse_categorical_accuracy: 0.9832 - val_loss: 0.2610 - val_sparse_categorical_accuracy: 0.9926\n",
            "Epoch 73/85\n",
            "114/114 [==============================] - 2s 19ms/step - loss: 0.3225 - sparse_categorical_accuracy: 0.9882 - val_loss: 0.2699 - val_sparse_categorical_accuracy: 0.9827\n",
            "Epoch 74/85\n",
            "114/114 [==============================] - 2s 19ms/step - loss: 0.3245 - sparse_categorical_accuracy: 0.9819 - val_loss: 0.2549 - val_sparse_categorical_accuracy: 0.9951\n",
            "Epoch 75/85\n",
            "114/114 [==============================] - 2s 19ms/step - loss: 0.3199 - sparse_categorical_accuracy: 0.9863 - val_loss: 0.2554 - val_sparse_categorical_accuracy: 0.9901\n",
            "Epoch 76/85\n",
            "114/114 [==============================] - 2s 19ms/step - loss: 0.3218 - sparse_categorical_accuracy: 0.9852 - val_loss: 0.2581 - val_sparse_categorical_accuracy: 0.9901\n",
            "Epoch 77/85\n",
            "114/114 [==============================] - 2s 19ms/step - loss: 0.3180 - sparse_categorical_accuracy: 0.9849 - val_loss: 0.2507 - val_sparse_categorical_accuracy: 0.9951\n",
            "Epoch 78/85\n",
            "114/114 [==============================] - 2s 19ms/step - loss: 0.3194 - sparse_categorical_accuracy: 0.9854 - val_loss: 0.2534 - val_sparse_categorical_accuracy: 0.9901\n",
            "Epoch 79/85\n",
            "114/114 [==============================] - 2s 19ms/step - loss: 0.3154 - sparse_categorical_accuracy: 0.9849 - val_loss: 0.2523 - val_sparse_categorical_accuracy: 0.9901\n",
            "Epoch 80/85\n",
            "114/114 [==============================] - 2s 19ms/step - loss: 0.3152 - sparse_categorical_accuracy: 0.9819 - val_loss: 0.2495 - val_sparse_categorical_accuracy: 0.9901\n",
            "Epoch 81/85\n",
            "114/114 [==============================] - 2s 19ms/step - loss: 0.3150 - sparse_categorical_accuracy: 0.9835 - val_loss: 0.2588 - val_sparse_categorical_accuracy: 0.9827\n",
            "Epoch 82/85\n",
            "114/114 [==============================] - 2s 20ms/step - loss: 0.3163 - sparse_categorical_accuracy: 0.9843 - val_loss: 0.2468 - val_sparse_categorical_accuracy: 0.9926\n",
            "Epoch 83/85\n",
            "114/114 [==============================] - 2s 19ms/step - loss: 0.3016 - sparse_categorical_accuracy: 0.9863 - val_loss: 0.2488 - val_sparse_categorical_accuracy: 0.9901\n",
            "Epoch 84/85\n",
            "114/114 [==============================] - 2s 19ms/step - loss: 0.3059 - sparse_categorical_accuracy: 0.9843 - val_loss: 0.2533 - val_sparse_categorical_accuracy: 0.9877\n",
            "Epoch 85/85\n",
            "114/114 [==============================] - 2s 19ms/step - loss: 0.3097 - sparse_categorical_accuracy: 0.9832 - val_loss: 0.2471 - val_sparse_categorical_accuracy: 0.9901\n"
          ],
          "name": "stdout"
        }
      ]
    },
    {
      "cell_type": "code",
      "metadata": {
        "id": "tw37_D5SRC0E",
        "colab_type": "code",
        "colab": {}
      },
      "source": [
        "history2 = model.fit(x, epochs=5, shuffle=True, validation_data=(image_valid, np.array(label_valid)),verbose=1,callbacks=[reduce_lr])             "
      ],
      "execution_count": null,
      "outputs": []
    },
    {
      "cell_type": "code",
      "metadata": {
        "id": "75uJg73mQ19a",
        "colab_type": "code",
        "colab": {
          "base_uri": "https://localhost:8080/",
          "height": 195
        },
        "outputId": "0510b58c-9ab6-4e54-dd94-64b17d4cff0f"
      },
      "source": [
        "history2 = model.fit(x, epochs=5, shuffle=True, validation_data=(image_valid, np.array(label_valid)),verbose=1,callbacks=[reduce_lr])             "
      ],
      "execution_count": 27,
      "outputs": [
        {
          "output_type": "stream",
          "text": [
            "Epoch 1/5\n",
            "114/114 [==============================] - 2s 20ms/step - loss: 0.3070 - sparse_categorical_accuracy: 0.9832 - val_loss: 0.2577 - val_sparse_categorical_accuracy: 0.9852\n",
            "Epoch 2/5\n",
            "114/114 [==============================] - 2s 20ms/step - loss: 0.2938 - sparse_categorical_accuracy: 0.9876 - val_loss: 0.2397 - val_sparse_categorical_accuracy: 0.9877\n",
            "Epoch 3/5\n",
            "114/114 [==============================] - 2s 19ms/step - loss: 0.2981 - sparse_categorical_accuracy: 0.9835 - val_loss: 0.2426 - val_sparse_categorical_accuracy: 0.9901\n",
            "Epoch 4/5\n",
            "114/114 [==============================] - 2s 20ms/step - loss: 0.2935 - sparse_categorical_accuracy: 0.9857 - val_loss: 0.2322 - val_sparse_categorical_accuracy: 0.9926\n",
            "Epoch 5/5\n",
            "114/114 [==============================] - 2s 20ms/step - loss: 0.2979 - sparse_categorical_accuracy: 0.9852 - val_loss: 0.2600 - val_sparse_categorical_accuracy: 0.9802\n"
          ],
          "name": "stdout"
        }
      ]
    },
    {
      "cell_type": "code",
      "metadata": {
        "id": "ksnrTdK1RI0b",
        "colab_type": "code",
        "colab": {
          "base_uri": "https://localhost:8080/",
          "height": 195
        },
        "outputId": "2d6a5247-22e1-42e3-d4b0-7c7e2018893b"
      },
      "source": [
        "history2 = model.fit(x, epochs=5, shuffle=True, validation_data=(image_valid, np.array(label_valid)),verbose=1,callbacks=[reduce_lr])             "
      ],
      "execution_count": 32,
      "outputs": [
        {
          "output_type": "stream",
          "text": [
            "Epoch 1/5\n",
            "114/114 [==============================] - 2s 20ms/step - loss: 0.2946 - sparse_categorical_accuracy: 0.9841 - val_loss: 0.2387 - val_sparse_categorical_accuracy: 0.9926\n",
            "Epoch 2/5\n",
            "114/114 [==============================] - 2s 19ms/step - loss: 0.2972 - sparse_categorical_accuracy: 0.9841 - val_loss: 0.2280 - val_sparse_categorical_accuracy: 0.9951\n",
            "Epoch 3/5\n",
            "114/114 [==============================] - 2s 19ms/step - loss: 0.2949 - sparse_categorical_accuracy: 0.9843 - val_loss: 0.2315 - val_sparse_categorical_accuracy: 0.9901\n",
            "Epoch 4/5\n",
            "114/114 [==============================] - 2s 20ms/step - loss: 0.2863 - sparse_categorical_accuracy: 0.9854 - val_loss: 0.2292 - val_sparse_categorical_accuracy: 0.9926\n",
            "Epoch 5/5\n",
            "114/114 [==============================] - 2s 19ms/step - loss: 0.2805 - sparse_categorical_accuracy: 0.9885 - val_loss: 0.2297 - val_sparse_categorical_accuracy: 0.9926\n"
          ],
          "name": "stdout"
        }
      ]
    },
    {
      "cell_type": "code",
      "metadata": {
        "id": "0kPcVSufRZI8",
        "colab_type": "code",
        "colab": {}
      },
      "source": [
        "history2 = model.fit(x, epochs=5, shuffle=True, validation_data=(image_valid, np.array(label_valid)),verbose=1,callbacks=[reduce_lr])             "
      ],
      "execution_count": null,
      "outputs": []
    },
    {
      "cell_type": "code",
      "metadata": {
        "id": "zFfaIwehRPVy",
        "colab_type": "code",
        "colab": {
          "base_uri": "https://localhost:8080/",
          "height": 195
        },
        "outputId": "35ddd6eb-b5ef-452e-f64f-56d18e4ec2b4"
      },
      "source": [
        "history2 = model.fit(x, epochs=5, shuffle=True, validation_data=(image_valid, np.array(label_valid)),verbose=1,callbacks=[reduce_lr])             "
      ],
      "execution_count": 36,
      "outputs": [
        {
          "output_type": "stream",
          "text": [
            "Epoch 1/5\n",
            "114/114 [==============================] - 2s 20ms/step - loss: 0.2838 - sparse_categorical_accuracy: 0.9843 - val_loss: 0.2295 - val_sparse_categorical_accuracy: 0.9901\n",
            "Epoch 2/5\n",
            "114/114 [==============================] - 2s 20ms/step - loss: 0.2802 - sparse_categorical_accuracy: 0.9871 - val_loss: 0.2259 - val_sparse_categorical_accuracy: 0.9901\n",
            "Epoch 3/5\n",
            "114/114 [==============================] - 2s 20ms/step - loss: 0.2930 - sparse_categorical_accuracy: 0.9819 - val_loss: 0.2211 - val_sparse_categorical_accuracy: 0.9926\n",
            "Epoch 4/5\n",
            "114/114 [==============================] - 2s 20ms/step - loss: 0.2813 - sparse_categorical_accuracy: 0.9876 - val_loss: 0.2257 - val_sparse_categorical_accuracy: 0.9877\n",
            "Epoch 5/5\n",
            "114/114 [==============================] - 2s 20ms/step - loss: 0.2769 - sparse_categorical_accuracy: 0.9882 - val_loss: 0.2281 - val_sparse_categorical_accuracy: 0.9877\n"
          ],
          "name": "stdout"
        }
      ]
    },
    {
      "cell_type": "code",
      "metadata": {
        "id": "6C0OoI8pRequ",
        "colab_type": "code",
        "colab": {
          "base_uri": "https://localhost:8080/",
          "height": 195
        },
        "outputId": "a8a6f06a-af3f-4032-83bc-c9ded336d1c0"
      },
      "source": [
        "history2 = model.fit(x, epochs=5, shuffle=True, validation_data=(image_valid, np.array(label_valid)),verbose=1,callbacks=[reduce_lr])             "
      ],
      "execution_count": 39,
      "outputs": [
        {
          "output_type": "stream",
          "text": [
            "Epoch 1/5\n",
            "114/114 [==============================] - 2s 20ms/step - loss: 0.2808 - sparse_categorical_accuracy: 0.9832 - val_loss: 0.2215 - val_sparse_categorical_accuracy: 0.9901\n",
            "Epoch 2/5\n",
            "114/114 [==============================] - 2s 19ms/step - loss: 0.2800 - sparse_categorical_accuracy: 0.9882 - val_loss: 0.2341 - val_sparse_categorical_accuracy: 0.9852\n",
            "Epoch 3/5\n",
            "114/114 [==============================] - 2s 19ms/step - loss: 0.2719 - sparse_categorical_accuracy: 0.9854 - val_loss: 0.2209 - val_sparse_categorical_accuracy: 0.9901\n",
            "Epoch 4/5\n",
            "114/114 [==============================] - 2s 19ms/step - loss: 0.2719 - sparse_categorical_accuracy: 0.9854 - val_loss: 0.2235 - val_sparse_categorical_accuracy: 0.9877\n",
            "Epoch 5/5\n",
            "114/114 [==============================] - 2s 19ms/step - loss: 0.2729 - sparse_categorical_accuracy: 0.9874 - val_loss: 0.2227 - val_sparse_categorical_accuracy: 0.9877\n"
          ],
          "name": "stdout"
        }
      ]
    },
    {
      "cell_type": "markdown",
      "metadata": {
        "id": "zBRcx6heTHzM",
        "colab_type": "text"
      },
      "source": [
        "## Model Evaluation"
      ]
    },
    {
      "cell_type": "code",
      "metadata": {
        "id": "ll2r_GJMRNcy",
        "colab_type": "code",
        "colab": {
          "base_uri": "https://localhost:8080/",
          "height": 52
        },
        "outputId": "bcc178a9-b990-48b4-be79-67f868a6c7e4"
      },
      "source": [
        "model.evaluate(test_image_array, np.array(test_image_labels), batch_size=256)"
      ],
      "execution_count": 37,
      "outputs": [
        {
          "output_type": "stream",
          "text": [
            "7/7 [==============================] - 0s 11ms/step - loss: 0.2388 - sparse_categorical_accuracy: 0.9910\n"
          ],
          "name": "stdout"
        },
        {
          "output_type": "execute_result",
          "data": {
            "text/plain": [
              "[0.2388419359922409, 0.9910314083099365]"
            ]
          },
          "metadata": {
            "tags": []
          },
          "execution_count": 37
        }
      ]
    },
    {
      "cell_type": "code",
      "metadata": {
        "id": "rZqyCxwnQ7lB",
        "colab_type": "code",
        "colab": {
          "base_uri": "https://localhost:8080/",
          "height": 52
        },
        "outputId": "454c56d2-2a8d-4c2f-d103-f991ca220ed6"
      },
      "source": [
        "model.evaluate(test_image_array, np.array(test_image_labels), batch_size=256)"
      ],
      "execution_count": 29,
      "outputs": [
        {
          "output_type": "stream",
          "text": [
            "7/7 [==============================] - 0s 11ms/step - loss: 0.2515 - sparse_categorical_accuracy: 0.9899\n"
          ],
          "name": "stdout"
        },
        {
          "output_type": "execute_result",
          "data": {
            "text/plain": [
              "[0.2515491545200348, 0.9899103045463562]"
            ]
          },
          "metadata": {
            "tags": []
          },
          "execution_count": 29
        }
      ]
    },
    {
      "cell_type": "code",
      "metadata": {
        "id": "bxJvvXrC7eJp",
        "colab_type": "code",
        "colab": {
          "base_uri": "https://localhost:8080/",
          "height": 52
        },
        "outputId": "ae5897bc-a1ac-466b-cc62-25869e1f14d8"
      },
      "source": [
        "model.evaluate(test_image_array, np.array(test_image_labels), batch_size=256)"
      ],
      "execution_count": 23,
      "outputs": [
        {
          "output_type": "stream",
          "text": [
            "7/7 [==============================] - 0s 25ms/step - loss: 0.2638 - sparse_categorical_accuracy: 0.9888\n"
          ],
          "name": "stdout"
        },
        {
          "output_type": "execute_result",
          "data": {
            "text/plain": [
              "[0.263773649930954, 0.9887892603874207]"
            ]
          },
          "metadata": {
            "tags": []
          },
          "execution_count": 23
        }
      ]
    },
    {
      "cell_type": "code",
      "metadata": {
        "id": "p6EGvxqjF8mk",
        "colab_type": "code",
        "colab": {
          "base_uri": "https://localhost:8080/",
          "height": 167
        },
        "outputId": "bb9bec26-9b65-42d5-c92c-0af624b51b8b"
      },
      "source": [
        "xxx"
      ],
      "execution_count": 24,
      "outputs": [
        {
          "output_type": "error",
          "ename": "NameError",
          "evalue": "ignored",
          "traceback": [
            "\u001b[0;31m---------------------------------------------------------------------------\u001b[0m",
            "\u001b[0;31mNameError\u001b[0m                                 Traceback (most recent call last)",
            "\u001b[0;32m<ipython-input-24-38170c08cb45>\u001b[0m in \u001b[0;36m<module>\u001b[0;34m()\u001b[0m\n\u001b[0;32m----> 1\u001b[0;31m \u001b[0mxxx\u001b[0m\u001b[0;34m\u001b[0m\u001b[0;34m\u001b[0m\u001b[0m\n\u001b[0m",
            "\u001b[0;31mNameError\u001b[0m: name 'xxx' is not defined"
          ]
        }
      ]
    },
    {
      "cell_type": "markdown",
      "metadata": {
        "id": "gIyUGX4fTHzR",
        "colab_type": "text"
      },
      "source": [
        "## Visualization"
      ]
    },
    {
      "cell_type": "code",
      "metadata": {
        "id": "P78F9THYTHzS",
        "colab_type": "code",
        "colab": {}
      },
      "source": [
        "import matplotlib.pyplot as plt\n",
        "plt.plot(history.history['sparse_categorical_accuracy'])\n",
        "plt.plot(history.history['val_sparse_categorical_accuracy'])\n",
        "plt.ylabel('accuracy')\n",
        "plt.xlabel('epoch')\n",
        "plt.legend(['train', 'validation'], loc='upper left')\n",
        "plt.show()"
      ],
      "execution_count": null,
      "outputs": []
    },
    {
      "cell_type": "code",
      "metadata": {
        "id": "AjhuW2nWTHzW",
        "colab_type": "code",
        "colab": {}
      },
      "source": [
        "plt.plot(history.history['loss'])\n",
        "plt.plot(history.history['val_loss'])\n",
        "plt.ylabel('loss')\n",
        "plt.xlabel('epoch')\n",
        "plt.legend(['train', 'validation'], loc='upper left')\n",
        "plt.show()"
      ],
      "execution_count": null,
      "outputs": []
    },
    {
      "cell_type": "markdown",
      "metadata": {
        "id": "FngFpjsXTHzZ",
        "colab_type": "text"
      },
      "source": [
        "## Model Summary \n",
        "Number of parameters used in the model architecture"
      ]
    },
    {
      "cell_type": "code",
      "metadata": {
        "id": "XHfSKmEcTHzc",
        "colab_type": "code",
        "colab": {}
      },
      "source": [
        "print(model.summary())"
      ],
      "execution_count": null,
      "outputs": []
    },
    {
      "cell_type": "markdown",
      "metadata": {
        "id": "phBM_WPuTHzg",
        "colab_type": "text"
      },
      "source": [
        "## Saving Trained .h5 Model"
      ]
    },
    {
      "cell_type": "code",
      "metadata": {
        "id": "HNjCliQyTHzh",
        "colab_type": "code",
        "colab": {}
      },
      "source": [
        "def saveCNNModel(model_name):\n",
        "    model.save(model_name)"
      ],
      "execution_count": 30,
      "outputs": []
    },
    {
      "cell_type": "code",
      "metadata": {
        "id": "e2RME079THzk",
        "colab_type": "code",
        "colab": {}
      },
      "source": [
        "saveCNNModel('Trained_Models/Croatian_Winning_99_10.h5')"
      ],
      "execution_count": 38,
      "outputs": []
    },
    {
      "cell_type": "code",
      "metadata": {
        "id": "HYr5UPITTHzo",
        "colab_type": "code",
        "colab": {}
      },
      "source": [
        "model._set_inputs(image_train,np.array(label_train))"
      ],
      "execution_count": null,
      "outputs": []
    },
    {
      "cell_type": "markdown",
      "metadata": {
        "id": "h7hzL2wdTHzr",
        "colab_type": "text"
      },
      "source": [
        "## Loading Saved Trained .h5 Model"
      ]
    },
    {
      "cell_type": "code",
      "metadata": {
        "id": "E-hjEIw8THzt",
        "colab_type": "code",
        "colab": {}
      },
      "source": [
        "del model"
      ],
      "execution_count": null,
      "outputs": []
    },
    {
      "cell_type": "code",
      "metadata": {
        "id": "HtTAFeDGTHzx",
        "colab_type": "code",
        "colab": {}
      },
      "source": [
        "def load_model():\n",
        "    Model = tf.keras.models.load_model('Trained_Models/Croatian_Winning_xx_xx.h5')\n",
        "    return Model"
      ],
      "execution_count": null,
      "outputs": []
    },
    {
      "cell_type": "code",
      "metadata": {
        "id": "CrQFJlGBTHz0",
        "colab_type": "code",
        "colab": {}
      },
      "source": [
        "model= load_model()"
      ],
      "execution_count": null,
      "outputs": []
    },
    {
      "cell_type": "code",
      "metadata": {
        "id": "TQQOHjXWTHz3",
        "colab_type": "code",
        "colab": {}
      },
      "source": [
        "model.compile(optimizer='sgd',\n",
        "              loss='sparse_categorical_crossentropy',\n",
        "              metrics=[tf.keras.metrics.sparse_categorical_accuracy])"
      ],
      "execution_count": null,
      "outputs": []
    },
    {
      "cell_type": "markdown",
      "metadata": {
        "id": "2lRb1yZeTHz6",
        "colab_type": "text"
      },
      "source": [
        "## Computation Avg. Processing Time"
      ]
    },
    {
      "cell_type": "code",
      "metadata": {
        "id": "Ch1eEhDJTHz8",
        "colab_type": "code",
        "colab": {}
      },
      "source": [
        "import time\n",
        "t1=time.time()\n",
        "model.predict(test_image_array)\n",
        "t2=time.time()\n",
        "print(\"Average Processing time: \", ((t2-t1)/12630)*1000, \" ms\")"
      ],
      "execution_count": null,
      "outputs": []
    }
  ]
}