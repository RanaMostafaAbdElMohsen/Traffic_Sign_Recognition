{
  "nbformat": 4,
  "nbformat_minor": 0,
  "metadata": {
    "accelerator": "GPU",
    "colab": {
      "name": "Model_keras_augmentation.ipynb",
      "provenance": [],
      "collapsed_sections": []
    },
    "kernelspec": {
      "display_name": "Python 3",
      "language": "python",
      "name": "python3"
    },
    "language_info": {
      "codemirror_mode": {
        "name": "ipython",
        "version": 3
      },
      "file_extension": ".py",
      "mimetype": "text/x-python",
      "name": "python",
      "nbconvert_exporter": "python",
      "pygments_lexer": "ipython3",
      "version": "3.6.8"
    }
  },
  "cells": [
    {
      "cell_type": "code",
      "metadata": {
        "id": "yKZm7f5598b4",
        "colab_type": "code",
        "colab": {
          "base_uri": "https://localhost:8080/",
          "height": 211
        },
        "outputId": "4c9dfb9b-3c1e-47f5-f23e-8508c7231719"
      },
      "source": [
        "history2 = model.fit(x, epochs=5, validation_data=(image_valid.reshape(image_valid.shape[0],60,60,1), np.array(label_valid)), callbacks=[reduce_lr],shuffle=True )"
      ],
      "execution_count": null,
      "outputs": [
        {
          "output_type": "stream",
          "text": [
            "Epoch 1/5\n",
            "1103/1103 [==============================] - 68s 61ms/step - loss: 0.0589 - sparse_categorical_accuracy: 0.9994 - val_loss: 0.0608 - val_sparse_categorical_accuracy: 0.9987\n",
            "Epoch 2/5\n",
            "1103/1103 [==============================] - 67s 61ms/step - loss: 0.0586 - sparse_categorical_accuracy: 0.9995 - val_loss: 0.0597 - val_sparse_categorical_accuracy: 0.9990\n",
            "Epoch 3/5\n",
            "1103/1103 [==============================] - 67s 61ms/step - loss: 0.0585 - sparse_categorical_accuracy: 0.9993 - val_loss: 0.0598 - val_sparse_categorical_accuracy: 0.9990\n",
            "Epoch 4/5\n",
            "1103/1103 [==============================] - 68s 61ms/step - loss: 0.0581 - sparse_categorical_accuracy: 0.9995 - val_loss: 0.0581 - val_sparse_categorical_accuracy: 0.9987\n",
            "Epoch 5/5\n",
            "1103/1103 [==============================] - 68s 62ms/step - loss: 0.0577 - sparse_categorical_accuracy: 0.9994 - val_loss: 0.0589 - val_sparse_categorical_accuracy: 0.9990\n"
          ],
          "name": "stdout"
        }
      ]
    },
    {
      "cell_type": "markdown",
      "metadata": {
        "id": "i3Y2yu4E_z3L",
        "colab_type": "text"
      },
      "source": [
        "# Traffic Sign Recognition Model\n",
        "## Environment Initialisation"
      ]
    },
    {
      "cell_type": "code",
      "metadata": {
        "id": "4o-kPkjb_z3O",
        "colab_type": "code",
        "colab": {}
      },
      "source": [
        "def IntialiseEnv():\n",
        "    nb_dir = os.path.split(os.getcwd())[0]\n",
        "    if nb_dir not in sys.path:\n",
        "        sys.path.append(nb_dir)"
      ],
      "execution_count": 1,
      "outputs": []
    },
    {
      "cell_type": "code",
      "metadata": {
        "id": "feZ1r8FDANsA",
        "colab_type": "code",
        "colab": {
          "base_uri": "https://localhost:8080/",
          "height": 69
        },
        "outputId": "c1f622a7-7bd3-4fe8-c07d-79dfcb561011"
      },
      "source": [
        "from google.colab import drive\n",
        "drive.mount('/content/drive')\n",
        "import os\n",
        "os.chdir(\"/content/drive/\")\n",
        "!ls\n",
        "import os\n",
        "os.chdir(\"/content/drive/My Drive/DL_PRJ/Traffic_Sign_Recognition_Detection/Model\")\n",
        "!pip install import_ipynb"
      ],
      "execution_count": 2,
      "outputs": [
        {
          "output_type": "stream",
          "text": [
            "Drive already mounted at /content/drive; to attempt to forcibly remount, call drive.mount(\"/content/drive\", force_remount=True).\n",
            "'My Drive'\n",
            "Requirement already satisfied: import_ipynb in /usr/local/lib/python3.6/dist-packages (0.1.3)\n"
          ],
          "name": "stdout"
        }
      ]
    },
    {
      "cell_type": "code",
      "metadata": {
        "colab_type": "code",
        "id": "46MrgoVG_fv3",
        "colab": {
          "base_uri": "https://localhost:8080/",
          "height": 89
        },
        "outputId": "706108e7-f254-4cb3-c443-6e17aa3e52c3"
      },
      "source": [
        "# Libraries\n",
        "import os\n",
        "import sys\n",
        "import tensorflow as tf\n",
        "import numpy as np\n",
        "import math\n",
        "IntialiseEnv()\n",
        "import import_ipynb\n",
        "import pickle\n",
        "from sklearn.model_selection import train_test_split\n",
        "\n",
        "from Data_Preparation.Data_Preparation import LoadTrainDataSetWithAugmentation\n",
        "from Data_Preparation.Data_Preparation import LoadTrainDataSet\n",
        "from Data_Preparation.Data_Preparation import LoadTestDataSet"
      ],
      "execution_count": 3,
      "outputs": [
        {
          "output_type": "stream",
          "text": [
            "importing Jupyter notebook from /content/drive/.shortcut-targets-by-id/1XMKpUq14_0hvUF5xzzMMDMD6kZCtVvOU/DL_PRJ/Traffic_Sign_Recognition_Detection/Data_Preparation/Data_Preparation.ipynb\n",
            "importing Jupyter notebook from /content/drive/.shortcut-targets-by-id/1XMKpUq14_0hvUF5xzzMMDMD6kZCtVvOU/DL_PRJ/Traffic_Sign_Recognition_Detection/Pre_Processing/SegmentationNew.ipynb\n",
            "importing Jupyter notebook from /content/drive/.shortcut-targets-by-id/1XMKpUq14_0hvUF5xzzMMDMD6kZCtVvOU/DL_PRJ/Traffic_Sign_Recognition_Detection/Pre_Processing/Segmentation.ipynb\n"
          ],
          "name": "stdout"
        }
      ]
    },
    {
      "cell_type": "markdown",
      "metadata": {
        "id": "d_TRLKPg_z3l",
        "colab_type": "text"
      },
      "source": [
        "## Use GPU/ CPU Configuration \n",
        "Tensorflow version 2.0\n",
        "Prompt to user if CPU/ GPU is in use with device name"
      ]
    },
    {
      "cell_type": "code",
      "metadata": {
        "colab_type": "code",
        "id": "_9HpzHne_fwD",
        "colab": {
          "base_uri": "https://localhost:8080/",
          "height": 69
        },
        "outputId": "db871f3f-6c45-43c8-c6af-e47658f4131f"
      },
      "source": [
        "# Use GPU/CPU Configurations\n",
        "\n",
        "import tensorflow as tf\n",
        "print(tf.__version__)\n",
        "print(tf.test.gpu_device_name())\n",
        "print(\"Num GPUs Available: \", len(tf.config.experimental.list_physical_devices('GPU')))"
      ],
      "execution_count": 4,
      "outputs": [
        {
          "output_type": "stream",
          "text": [
            "2.2.0\n",
            "/device:GPU:0\n",
            "Num GPUs Available:  1\n"
          ],
          "name": "stdout"
        }
      ]
    },
    {
      "cell_type": "markdown",
      "metadata": {
        "id": "KlaazRm8_z3w",
        "colab_type": "text"
      },
      "source": [
        "## Reading DataSet\n",
        "Pre-processing and Loading Train and Test DataSet respectively"
      ]
    },
    {
      "cell_type": "code",
      "metadata": {
        "id": "ofBOmEtu_z3x",
        "colab_type": "code",
        "colab": {}
      },
      "source": [
        "def ReadTrainDataSet():\n",
        "    print(\"Reading Train Pre-processed DataSet\")\n",
        "    processedTrainDataSet = 'Processed_DataSet/TrainDataSet_once.pkl'\n",
        "    isProcessedTrainDataSetExits= os.path.exists(processedTrainDataSet)\n",
        "    train_image_array, train_image_labels = None, None\n",
        "    \n",
        "    if isProcessedTrainDataSetExits:\n",
        "        print(\"Loading Processed Train DataSet from Processed_DataSet/TrainDataSet.pkl\")\n",
        "        file = open(processedTrainDataSet, 'rb')\n",
        "        train_image_array, train_image_labels = pickle.load(file)\n",
        "        file.close()\n",
        "        print(\"Done Loading Train DataSet.\")\n",
        "    else:\n",
        "        print(\"Processed_DataSet/TrainDataSet.pkl file does not exist\")\n",
        "        print(\"Loading Train DataSet ... This may take a while.\")\n",
        "        train_image_array, train_image_labels =  LoadTrainDataSetWithAugmentation()\n",
        "        file = open(processedTrainDataSet, 'wb')\n",
        "        pickle.dump((train_image_array, train_image_labels), file, protocol=4)\n",
        "        file.close()\n",
        "        print(\"Saving pre-processed train DataSets in Processed_DataSet/TrainDataSet.pkl\")\n",
        "    return train_image_array, train_image_labels    "
      ],
      "execution_count": 5,
      "outputs": []
    },
    {
      "cell_type": "code",
      "metadata": {
        "id": "37crCI5F_z34",
        "colab_type": "code",
        "colab": {}
      },
      "source": [
        "def ReadTestDataSet():\n",
        "    processedTestDataSet = 'Processed_DataSet/TestDataSet.pkl'\n",
        "    isProcessedTestDataSetExits= os.path.exists(processedTestDataSet)\n",
        "    test_image_array, test_image_labels = None, None\n",
        "    \n",
        "    if isProcessedTestDataSetExits:\n",
        "        print(\"Loading Processed Test DataSet from Processed_DataSet/TestDataSet.pkl\")\n",
        "        file = open(processedTestDataSet, 'rb')\n",
        "        test_image_array, test_image_labels = pickle.load(file)\n",
        "        file.close()\n",
        "        print(\"Done Loading Test DataSet.\")\n",
        "    else:\n",
        "        print(\"Processed_DataSet/TestDataSet.pkl file does not exist\")\n",
        "        print(\"Loading Test DataSet ... This may take a while.\")\n",
        "        test_image_array, test_image_labels = LoadTestDataSet()\n",
        "        file = open(processedTestDataSet, 'wb')\n",
        "        pickle.dump((test_image_array, test_image_labels), file)\n",
        "        file.close()\n",
        "        print(\"Saving pre-processed test DataSets in Processed_DataSet/TestDataSet.pkl\")\n",
        "    return test_image_array, test_image_labels"
      ],
      "execution_count": 6,
      "outputs": []
    },
    {
      "cell_type": "code",
      "metadata": {
        "id": "M5UOSE8L_z4B",
        "colab_type": "code",
        "colab": {
          "base_uri": "https://localhost:8080/",
          "height": 69
        },
        "outputId": "cee423de-bf62-461b-fb60-068f47a7b855"
      },
      "source": [
        "train_image_array, train_image_labels= ReadTrainDataSet()"
      ],
      "execution_count": 7,
      "outputs": [
        {
          "output_type": "stream",
          "text": [
            "Reading Train Pre-processed DataSet\n",
            "Loading Processed Train DataSet from Processed_DataSet/TrainDataSet.pkl\n",
            "Done Loading Train DataSet.\n"
          ],
          "name": "stdout"
        }
      ]
    },
    {
      "cell_type": "code",
      "metadata": {
        "id": "V5DKs2LHxziY",
        "colab_type": "code",
        "colab": {
          "base_uri": "https://localhost:8080/",
          "height": 35
        },
        "outputId": "9ff5e5f0-c4db-421d-d6d9-8a8a1e881a51"
      },
      "source": [
        "print(train_image_array.shape)"
      ],
      "execution_count": 9,
      "outputs": [
        {
          "output_type": "stream",
          "text": [
            "(39209, 3600)\n"
          ],
          "name": "stdout"
        }
      ]
    },
    {
      "cell_type": "code",
      "metadata": {
        "id": "lFEi3wG0_z4I",
        "colab_type": "code",
        "colab": {
          "base_uri": "https://localhost:8080/",
          "height": 52
        },
        "outputId": "97c986c5-cf50-4aee-a0e3-6439bae44ce1"
      },
      "source": [
        "test_image_array, test_image_labels= ReadTestDataSet()"
      ],
      "execution_count": 8,
      "outputs": [
        {
          "output_type": "stream",
          "text": [
            "Loading Processed Test DataSet from Processed_DataSet/TestDataSet.pkl\n",
            "Done Loading Test DataSet.\n"
          ],
          "name": "stdout"
        }
      ]
    },
    {
      "cell_type": "code",
      "metadata": {
        "id": "YKqhPBJdxQQn",
        "colab_type": "code",
        "colab": {
          "base_uri": "https://localhost:8080/",
          "height": 35
        },
        "outputId": "784bf403-fc83-4642-f56d-79cbbed548aa"
      },
      "source": [
        "print(test_image_array.shape)"
      ],
      "execution_count": null,
      "outputs": [
        {
          "output_type": "stream",
          "text": [
            "(12630, 60, 60, 1)\n"
          ],
          "name": "stdout"
        }
      ]
    },
    {
      "cell_type": "markdown",
      "metadata": {
        "id": "NLgSph0z_z4Q",
        "colab_type": "text"
      },
      "source": [
        "## Train-Split \n",
        "Split Train images dataset into two splits: training and validation respectively 80-20"
      ]
    },
    {
      "cell_type": "code",
      "metadata": {
        "id": "iahsbIcO_z4R",
        "colab_type": "code",
        "colab": {}
      },
      "source": [
        "image_train, image_valid,label_train, label_valid = train_test_split(train_image_array, train_image_labels,stratify=train_image_labels,test_size=0.1,random_state=43)"
      ],
      "execution_count": 9,
      "outputs": []
    },
    {
      "cell_type": "code",
      "metadata": {
        "id": "33JGRj_HyYUW",
        "colab_type": "code",
        "colab": {
          "base_uri": "https://localhost:8080/",
          "height": 35
        },
        "outputId": "c007ec0f-2e39-4a2d-ddb0-51d5c120bcb2"
      },
      "source": [
        "print(image_train.shape)"
      ],
      "execution_count": null,
      "outputs": [
        {
          "output_type": "stream",
          "text": [
            "(142542, 60, 60, 1)\n"
          ],
          "name": "stdout"
        }
      ]
    },
    {
      "cell_type": "code",
      "metadata": {
        "id": "CCMuoCajXHk2",
        "colab_type": "code",
        "colab": {}
      },
      "source": [
        "del train_image_array\n",
        "del train_image_labels"
      ],
      "execution_count": 10,
      "outputs": []
    },
    {
      "cell_type": "code",
      "metadata": {
        "id": "O8u03780M4eP",
        "colab_type": "code",
        "colab": {
          "base_uri": "https://localhost:8080/",
          "height": 35
        },
        "outputId": "3f56b97a-59fc-47f5-d73d-bcd473c534a2"
      },
      "source": [
        "from keras.layers import Dense, Dropout, Activation, Flatten, BatchNormalization\n",
        "from keras.layers import Conv2D, MaxPool2D, Add\n",
        "from keras.models import Sequential\n",
        "from keras.engine.topology import Layer\n",
        "class Residual(Layer):\n",
        "    def __init__(self, channels_in,kernel,**kwargs):\n",
        "        super(Residual, self).__init__(**kwargs)\n",
        "        self.channels_in = channels_in\n",
        "        self.kernel = kernel\n",
        "\n",
        "    def call(self, x):\n",
        "        # the residual block using Keras functional API\n",
        "        first_layer =Activation(\"linear\", trainable=False)(x)\n",
        "        x = Conv2D(self.channels_in,self.kernel, padding=\"same\")(first_layer)\n",
        "        x = Activation(\"relu\")(x)\n",
        "        x = Conv2D(self.channels_in,self.kernel,padding=\"same\")(x)\n",
        "        residual= Add()([x, first_layer])\n",
        "        x = Activation(\"relu\")(residual)\n",
        "        return x\n",
        "\n",
        "    def compute_output_shape(self, input_shape):\n",
        "        return input_shape"
      ],
      "execution_count": 11,
      "outputs": [
        {
          "output_type": "stream",
          "text": [
            "Using TensorFlow backend.\n"
          ],
          "name": "stderr"
        }
      ]
    },
    {
      "cell_type": "markdown",
      "metadata": {
        "id": "Eg7ErT8V_z4X",
        "colab_type": "text"
      },
      "source": [
        "## Hyper-parameters Tuning"
      ]
    },
    {
      "cell_type": "code",
      "metadata": {
        "colab_type": "code",
        "id": "9TzbUr1R_fwU",
        "colab": {}
      },
      "source": [
        "# Hyper-parameters tuning\n",
        "kernel_2 = (3,3)\n",
        "pooling = (2,2)\n",
        "dropout = 0.2\n",
        "num_classes = 43"
      ],
      "execution_count": 12,
      "outputs": []
    },
    {
      "cell_type": "markdown",
      "metadata": {
        "id": "8Xkwm4jG_z4f",
        "colab_type": "text"
      },
      "source": [
        "## Model Architecture"
      ]
    },
    {
      "cell_type": "code",
      "metadata": {
        "colab_type": "code",
        "id": "6ffabeJEFcdk",
        "colab": {}
      },
      "source": [
        "weight_decay=1E-4\n",
        "from keras.regularizers import l2\n",
        "\n",
        "def model_():\n",
        "    model = None\n",
        "    tf.initializers.Orthogonal(gain=1.0, seed=None)\n",
        "    model=Sequential()\n",
        "\n",
        "\n",
        "    model.add(Conv2D(32,kernel_2, input_shape=(60,60,1), strides = 1, padding='valid',activation = tf.nn.relu,kernel_regularizer=l2(0.001)))\n",
        "    model.add(BatchNormalization())\n",
        "    model.add(Conv2D(32,kernel_2, activation = tf.nn.relu,kernel_regularizer=l2(0.01)))\n",
        "    model.add(MaxPool2D(pooling))\n",
        "    model.add(Dropout(dropout))\n",
        "    model.add(BatchNormalization())\n",
        "\n",
        "    model.add(Conv2D(128,kernel_2, strides = 1, padding='valid', activation = tf.nn.relu,kernel_regularizer=l2(0.001)))\n",
        "    model.add(BatchNormalization())\n",
        "    model.add(Conv2D(128,kernel_2, activation = tf.nn.relu,kernel_regularizer=l2(0.01)))\n",
        "    model.add(MaxPool2D(pooling))\n",
        "    model.add(Dropout(dropout))\n",
        "    model.add(BatchNormalization())\n",
        "\n",
        "    model.add(Conv2D(256,kernel_2, strides = 1, padding='valid', activation = tf.nn.relu,kernel_regularizer=l2(0.001)))\n",
        "    model.add(BatchNormalization())\n",
        "    model.add(Conv2D(256,kernel_2, activation = tf.nn.relu,kernel_regularizer=l2(0.01)))\n",
        "    model.add(MaxPool2D(pooling))\n",
        "    model.add(Dropout(dropout))\n",
        "    model.add(BatchNormalization())\n",
        "    model.add(Flatten())\n",
        "    model.add(Dense(512, activation = tf.nn.relu))\n",
        "    model.add(Dropout(0.4))\n",
        "    model.add(Dense(num_classes, activation = 'softmax'))\n",
        "    return model"
      ],
      "execution_count": 13,
      "outputs": []
    },
    {
      "cell_type": "markdown",
      "metadata": {
        "id": "-f47EfzP_z4m",
        "colab_type": "text"
      },
      "source": [
        "## Model Optimizer "
      ]
    },
    {
      "cell_type": "code",
      "metadata": {
        "id": "aqFrLaAQ_z4o",
        "colab_type": "code",
        "colab": {}
      },
      "source": [
        "from tensorflow import keras\n",
        "model = model_()\n",
        "\n",
        "\n",
        "reduce_lr = tf.keras.callbacks.ReduceLROnPlateau(monitor='loss', factor=0.2,\n",
        "                              patience=2,  verbose=1, min_delta=1e-4, min_lr=1e-20)\n",
        "# optimizer = keras.optimizers.Adadelta()\n",
        "\n",
        "model.compile(optimizer='sgd',\n",
        "              loss='sparse_categorical_crossentropy',\n",
        "              metrics=[tf.keras.metrics.sparse_categorical_accuracy])"
      ],
      "execution_count": 14,
      "outputs": []
    },
    {
      "cell_type": "code",
      "metadata": {
        "id": "V3BuZESstQh6",
        "colab_type": "code",
        "colab": {}
      },
      "source": [
        "from tensorflow.keras.preprocessing.image import ImageDataGenerator\n",
        "aug = ImageDataGenerator(featurewise_center=False, \n",
        "                            featurewise_std_normalization=False, \n",
        "                            width_shift_range=0.1,\n",
        "                            height_shift_range=0.1,\n",
        "                            zoom_range=0.2,\n",
        "                            shear_range=0.1,\n",
        "                            rotation_range=10.,)"
      ],
      "execution_count": 15,
      "outputs": []
    },
    {
      "cell_type": "code",
      "metadata": {
        "id": "Nl4T2E0ztXRJ",
        "colab_type": "code",
        "colab": {}
      },
      "source": [
        "x=aug.flow(image_train.reshape(image_train.shape[0],60,60,1), np.array(label_train), batch_size=32)"
      ],
      "execution_count": 16,
      "outputs": []
    },
    {
      "cell_type": "markdown",
      "metadata": {
        "id": "JXiLRRAC_z4x",
        "colab_type": "text"
      },
      "source": [
        "## Model Training"
      ]
    },
    {
      "cell_type": "code",
      "metadata": {
        "id": "cg5E0iKZ0ucp",
        "colab_type": "code",
        "colab": {}
      },
      "source": [
        "history = model.fit(x, epochs=80, validation_data=(image_valid.reshape(image_valid.shape[0],60,60,1), np.array(label_valid)), callbacks=[reduce_lr],shuffle=True )"
      ],
      "execution_count": null,
      "outputs": []
    },
    {
      "cell_type": "code",
      "metadata": {
        "colab_type": "code",
        "id": "R0aLGOkrFcdq",
        "colab": {
          "base_uri": "https://localhost:8080/",
          "height": 211
        },
        "outputId": "11c012bb-45c9-48f2-c21b-79c71cbfb1fc"
      },
      "source": [
        "history = model.fit(x, epochs=5, validation_data=(image_valid.reshape(image_valid.shape[0],60,60,1), np.array(label_valid)), callbacks=[reduce_lr],shuffle=True )"
      ],
      "execution_count": 26,
      "outputs": [
        {
          "output_type": "stream",
          "text": [
            "Epoch 1/5\n",
            "1103/1103 [==============================] - 68s 61ms/step - loss: 0.0755 - sparse_categorical_accuracy: 0.9982 - val_loss: 0.0729 - val_sparse_categorical_accuracy: 0.9987\n",
            "Epoch 2/5\n",
            "1103/1103 [==============================] - 68s 61ms/step - loss: 0.0740 - sparse_categorical_accuracy: 0.9986 - val_loss: 0.0723 - val_sparse_categorical_accuracy: 0.9987\n",
            "Epoch 3/5\n",
            "1103/1103 [==============================] - 68s 61ms/step - loss: 0.0729 - sparse_categorical_accuracy: 0.9987 - val_loss: 0.0719 - val_sparse_categorical_accuracy: 0.9987\n",
            "Epoch 4/5\n",
            "1103/1103 [==============================] - 67s 61ms/step - loss: 0.0722 - sparse_categorical_accuracy: 0.9987 - val_loss: 0.0711 - val_sparse_categorical_accuracy: 0.9985\n",
            "Epoch 5/5\n",
            "1103/1103 [==============================] - 67s 61ms/step - loss: 0.0719 - sparse_categorical_accuracy: 0.9989 - val_loss: 0.0704 - val_sparse_categorical_accuracy: 0.9987\n"
          ],
          "name": "stdout"
        }
      ]
    },
    {
      "cell_type": "code",
      "metadata": {
        "id": "E5afrpfP0Ury",
        "colab_type": "code",
        "colab": {
          "base_uri": "https://localhost:8080/",
          "height": 211
        },
        "outputId": "e5a4223f-3a57-4cea-fd3a-9b3aa274bf01"
      },
      "source": [
        "history2 = model.fit(x, epochs=5, validation_data=(image_valid.reshape(image_valid.shape[0],60,60,1), np.array(label_valid)), callbacks=[reduce_lr],shuffle=True )"
      ],
      "execution_count": 31,
      "outputs": [
        {
          "output_type": "stream",
          "text": [
            "Epoch 1/5\n",
            "1103/1103 [==============================] - 67s 61ms/step - loss: 0.0681 - sparse_categorical_accuracy: 0.9993 - val_loss: 0.0686 - val_sparse_categorical_accuracy: 0.9985\n",
            "Epoch 2/5\n",
            "1103/1103 [==============================] - 67s 61ms/step - loss: 0.0680 - sparse_categorical_accuracy: 0.9991 - val_loss: 0.0667 - val_sparse_categorical_accuracy: 0.9985\n",
            "Epoch 3/5\n",
            "1103/1103 [==============================] - 67s 61ms/step - loss: 0.0671 - sparse_categorical_accuracy: 0.9993 - val_loss: 0.0666 - val_sparse_categorical_accuracy: 0.9985\n",
            "Epoch 4/5\n",
            "1103/1103 [==============================] - 67s 61ms/step - loss: 0.0669 - sparse_categorical_accuracy: 0.9993 - val_loss: 0.0662 - val_sparse_categorical_accuracy: 0.9990\n",
            "Epoch 5/5\n",
            "1103/1103 [==============================] - 68s 62ms/step - loss: 0.0670 - sparse_categorical_accuracy: 0.9989 - val_loss: 0.0672 - val_sparse_categorical_accuracy: 0.9985\n"
          ],
          "name": "stdout"
        }
      ]
    },
    {
      "cell_type": "code",
      "metadata": {
        "id": "RMIir_bF3xz1",
        "colab_type": "code",
        "colab": {
          "base_uri": "https://localhost:8080/",
          "height": 211
        },
        "outputId": "bd6902d6-b5c9-4791-f736-efa4b3e48ac9"
      },
      "source": [
        "history2 = model.fit(x, epochs=5, validation_data=(image_valid.reshape(image_valid.shape[0],60,60,1), np.array(label_valid)), callbacks=[reduce_lr],shuffle=True )"
      ],
      "execution_count": 34,
      "outputs": [
        {
          "output_type": "stream",
          "text": [
            "Epoch 1/5\n",
            "1103/1103 [==============================] - 68s 62ms/step - loss: 0.0656 - sparse_categorical_accuracy: 0.9993 - val_loss: 0.0665 - val_sparse_categorical_accuracy: 0.9987\n",
            "Epoch 2/5\n",
            "1103/1103 [==============================] - 68s 62ms/step - loss: 0.0656 - sparse_categorical_accuracy: 0.9991 - val_loss: 0.0656 - val_sparse_categorical_accuracy: 0.9987\n",
            "Epoch 3/5\n",
            "1103/1103 [==============================] - 68s 62ms/step - loss: 0.0649 - sparse_categorical_accuracy: 0.9993 - val_loss: 0.0655 - val_sparse_categorical_accuracy: 0.9987\n",
            "Epoch 4/5\n",
            "1103/1103 [==============================] - 68s 62ms/step - loss: 0.0644 - sparse_categorical_accuracy: 0.9993 - val_loss: 0.0648 - val_sparse_categorical_accuracy: 0.9987\n",
            "Epoch 5/5\n",
            "1103/1103 [==============================] - 68s 62ms/step - loss: 0.0642 - sparse_categorical_accuracy: 0.9993 - val_loss: 0.0645 - val_sparse_categorical_accuracy: 0.9987\n"
          ],
          "name": "stdout"
        }
      ]
    },
    {
      "cell_type": "code",
      "metadata": {
        "id": "cxiQtPfG5OBB",
        "colab_type": "code",
        "colab": {
          "base_uri": "https://localhost:8080/",
          "height": 211
        },
        "outputId": "1aa631cd-10a4-4bba-9f5a-38af8b644914"
      },
      "source": [
        "history2 = model.fit(x, epochs=5, validation_data=(image_valid.reshape(image_valid.shape[0],60,60,1), np.array(label_valid)), callbacks=[reduce_lr],shuffle=True )"
      ],
      "execution_count": 36,
      "outputs": [
        {
          "output_type": "stream",
          "text": [
            "Epoch 1/5\n",
            "1103/1103 [==============================] - 68s 61ms/step - loss: 0.0638 - sparse_categorical_accuracy: 0.9993 - val_loss: 0.0641 - val_sparse_categorical_accuracy: 0.9985\n",
            "Epoch 2/5\n",
            "1103/1103 [==============================] - 67s 61ms/step - loss: 0.0635 - sparse_categorical_accuracy: 0.9993 - val_loss: 0.0643 - val_sparse_categorical_accuracy: 0.9987\n",
            "Epoch 3/5\n",
            "1103/1103 [==============================] - 68s 62ms/step - loss: 0.0631 - sparse_categorical_accuracy: 0.9994 - val_loss: 0.0639 - val_sparse_categorical_accuracy: 0.9987\n",
            "Epoch 4/5\n",
            "1103/1103 [==============================] - 68s 62ms/step - loss: 0.0630 - sparse_categorical_accuracy: 0.9992 - val_loss: 0.0639 - val_sparse_categorical_accuracy: 0.9990\n",
            "Epoch 5/5\n",
            "1103/1103 [==============================] - 68s 62ms/step - loss: 0.0627 - sparse_categorical_accuracy: 0.9994 - val_loss: 0.0633 - val_sparse_categorical_accuracy: 0.9990\n"
          ],
          "name": "stdout"
        }
      ]
    },
    {
      "cell_type": "code",
      "metadata": {
        "id": "6xB03c7Y7HVk",
        "colab_type": "code",
        "colab": {
          "base_uri": "https://localhost:8080/",
          "height": 211
        },
        "outputId": "b25f27f7-8122-4e22-dc02-66c28b331ee1"
      },
      "source": [
        "history2 = model.fit(x, epochs=5, validation_data=(image_valid.reshape(image_valid.shape[0],60,60,1), np.array(label_valid)), callbacks=[reduce_lr],shuffle=True )"
      ],
      "execution_count": null,
      "outputs": [
        {
          "output_type": "stream",
          "text": [
            "Epoch 1/5\n",
            "1103/1103 [==============================] - 67s 61ms/step - loss: 0.0619 - sparse_categorical_accuracy: 0.9995 - val_loss: 0.0628 - val_sparse_categorical_accuracy: 0.9992\n",
            "Epoch 2/5\n",
            "1103/1103 [==============================] - 67s 61ms/step - loss: 0.0616 - sparse_categorical_accuracy: 0.9995 - val_loss: 0.0610 - val_sparse_categorical_accuracy: 0.9992\n",
            "Epoch 3/5\n",
            "1103/1103 [==============================] - 67s 61ms/step - loss: 0.0613 - sparse_categorical_accuracy: 0.9995 - val_loss: 0.0605 - val_sparse_categorical_accuracy: 0.9992\n",
            "Epoch 4/5\n",
            "1103/1103 [==============================] - 67s 61ms/step - loss: 0.0610 - sparse_categorical_accuracy: 0.9993 - val_loss: 0.0607 - val_sparse_categorical_accuracy: 0.9990\n",
            "Epoch 5/5\n",
            "1103/1103 [==============================] - 67s 61ms/step - loss: 0.0606 - sparse_categorical_accuracy: 0.9993 - val_loss: 0.0608 - val_sparse_categorical_accuracy: 0.9992\n"
          ],
          "name": "stdout"
        }
      ]
    },
    {
      "cell_type": "markdown",
      "metadata": {
        "id": "08KFabUT_z5L",
        "colab_type": "text"
      },
      "source": [
        "## Model Evaluation"
      ]
    },
    {
      "cell_type": "code",
      "metadata": {
        "id": "hX89vzqD8bc5",
        "colab_type": "code",
        "colab": {
          "base_uri": "https://localhost:8080/",
          "height": 52
        },
        "outputId": "34f27e51-be77-44da-90e5-a8c9c5a1b662"
      },
      "source": [
        "model.evaluate(test_image_array, np.array(test_image_labels), batch_size=256)"
      ],
      "execution_count": 40,
      "outputs": [
        {
          "output_type": "stream",
          "text": [
            "12630/12630 [==============================] - 5s 358us/step\n"
          ],
          "name": "stdout"
        },
        {
          "output_type": "execute_result",
          "data": {
            "text/plain": [
              "[0.0715738391201362, 0.9969121217727661]"
            ]
          },
          "metadata": {
            "tags": []
          },
          "execution_count": 40
        }
      ]
    },
    {
      "cell_type": "code",
      "metadata": {
        "id": "JGTuqPRE4vlk",
        "colab_type": "code",
        "colab": {
          "base_uri": "https://localhost:8080/",
          "height": 52
        },
        "outputId": "965496aa-c386-45f6-8f07-25d07d9bc93a"
      },
      "source": [
        "model.evaluate(test_image_array, np.array(test_image_labels), batch_size=256)"
      ],
      "execution_count": 37,
      "outputs": [
        {
          "output_type": "stream",
          "text": [
            "12630/12630 [==============================] - 5s 360us/step\n"
          ],
          "name": "stdout"
        },
        {
          "output_type": "execute_result",
          "data": {
            "text/plain": [
              "[0.07329976883549494, 0.9965953826904297]"
            ]
          },
          "metadata": {
            "tags": []
          },
          "execution_count": 37
        }
      ]
    },
    {
      "cell_type": "code",
      "metadata": {
        "id": "ySR2KOk20Syx",
        "colab_type": "code",
        "colab": {
          "base_uri": "https://localhost:8080/",
          "height": 52
        },
        "outputId": "ce162dfe-98bf-4791-fb10-41dd9be9d255"
      },
      "source": [
        "model.evaluate(test_image_array, np.array(test_image_labels), batch_size=256)"
      ],
      "execution_count": 32,
      "outputs": [
        {
          "output_type": "stream",
          "text": [
            "12630/12630 [==============================] - 5s 361us/step\n"
          ],
          "name": "stdout"
        },
        {
          "output_type": "execute_result",
          "data": {
            "text/plain": [
              "[0.07664325414011616, 0.996516227722168]"
            ]
          },
          "metadata": {
            "tags": []
          },
          "execution_count": 32
        }
      ]
    },
    {
      "cell_type": "code",
      "metadata": {
        "id": "ZT46nof5xspm",
        "colab_type": "code",
        "colab": {
          "base_uri": "https://localhost:8080/",
          "height": 52
        },
        "outputId": "ff42e3d3-57dd-4a53-b27b-0ffaf3113f5c"
      },
      "source": [
        "model.evaluate(test_image_array, np.array(test_image_labels), batch_size=256)"
      ],
      "execution_count": 27,
      "outputs": [
        {
          "output_type": "stream",
          "text": [
            "12630/12630 [==============================] - 5s 359us/step\n"
          ],
          "name": "stdout"
        },
        {
          "output_type": "execute_result",
          "data": {
            "text/plain": [
              "[0.08278639665432422, 0.9955661296844482]"
            ]
          },
          "metadata": {
            "tags": []
          },
          "execution_count": 27
        }
      ]
    },
    {
      "cell_type": "code",
      "metadata": {
        "id": "vJNkUzgwvn3v",
        "colab_type": "code",
        "colab": {
          "base_uri": "https://localhost:8080/",
          "height": 52
        },
        "outputId": "db91b37d-b21c-4be1-ca7e-b1c0ac0d995b"
      },
      "source": [
        "model.evaluate(test_image_array, np.array(test_image_labels), batch_size=256)"
      ],
      "execution_count": 22,
      "outputs": [
        {
          "output_type": "stream",
          "text": [
            "12630/12630 [==============================] - 5s 360us/step\n"
          ],
          "name": "stdout"
        },
        {
          "output_type": "execute_result",
          "data": {
            "text/plain": [
              "[0.09321782771359335, 0.9948534965515137]"
            ]
          },
          "metadata": {
            "tags": []
          },
          "execution_count": 22
        }
      ]
    },
    {
      "cell_type": "code",
      "metadata": {
        "id": "Swdh6DJcb2sm",
        "colab_type": "code",
        "colab": {
          "base_uri": "https://localhost:8080/",
          "height": 52
        },
        "outputId": "d32d6048-a71e-49f9-9242-991f30137670"
      },
      "source": [
        "model.evaluate(test_image_array, np.array(test_image_labels), batch_size=256)"
      ],
      "execution_count": 18,
      "outputs": [
        {
          "output_type": "stream",
          "text": [
            "12630/12630 [==============================] - 5s 422us/step\n"
          ],
          "name": "stdout"
        },
        {
          "output_type": "execute_result",
          "data": {
            "text/plain": [
              "[0.10724996524322439, 0.993665874004364]"
            ]
          },
          "metadata": {
            "tags": []
          },
          "execution_count": 18
        }
      ]
    },
    {
      "cell_type": "markdown",
      "metadata": {
        "id": "S1SvrW7c_z42",
        "colab_type": "text"
      },
      "source": [
        "## Visualization"
      ]
    },
    {
      "cell_type": "code",
      "metadata": {
        "id": "d01yT3_F_z44",
        "colab_type": "code",
        "colab": {
          "base_uri": "https://localhost:8080/",
          "height": 279
        },
        "outputId": "cdc7fbe6-0c38-417f-ab5a-03e0f49e0f6e"
      },
      "source": [
        "import matplotlib.pyplot as plt\n",
        "plt.plot(history.history['sparse_categorical_accuracy'])\n",
        "plt.plot(history.history['val_sparse_categorical_accuracy'])\n",
        "plt.ylabel('accuracy')\n",
        "plt.xlabel('epoch')\n",
        "plt.legend(['train', 'validation'], loc='upper left')\n",
        "plt.show()"
      ],
      "execution_count": 22,
      "outputs": [
        {
          "output_type": "display_data",
          "data": {
            "image/png": "[encoded data removed]",
            "text/plain": [
              "<Figure size 432x288 with 1 Axes>"
            ]
          },
          "metadata": {
            "tags": [],
            "needs_background": "light"
          }
        }
      ]
    },
    {
      "cell_type": "code",
      "metadata": {
        "id": "Jv9nxMP5_z4_",
        "colab_type": "code",
        "colab": {
          "base_uri": "https://localhost:8080/",
          "height": 279
        },
        "outputId": "f64447ee-35ae-4404-deaf-d5b7a919715b"
      },
      "source": [
        "plt.plot(history.history['loss'])\n",
        "plt.plot(history.history['val_loss'])\n",
        "plt.ylabel('loss')\n",
        "plt.xlabel('epoch')\n",
        "plt.legend(['train', 'validation'], loc='upper left')\n",
        "plt.show()"
      ],
      "execution_count": 23,
      "outputs": [
        {
          "output_type": "display_data",
          "data": {
            "image/png": "[encoded data removed]",
            "text/plain": [
              "<Figure size 432x288 with 1 Axes>"
            ]
          },
          "metadata": {
            "tags": [],
            "needs_background": "light"
          }
        }
      ]
    },
    {
      "cell_type": "markdown",
      "metadata": {
        "id": "lITG_Mw9_z5F",
        "colab_type": "text"
      },
      "source": [
        "## Model Summary \n",
        "Number of parameters used in the model architecture"
      ]
    },
    {
      "cell_type": "code",
      "metadata": {
        "id": "hSaS0ZyI_z5G",
        "colab_type": "code",
        "colab": {
          "base_uri": "https://localhost:8080/",
          "height": 936
        },
        "outputId": "04cad164-4dba-4234-dfba-c79e32127912"
      },
      "source": [
        "print(model.summary())"
      ],
      "execution_count": null,
      "outputs": [
        {
          "output_type": "stream",
          "text": [
            "Model: \"sequential_1\"\n",
            "_________________________________________________________________\n",
            "Layer (type)                 Output Shape              Param #   \n",
            "=================================================================\n",
            "conv2d_1 (Conv2D)            (None, 58, 58, 32)        320       \n",
            "_________________________________________________________________\n",
            "batch_normalization_1 (Batch (None, 58, 58, 32)        128       \n",
            "_________________________________________________________________\n",
            "conv2d_2 (Conv2D)            (None, 56, 56, 32)        9248      \n",
            "_________________________________________________________________\n",
            "max_pooling2d_1 (MaxPooling2 (None, 28, 28, 32)        0         \n",
            "_________________________________________________________________\n",
            "dropout_1 (Dropout)          (None, 28, 28, 32)        0         \n",
            "_________________________________________________________________\n",
            "batch_normalization_2 (Batch (None, 28, 28, 32)        128       \n",
            "_________________________________________________________________\n",
            "conv2d_3 (Conv2D)            (None, 26, 26, 128)       36992     \n",
            "_________________________________________________________________\n",
            "batch_normalization_3 (Batch (None, 26, 26, 128)       512       \n",
            "_________________________________________________________________\n",
            "conv2d_4 (Conv2D)            (None, 24, 24, 128)       147584    \n",
            "_________________________________________________________________\n",
            "max_pooling2d_2 (MaxPooling2 (None, 12, 12, 128)       0         \n",
            "_________________________________________________________________\n",
            "dropout_2 (Dropout)          (None, 12, 12, 128)       0         \n",
            "_________________________________________________________________\n",
            "batch_normalization_4 (Batch (None, 12, 12, 128)       512       \n",
            "_________________________________________________________________\n",
            "conv2d_5 (Conv2D)            (None, 10, 10, 256)       295168    \n",
            "_________________________________________________________________\n",
            "batch_normalization_5 (Batch (None, 10, 10, 256)       1024      \n",
            "_________________________________________________________________\n",
            "conv2d_6 (Conv2D)            (None, 8, 8, 256)         590080    \n",
            "_________________________________________________________________\n",
            "max_pooling2d_3 (MaxPooling2 (None, 4, 4, 256)         0         \n",
            "_________________________________________________________________\n",
            "dropout_3 (Dropout)          (None, 4, 4, 256)         0         \n",
            "_________________________________________________________________\n",
            "batch_normalization_6 (Batch (None, 4, 4, 256)         1024      \n",
            "_________________________________________________________________\n",
            "flatten_1 (Flatten)          (None, 4096)              0         \n",
            "_________________________________________________________________\n",
            "dense_1 (Dense)              (None, 512)               2097664   \n",
            "_________________________________________________________________\n",
            "dropout_4 (Dropout)          (None, 512)               0         \n",
            "_________________________________________________________________\n",
            "dense_2 (Dense)              (None, 43)                22059     \n",
            "=================================================================\n",
            "Total params: 3,202,443\n",
            "Trainable params: 3,200,779\n",
            "Non-trainable params: 1,664\n",
            "_________________________________________________________________\n",
            "None\n"
          ],
          "name": "stdout"
        }
      ]
    },
    {
      "cell_type": "markdown",
      "metadata": {
        "id": "LGX8hR4r_z5T",
        "colab_type": "text"
      },
      "source": [
        "## Saving Trained .h5 Model"
      ]
    },
    {
      "cell_type": "code",
      "metadata": {
        "colab_type": "code",
        "id": "paMLoaT4_fwZ",
        "colab": {}
      },
      "source": [
        "def saveCNNModel(model_name):\n",
        "    model.save(model_name)"
      ],
      "execution_count": 19,
      "outputs": []
    },
    {
      "cell_type": "code",
      "metadata": {
        "colab_type": "code",
        "id": "xqmScYoy_fwc",
        "colab": {}
      },
      "source": [
        "saveCNNModel('Trained_Models/winning_model_keras_augmentation_99_69.h5')"
      ],
      "execution_count": 41,
      "outputs": []
    },
    {
      "cell_type": "code",
      "metadata": {
        "colab_type": "code",
        "id": "sQ3VvwXDFceP",
        "colab": {}
      },
      "source": [
        "model._set_inputs(image_train,np.array(label_train))"
      ],
      "execution_count": null,
      "outputs": []
    },
    {
      "cell_type": "markdown",
      "metadata": {
        "id": "zUjBuI9Q_z5k",
        "colab_type": "text"
      },
      "source": [
        "## Loading Saved Trained .h5 Model"
      ]
    },
    {
      "cell_type": "code",
      "metadata": {
        "colab_type": "code",
        "id": "GxFfWaaN_fwe",
        "colab": {}
      },
      "source": [
        "from keras.models import load_model\n",
        "def load_model():\n",
        "    Model = load_model('Trained_Models/winning_model_keras_augmentation_99_35.h5')\n",
        "    return Model"
      ],
      "execution_count": 13,
      "outputs": []
    },
    {
      "cell_type": "code",
      "metadata": {
        "colab_type": "code",
        "id": "hXlI3Mxx_fwi",
        "colab": {
          "base_uri": "https://localhost:8080/",
          "height": 1000
        },
        "outputId": "27d9030a-2ce9-41a7-e035-fd482a75e72b"
      },
      "source": [
        "# del model\n",
        "from tensorflow import keras\n",
        "\n",
        "model= load_model_()"
      ],
      "execution_count": 14,
      "outputs": [
        {
          "output_type": "error",
          "ename": "OSError",
          "evalue": "ignored",
          "traceback": [
            "\u001b[0;31m---------------------------------------------------------------------------\u001b[0m",
            "\u001b[0;31mOSError\u001b[0m                                   Traceback (most recent call last)",
            "\u001b[0;32m<ipython-input-14-5cbe030880a8>\u001b[0m in \u001b[0;36m<module>\u001b[0;34m()\u001b[0m\n\u001b[1;32m      2\u001b[0m \u001b[0;32mfrom\u001b[0m \u001b[0mtensorflow\u001b[0m \u001b[0;32mimport\u001b[0m \u001b[0mkeras\u001b[0m\u001b[0;34m\u001b[0m\u001b[0;34m\u001b[0m\u001b[0m\n\u001b[1;32m      3\u001b[0m \u001b[0;34m\u001b[0m\u001b[0m\n\u001b[0;32m----> 4\u001b[0;31m \u001b[0mmodel\u001b[0m\u001b[0;34m=\u001b[0m \u001b[0mload_model_\u001b[0m\u001b[0;34m(\u001b[0m\u001b[0;34m)\u001b[0m\u001b[0;34m\u001b[0m\u001b[0;34m\u001b[0m\u001b[0m\n\u001b[0m",
            "\u001b[0;32m<ipython-input-13-46a152462366>\u001b[0m in \u001b[0;36mload_model_\u001b[0;34m()\u001b[0m\n\u001b[1;32m      1\u001b[0m \u001b[0;32mfrom\u001b[0m \u001b[0mkeras\u001b[0m\u001b[0;34m.\u001b[0m\u001b[0mmodels\u001b[0m \u001b[0;32mimport\u001b[0m \u001b[0mload_model\u001b[0m\u001b[0;34m\u001b[0m\u001b[0;34m\u001b[0m\u001b[0m\n\u001b[1;32m      2\u001b[0m \u001b[0;32mdef\u001b[0m \u001b[0mload_model_\u001b[0m\u001b[0;34m(\u001b[0m\u001b[0;34m)\u001b[0m\u001b[0;34m:\u001b[0m\u001b[0;34m\u001b[0m\u001b[0;34m\u001b[0m\u001b[0m\n\u001b[0;32m----> 3\u001b[0;31m     \u001b[0mModel\u001b[0m \u001b[0;34m=\u001b[0m \u001b[0mload_model\u001b[0m\u001b[0;34m(\u001b[0m\u001b[0;34m'/content/drive/My Drive/DL_PRJ/Traffic_Sign_Recognition_Detection/Model/Trained_Models/winning_model_keras_augmentation_99_35.h5'\u001b[0m\u001b[0;34m)\u001b[0m\u001b[0;34m\u001b[0m\u001b[0;34m\u001b[0m\u001b[0m\n\u001b[0m\u001b[1;32m      4\u001b[0m     \u001b[0;32mreturn\u001b[0m \u001b[0mModel\u001b[0m\u001b[0;34m\u001b[0m\u001b[0;34m\u001b[0m\u001b[0m\n",
            "\u001b[0;32m/usr/local/lib/python3.6/dist-packages/keras/engine/saving.py\u001b[0m in \u001b[0;36mload_wrapper\u001b[0;34m(*args, **kwargs)\u001b[0m\n\u001b[1;32m    490\u001b[0m                 \u001b[0mos\u001b[0m\u001b[0;34m.\u001b[0m\u001b[0mremove\u001b[0m\u001b[0;34m(\u001b[0m\u001b[0mtmp_filepath\u001b[0m\u001b[0;34m)\u001b[0m\u001b[0;34m\u001b[0m\u001b[0;34m\u001b[0m\u001b[0m\n\u001b[1;32m    491\u001b[0m             \u001b[0;32mreturn\u001b[0m \u001b[0mres\u001b[0m\u001b[0;34m\u001b[0m\u001b[0;34m\u001b[0m\u001b[0m\n\u001b[0;32m--> 492\u001b[0;31m         \u001b[0;32mreturn\u001b[0m \u001b[0mload_function\u001b[0m\u001b[0;34m(\u001b[0m\u001b[0;34m*\u001b[0m\u001b[0margs\u001b[0m\u001b[0;34m,\u001b[0m \u001b[0;34m**\u001b[0m\u001b[0mkwargs\u001b[0m\u001b[0;34m)\u001b[0m\u001b[0;34m\u001b[0m\u001b[0;34m\u001b[0m\u001b[0m\n\u001b[0m\u001b[1;32m    493\u001b[0m \u001b[0;34m\u001b[0m\u001b[0m\n\u001b[1;32m    494\u001b[0m     \u001b[0;32mreturn\u001b[0m \u001b[0mload_wrapper\u001b[0m\u001b[0;34m\u001b[0m\u001b[0;34m\u001b[0m\u001b[0m\n",
            "\u001b[0;32m/usr/local/lib/python3.6/dist-packages/keras/engine/saving.py\u001b[0m in \u001b[0;36mload_model\u001b[0;34m(filepath, custom_objects, compile)\u001b[0m\n\u001b[1;32m    581\u001b[0m \u001b[0;34m\u001b[0m\u001b[0m\n\u001b[1;32m    582\u001b[0m     \u001b[0;32mif\u001b[0m \u001b[0mH5Dict\u001b[0m\u001b[0;34m.\u001b[0m\u001b[0mis_supported_type\u001b[0m\u001b[0;34m(\u001b[0m\u001b[0mfilepath\u001b[0m\u001b[0;34m)\u001b[0m\u001b[0;34m:\u001b[0m\u001b[0;34m\u001b[0m\u001b[0;34m\u001b[0m\u001b[0m\n\u001b[0;32m--> 583\u001b[0;31m         \u001b[0;32mwith\u001b[0m \u001b[0mH5Dict\u001b[0m\u001b[0;34m(\u001b[0m\u001b[0mfilepath\u001b[0m\u001b[0;34m,\u001b[0m \u001b[0mmode\u001b[0m\u001b[0;34m=\u001b[0m\u001b[0;34m'r'\u001b[0m\u001b[0;34m)\u001b[0m \u001b[0;32mas\u001b[0m \u001b[0mh5dict\u001b[0m\u001b[0;34m:\u001b[0m\u001b[0;34m\u001b[0m\u001b[0;34m\u001b[0m\u001b[0m\n\u001b[0m\u001b[1;32m    584\u001b[0m             \u001b[0mmodel\u001b[0m \u001b[0;34m=\u001b[0m \u001b[0m_deserialize_model\u001b[0m\u001b[0;34m(\u001b[0m\u001b[0mh5dict\u001b[0m\u001b[0;34m,\u001b[0m \u001b[0mcustom_objects\u001b[0m\u001b[0;34m,\u001b[0m \u001b[0mcompile\u001b[0m\u001b[0;34m)\u001b[0m\u001b[0;34m\u001b[0m\u001b[0;34m\u001b[0m\u001b[0m\n\u001b[1;32m    585\u001b[0m     \u001b[0;32melif\u001b[0m \u001b[0mhasattr\u001b[0m\u001b[0;34m(\u001b[0m\u001b[0mfilepath\u001b[0m\u001b[0;34m,\u001b[0m \u001b[0;34m'write'\u001b[0m\u001b[0;34m)\u001b[0m \u001b[0;32mand\u001b[0m \u001b[0mcallable\u001b[0m\u001b[0;34m(\u001b[0m\u001b[0mfilepath\u001b[0m\u001b[0;34m.\u001b[0m\u001b[0mwrite\u001b[0m\u001b[0;34m)\u001b[0m\u001b[0;34m:\u001b[0m\u001b[0;34m\u001b[0m\u001b[0;34m\u001b[0m\u001b[0m\n",
            "\u001b[0;32m/usr/local/lib/python3.6/dist-packages/keras/utils/io_utils.py\u001b[0m in \u001b[0;36m__init__\u001b[0;34m(self, path, mode)\u001b[0m\n\u001b[1;32m    189\u001b[0m             \u001b[0mself\u001b[0m\u001b[0;34m.\u001b[0m\u001b[0m_is_file\u001b[0m \u001b[0;34m=\u001b[0m \u001b[0;32mFalse\u001b[0m\u001b[0;34m\u001b[0m\u001b[0;34m\u001b[0m\u001b[0m\n\u001b[1;32m    190\u001b[0m         \u001b[0;32melif\u001b[0m \u001b[0misinstance\u001b[0m\u001b[0;34m(\u001b[0m\u001b[0mpath\u001b[0m\u001b[0;34m,\u001b[0m \u001b[0msix\u001b[0m\u001b[0;34m.\u001b[0m\u001b[0mstring_types\u001b[0m\u001b[0;34m)\u001b[0m \u001b[0;32mor\u001b[0m \u001b[0m_is_path_instance\u001b[0m\u001b[0;34m(\u001b[0m\u001b[0mpath\u001b[0m\u001b[0;34m)\u001b[0m\u001b[0;34m:\u001b[0m\u001b[0;34m\u001b[0m\u001b[0;34m\u001b[0m\u001b[0m\n\u001b[0;32m--> 191\u001b[0;31m             \u001b[0mself\u001b[0m\u001b[0;34m.\u001b[0m\u001b[0mdata\u001b[0m \u001b[0;34m=\u001b[0m \u001b[0mh5py\u001b[0m\u001b[0;34m.\u001b[0m\u001b[0mFile\u001b[0m\u001b[0;34m(\u001b[0m\u001b[0mpath\u001b[0m\u001b[0;34m,\u001b[0m \u001b[0mmode\u001b[0m\u001b[0;34m=\u001b[0m\u001b[0mmode\u001b[0m\u001b[0;34m)\u001b[0m\u001b[0;34m\u001b[0m\u001b[0;34m\u001b[0m\u001b[0m\n\u001b[0m\u001b[1;32m    192\u001b[0m             \u001b[0mself\u001b[0m\u001b[0;34m.\u001b[0m\u001b[0m_is_file\u001b[0m \u001b[0;34m=\u001b[0m \u001b[0;32mTrue\u001b[0m\u001b[0;34m\u001b[0m\u001b[0;34m\u001b[0m\u001b[0m\n\u001b[1;32m    193\u001b[0m         \u001b[0;32melif\u001b[0m \u001b[0misinstance\u001b[0m\u001b[0;34m(\u001b[0m\u001b[0mpath\u001b[0m\u001b[0;34m,\u001b[0m \u001b[0mdict\u001b[0m\u001b[0;34m)\u001b[0m\u001b[0;34m:\u001b[0m\u001b[0;34m\u001b[0m\u001b[0;34m\u001b[0m\u001b[0m\n",
            "\u001b[0;32m/usr/local/lib/python3.6/dist-packages/h5py/_hl/files.py\u001b[0m in \u001b[0;36m__init__\u001b[0;34m(self, name, mode, driver, libver, userblock_size, swmr, rdcc_nslots, rdcc_nbytes, rdcc_w0, track_order, **kwds)\u001b[0m\n\u001b[1;32m    406\u001b[0m                 fid = make_fid(name, mode, userblock_size,\n\u001b[1;32m    407\u001b[0m                                \u001b[0mfapl\u001b[0m\u001b[0;34m,\u001b[0m \u001b[0mfcpl\u001b[0m\u001b[0;34m=\u001b[0m\u001b[0mmake_fcpl\u001b[0m\u001b[0;34m(\u001b[0m\u001b[0mtrack_order\u001b[0m\u001b[0;34m=\u001b[0m\u001b[0mtrack_order\u001b[0m\u001b[0;34m)\u001b[0m\u001b[0;34m,\u001b[0m\u001b[0;34m\u001b[0m\u001b[0;34m\u001b[0m\u001b[0m\n\u001b[0;32m--> 408\u001b[0;31m                                swmr=swmr)\n\u001b[0m\u001b[1;32m    409\u001b[0m \u001b[0;34m\u001b[0m\u001b[0m\n\u001b[1;32m    410\u001b[0m             \u001b[0;32mif\u001b[0m \u001b[0misinstance\u001b[0m\u001b[0;34m(\u001b[0m\u001b[0mlibver\u001b[0m\u001b[0;34m,\u001b[0m \u001b[0mtuple\u001b[0m\u001b[0;34m)\u001b[0m\u001b[0;34m:\u001b[0m\u001b[0;34m\u001b[0m\u001b[0;34m\u001b[0m\u001b[0m\n",
            "\u001b[0;32m/usr/local/lib/python3.6/dist-packages/h5py/_hl/files.py\u001b[0m in \u001b[0;36mmake_fid\u001b[0;34m(name, mode, userblock_size, fapl, fcpl, swmr)\u001b[0m\n\u001b[1;32m    171\u001b[0m         \u001b[0;32mif\u001b[0m \u001b[0mswmr\u001b[0m \u001b[0;32mand\u001b[0m \u001b[0mswmr_support\u001b[0m\u001b[0;34m:\u001b[0m\u001b[0;34m\u001b[0m\u001b[0;34m\u001b[0m\u001b[0m\n\u001b[1;32m    172\u001b[0m             \u001b[0mflags\u001b[0m \u001b[0;34m|=\u001b[0m \u001b[0mh5f\u001b[0m\u001b[0;34m.\u001b[0m\u001b[0mACC_SWMR_READ\u001b[0m\u001b[0;34m\u001b[0m\u001b[0;34m\u001b[0m\u001b[0m\n\u001b[0;32m--> 173\u001b[0;31m         \u001b[0mfid\u001b[0m \u001b[0;34m=\u001b[0m \u001b[0mh5f\u001b[0m\u001b[0;34m.\u001b[0m\u001b[0mopen\u001b[0m\u001b[0;34m(\u001b[0m\u001b[0mname\u001b[0m\u001b[0;34m,\u001b[0m \u001b[0mflags\u001b[0m\u001b[0;34m,\u001b[0m \u001b[0mfapl\u001b[0m\u001b[0;34m=\u001b[0m\u001b[0mfapl\u001b[0m\u001b[0;34m)\u001b[0m\u001b[0;34m\u001b[0m\u001b[0;34m\u001b[0m\u001b[0m\n\u001b[0m\u001b[1;32m    174\u001b[0m     \u001b[0;32melif\u001b[0m \u001b[0mmode\u001b[0m \u001b[0;34m==\u001b[0m \u001b[0;34m'r+'\u001b[0m\u001b[0;34m:\u001b[0m\u001b[0;34m\u001b[0m\u001b[0;34m\u001b[0m\u001b[0m\n\u001b[1;32m    175\u001b[0m         \u001b[0mfid\u001b[0m \u001b[0;34m=\u001b[0m \u001b[0mh5f\u001b[0m\u001b[0;34m.\u001b[0m\u001b[0mopen\u001b[0m\u001b[0;34m(\u001b[0m\u001b[0mname\u001b[0m\u001b[0;34m,\u001b[0m \u001b[0mh5f\u001b[0m\u001b[0;34m.\u001b[0m\u001b[0mACC_RDWR\u001b[0m\u001b[0;34m,\u001b[0m \u001b[0mfapl\u001b[0m\u001b[0;34m=\u001b[0m\u001b[0mfapl\u001b[0m\u001b[0;34m)\u001b[0m\u001b[0;34m\u001b[0m\u001b[0;34m\u001b[0m\u001b[0m\n",
            "\u001b[0;32mh5py/_objects.pyx\u001b[0m in \u001b[0;36mh5py._objects.with_phil.wrapper\u001b[0;34m()\u001b[0m\n",
            "\u001b[0;32mh5py/_objects.pyx\u001b[0m in \u001b[0;36mh5py._objects.with_phil.wrapper\u001b[0;34m()\u001b[0m\n",
            "\u001b[0;32mh5py/h5f.pyx\u001b[0m in \u001b[0;36mh5py.h5f.open\u001b[0;34m()\u001b[0m\n",
            "\u001b[0;31mOSError\u001b[0m: Unable to open file (unable to open file: name = '/content/drive/My Drive/DL_PRJ/Traffic_Sign_Recognition_Detection/Model/Trained_Models/winning_model_keras_augmentation_99_35.h5', errno = 2, error message = 'No such file or directory', flags = 0, o_flags = 0)"
          ]
        }
      ]
    },
    {
      "cell_type": "markdown",
      "metadata": {
        "id": "57ctMF_P_z5v",
        "colab_type": "text"
      },
      "source": [
        "## Computation Avg. Processing Time"
      ]
    },
    {
      "cell_type": "code",
      "metadata": {
        "colab_type": "code",
        "id": "0oH66eWUFceZ",
        "colab": {}
      },
      "source": [
        "import time\n",
        "t1=time.time()\n",
        "model.predict(test_image_array)\n",
        "t2=time.time()\n",
        "print(\"Average Processing time: \", ((t2-t1)/12630)*1000, \" ms\")"
      ],
      "execution_count": null,
      "outputs": []
    }
  ]
}