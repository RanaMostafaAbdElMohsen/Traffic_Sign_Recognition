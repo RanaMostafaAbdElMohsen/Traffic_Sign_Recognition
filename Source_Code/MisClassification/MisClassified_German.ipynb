{
 "cells": [
  {
   "cell_type": "markdown",
   "metadata": {},
   "source": [
    "## MisClassified Images for German on Winning Model\n",
    "### Environment Intialization"
   ]
  },
  {
   "cell_type": "code",
   "execution_count": 2,
   "metadata": {},
   "outputs": [],
   "source": [
    "def IntialiseEnv():\n",
    "    nb_dir = os.path.split(os.getcwd())[0]\n",
    "    if nb_dir not in sys.path:\n",
    "        sys.path.append(nb_dir)"
   ]
  },
  {
   "cell_type": "code",
   "execution_count": 3,
   "metadata": {},
   "outputs": [
    {
     "name": "stdout",
     "output_type": "stream",
     "text": [
      "importing Jupyter notebook from C:\\Users\\Owner\\Desktop\\Cairo University\\Masters\\Semester 1\\Deep Learning\\Project\\traffic_sign_env\\Traffic_Sign_Recognition_Detection\\Source_Code\\Data_Preparation\\Data_Preparation_German.ipynb\n",
      "importing Jupyter notebook from C:\\Users\\Owner\\Desktop\\Cairo University\\Masters\\Semester 1\\Deep Learning\\Project\\traffic_sign_env\\Traffic_Sign_Recognition_Detection\\Source_Code\\Pre_Processing\\Pre_Processing.ipynb\n"
     ]
    }
   ],
   "source": [
    "# Libraries\n",
    "import os\n",
    "import sys\n",
    "import tensorflow as tf\n",
    "import numpy as np\n",
    "import math\n",
    "IntialiseEnv()\n",
    "import import_ipynb\n",
    "import pickle\n",
    "from sklearn.model_selection import train_test_split\n",
    "from Data_Preparation.Data_Preparation_German import LoadTestDataSet"
   ]
  },
  {
   "cell_type": "markdown",
   "metadata": {},
   "source": [
    "## Use GPU/ CPU Configuration \n",
    "Tensorflow version 2.0\n",
    "Prompt to user if CPU/ GPU is in use with device name"
   ]
  },
  {
   "cell_type": "code",
   "execution_count": 4,
   "metadata": {},
   "outputs": [
    {
     "name": "stdout",
     "output_type": "stream",
     "text": [
      "2.0.0\n",
      "/device:GPU:0\n",
      "Num GPUs Available:  1\n"
     ]
    }
   ],
   "source": [
    "# Use GPU/CPU Configurations\n",
    "\n",
    "import tensorflow as tf\n",
    "print(tf.__version__)\n",
    "print(tf.test.gpu_device_name())\n",
    "print(\"Num GPUs Available: \", len(tf.config.experimental.list_physical_devices('GPU')))"
   ]
  },
  {
   "cell_type": "code",
   "execution_count": 5,
   "metadata": {},
   "outputs": [],
   "source": [
    "def ReadTestDataSet():\n",
    "    processedTestDataSet = '../DataSet/Processed_DataSet/GermanTestDataSet.pkl'\n",
    "    isProcessedTestDataSetExits= os.path.exists(processedTestDataSet)\n",
    "    test_image_array, test_image_labels = None, None\n",
    "    \n",
    "    if isProcessedTestDataSetExits:\n",
    "        print(\"Loading Processed Test DataSet from Processed_DataSet/GermanTestDataSet.pkl\")\n",
    "        file = open(processedTestDataSet, 'rb')\n",
    "        test_image_array, test_image_labels = pickle.load(file)\n",
    "        file.close()\n",
    "        print(\"Done Loading Test DataSet.\")\n",
    "    else:\n",
    "        print(\"Processed_DataSet/TestDataSet.pkl file does not exist\")\n",
    "        print(\"Loading Test DataSet ... This may take a while.\")\n",
    "        test_image_array, test_image_labels = LoadTestDataSet()\n",
    "        file = open(processedTestDataSet, 'wb')\n",
    "        pickle.dump((test_image_array, test_image_labels), file)\n",
    "        file.close()\n",
    "        print(\"Saving pre-processed test DataSets in Processed_DataSet/GermanTestDataSet.pkl\")\n",
    "    return test_image_array, test_image_labels"
   ]
  },
  {
   "cell_type": "code",
   "execution_count": 6,
   "metadata": {},
   "outputs": [
    {
     "name": "stdout",
     "output_type": "stream",
     "text": [
      "Loading Processed Test DataSet from Processed_DataSet/GermanTestDataSet.pkl\n",
      "Done Loading Test DataSet.\n"
     ]
    }
   ],
   "source": [
    "test_image_array, test_image_labels= ReadTestDataSet()"
   ]
  },
  {
   "cell_type": "code",
   "execution_count": 7,
   "metadata": {},
   "outputs": [
    {
     "name": "stdout",
     "output_type": "stream",
     "text": [
      "(12630, 60, 60, 1)\n"
     ]
    }
   ],
   "source": [
    "print(test_image_array.shape)"
   ]
  },
  {
   "cell_type": "code",
   "execution_count": 8,
   "metadata": {},
   "outputs": [],
   "source": [
    "def load_model():\n",
    "    Model = tf.keras.models.load_model('../Model/Trained_Models/German_Winning_99_69.h5')\n",
    "    return Model"
   ]
  },
  {
   "cell_type": "code",
   "execution_count": 9,
   "metadata": {},
   "outputs": [
    {
     "name": "stdout",
     "output_type": "stream",
     "text": [
      "WARNING:tensorflow:Error in loading the saved optimizer state. As a result, your model is starting with a freshly initialized optimizer.\n"
     ]
    }
   ],
   "source": [
    "model= load_model()"
   ]
  },
  {
   "cell_type": "code",
   "execution_count": 10,
   "metadata": {},
   "outputs": [],
   "source": [
    "reduce_lr = tf.keras.callbacks.ReduceLROnPlateau(monitor='loss', factor=0.2,\n",
    "                              patience=2,  verbose=1, min_delta=1e-4, min_lr=1e-20)\n",
    "\n",
    "model.compile(optimizer='sgd',\n",
    "              loss='sparse_categorical_crossentropy',\n",
    "              metrics=[tf.keras.metrics.sparse_categorical_accuracy])"
   ]
  },
  {
   "cell_type": "markdown",
   "metadata": {},
   "source": [
    "### Retrieve Misclassified Images in German DataSet"
   ]
  },
  {
   "cell_type": "code",
   "execution_count": 11,
   "metadata": {},
   "outputs": [],
   "source": [
    "predictions= model.predict(test_image_array)"
   ]
  },
  {
   "cell_type": "markdown",
   "metadata": {},
   "source": [
    "#### CreateMisClassifiedBatchFileCmd\n",
    "Function creates .cmd bash file to copy all misclassified images in winning \n",
    "german model to MisClassified Images Folder\n",
    "\n",
    "Resultant Image is Image_predictionofmodel_correctprediction.ppm"
   ]
  },
  {
   "cell_type": "code",
   "execution_count": 15,
   "metadata": {},
   "outputs": [],
   "source": [
    "def CreateMisClassifiedBatchFileCmd():\n",
    "    i=0\n",
    "    testing_dataset_dir=\"..\\\\DataSet\\\\Testing_DataSet\\\\Final_Test\\\\Images\\\\\"\n",
    "    f= open(\"misclassified_german.cmd\",\"w+\")\n",
    "    for prediction, test_image_label in zip(predictions, test_image_labels):\n",
    "        if np.argmax(prediction) != test_image_label:\n",
    "            image=str(i)\n",
    "            if(len(image)==3):\n",
    "                image=\"00\"+image\n",
    "            if(len(image)==4):\n",
    "                image=\"0\"+image\n",
    "            image+=\".ppm\"\n",
    "            image_final=image+\"_\"+str(np.argmax(prediction))+\"_\"+str(test_image_label)+\".ppm\"\n",
    "            f.write(\"copy \"+testing_dataset_dir+image+ \" MisClassification_German_Images\\\\\"+image_final\n",
    "                  +\"\\n\")\n",
    "        i=i+1 \n",
    "        \n",
    "    f.close()"
   ]
  },
  {
   "cell_type": "code",
   "execution_count": 16,
   "metadata": {},
   "outputs": [],
   "source": [
    "CreateMisClassifiedBatchFileCmd()"
   ]
  }
 ],
 "metadata": {
  "kernelspec": {
   "display_name": "Python 3",
   "language": "python",
   "name": "python3"
  },
  "language_info": {
   "codemirror_mode": {
    "name": "ipython",
    "version": 3
   },
   "file_extension": ".py",
   "mimetype": "text/x-python",
   "name": "python",
   "nbconvert_exporter": "python",
   "pygments_lexer": "ipython3",
   "version": "3.6.8"
  }
 },
 "nbformat": 4,
 "nbformat_minor": 2
}
