{
 "cells": [
  {
   "cell_type": "markdown",
   "metadata": {},
   "source": [
    "## MisClassified Images for German on Winning Model\n",
    "### Environment Intialization"
   ]
  },
  {
   "cell_type": "code",
   "execution_count": 1,
   "metadata": {},
   "outputs": [],
   "source": [
    "def IntialiseEnv():\n",
    "    nb_dir = os.path.split(os.getcwd())[0]\n",
    "    if nb_dir not in sys.path:\n",
    "        sys.path.append(nb_dir)"
   ]
  },
  {
   "cell_type": "code",
   "execution_count": 30,
   "metadata": {},
   "outputs": [],
   "source": [
    "import tensorflow as tf\n",
    "import os\n",
    "import sys\n",
    "IntialiseEnv()\n",
    "import glob\n",
    "import numpy as np\n",
    "import cv2\n",
    "import warnings\n",
    "import pandas as pd \n",
    "import random\n",
    "import re\n",
    "import matplotlib.pyplot as plt\n",
    "import import_ipynb\n",
    "\n",
    "from Pre_Processing.Pre_Processing import FeatureExtraction"
   ]
  },
  {
   "cell_type": "markdown",
   "metadata": {},
   "source": [
    "## Use GPU/ CPU Configuration \n",
    "Tensorflow version 2.0\n",
    "Prompt to user if CPU/ GPU is in use with device name"
   ]
  },
  {
   "cell_type": "code",
   "execution_count": 3,
   "metadata": {},
   "outputs": [
    {
     "name": "stdout",
     "output_type": "stream",
     "text": [
      "2.0.0\n",
      "/device:GPU:0\n",
      "Num GPUs Available:  1\n"
     ]
    }
   ],
   "source": [
    "# Use GPU/CPU Configurations\n",
    "\n",
    "import tensorflow as tf\n",
    "print(tf.__version__)\n",
    "print(tf.test.gpu_device_name())\n",
    "print(\"Num GPUs Available: \", len(tf.config.experimental.list_physical_devices('GPU')))"
   ]
  },
  {
   "cell_type": "code",
   "execution_count": 5,
   "metadata": {},
   "outputs": [],
   "source": [
    "def load_model():\n",
    "    Model = tf.keras.models.load_model('../Model/Trained_Models/Belgium_Winning_98_97.h5')\n",
    "    return Model"
   ]
  },
  {
   "cell_type": "code",
   "execution_count": 6,
   "metadata": {},
   "outputs": [
    {
     "name": "stdout",
     "output_type": "stream",
     "text": [
      "WARNING:tensorflow:Error in loading the saved optimizer state. As a result, your model is starting with a freshly initialized optimizer.\n"
     ]
    }
   ],
   "source": [
    "model= load_model()"
   ]
  },
  {
   "cell_type": "code",
   "execution_count": 7,
   "metadata": {},
   "outputs": [],
   "source": [
    "model.compile(optimizer='sgd',\n",
    "              loss='sparse_categorical_crossentropy',\n",
    "              metrics=[tf.keras.metrics.sparse_categorical_accuracy])"
   ]
  },
  {
   "cell_type": "markdown",
   "metadata": {},
   "source": [
    "### Retrieve Misclassified Images in German DataSet"
   ]
  },
  {
   "cell_type": "code",
   "execution_count": 8,
   "metadata": {},
   "outputs": [],
   "source": [
    "## Read image in path\n",
    "def readImage(path):\n",
    "    img= cv2.imread(path)\n",
    "    img= cv2.cvtColor(img, cv2.COLOR_BGR2RGB)\n",
    "    img= cv2.resize(img,(60,60))\n",
    "    return img"
   ]
  },
  {
   "cell_type": "code",
   "execution_count": 9,
   "metadata": {},
   "outputs": [],
   "source": [
    "## Function to get csv path\n",
    "def getCsvPath(train_path_dir):\n",
    "     return os.path.join(train_path_dir,list(filter(lambda x: '.csv' in x, os.listdir(train_path_dir)))[0])"
   ]
  },
  {
   "cell_type": "code",
   "execution_count": 10,
   "metadata": {},
   "outputs": [],
   "source": [
    "# Function to get category directory and corresponding data frame\n",
    "def getDirAndDataFrame(datasetDir,_dir):\n",
    "    train_category_dir= os.path.join(datasetDir,_dir)\n",
    "    train_csv_path= getCsvPath(train_category_dir)\n",
    "    train_Data_frame = pd.read_csv(train_csv_path, delimiter=';')\n",
    "    return train_category_dir, train_Data_frame"
   ]
  },
  {
   "cell_type": "markdown",
   "metadata": {},
   "source": [
    "#### CreateMisClassifiedBatchFileCmd\n",
    "Function creates .cmd bash file to copy all misclassified images in winning \n",
    "belgium model to MisClassified Images Folder\n",
    "\n",
    "Resultant Image is Image_predictionofmodel_correctprediction.ppm"
   ]
  },
  {
   "cell_type": "code",
   "execution_count": 41,
   "metadata": {},
   "outputs": [],
   "source": [
    "def CreateMisClassifiedBatchFileCmd():\n",
    "    test_belgium_dataset_dir='../DataSet/BelgiumTSC_Testing/Testing/'\n",
    "    f= open(\"misclassified_belgium.cmd\",\"w+\")\n",
    "    for _dir in os.listdir(test_belgium_dataset_dir):\n",
    "            print(\"Directory: \", _dir)\n",
    "            # Get Directory for train with certain class ID and its associated dataframe\n",
    "            test_category_dir, test_data_frame= getDirAndDataFrame(test_belgium_dataset_dir, _dir)\n",
    "            # Get ClassID for entire category\n",
    "            if len(test_data_frame['ClassId']) == 0:\n",
    "                print(\"Skipping Directory \"+ _dir + \" No test images available\")\n",
    "                continue\n",
    "\n",
    "            img_label=test_data_frame.iloc[0]['ClassId']\n",
    "\n",
    "            for img_path in glob.glob(os.path.join(test_category_dir, '*.ppm')):\n",
    "\n",
    "                #Load image in category path directory + Extraction of features\n",
    "                img = readImage(img_path)\n",
    "                img_features = np.array(FeatureExtraction(img))[:,:,np.newaxis]\n",
    "                prediction= model.predict(img_features.reshape(1,60,60,1))\n",
    "                if np.argmax(prediction) != img_label:\n",
    "                    image= img_path.replace(\"\\\\\",r\"/\")\n",
    "                    image=image.replace(r\"/\",r\"\\\\\")\n",
    "\n",
    "                    image_final= re.split(r\"\\\\\", img_path)[1][:-4]\n",
    "                    image_final=image_final+\"_\"+str(np.argmax(prediction))+\"_\"+str(img_label)+\".ppm\"\n",
    "                    f.write(\"copy \"+image+ \" MisClassification_Belgium_Images\\\\\"+image_final +\"\\n\")\n",
    "\n",
    "    f.close()"
   ]
  },
  {
   "cell_type": "code",
   "execution_count": 42,
   "metadata": {},
   "outputs": [
    {
     "name": "stdout",
     "output_type": "stream",
     "text": [
      "Directory:  00000\n",
      "Directory:  00001\n",
      "Directory:  00002\n",
      "Directory:  00003\n",
      "Directory:  00004\n",
      "Directory:  00005\n",
      "Directory:  00006\n",
      "Directory:  00007\n",
      "Directory:  00008\n",
      "Directory:  00009\n",
      "Skipping Directory 00009 No test images available\n",
      "Directory:  00010\n",
      "Directory:  00011\n",
      "Skipping Directory 00011 No test images available\n",
      "Directory:  00012\n",
      "Directory:  00013\n",
      "Directory:  00014\n",
      "Directory:  00015\n",
      "Skipping Directory 00015 No test images available\n",
      "Directory:  00016\n",
      "Directory:  00017\n",
      "Directory:  00018\n",
      "Directory:  00019\n",
      "Directory:  00020\n",
      "Directory:  00021\n",
      "Directory:  00022\n",
      "Directory:  00023\n",
      "Directory:  00024\n",
      "Directory:  00025\n",
      "Directory:  00026\n",
      "Skipping Directory 00026 No test images available\n",
      "Directory:  00027\n",
      "Directory:  00028\n",
      "Directory:  00029\n",
      "Directory:  00030\n",
      "Directory:  00031\n",
      "Directory:  00032\n",
      "Directory:  00033\n",
      "Skipping Directory 00033 No test images available\n",
      "Directory:  00034\n",
      "Directory:  00035\n",
      "Directory:  00036\n",
      "Skipping Directory 00036 No test images available\n",
      "Directory:  00037\n",
      "Directory:  00038\n",
      "Directory:  00039\n",
      "Directory:  00040\n",
      "Directory:  00041\n",
      "Directory:  00042\n",
      "Directory:  00043\n",
      "Directory:  00044\n",
      "Directory:  00045\n",
      "Directory:  00046\n",
      "Directory:  00047\n",
      "Directory:  00048\n",
      "Skipping Directory 00048 No test images available\n",
      "Directory:  00049\n",
      "Directory:  00050\n",
      "Skipping Directory 00050 No test images available\n",
      "Directory:  00051\n",
      "Directory:  00052\n",
      "Skipping Directory 00052 No test images available\n",
      "Directory:  00053\n",
      "Directory:  00054\n",
      "Directory:  00055\n",
      "Directory:  00056\n",
      "Directory:  00057\n",
      "Directory:  00058\n",
      "Directory:  00059\n",
      "Directory:  00060\n",
      "Directory:  00061\n"
     ]
    }
   ],
   "source": [
    "CreateMisClassifiedBatchFileCmd()"
   ]
  }
 ],
 "metadata": {
  "kernelspec": {
   "display_name": "Python 3",
   "language": "python",
   "name": "python3"
  }
 },
 "nbformat": 4,
 "nbformat_minor": 2
}
