{
  "nbformat": 4,
  "nbformat_minor": 0,
  "metadata": {
    "colab": {
      "name": "Visualization_Distribution.ipynb",
      "provenance": [],
      "collapsed_sections": [],
      "toc_visible": true
    },
    "kernelspec": {
      "display_name": "Python 3",
      "language": "python",
      "name": "python3"
    },
    "language_info": {
      "codemirror_mode": {
        "name": "ipython",
        "version": 3
      },
      "file_extension": ".py",
      "mimetype": "text/x-python",
      "name": "python",
      "nbconvert_exporter": "python",
      "pygments_lexer": "ipython3",
      "version": "3.6.8"
    }
  },
  "cells": [
    {
      "cell_type": "markdown",
      "metadata": {
        "id": "i3Y2yu4E_z3L",
        "colab_type": "text"
      },
      "source": [
        "# Traffic Sign Recognition Model\n",
        "## Environment Initialisation"
      ]
    },
    {
      "cell_type": "code",
      "metadata": {
        "id": "4o-kPkjb_z3O",
        "colab_type": "code",
        "colab": {}
      },
      "source": [
        "def IntialiseEnv():\n",
        "    nb_dir = os.path.split(os.getcwd())[0]\n",
        "    if nb_dir not in sys.path:\n",
        "        sys.path.append(nb_dir)"
      ],
      "execution_count": 1,
      "outputs": []
    },
    {
      "cell_type": "code",
      "metadata": {
        "id": "feZ1r8FDANsA",
        "colab_type": "code",
        "colab": {
          "base_uri": "https://localhost:8080/",
          "height": 297
        },
        "outputId": "d18aeea0-7dfa-44b2-9a9e-266ac8bf381a"
      },
      "source": [
        "from google.colab import drive\n",
        "drive.mount('/content/drive')\n",
        "import os\n",
        "os.chdir(\"/content/drive/\")\n",
        "!ls\n",
        "import os\n",
        "os.chdir(\"/content/drive/My Drive/[ Masters ] - Deep Learning Proj/Model\")\n",
        "!pip install import_ipynb"
      ],
      "execution_count": 2,
      "outputs": [
        {
          "output_type": "stream",
          "text": [
            "Go to this URL in a browser: https://accounts.google.com/o/oauth2/auth?client_id=947318989803-6bn6qk8qdgf4n4g3pfee6491hc0brc4i.apps.googleusercontent.com&redirect_uri=urn%3aietf%3awg%3aoauth%3a2.0%3aoob&scope=email%20https%3a%2f%2fwww.googleapis.com%2fauth%2fdocs.test%20https%3a%2f%2fwww.googleapis.com%2fauth%2fdrive%20https%3a%2f%2fwww.googleapis.com%2fauth%2fdrive.photos.readonly%20https%3a%2f%2fwww.googleapis.com%2fauth%2fpeopleapi.readonly&response_type=code\n",
            "\n",
            "Enter your authorization code:\n",
            "··········\n",
            "Mounted at /content/drive\n",
            "'My Drive'\n",
            "Collecting import_ipynb\n",
            "  Downloading https://files.pythonhosted.org/packages/63/35/495e0021bfdcc924c7cdec4e9fbb87c88dd03b9b9b22419444dc370c8a45/import-ipynb-0.1.3.tar.gz\n",
            "Building wheels for collected packages: import-ipynb\n",
            "  Building wheel for import-ipynb (setup.py) ... \u001b[?25l\u001b[?25hdone\n",
            "  Created wheel for import-ipynb: filename=import_ipynb-0.1.3-cp36-none-any.whl size=2976 sha256=d67972f1988a7e88da5e4c479767427d4372a6a88c6ebe3dfaea110744da3332\n",
            "  Stored in directory: /root/.cache/pip/wheels/b4/7b/e9/a3a6e496115dffdb4e3085d0ae39ffe8a814eacc44bbf494b5\n",
            "Successfully built import-ipynb\n",
            "Installing collected packages: import-ipynb\n",
            "Successfully installed import-ipynb-0.1.3\n"
          ],
          "name": "stdout"
        }
      ]
    },
    {
      "cell_type": "code",
      "metadata": {
        "colab_type": "code",
        "id": "46MrgoVG_fv3",
        "colab": {}
      },
      "source": [
        "# Libraries\n",
        "import os\n",
        "import sys\n",
        "import tensorflow as tf\n",
        "import numpy as np\n",
        "import math\n",
        "IntialiseEnv()\n",
        "import import_ipynb\n",
        "import pickle\n",
        "from sklearn.model_selection import train_test_split\n",
        "\n",
        "# from Data_Preparation.Data_Preparation import LoadTrainDataSetWithAugmentation\n",
        "# from Data_Preparation.Data_Preparation import LoadTrainDataSet\n",
        "# from Data_Preparation.Data_Preparation import LoadTestDataSet"
      ],
      "execution_count": 3,
      "outputs": []
    },
    {
      "cell_type": "markdown",
      "metadata": {
        "id": "KlaazRm8_z3w",
        "colab_type": "text"
      },
      "source": [
        "## Reading DataSet\n",
        "Pre-processing and Loading Train and Test DataSet respectively"
      ]
    },
    {
      "cell_type": "code",
      "metadata": {
        "id": "CE6ZQUmMZMyE",
        "colab_type": "code",
        "colab": {}
      },
      "source": [
        "processedTrainDataSetGTSRB = '/content/drive/My Drive/[ Masters ] - Deep Learning Proj/DataSet/Processed_DataSet/GermanTrainDataSet.pkl'\n",
        "processedTrainDataSetBelgium='/content/drive/My Drive/[ Masters ] - Deep Learning Proj/DataSet/Processed_DataSet/BelgiumTrainDataSet.pkl'\n",
        "file = open(processedTrainDataSetGTSRB, 'rb')\n",
        "_, train_image_labels_GTSRB = pickle.load(file)\n",
        "file.close()\n",
        "file = open(processedTrainDataSetBelgium, 'rb')\n",
        "_, train_image_labels_Belgium = pickle.load(file)\n",
        "file.close()"
      ],
      "execution_count": 4,
      "outputs": []
    },
    {
      "cell_type": "markdown",
      "metadata": {
        "id": "S1SvrW7c_z42",
        "colab_type": "text"
      },
      "source": [
        "## Visualization"
      ]
    },
    {
      "cell_type": "code",
      "metadata": {
        "id": "mIJOfOZeToS_",
        "colab_type": "code",
        "colab": {}
      },
      "source": [
        "from keras import Model\n",
        "import matplotlib.pyplot as plt\n",
        "%matplotlib inline"
      ],
      "execution_count": 5,
      "outputs": []
    },
    {
      "cell_type": "code",
      "metadata": {
        "id": "wvNJCx1qUJBF",
        "colab_type": "code",
        "colab": {}
      },
      "source": [
        "from matplotlib import colors\n",
        "from matplotlib.ticker import PercentFormatter\n",
        "import matplotlib.cm as cm\n",
        "from matplotlib.colors import Normalize"
      ],
      "execution_count": 8,
      "outputs": []
    },
    {
      "cell_type": "code",
      "metadata": {
        "id": "7R7sWke-T7No",
        "colab_type": "code",
        "colab": {
          "base_uri": "https://localhost:8080/",
          "height": 838
        },
        "outputId": "01324317-f45b-4ced-bdeb-2e232f199690"
      },
      "source": [
        "fig, axs = plt.subplots(1, 2, figsize=(15,15))\n",
        "\n",
        "# N is the count in each bin, bins is the lower-limit of the bin\n",
        "N, bins, patches = axs[0].hist(train_image_labels_GTSRB, bins=43)\n",
        "\n",
        "# We'll color code by height, but you could use any scalar\n",
        "fracs = N / N.max()\n",
        "\n",
        "# we need to normalize the data to 0..1 for the full range of the colormap\n",
        "norm = colors.Normalize(fracs.min(), fracs.max())\n",
        "\n",
        "# Now, we'll loop through our objects and set the color of each accordingly\n",
        "for thisfrac, thispatch in zip(fracs, patches):\n",
        "    color = plt.cm.viridis(norm(thisfrac))\n",
        "    thispatch.set_facecolor(color)\n",
        "\n",
        "# We can also normalize our inputs by the total number of counts\n",
        "axs[1].hist(train_image_labels_GTSRB, bins=43, density=True)\n",
        "\n",
        "# Now we format the y-axis to display percentage\n",
        "axs[1].yaxis.set_major_formatter(PercentFormatter(xmax=1))"
      ],
      "execution_count": 31,
      "outputs": [
        {
          "output_type": "display_data",
          "data": {
            "image/png": "[encoded data removed]",
            "text/plain": [
              "<Figure size 1080x1080 with 2 Axes>"
            ]
          },
          "metadata": {
            "tags": [],
            "needs_background": "light"
          }
        }
      ]
    },
    {
      "cell_type": "code",
      "metadata": {
        "id": "TMrTVOEHhdZI",
        "colab_type": "code",
        "colab": {
          "base_uri": "https://localhost:8080/",
          "height": 844
        },
        "outputId": "0d30d494-f55c-4a67-f835-2bf571772718"
      },
      "source": [
        "fig, axs = plt.subplots(1, 2, figsize=(15,15))\n",
        "\n",
        "# N is the count in each bin, bins is the lower-limit of the bin\n",
        "N, bins, patches = axs[0].hist(train_image_labels_Belgium, bins=66)\n",
        "\n",
        "# We'll color code by height, but you could use any scalar\n",
        "fracs = N / N.max()\n",
        "\n",
        "# we need to normalize the data to 0..1 for the full range of the colormap\n",
        "norm = colors.Normalize(fracs.min(), fracs.max())\n",
        "\n",
        "# Now, we'll loop through our objects and set the color of each accordingly\n",
        "for thisfrac, thispatch in zip(fracs, patches):\n",
        "    color = plt.cm.viridis(norm(thisfrac))\n",
        "    thispatch.set_facecolor(color)\n",
        "\n",
        "# We can also normalize our inputs by the total number of counts\n",
        "axs[1].hist(train_image_labels_Belgium, bins=66, density=True)\n",
        "\n",
        "# Now we format the y-axis to display percentage\n",
        "axs[1].yaxis.set_major_formatter(PercentFormatter(xmax=1))"
      ],
      "execution_count": 32,
      "outputs": [
        {
          "output_type": "display_data",
          "data": {
            "image/png": "[encoded data removed]",
            "text/plain": [
              "<Figure size 1080x1080 with 2 Axes>"
            ]
          },
          "metadata": {
            "tags": [],
            "needs_background": "light"
          }
        }
      ]
    },
    {
      "cell_type": "code",
      "metadata": {
        "id": "GfOoQiO0dLDE",
        "colab_type": "code",
        "colab": {
          "base_uri": "https://localhost:8080/",
          "height": 320
        },
        "outputId": "bd98a516-58f6-4128-9da5-8652edfabf70"
      },
      "source": [
        "# This is  the colormap I'd like to use.\n",
        "cm = plt.cm.get_cmap('jet')\n",
        "\n",
        "# Get the histogramp\n",
        "Y,X = np.histogram(train_image_labels_GTSRB, 43, normed=1)\n",
        "x_span = X.max()-X.min()\n",
        "C = [cm(((x-X.min())/x_span)) for x in X]\n",
        "\n",
        "plt.bar(X[:-1],Y,color=C,width=X[1]-X[0])\n",
        "plt.show()"
      ],
      "execution_count": 20,
      "outputs": [
        {
          "output_type": "stream",
          "text": [
            "/usr/local/lib/python3.6/dist-packages/ipykernel_launcher.py:5: VisibleDeprecationWarning: Passing `normed=True` on non-uniform bins has always been broken, and computes neither the probability density function nor the probability mass function. The result is only correct if the bins are uniform, when density=True will produce the same result anyway. The argument will be removed in a future version of numpy.\n",
            "  \"\"\"\n"
          ],
          "name": "stderr"
        },
        {
          "output_type": "display_data",
          "data": {
            "image/png": "[encoded data removed]",
            "text/plain": [
              "<Figure size 432x288 with 1 Axes>"
            ]
          },
          "metadata": {
            "tags": [],
            "needs_background": "light"
          }
        }
      ]
    },
    {
      "cell_type": "code",
      "metadata": {
        "id": "fzq3Nd9beD_9",
        "colab_type": "code",
        "colab": {
          "base_uri": "https://localhost:8080/",
          "height": 320
        },
        "outputId": "3d8a737a-f9ee-414b-a785-fa6535fa85ac"
      },
      "source": [
        "fig, ax = plt.subplots(1, 1)\n",
        "# Get a color map\n",
        "my_cmap = plt.cm.get_cmap('jet')\n",
        "Y,X = np.histogram(train_image_labels_GTSRB, 43, normed=1)\n",
        "x_span = X.max()-X.min()\n",
        "C = [my_cmap(((x-X.min())/x_span)) for x in X]\n",
        " \n",
        "# Get normalize function (takes data in range [vmin, vmax] -> [0, 1])\n",
        "\n",
        "val_unique_signed,counts_signed=np.unique(train_image_labels_GTSRB,return_counts=True) \n",
        "ax.bar(val_unique_signed, counts_signed, color=C)\n",
        "plt.show()"
      ],
      "execution_count": 27,
      "outputs": [
        {
          "output_type": "stream",
          "text": [
            "/usr/local/lib/python3.6/dist-packages/ipykernel_launcher.py:4: VisibleDeprecationWarning: Passing `normed=True` on non-uniform bins has always been broken, and computes neither the probability density function nor the probability mass function. The result is only correct if the bins are uniform, when density=True will produce the same result anyway. The argument will be removed in a future version of numpy.\n",
            "  after removing the cwd from sys.path.\n"
          ],
          "name": "stderr"
        },
        {
          "output_type": "display_data",
          "data": {
            "image/png": "[encoded data removed]",
            "text/plain": [
              "<Figure size 432x288 with 1 Axes>"
            ]
          },
          "metadata": {
            "tags": [],
            "needs_background": "light"
          }
        }
      ]
    },
    {
      "cell_type": "code",
      "metadata": {
        "id": "e63gDkS4fhby",
        "colab_type": "code",
        "colab": {
          "base_uri": "https://localhost:8080/",
          "height": 320
        },
        "outputId": "7e3e6633-0169-4a6b-ae38-6739e83b3f0c"
      },
      "source": [
        "fig, ax = plt.subplots(1, 1)\n",
        "# Get a color map\n",
        "my_cmap = plt.cm.get_cmap('jet')\n",
        "Y,X = np.histogram(train_image_labels_Belgium, 66, normed=1)\n",
        "x_span = X.max()-X.min()\n",
        "C = [my_cmap(((x-X.min())/x_span)) for x in X]\n",
        " \n",
        "# Get normalize function (takes data in range [vmin, vmax] -> [0, 1])\n",
        "\n",
        "val_unique_signed,counts_signed=np.unique(train_image_labels_Belgium,return_counts=True) \n",
        "ax.bar(val_unique_signed, counts_signed, color=C)\n",
        "plt.show()"
      ],
      "execution_count": 29,
      "outputs": [
        {
          "output_type": "stream",
          "text": [
            "/usr/local/lib/python3.6/dist-packages/ipykernel_launcher.py:4: VisibleDeprecationWarning: Passing `normed=True` on non-uniform bins has always been broken, and computes neither the probability density function nor the probability mass function. The result is only correct if the bins are uniform, when density=True will produce the same result anyway. The argument will be removed in a future version of numpy.\n",
            "  after removing the cwd from sys.path.\n"
          ],
          "name": "stderr"
        },
        {
          "output_type": "display_data",
          "data": {
            "image/png": "[encoded data removed]",
            "text/plain": [
              "<Figure size 432x288 with 1 Axes>"
            ]
          },
          "metadata": {
            "tags": [],
            "needs_background": "light"
          }
        }
      ]
    }
  ]
}