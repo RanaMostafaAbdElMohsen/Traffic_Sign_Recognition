{
 "cells": [
  {
   "cell_type": "code",
   "execution_count": 1,
   "metadata": {},
   "outputs": [],
   "source": [
    "def IntialiseEnv():\n",
    "    nb_dir = os.path.split(os.getcwd())[0]\n",
    "    if nb_dir not in sys.path:\n",
    "        sys.path.append(nb_dir)"
   ]
  },
  {
   "cell_type": "code",
   "execution_count": 2,
   "metadata": {},
   "outputs": [],
   "source": [
    "import os\n",
    "import sys\n",
    "import tensorflow as tf\n",
    "import numpy as np\n",
    "IntialiseEnv()\n",
    "import import_ipynb\n",
    "import pickle\n",
    "import matplotlib.pyplot as plt"
   ]
  },
  {
   "cell_type": "markdown",
   "metadata": {},
   "source": [
    "## Use GPU/ CPU Configuration \n",
    "Tensorflow version 2.0\n",
    "Prompt to user if CPU/ GPU is in use with device name"
   ]
  },
  {
   "cell_type": "code",
   "execution_count": 3,
   "metadata": {},
   "outputs": [
    {
     "name": "stdout",
     "output_type": "stream",
     "text": [
      "2.0.0\n",
      "/device:GPU:0\n",
      "Num GPUs Available:  1\n"
     ]
    }
   ],
   "source": [
    "# Use GPU/CPU Configurations\n",
    "\n",
    "import tensorflow as tf\n",
    "print(tf.__version__)\n",
    "print(tf.test.gpu_device_name())\n",
    "print(\"Num GPUs Available: \", len(tf.config.experimental.list_physical_devices('GPU')))"
   ]
  },
  {
   "cell_type": "markdown",
   "metadata": {},
   "source": [
    "### Retrieve Predictions"
   ]
  },
  {
   "cell_type": "code",
   "execution_count": 4,
   "metadata": {},
   "outputs": [],
   "source": [
    "def ReadTestDataSet():\n",
    "    processedTestDataSet = '../Source_Code/DataSet/Processed_DataSet/GermanTestDataSet.pkl'\n",
    "    isProcessedTestDataSetExits= os.path.exists(processedTestDataSet)\n",
    "    test_image_array, test_image_labels = None, None\n",
    "    \n",
    "    if isProcessedTestDataSetExits:\n",
    "        print(\"Loading Processed Test DataSet from Processed_DataSet/GermanTestDataSet.pkl\")\n",
    "        file = open(processedTestDataSet, 'rb')\n",
    "        test_image_array, test_image_labels = pickle.load(file)\n",
    "        file.close()\n",
    "        print(\"Done Loading Test DataSet.\")\n",
    "    else:\n",
    "        print(\"Processed_DataSet/TestDataSet.pkl file does not exist\")\n",
    "    return test_image_array, test_image_labels"
   ]
  },
  {
   "cell_type": "code",
   "execution_count": 5,
   "metadata": {},
   "outputs": [],
   "source": [
    "def GetPredictions():\n",
    "    test_image_array, test_image_labels= ReadTestDataSet()\n",
    "    model = tf.keras.models.load_model('../Source_Code/Model/Trained_Models/German_Winning_99_69.h5')\n",
    "    model.compile(optimizer='sgd',\n",
    "              loss='sparse_categorical_crossentropy',\n",
    "              metrics=[tf.keras.metrics.sparse_categorical_accuracy])\n",
    "    predictions= model.predict(test_image_array)\n",
    "    del model\n",
    "    return predictions, test_image_labels"
   ]
  },
  {
   "cell_type": "code",
   "execution_count": 6,
   "metadata": {},
   "outputs": [
    {
     "name": "stdout",
     "output_type": "stream",
     "text": [
      "Loading Processed Test DataSet from Processed_DataSet/GermanTestDataSet.pkl\n",
      "Done Loading Test DataSet.\n",
      "WARNING:tensorflow:Error in loading the saved optimizer state. As a result, your model is starting with a freshly initialized optimizer.\n"
     ]
    }
   ],
   "source": [
    "predictions, test_image_labels=GetPredictions()"
   ]
  },
  {
   "cell_type": "markdown",
   "metadata": {},
   "source": [
    "## Subsets classes\n",
    "7 subsets with their corresponding classes respectively"
   ]
  },
  {
   "cell_type": "code",
   "execution_count": 7,
   "metadata": {},
   "outputs": [],
   "source": [
    "def GetSubSetsAccuracy():\n",
    "    # Classes are divided into 7 Subsets\n",
    "    \n",
    "    Blue=[ 33, 34, 35, 36, 37, 38, 39, 40 ]\n",
    "    Danger=[ 11, 18, 19, 20, 21, 22, 23, 24, 25, 26, 27, 28, 29, 30, 31 ]\n",
    "    End_of=[ 6, 32, 41, 42 ]\n",
    "    Red_Round=[ 0, 1, 2, 4,5, 8, 10, 15, 16 ]\n",
    "    Red_Other=[ 9, 10, 15, 16 ]\n",
    "    Speed=[ 0, 1, 2, 3, 4, 5,7, 8 ]\n",
    "    Spezial=[ 12, 13, 14, 17 ]\n",
    "    \n",
    "    Total_Blue_count=0\n",
    "    Total_Danger_count=0\n",
    "    Total_End_Of_count=0\n",
    "    Total_Red_Round_count=0\n",
    "    Total_Red_Other_count=0\n",
    "    Total_Speed_count=0\n",
    "    Total_Spezial_count=0\n",
    "    Blue_Correct_count=0\n",
    "    Danger_Correct_count=0\n",
    "    End_Of_Correct_count=0\n",
    "    Red_Round_Correct_count=0\n",
    "    Red_Other_Correct_count=0\n",
    "    Speed_Correct_count=0\n",
    "    Spezial_Correct_count=0\n",
    "    \n",
    "    for prediction, test_label in zip(predictions, test_image_labels):\n",
    "            \n",
    "            prediction=np.argmax(prediction)\n",
    "\n",
    "            if test_label in Blue:\n",
    "                if prediction == test_label:\n",
    "                    Blue_Correct_count+=1\n",
    "                Total_Blue_count+=1\n",
    "\n",
    "            if test_label in Danger:\n",
    "                if prediction == test_label:\n",
    "                    Danger_Correct_count+=1\n",
    "                Total_Danger_count+=1\n",
    "\n",
    "            if test_label in End_of:\n",
    "                if prediction == test_label:\n",
    "                    End_Of_Correct_count+=1\n",
    "                Total_End_Of_count+=1\n",
    "\n",
    "            if test_label in Red_Round:\n",
    "                if prediction == test_label:\n",
    "                    Red_Round_Correct_count+=1\n",
    "                Total_Red_Round_count+=1\n",
    "\n",
    "            if test_label in Red_Other:\n",
    "                if prediction == test_label:\n",
    "                    Red_Other_Correct_count+=1\n",
    "                Total_Red_Other_count+=1\n",
    "\n",
    "            if test_label in Speed:\n",
    "                if prediction == test_label:\n",
    "                    Speed_Correct_count+=1\n",
    "                Total_Speed_count+=1\n",
    "\n",
    "            if test_label in Spezial:\n",
    "                if prediction == test_label:\n",
    "                    Spezial_Correct_count+=1\n",
    "                Total_Spezial_count+=1\n",
    "                \n",
    "    Accuracy_Blue= round(Blue_Correct_count/ Total_Blue_count *100, 2)\n",
    "    Accuracy_Danger = round(Danger_Correct_count / Total_Danger_count *100, 2)\n",
    "    Accuracy_End_Of= round(End_Of_Correct_count / Total_End_Of_count * 100, 2)\n",
    "    Accuracy_Red_Round= round(Red_Round_Correct_count/ Total_Red_Round_count *100, 2)\n",
    "    Accuracy_Red_Other= round(Red_Other_Correct_count/ Total_Red_Other_count*100, 2)\n",
    "    Accuracy_Speed= round(Speed_Correct_count/ Total_Speed_count*100, 2)\n",
    "    Accuracy_Spezial= round(Spezial_Correct_count/ Total_Spezial_count *100, 2)\n",
    "    \n",
    "    return Accuracy_Blue, Accuracy_Danger, Accuracy_End_Of,  Accuracy_Red_Round, Accuracy_Red_Other, Accuracy_Speed, Accuracy_Spezial"
   ]
  },
  {
   "cell_type": "code",
   "execution_count": 8,
   "metadata": {},
   "outputs": [],
   "source": [
    "Accuracy_Blue, Accuracy_Danger, Accuracy_End_Of,  Accuracy_Red_Round, Accuracy_Red_Other, Accuracy_Speed, Accuracy_Spezial= GetSubSetsAccuracy()"
   ]
  },
  {
   "cell_type": "code",
   "execution_count": 9,
   "metadata": {},
   "outputs": [
    {
     "name": "stdout",
     "output_type": "stream",
     "text": [
      "Blue SubSet Accuracy:  99.89\n",
      "Danger SubSet Accuracy:  99.61\n",
      "End Of SubSet Accuracy:  98.89\n",
      "Red Round SubSet Accuracy:  99.7\n",
      "Red Other SubSet Accuracy:  99.93\n",
      "Speed SubSet Accuracy:  99.52\n",
      "Spezial SubSet Accuracy:  99.95\n"
     ]
    }
   ],
   "source": [
    "print(\"Blue SubSet Accuracy: \", Accuracy_Blue)\n",
    "print(\"Danger SubSet Accuracy: \", Accuracy_Danger)\n",
    "print(\"End Of SubSet Accuracy: \", Accuracy_End_Of)\n",
    "print(\"Red Round SubSet Accuracy: \", Accuracy_Red_Round)\n",
    "print(\"Red Other SubSet Accuracy: \", Accuracy_Red_Other)\n",
    "print(\"Speed SubSet Accuracy: \", Accuracy_Speed)\n",
    "print(\"Spezial SubSet Accuracy: \", Accuracy_Spezial)"
   ]
  },
  {
   "cell_type": "code",
   "execution_count": 10,
   "metadata": {},
   "outputs": [],
   "source": [
    "Blue={\"Ours\": Accuracy_Blue,\"STDNN\": 99.77, \"MCDNN\": 99.89, \"COSFIRE\": 99.83, \"INI\": 99.72, \"SERMANET\": 97.18, \"CAOR\": 99.27}\n",
    "Danger={\"Ours\": Accuracy_Danger,\"STDNN\": 99.64, \"MCDNN\": 99.07, \"COSFIRE\": 97.96, \"INI\": 98.67, \"SERMANET\": 98.03, \"CAOR\": 92.08}\n",
    "EndOf={\"Ours\": Accuracy_End_Of,\"STDNN\": 98.89, \"MCDNN\": 99.72, \"COSFIRE\": 94.17, \"INI\": 98.89, \"SERMANET\": 94.44, \"CAOR\": 87.50}\n",
    "RedRound={\"Ours\": Accuracy_Red_Round,\"STDNN\": 99.86, \"MCDNN\": 99.74, \"COSFIRE\": 99.58, \"INI\": 98.00, \"SERMANET\": 99.21, \"CAOR\": 97.16}\n",
    "RedOther={\"Ours\": Accuracy_Red_Other,\"STDNN\": 99.87, \"MCDNN\": 99.93, \"COSFIRE\": 99.93, \"INI\": 99.93, \"SERMANET\": 99.87, \"CAOR\": 99.13}\n",
    "Speed={\"Ours\": Accuracy_Speed,\"STDNN\": 99.69, \"MCDNN\": 99.47, \"COSFIRE\": 99.09, \"INI\": 97.63, \"SERMANET\": 98.61, \"CAOR\": 95.95}\n",
    "Spezial={\"Ours\": Accuracy_Spezial,\"STDNN\": 99.80, \"MCDNN\": 99.22, \"COSFIRE\": 99.51, \"INI\": 100.0, \"SERMANET\": 98.63, \"CAOR\": 98.73}"
   ]
  },
  {
   "cell_type": "code",
   "execution_count": 11,
   "metadata": {},
   "outputs": [],
   "source": [
    "Ours=[Blue[\"Ours\"], Danger[\"Ours\"], EndOf[\"Ours\"], RedRound[\"Ours\"], RedOther[\"Ours\"], Speed[\"Ours\"], Spezial[\"Ours\"]]\n",
    "STDNN=[Blue[\"STDNN\"], Danger[\"STDNN\"], EndOf[\"STDNN\"], RedRound[\"STDNN\"], RedOther[\"STDNN\"], Speed[\"STDNN\"], Spezial[\"STDNN\"]]\n",
    "MCDNN=[Blue[\"MCDNN\"], Danger[\"MCDNN\"], EndOf[\"MCDNN\"], RedRound[\"MCDNN\"], RedOther[\"MCDNN\"], Speed[\"MCDNN\"], Spezial[\"MCDNN\"]]"
   ]
  },
  {
   "cell_type": "code",
   "execution_count": 12,
   "metadata": {},
   "outputs": [],
   "source": [
    "def DisplayHistogram():\n",
    "    width= 0.25\n",
    "    x_labels=[\"Blue\", \"Danger\",\"EndOf\", \"Red \\n Round\",\"Red \\n Other\",\"Speed\",\"Spezial\"]\n",
    "    X = np.arange(7)\n",
    "    fig, ax = plt.subplots()\n",
    "    ax.bar(X , Ours, color = 'b', label=\"Our Approach\", width = width)\n",
    "    ax.bar(X + width, STDNN, color = 'g', label=\"STDNN\", width = width)\n",
    "    ax.bar(X + width*2, MCDNN, color = 'r', label=\"MCDNN\", width = width)\n",
    "\n",
    "    ax.set_ylim(98.8, 100.5)\n",
    "    ax.set_ylabel('Accuracy in % ')\n",
    "    ax.set_xticks(X + width)\n",
    "    ax.set_xticklabels(x_labels)\n",
    "    ax.set_xlabel('German Traffic Sign Recognition SubSets')\n",
    "    ax.set_title('SubSets Accuracy for Top-performing approaches')\n",
    "    ax.legend()\n",
    "\n",
    "    plt.show()\n",
    "#     fig.savefig('SubSet_Histogram.png', bbox_inches='tight')"
   ]
  },
  {
   "cell_type": "code",
   "execution_count": 13,
   "metadata": {},
   "outputs": [
    {
     "data": {
      "image/png": "[encoded data removed]",
      "text/plain": [
       "<Figure size 432x288 with 1 Axes>"
      ]
     },
     "metadata": {
      "needs_background": "light"
     },
     "output_type": "display_data"
    }
   ],
   "source": [
    "DisplayHistogram()"
   ]
  },
  {
   "cell_type": "code",
   "execution_count": null,
   "metadata": {},
   "outputs": [],
   "source": []
  }
 ],
 "metadata": {
  "kernelspec": {
   "display_name": "Python 3",
   "language": "python",
   "name": "python3"
  },
  "language_info": {
   "codemirror_mode": {
    "name": "ipython",
    "version": 3
   },
   "file_extension": ".py",
   "mimetype": "text/x-python",
   "name": "python",
   "nbconvert_exporter": "python",
   "pygments_lexer": "ipython3",
   "version": "3.6.8"
  }
 },
 "nbformat": 4,
 "nbformat_minor": 2
}
