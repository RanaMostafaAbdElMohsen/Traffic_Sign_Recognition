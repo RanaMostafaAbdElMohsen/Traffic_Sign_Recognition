{
 "cells": [
  {
   "cell_type": "code",
   "execution_count": null,
   "metadata": {},
   "outputs": [],
   "source": [
    "def IntialiseEnv():\n",
    "    nb_dir = os.path.split(os.getcwd())[0]\n",
    "    if nb_dir not in sys.path:\n",
    "        sys.path.append(nb_dir)"
   ]
  },
  {
   "cell_type": "code",
   "execution_count": null,
   "metadata": {},
   "outputs": [],
   "source": [
    "## Import libraries need to be imported, Dont forget to update requirements.txt!\n",
    "import os\n",
    "import sys\n",
    "IntialiseEnv()\n",
    "import glob\n",
    "import numpy as np\n",
    "import cv2\n",
    "import warnings\n",
    "import pandas as pd \n",
    "import pickle\n",
    "import import_ipynb\n",
    "from Source_Code.Pre_Processing.Pre_Processing import FeatureExtraction"
   ]
  },
  {
   "cell_type": "markdown",
   "metadata": {},
   "source": [
    "## Use GPU/ CPU Configuration \n",
    "Tensorflow version 2.0\n",
    "Prompt to user if CPU/ GPU is in use with device name"
   ]
  },
  {
   "cell_type": "code",
   "execution_count": null,
   "metadata": {},
   "outputs": [],
   "source": [
    "# Use GPU/CPU Configurations\n",
    "\n",
    "import tensorflow as tf\n",
    "print(tf.__version__)\n",
    "print(tf.test.gpu_device_name())\n",
    "print(\"Num GPUs Available: \", len(tf.config.experimental.list_physical_devices('GPU')))"
   ]
  },
  {
   "cell_type": "markdown",
   "metadata": {},
   "source": [
    "### Loading Images for German and Belgium"
   ]
  },
  {
   "cell_type": "code",
   "execution_count": null,
   "metadata": {},
   "outputs": [],
   "source": [
    "## Read image in path\n",
    "def readImage(path):\n",
    "    img= cv2.imread(path)\n",
    "    img= cv2.cvtColor(img, cv2.COLOR_BGR2RGB)\n",
    "    img= cv2.resize(img,(60,60))\n",
    "    return img"
   ]
  },
  {
   "cell_type": "code",
   "execution_count": null,
   "metadata": {},
   "outputs": [],
   "source": [
    "## Function to get csv path\n",
    "def getCsvPath(train_path_dir):\n",
    "     return os.path.join(train_path_dir,list(filter(lambda x: '.csv' in x, os.listdir(train_path_dir)))[0])"
   ]
  },
  {
   "cell_type": "code",
   "execution_count": null,
   "metadata": {},
   "outputs": [],
   "source": [
    "# Function to get category directory and corresponding data frame\n",
    "def getDirAndDataFrame(datasetDir,_dir):\n",
    "    train_category_dir= os.path.join(datasetDir,_dir)\n",
    "    train_csv_path= getCsvPath(train_category_dir)\n",
    "    train_Data_frame = pd.read_csv(train_csv_path, delimiter=';')\n",
    "    return train_category_dir, train_Data_frame"
   ]
  },
  {
   "cell_type": "code",
   "execution_count": null,
   "metadata": {},
   "outputs": [],
   "source": [
    "test_dir='../Source_Code/DataSet/Testing_DataSet/Final_Test/Images/'\n",
    "def LoadGermanImages():\n",
    "    test_image_array=[]\n",
    "   \n",
    "    for _dir in os.listdir(test_dir):\n",
    "        if _dir=='GT-final_test.test.csv':\n",
    "            continue\n",
    "        img = readImage(test_dir+_dir)\n",
    "        test_image_array.append(img)\n",
    "    print(\"Loaded German Images without feature extraction\")   \n",
    "    return  np.array(test_image_array)"
   ]
  },
  {
   "cell_type": "code",
   "execution_count": null,
   "metadata": {},
   "outputs": [],
   "source": [
    "test_belgium_dataset_dir='../Source_Code/DataSet/BelgiumTSC_Testing/Testing/'\n",
    "def LoadBelgiumImages():\n",
    "    test_image_array=[]\n",
    "\n",
    "    for _dir in os.listdir(test_belgium_dataset_dir):\n",
    "        # Get Directory for train with certain class ID and its associated dataframe\n",
    "        test_category_dir, test_data_frame= getDirAndDataFrame(test_belgium_dataset_dir, _dir)\n",
    "        # Get ClassID for entire category\n",
    "        if len(test_data_frame['ClassId']) == 0:\n",
    "            continue\n",
    "\n",
    "        for img_path in glob.glob(os.path.join(test_category_dir, '*.ppm')):\n",
    "            img = readImage(img_path)\n",
    "            test_image_array.append(img)\n",
    "            \n",
    "    test_image_array=np.stack(test_image_array, axis=0)\n",
    "    print(\"Loaded Belgium Images without feature extraction\")  \n",
    "    return test_image_array"
   ]
  },
  {
   "cell_type": "markdown",
   "metadata": {},
   "source": [
    "## Computation Avg. Processing Time"
   ]
  },
  {
   "cell_type": "code",
   "execution_count": null,
   "metadata": {},
   "outputs": [],
   "source": [
    "def ComputeGermanAvgProcessingTime():\n",
    "    test_image_array= LoadGermanImages()\n",
    "    model = tf.keras.models.load_model('../Source_Code/Model/Trained_Models/German_Winning_99_69.h5')\n",
    "    model.compile(optimizer='sgd',\n",
    "              loss='sparse_categorical_crossentropy',\n",
    "              metrics=[tf.keras.metrics.sparse_categorical_accuracy])\n",
    "  \n",
    "    import time\n",
    "    t1=time.time()\n",
    "    test_images=[FeatureExtraction(test_image)[:,:,np.newaxis] for test_image in test_image_array]\n",
    "    test_images=np.stack(test_images, axis=0)\n",
    "    model.predict(test_images)\n",
    "    t2=time.time()\n",
    "    print(\"Average Processing time: \", ((t2-t1)/12630)*1000, \" ms\")"
   ]
  },
  {
   "cell_type": "code",
   "execution_count": null,
   "metadata": {},
   "outputs": [],
   "source": [
    "def ComputeBelgiumAvgProcessingTime():\n",
    "    test_image_array= LoadBelgiumImages()\n",
    "    model = tf.keras.models.load_model('../Source_Code/Model/Trained_Models/Belgium_Winning_98_97.h5')\n",
    "    model.compile(optimizer='sgd',\n",
    "              loss='sparse_categorical_crossentropy',\n",
    "              metrics=[tf.keras.metrics.sparse_categorical_accuracy])\n",
    "  \n",
    "    import time\n",
    "    t1=time.time()\n",
    "    test_images=[FeatureExtraction(test_image)[:,:,np.newaxis] for test_image in test_image_array]\n",
    "    test_images=np.stack(test_images, axis=0)\n",
    "    model.predict(test_images)\n",
    "    t2=time.time()\n",
    "    print(\"Average Processing time: \", ((t2-t1)/2520)*1000, \" ms\")"
   ]
  },
  {
   "cell_type": "code",
   "execution_count": null,
   "metadata": {},
   "outputs": [],
   "source": [
    "ComputeGermanAvgProcessingTime()"
   ]
  },
  {
   "cell_type": "code",
   "execution_count": null,
   "metadata": {},
   "outputs": [],
   "source": [
    "ComputeBelgiumAvgProcessingTime()"
   ]
  }
 ],
 "metadata": {
  "kernelspec": {
   "display_name": "Python 3",
   "language": "python",
   "name": "python3"
  },
  "language_info": {
   "codemirror_mode": {
    "name": "ipython",
    "version": 3
   },
   "file_extension": ".py",
   "mimetype": "text/x-python",
   "name": "python",
   "nbconvert_exporter": "python",
   "pygments_lexer": "ipython3",
   "version": "3.6.8"
  }
 },
 "nbformat": 4,
 "nbformat_minor": 2
}
